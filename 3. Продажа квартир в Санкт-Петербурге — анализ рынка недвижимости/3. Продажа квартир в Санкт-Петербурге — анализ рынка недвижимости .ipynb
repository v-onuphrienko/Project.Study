{
 "cells": [
  {
   "cell_type": "code",
   "execution_count": 3,
   "id": "4cfab481",
   "metadata": {},
   "outputs": [],
   "source": [
    "import pandas as pd\n",
    "import numpy as np\n",
    "import matplotlib.pyplot as plt\n",
    "import seaborn as sns\n",
    "pd.set_option('display.max_rows', None)\n",
    "pd.set_option('display.max_columns', None)\n",
    "#warnings.filterwarnings('ignore')"
   ]
  },
  {
   "cell_type": "markdown",
   "id": "5cc7b4fc",
   "metadata": {},
   "source": [
    "## **Общая информация**"
   ]
  },
  {
   "cell_type": "markdown",
   "id": "c9ea87ba",
   "metadata": {},
   "source": [
    "**Описание данных:**\n",
    "\n",
    "`airports_nearest` — расстояние до ближайшего аэропорта в метрах (м)\n",
    "\n",
    "`balcony` — число балконов\n",
    "\n",
    "`ceiling_height` — высота потолков (м)\n",
    "\n",
    "`cityCenters_nearest` — расстояние до центра города (м)\n",
    "\n",
    "`days_exposition` — сколько дней было размещено объявление (от публикации до снятия)\n",
    "\n",
    "`first_day_exposition` — дата публикации\n",
    "\n",
    "`floor` — этаж\n",
    "\n",
    "`floors_total` — всего этажей в доме\n",
    "\n",
    "`is_apartment` — апартаменты (булев тип)\n",
    "\n",
    "`kitchen_area` — площадь кухни в квадратных метрах (м²)\n",
    "\n",
    "`last_price` — цена на момент снятия с публикации\n",
    "\n",
    "`living_area` — жилая площадь в квадратных метрах (м²)\n",
    "\n",
    "`locality_name` — название населённого пункта\n",
    "\n",
    "`open_plan` — свободная планировка (булев тип)\n",
    "\n",
    "`parks_around3000` — число парков в радиусе 3 км\n",
    "\n",
    "`parks_nearest` — расстояние до ближайшего парка (м)\n",
    "\n",
    "`ponds_around3000` — число водоёмов в радиусе 3 км\n",
    "\n",
    "`ponds_nearest` — расстояние до ближайшего водоёма (м)\n",
    "\n",
    "`rooms` — число комнат\n",
    "\n",
    "`studio` — квартира-студия (булев тип)\n",
    "\n",
    "`total_area` — площадь квартиры в квадратных метрах (м²)\n",
    "\n",
    "`total_images` — число фотографий квартиры в объявлении"
   ]
  },
  {
   "cell_type": "code",
   "execution_count": 7,
   "id": "6bc9bfb1",
   "metadata": {},
   "outputs": [],
   "source": [
    "try:\n",
    "    df = pd.read_csv('D:/datasets/real_estate_data.csv', sep='\\t') \n",
    "\n",
    "except FileNotFoundError:\n",
    "    print(\"File not found.\")\n",
    "except pd.errors.EmptyDataError:\n",
    "    print(\"No data\")\n",
    "except pd.errors.ParserError:\n",
    "    print(\"Parse error\")\n",
    "except Exception:\n",
    "    print(\"Some other exception\")"
   ]
  },
  {
   "cell_type": "code",
   "execution_count": 8,
   "id": "72db70ba",
   "metadata": {},
   "outputs": [
    {
     "name": "stdout",
     "output_type": "stream",
     "text": [
      "<class 'pandas.core.frame.DataFrame'>\n",
      "RangeIndex: 23699 entries, 0 to 23698\n",
      "Data columns (total 22 columns):\n",
      " #   Column                Non-Null Count  Dtype  \n",
      "---  ------                --------------  -----  \n",
      " 0   total_images          23699 non-null  int64  \n",
      " 1   last_price            23699 non-null  float64\n",
      " 2   total_area            23699 non-null  float64\n",
      " 3   first_day_exposition  23699 non-null  object \n",
      " 4   rooms                 23699 non-null  int64  \n",
      " 5   ceiling_height        14504 non-null  float64\n",
      " 6   floors_total          23613 non-null  float64\n",
      " 7   living_area           21796 non-null  float64\n",
      " 8   floor                 23699 non-null  int64  \n",
      " 9   is_apartment          2775 non-null   object \n",
      " 10  studio                23699 non-null  bool   \n",
      " 11  open_plan             23699 non-null  bool   \n",
      " 12  kitchen_area          21421 non-null  float64\n",
      " 13  balcony               12180 non-null  float64\n",
      " 14  locality_name         23650 non-null  object \n",
      " 15  airports_nearest      18157 non-null  float64\n",
      " 16  cityCenters_nearest   18180 non-null  float64\n",
      " 17  parks_around3000      18181 non-null  float64\n",
      " 18  parks_nearest         8079 non-null   float64\n",
      " 19  ponds_around3000      18181 non-null  float64\n",
      " 20  ponds_nearest         9110 non-null   float64\n",
      " 21  days_exposition       20518 non-null  float64\n",
      "dtypes: bool(2), float64(14), int64(3), object(3)\n",
      "memory usage: 3.7+ MB\n"
     ]
    }
   ],
   "source": [
    "df.info()"
   ]
  },
  {
   "cell_type": "markdown",
   "id": "a53a360f",
   "metadata": {},
   "source": [
    "## **Предобработка данных:**"
   ]
  },
  {
   "cell_type": "markdown",
   "id": "acd04b4f",
   "metadata": {},
   "source": [
    "**Определите и изучите пропущенные значения:**\n",
    "- Для некоторых пропущенных значений можно предположить логичную замену. Например, если человек не указал число балконов — скорее всего, их нет. Такие пропуски правильно заменить на 0. Для других типов данных нет подходящего значения на замену. В этом случае правильно оставить эти значения пустыми. Отсутствие значения — тоже важный сигнал, который не нужно прятать.\n",
    "**Заполните пропуски, где это уместно. Опишите, почему вы решили заполнить пропуски именно в этих столбцах и как выбрали значения.**\n",
    "- Укажите причины, которые могли привести к пропускам в данных.\n",
    "- Приведите данные к нужным типам:\n",
    "- Поясните, в каких столбцах нужно изменить тип данных и почему."
   ]
  },
  {
   "cell_type": "code",
   "execution_count": 5,
   "id": "44cc7d61",
   "metadata": {},
   "outputs": [
    {
     "data": {
      "text/html": [
       "<div>\n",
       "<style scoped>\n",
       "    .dataframe tbody tr th:only-of-type {\n",
       "        vertical-align: middle;\n",
       "    }\n",
       "\n",
       "    .dataframe tbody tr th {\n",
       "        vertical-align: top;\n",
       "    }\n",
       "\n",
       "    .dataframe thead th {\n",
       "        text-align: right;\n",
       "    }\n",
       "</style>\n",
       "<table border=\"1\" class=\"dataframe\">\n",
       "  <thead>\n",
       "    <tr style=\"text-align: right;\">\n",
       "      <th></th>\n",
       "      <th>total_images</th>\n",
       "      <th>last_price</th>\n",
       "      <th>total_area</th>\n",
       "      <th>first_day_exposition</th>\n",
       "      <th>rooms</th>\n",
       "      <th>ceiling_height</th>\n",
       "      <th>floors_total</th>\n",
       "      <th>living_area</th>\n",
       "      <th>floor</th>\n",
       "      <th>is_apartment</th>\n",
       "      <th>studio</th>\n",
       "      <th>open_plan</th>\n",
       "      <th>kitchen_area</th>\n",
       "      <th>balcony</th>\n",
       "      <th>locality_name</th>\n",
       "      <th>airports_nearest</th>\n",
       "      <th>cityCenters_nearest</th>\n",
       "      <th>parks_around3000</th>\n",
       "      <th>parks_nearest</th>\n",
       "      <th>ponds_around3000</th>\n",
       "      <th>ponds_nearest</th>\n",
       "      <th>days_exposition</th>\n",
       "    </tr>\n",
       "  </thead>\n",
       "  <tbody>\n",
       "    <tr>\n",
       "      <td>0</td>\n",
       "      <td>20</td>\n",
       "      <td>13000000.0</td>\n",
       "      <td>108.00</td>\n",
       "      <td>2019-03-07T00:00:00</td>\n",
       "      <td>3</td>\n",
       "      <td>2.70</td>\n",
       "      <td>16.0</td>\n",
       "      <td>51.00</td>\n",
       "      <td>8</td>\n",
       "      <td>NaN</td>\n",
       "      <td>False</td>\n",
       "      <td>False</td>\n",
       "      <td>25.00</td>\n",
       "      <td>NaN</td>\n",
       "      <td>Санкт-Петербург</td>\n",
       "      <td>18863.0</td>\n",
       "      <td>16028.0</td>\n",
       "      <td>1.0</td>\n",
       "      <td>482.0</td>\n",
       "      <td>2.0</td>\n",
       "      <td>755.0</td>\n",
       "      <td>NaN</td>\n",
       "    </tr>\n",
       "    <tr>\n",
       "      <td>1</td>\n",
       "      <td>7</td>\n",
       "      <td>3350000.0</td>\n",
       "      <td>40.40</td>\n",
       "      <td>2018-12-04T00:00:00</td>\n",
       "      <td>1</td>\n",
       "      <td>NaN</td>\n",
       "      <td>11.0</td>\n",
       "      <td>18.60</td>\n",
       "      <td>1</td>\n",
       "      <td>NaN</td>\n",
       "      <td>False</td>\n",
       "      <td>False</td>\n",
       "      <td>11.00</td>\n",
       "      <td>2.0</td>\n",
       "      <td>посёлок Шушары</td>\n",
       "      <td>12817.0</td>\n",
       "      <td>18603.0</td>\n",
       "      <td>0.0</td>\n",
       "      <td>NaN</td>\n",
       "      <td>0.0</td>\n",
       "      <td>NaN</td>\n",
       "      <td>81.0</td>\n",
       "    </tr>\n",
       "    <tr>\n",
       "      <td>2</td>\n",
       "      <td>10</td>\n",
       "      <td>5196000.0</td>\n",
       "      <td>56.00</td>\n",
       "      <td>2015-08-20T00:00:00</td>\n",
       "      <td>2</td>\n",
       "      <td>NaN</td>\n",
       "      <td>5.0</td>\n",
       "      <td>34.30</td>\n",
       "      <td>4</td>\n",
       "      <td>NaN</td>\n",
       "      <td>False</td>\n",
       "      <td>False</td>\n",
       "      <td>8.30</td>\n",
       "      <td>0.0</td>\n",
       "      <td>Санкт-Петербург</td>\n",
       "      <td>21741.0</td>\n",
       "      <td>13933.0</td>\n",
       "      <td>1.0</td>\n",
       "      <td>90.0</td>\n",
       "      <td>2.0</td>\n",
       "      <td>574.0</td>\n",
       "      <td>558.0</td>\n",
       "    </tr>\n",
       "    <tr>\n",
       "      <td>3</td>\n",
       "      <td>0</td>\n",
       "      <td>64900000.0</td>\n",
       "      <td>159.00</td>\n",
       "      <td>2015-07-24T00:00:00</td>\n",
       "      <td>3</td>\n",
       "      <td>NaN</td>\n",
       "      <td>14.0</td>\n",
       "      <td>NaN</td>\n",
       "      <td>9</td>\n",
       "      <td>NaN</td>\n",
       "      <td>False</td>\n",
       "      <td>False</td>\n",
       "      <td>NaN</td>\n",
       "      <td>0.0</td>\n",
       "      <td>Санкт-Петербург</td>\n",
       "      <td>28098.0</td>\n",
       "      <td>6800.0</td>\n",
       "      <td>2.0</td>\n",
       "      <td>84.0</td>\n",
       "      <td>3.0</td>\n",
       "      <td>234.0</td>\n",
       "      <td>424.0</td>\n",
       "    </tr>\n",
       "    <tr>\n",
       "      <td>4</td>\n",
       "      <td>2</td>\n",
       "      <td>10000000.0</td>\n",
       "      <td>100.00</td>\n",
       "      <td>2018-06-19T00:00:00</td>\n",
       "      <td>2</td>\n",
       "      <td>3.03</td>\n",
       "      <td>14.0</td>\n",
       "      <td>32.00</td>\n",
       "      <td>13</td>\n",
       "      <td>NaN</td>\n",
       "      <td>False</td>\n",
       "      <td>False</td>\n",
       "      <td>41.00</td>\n",
       "      <td>NaN</td>\n",
       "      <td>Санкт-Петербург</td>\n",
       "      <td>31856.0</td>\n",
       "      <td>8098.0</td>\n",
       "      <td>2.0</td>\n",
       "      <td>112.0</td>\n",
       "      <td>1.0</td>\n",
       "      <td>48.0</td>\n",
       "      <td>121.0</td>\n",
       "    </tr>\n",
       "    <tr>\n",
       "      <td>5</td>\n",
       "      <td>10</td>\n",
       "      <td>2890000.0</td>\n",
       "      <td>30.40</td>\n",
       "      <td>2018-09-10T00:00:00</td>\n",
       "      <td>1</td>\n",
       "      <td>NaN</td>\n",
       "      <td>12.0</td>\n",
       "      <td>14.40</td>\n",
       "      <td>5</td>\n",
       "      <td>NaN</td>\n",
       "      <td>False</td>\n",
       "      <td>False</td>\n",
       "      <td>9.10</td>\n",
       "      <td>NaN</td>\n",
       "      <td>городской посёлок Янино-1</td>\n",
       "      <td>NaN</td>\n",
       "      <td>NaN</td>\n",
       "      <td>NaN</td>\n",
       "      <td>NaN</td>\n",
       "      <td>NaN</td>\n",
       "      <td>NaN</td>\n",
       "      <td>55.0</td>\n",
       "    </tr>\n",
       "    <tr>\n",
       "      <td>6</td>\n",
       "      <td>6</td>\n",
       "      <td>3700000.0</td>\n",
       "      <td>37.30</td>\n",
       "      <td>2017-11-02T00:00:00</td>\n",
       "      <td>1</td>\n",
       "      <td>NaN</td>\n",
       "      <td>26.0</td>\n",
       "      <td>10.60</td>\n",
       "      <td>6</td>\n",
       "      <td>NaN</td>\n",
       "      <td>False</td>\n",
       "      <td>False</td>\n",
       "      <td>14.40</td>\n",
       "      <td>1.0</td>\n",
       "      <td>посёлок Парголово</td>\n",
       "      <td>52996.0</td>\n",
       "      <td>19143.0</td>\n",
       "      <td>0.0</td>\n",
       "      <td>NaN</td>\n",
       "      <td>0.0</td>\n",
       "      <td>NaN</td>\n",
       "      <td>155.0</td>\n",
       "    </tr>\n",
       "    <tr>\n",
       "      <td>7</td>\n",
       "      <td>5</td>\n",
       "      <td>7915000.0</td>\n",
       "      <td>71.60</td>\n",
       "      <td>2019-04-18T00:00:00</td>\n",
       "      <td>2</td>\n",
       "      <td>NaN</td>\n",
       "      <td>24.0</td>\n",
       "      <td>NaN</td>\n",
       "      <td>22</td>\n",
       "      <td>NaN</td>\n",
       "      <td>False</td>\n",
       "      <td>False</td>\n",
       "      <td>18.90</td>\n",
       "      <td>2.0</td>\n",
       "      <td>Санкт-Петербург</td>\n",
       "      <td>23982.0</td>\n",
       "      <td>11634.0</td>\n",
       "      <td>0.0</td>\n",
       "      <td>NaN</td>\n",
       "      <td>0.0</td>\n",
       "      <td>NaN</td>\n",
       "      <td>NaN</td>\n",
       "    </tr>\n",
       "    <tr>\n",
       "      <td>8</td>\n",
       "      <td>20</td>\n",
       "      <td>2900000.0</td>\n",
       "      <td>33.16</td>\n",
       "      <td>2018-05-23T00:00:00</td>\n",
       "      <td>1</td>\n",
       "      <td>NaN</td>\n",
       "      <td>27.0</td>\n",
       "      <td>15.43</td>\n",
       "      <td>26</td>\n",
       "      <td>NaN</td>\n",
       "      <td>False</td>\n",
       "      <td>False</td>\n",
       "      <td>8.81</td>\n",
       "      <td>NaN</td>\n",
       "      <td>посёлок Мурино</td>\n",
       "      <td>NaN</td>\n",
       "      <td>NaN</td>\n",
       "      <td>NaN</td>\n",
       "      <td>NaN</td>\n",
       "      <td>NaN</td>\n",
       "      <td>NaN</td>\n",
       "      <td>189.0</td>\n",
       "    </tr>\n",
       "    <tr>\n",
       "      <td>9</td>\n",
       "      <td>18</td>\n",
       "      <td>5400000.0</td>\n",
       "      <td>61.00</td>\n",
       "      <td>2017-02-26T00:00:00</td>\n",
       "      <td>3</td>\n",
       "      <td>2.50</td>\n",
       "      <td>9.0</td>\n",
       "      <td>43.60</td>\n",
       "      <td>7</td>\n",
       "      <td>NaN</td>\n",
       "      <td>False</td>\n",
       "      <td>False</td>\n",
       "      <td>6.50</td>\n",
       "      <td>2.0</td>\n",
       "      <td>Санкт-Петербург</td>\n",
       "      <td>50898.0</td>\n",
       "      <td>15008.0</td>\n",
       "      <td>0.0</td>\n",
       "      <td>NaN</td>\n",
       "      <td>0.0</td>\n",
       "      <td>NaN</td>\n",
       "      <td>289.0</td>\n",
       "    </tr>\n",
       "  </tbody>\n",
       "</table>\n",
       "</div>"
      ],
      "text/plain": [
       "   total_images  last_price  total_area first_day_exposition  rooms  \\\n",
       "0            20  13000000.0      108.00  2019-03-07T00:00:00      3   \n",
       "1             7   3350000.0       40.40  2018-12-04T00:00:00      1   \n",
       "2            10   5196000.0       56.00  2015-08-20T00:00:00      2   \n",
       "3             0  64900000.0      159.00  2015-07-24T00:00:00      3   \n",
       "4             2  10000000.0      100.00  2018-06-19T00:00:00      2   \n",
       "5            10   2890000.0       30.40  2018-09-10T00:00:00      1   \n",
       "6             6   3700000.0       37.30  2017-11-02T00:00:00      1   \n",
       "7             5   7915000.0       71.60  2019-04-18T00:00:00      2   \n",
       "8            20   2900000.0       33.16  2018-05-23T00:00:00      1   \n",
       "9            18   5400000.0       61.00  2017-02-26T00:00:00      3   \n",
       "\n",
       "   ceiling_height  floors_total  living_area  floor is_apartment  studio  \\\n",
       "0            2.70          16.0        51.00      8          NaN   False   \n",
       "1             NaN          11.0        18.60      1          NaN   False   \n",
       "2             NaN           5.0        34.30      4          NaN   False   \n",
       "3             NaN          14.0          NaN      9          NaN   False   \n",
       "4            3.03          14.0        32.00     13          NaN   False   \n",
       "5             NaN          12.0        14.40      5          NaN   False   \n",
       "6             NaN          26.0        10.60      6          NaN   False   \n",
       "7             NaN          24.0          NaN     22          NaN   False   \n",
       "8             NaN          27.0        15.43     26          NaN   False   \n",
       "9            2.50           9.0        43.60      7          NaN   False   \n",
       "\n",
       "   open_plan  kitchen_area  balcony              locality_name  \\\n",
       "0      False         25.00      NaN            Санкт-Петербург   \n",
       "1      False         11.00      2.0             посёлок Шушары   \n",
       "2      False          8.30      0.0            Санкт-Петербург   \n",
       "3      False           NaN      0.0            Санкт-Петербург   \n",
       "4      False         41.00      NaN            Санкт-Петербург   \n",
       "5      False          9.10      NaN  городской посёлок Янино-1   \n",
       "6      False         14.40      1.0          посёлок Парголово   \n",
       "7      False         18.90      2.0            Санкт-Петербург   \n",
       "8      False          8.81      NaN             посёлок Мурино   \n",
       "9      False          6.50      2.0            Санкт-Петербург   \n",
       "\n",
       "   airports_nearest  cityCenters_nearest  parks_around3000  parks_nearest  \\\n",
       "0           18863.0              16028.0               1.0          482.0   \n",
       "1           12817.0              18603.0               0.0            NaN   \n",
       "2           21741.0              13933.0               1.0           90.0   \n",
       "3           28098.0               6800.0               2.0           84.0   \n",
       "4           31856.0               8098.0               2.0          112.0   \n",
       "5               NaN                  NaN               NaN            NaN   \n",
       "6           52996.0              19143.0               0.0            NaN   \n",
       "7           23982.0              11634.0               0.0            NaN   \n",
       "8               NaN                  NaN               NaN            NaN   \n",
       "9           50898.0              15008.0               0.0            NaN   \n",
       "\n",
       "   ponds_around3000  ponds_nearest  days_exposition  \n",
       "0               2.0          755.0              NaN  \n",
       "1               0.0            NaN             81.0  \n",
       "2               2.0          574.0            558.0  \n",
       "3               3.0          234.0            424.0  \n",
       "4               1.0           48.0            121.0  \n",
       "5               NaN            NaN             55.0  \n",
       "6               0.0            NaN            155.0  \n",
       "7               0.0            NaN              NaN  \n",
       "8               NaN            NaN            189.0  \n",
       "9               0.0            NaN            289.0  "
      ]
     },
     "execution_count": 5,
     "metadata": {},
     "output_type": "execute_result"
    }
   ],
   "source": [
    "df.head(10)"
   ]
  },
  {
   "cell_type": "code",
   "execution_count": 6,
   "id": "62d37e72",
   "metadata": {},
   "outputs": [
    {
     "data": {
      "text/plain": [
       "total_images                0\n",
       "last_price                  0\n",
       "total_area                  0\n",
       "first_day_exposition        0\n",
       "rooms                       0\n",
       "ceiling_height           9195\n",
       "floors_total               86\n",
       "living_area              1903\n",
       "floor                       0\n",
       "is_apartment            20924\n",
       "studio                      0\n",
       "open_plan                   0\n",
       "kitchen_area             2278\n",
       "balcony                 11519\n",
       "locality_name              49\n",
       "airports_nearest         5542\n",
       "cityCenters_nearest      5519\n",
       "parks_around3000         5518\n",
       "parks_nearest           15620\n",
       "ponds_around3000         5518\n",
       "ponds_nearest           14589\n",
       "days_exposition          3181\n",
       "dtype: int64"
      ]
     },
     "execution_count": 6,
     "metadata": {},
     "output_type": "execute_result"
    }
   ],
   "source": [
    "df.isnull().sum()"
   ]
  },
  {
   "cell_type": "markdown",
   "id": "ed0d6ae9",
   "metadata": {},
   "source": [
    "**Начнем со столбца `is_apartment`. Заменим значение Nan на False.**"
   ]
  },
  {
   "cell_type": "code",
   "execution_count": 7,
   "id": "14658d54",
   "metadata": {},
   "outputs": [],
   "source": [
    "df['is_apartment'].unique()\n",
    "df['is_apartment'].fillna(False, inplace=True)"
   ]
  },
  {
   "cell_type": "markdown",
   "id": "36f2c5f8",
   "metadata": {},
   "source": [
    "**Переименуем столбец `cityCenters_nearest`**"
   ]
  },
  {
   "cell_type": "code",
   "execution_count": 8,
   "id": "0f3d5fb0",
   "metadata": {},
   "outputs": [],
   "source": [
    "df.rename(columns = {'cityCenters_nearest':'citycenters_nearest'}, inplace=True)"
   ]
  },
  {
   "cell_type": "markdown",
   "id": "599e7670",
   "metadata": {},
   "source": [
    "**У столбцов `floors_total` & `locality_name` удалим строки с пропущенным значением.**"
   ]
  },
  {
   "cell_type": "code",
   "execution_count": 9,
   "id": "39afe511",
   "metadata": {},
   "outputs": [],
   "source": [
    "df.dropna(subset = ['floors_total', 'locality_name'], inplace = True)"
   ]
  },
  {
   "cell_type": "markdown",
   "id": "09ec17d1",
   "metadata": {},
   "source": [
    "**Заменим пропуски в столбцах `balcony`, `parks_around3000`, `ponds_around3000` на 0, т.к. данные были пропущены не спроста, а заодно изменим тип данных на int.**"
   ]
  },
  {
   "cell_type": "code",
   "execution_count": 10,
   "id": "838da05f",
   "metadata": {},
   "outputs": [],
   "source": [
    "df['balcony'] = df['balcony'].fillna(0).astype('Int64')\n",
    "df['parks_around3000'] = df['parks_around3000'].fillna(0).astype('Int64')\n",
    "df['ponds_around3000'] = df['ponds_around3000'].fillna(0).astype('Int64')"
   ]
  },
  {
   "cell_type": "code",
   "execution_count": 11,
   "id": "e8060257",
   "metadata": {},
   "outputs": [],
   "source": [
    "df['days_exposition'] = df['days_exposition'].fillna(0).astype('int')"
   ]
  },
  {
   "cell_type": "markdown",
   "id": "86b15055",
   "metadata": {},
   "source": [
    "**`сeling_heigt`, `living_area`, `kitchen_area` - заполним медианным значением к значениям столбцов, высота потолка к кол-ву комнат, площадь жилой зоны от общей, и площадь кухни от общей, значения, к которым не смог примениться метод, удаляем.**"
   ]
  },
  {
   "cell_type": "code",
   "execution_count": 12,
   "id": "211770e6",
   "metadata": {},
   "outputs": [
    {
     "name": "stderr",
     "output_type": "stream",
     "text": [
      "/opt/conda/lib/python3.7/site-packages/numpy/lib/nanfunctions.py:1111: RuntimeWarning: Mean of empty slice\n",
      "  return np.nanmean(a, axis, out=out, keepdims=keepdims)\n"
     ]
    }
   ],
   "source": [
    "df[\"ceiling_height\"] = df.groupby(\"rooms\")[\"ceiling_height\"].transform(lambda x: x.fillna(x.median()))\n",
    "df['ceiling_height'] = df['ceiling_height'].fillna(-1)\n",
    "df = df[df['ceiling_height'] != -1]"
   ]
  },
  {
   "cell_type": "code",
   "execution_count": 13,
   "id": "8c0c8daf",
   "metadata": {},
   "outputs": [],
   "source": [
    "df[\"living_area\"] = df.groupby(\"total_area\")[\"living_area\"].transform(lambda x: x.fillna(x.median()))\n",
    "df['living_area'] = df['living_area'].fillna(-1)\n",
    "df = df[df['living_area'] != -1]"
   ]
  },
  {
   "cell_type": "code",
   "execution_count": 14,
   "id": "23f461f2",
   "metadata": {},
   "outputs": [],
   "source": [
    "df[\"kitchen_area\"] = df.groupby(\"total_area\")[\"kitchen_area\"].transform(lambda x: x.fillna(x.median()))\n",
    "df['kitchen_area'] = df['kitchen_area'].fillna(-1)\n",
    "df = df[df['kitchen_area'] != -1]"
   ]
  },
  {
   "cell_type": "code",
   "execution_count": 15,
   "id": "4712d2c8",
   "metadata": {},
   "outputs": [
    {
     "data": {
      "text/plain": [
       "total_images                0\n",
       "last_price                  0\n",
       "total_area                  0\n",
       "first_day_exposition        0\n",
       "rooms                       0\n",
       "ceiling_height              0\n",
       "floors_total                0\n",
       "living_area                 0\n",
       "floor                       0\n",
       "is_apartment                0\n",
       "studio                      0\n",
       "open_plan                   0\n",
       "kitchen_area                0\n",
       "balcony                     0\n",
       "locality_name               0\n",
       "airports_nearest         5423\n",
       "citycenters_nearest      5400\n",
       "parks_around3000            0\n",
       "parks_nearest           15335\n",
       "ponds_around3000            0\n",
       "ponds_nearest           14370\n",
       "days_exposition             0\n",
       "dtype: int64"
      ]
     },
     "execution_count": 15,
     "metadata": {},
     "output_type": "execute_result"
    }
   ],
   "source": [
    "df.isnull().sum()"
   ]
  },
  {
   "cell_type": "markdown",
   "id": "2515a87e",
   "metadata": {},
   "source": [
    "**Заменим значения стобцов `airports_nearest`, `parks_nearest`, `ponds_nearest`,`citycenters_nearest` на `-1`, данные могут еще пригодиться.**"
   ]
  },
  {
   "cell_type": "code",
   "execution_count": 16,
   "id": "a9ef6f16",
   "metadata": {},
   "outputs": [],
   "source": [
    "df['airports_nearest'] = df['airports_nearest'].fillna(-1)\n",
    "df['parks_nearest'] = df['parks_nearest'].fillna(-1)\n",
    "df['ponds_nearest'] = df['ponds_nearest'].fillna(-1)\n",
    "df['cityCenters_nearest'] = df['citycenters_nearest'].fillna(-1)"
   ]
  },
  {
   "cell_type": "code",
   "execution_count": 17,
   "id": "c28498eb",
   "metadata": {},
   "outputs": [
    {
     "data": {
      "text/plain": [
       "total_images               0\n",
       "last_price                 0\n",
       "total_area                 0\n",
       "first_day_exposition       0\n",
       "rooms                      0\n",
       "ceiling_height             0\n",
       "floors_total               0\n",
       "living_area                0\n",
       "floor                      0\n",
       "is_apartment               0\n",
       "studio                     0\n",
       "open_plan                  0\n",
       "kitchen_area               0\n",
       "balcony                    0\n",
       "locality_name              0\n",
       "airports_nearest           0\n",
       "citycenters_nearest     5400\n",
       "parks_around3000           0\n",
       "parks_nearest              0\n",
       "ponds_around3000           0\n",
       "ponds_nearest              0\n",
       "days_exposition            0\n",
       "cityCenters_nearest        0\n",
       "dtype: int64"
      ]
     },
     "execution_count": 17,
     "metadata": {},
     "output_type": "execute_result"
    }
   ],
   "source": [
    "df.isnull().sum()"
   ]
  },
  {
   "cell_type": "markdown",
   "id": "44d76386",
   "metadata": {},
   "source": [
    "## **Посчитайте и добавьте в таблицу:**"
   ]
  },
  {
   "cell_type": "markdown",
   "id": "3b6b2897",
   "metadata": {},
   "source": [
    "### Цену квадратного метра"
   ]
  },
  {
   "cell_type": "code",
   "execution_count": 18,
   "id": "9d7899e3",
   "metadata": {},
   "outputs": [],
   "source": [
    "df['price_m2'] = (df['last_price'] / df['total_area']).astype(int)"
   ]
  },
  {
   "cell_type": "markdown",
   "id": "2a8ab66c",
   "metadata": {},
   "source": [
    "### День недели, месяц и год публикации объявления"
   ]
  },
  {
   "cell_type": "code",
   "execution_count": 19,
   "id": "c58a26e2",
   "metadata": {},
   "outputs": [],
   "source": [
    "df['weekday'] = pd.DatetimeIndex(df['first_day_exposition']).dayofweek\n",
    "df['month'] = pd.DatetimeIndex(df['first_day_exposition']).month\n",
    "df['year'] = pd.DatetimeIndex(df['first_day_exposition']).year"
   ]
  },
  {
   "cell_type": "markdown",
   "id": "413d5fed",
   "metadata": {},
   "source": [
    "### Этаж квартиры; варианты — первый, последний, другой"
   ]
  },
  {
   "cell_type": "code",
   "execution_count": 20,
   "id": "ca773cf6",
   "metadata": {},
   "outputs": [],
   "source": [
    "def floor_f(value):\n",
    "    current_floor = value['floor']\n",
    "    if value['floor'] == 1:\n",
    "        return 'первый'\n",
    "    elif value['floor'] == value['floors_total']:\n",
    "        return 'последний'\n",
    "    else: \n",
    "        return 'другой'\n",
    "    \n",
    "df['floor_lvl'] = df.apply(floor_f, axis = 1)"
   ]
  },
  {
   "cell_type": "markdown",
   "id": "5e5e41eb",
   "metadata": {},
   "source": [
    "### Cоотношение жилой и общей площади, а также отношение площади кухни к общей."
   ]
  },
  {
   "cell_type": "code",
   "execution_count": 21,
   "id": "e4d707ab",
   "metadata": {},
   "outputs": [],
   "source": [
    "df['relation_living'] = df['living_area'] / df['total_area']"
   ]
  },
  {
   "cell_type": "code",
   "execution_count": 22,
   "id": "3cf62570",
   "metadata": {},
   "outputs": [],
   "source": [
    "df['relation_kitchen'] = df['kitchen_area'] / df['total_area']"
   ]
  },
  {
   "cell_type": "markdown",
   "id": "1dc0c81d",
   "metadata": {},
   "source": [
    "## **Проведите исследовательский анализ данных и выполните инструкции**"
   ]
  },
  {
   "cell_type": "markdown",
   "id": "a9b775e4",
   "metadata": {},
   "source": [
    "### Изучите следующие параметры: площадь, цена, число комнат, высота потолков. Постройте гистограммы для каждого параметра."
   ]
  },
  {
   "cell_type": "markdown",
   "id": "79f4702d",
   "metadata": {},
   "source": [
    "- **Построим гистограмму площади.**"
   ]
  },
  {
   "cell_type": "code",
   "execution_count": 23,
   "id": "ef102ac1",
   "metadata": {},
   "outputs": [
    {
     "data": {
      "text/plain": [
       "count    23289.000000\n",
       "mean        60.149299\n",
       "std         34.280860\n",
       "min         14.000000\n",
       "25%         40.000000\n",
       "50%         52.000000\n",
       "75%         69.700000\n",
       "max        900.000000\n",
       "Name: total_area, dtype: float64"
      ]
     },
     "execution_count": 23,
     "metadata": {},
     "output_type": "execute_result"
    },
    {
     "data": {
      "image/png": "[encoded data removed]",
      "text/plain": [
       "<Figure size 648x360 with 1 Axes>"
      ]
     },
     "metadata": {
      "needs_background": "light"
     },
     "output_type": "display_data"
    }
   ],
   "source": [
    "df.plot(y = 'total_area', kind = 'hist', bins = 100, grid=True, figsize = (9,5), range = (0,500))\n",
    "df['total_area'].describe()"
   ]
  },
  {
   "cell_type": "markdown",
   "id": "260a245a",
   "metadata": {},
   "source": [
    "**Данные распределены в пределах нормы. Также мы получули методом `describe` представление о значениях данной гистограммы, в которой можно заметить о наличии позиции с 900м2, в данных оставим значения в пределах двух межквартильных размахов (IQR).**"
   ]
  },
  {
   "cell_type": "code",
   "execution_count": 24,
   "id": "a5e0eccc",
   "metadata": {},
   "outputs": [
    {
     "data": {
      "text/plain": [
       "(0, 200)"
      ]
     },
     "execution_count": 24,
     "metadata": {},
     "output_type": "execute_result"
    },
    {
     "data": {
      "image/png": "[encoded data removed]",
      "text/plain": [
       "<Figure size 432x288 with 1 Axes>"
      ]
     },
     "metadata": {
      "needs_background": "light"
     },
     "output_type": "display_data"
    }
   ],
   "source": [
    "plt.boxplot(df['total_area'])\n",
    "plt.ylim(0,200)"
   ]
  },
  {
   "cell_type": "markdown",
   "id": "e28d2cc9",
   "metadata": {},
   "source": [
    "**После 115м2 происходят выбросы, извабимся от них!**"
   ]
  },
  {
   "cell_type": "code",
   "execution_count": 25,
   "id": "1fc0bd3a",
   "metadata": {},
   "outputs": [],
   "source": [
    "df = df.query('total_area > 0 and total_area <= 115')"
   ]
  },
  {
   "cell_type": "markdown",
   "id": "7ba6ad2b",
   "metadata": {},
   "source": [
    "- **Построим гистограмму стоимости жилья.**"
   ]
  },
  {
   "cell_type": "code",
   "execution_count": 26,
   "id": "eb79b868",
   "metadata": {},
   "outputs": [
    {
     "name": "stderr",
     "output_type": "stream",
     "text": [
      "/opt/conda/lib/python3.7/site-packages/ipykernel_launcher.py:1: SettingWithCopyWarning: \n",
      "A value is trying to be set on a copy of a slice from a DataFrame.\n",
      "Try using .loc[row_indexer,col_indexer] = value instead\n",
      "\n",
      "See the caveats in the documentation: http://pandas.pydata.org/pandas-docs/stable/user_guide/indexing.html#returning-a-view-versus-a-copy\n",
      "  \"\"\"Entry point for launching an IPython kernel.\n"
     ]
    },
    {
     "data": {
      "text/plain": [
       "count    22128.000000\n",
       "mean         5.322581\n",
       "std          3.408572\n",
       "min          0.012190\n",
       "25%          3.393114\n",
       "50%          4.500000\n",
       "75%          6.300000\n",
       "max         82.000000\n",
       "Name: price, dtype: float64"
      ]
     },
     "execution_count": 26,
     "metadata": {},
     "output_type": "execute_result"
    },
    {
     "data": {
      "image/png": "[encoded data removed]",
      "text/plain": [
       "<Figure size 648x360 with 1 Axes>"
      ]
     },
     "metadata": {
      "needs_background": "light"
     },
     "output_type": "display_data"
    }
   ],
   "source": [
    "df['price'] = df['last_price'] / 1000000\n",
    "df.plot(y = 'price', kind = 'hist', bins = 100, grid=True, figsize = (9,5), range = (0, 100))\n",
    "df['price'].describe()"
   ]
  },
  {
   "cell_type": "markdown",
   "id": "fa43a893",
   "metadata": {},
   "source": [
    "**Из гистограммы видим нормальное распределение данных, построим график для анализа медианы, среднего, нижнего и верхнего квартиля, минимального и максимального значения, выборки и выбросы.**\n",
    "**Для комфортного продолжения работы избавимся от выбросов.**"
   ]
  },
  {
   "cell_type": "code",
   "execution_count": 27,
   "id": "2f7b008c",
   "metadata": {},
   "outputs": [
    {
     "data": {
      "text/plain": [
       "(0, 20)"
      ]
     },
     "execution_count": 27,
     "metadata": {},
     "output_type": "execute_result"
    },
    {
     "data": {
      "image/png": "[encoded data removed]",
      "text/plain": [
       "<Figure size 432x288 with 1 Axes>"
      ]
     },
     "metadata": {
      "needs_background": "light"
     },
     "output_type": "display_data"
    }
   ],
   "source": [
    "plt.boxplot(df['price'])\n",
    "plt.ylim(0,20)"
   ]
  },
  {
   "cell_type": "code",
   "execution_count": 28,
   "id": "6a47865a",
   "metadata": {},
   "outputs": [],
   "source": [
    "df = df.query('price > 0 and price <= 10.650')"
   ]
  },
  {
   "cell_type": "markdown",
   "id": "48799831",
   "metadata": {},
   "source": [
    "- **Далее строим гистограмму для просмотра данных в столбце `rooms`**"
   ]
  },
  {
   "cell_type": "code",
   "execution_count": 29,
   "id": "f8370a54",
   "metadata": {},
   "outputs": [
    {
     "data": {
      "text/plain": [
       "'Кол-во комнат:'"
      ]
     },
     "metadata": {},
     "output_type": "display_data"
    },
    {
     "data": {
      "text/plain": [
       "array([1, 2, 3, 4, 0, 5, 6])"
      ]
     },
     "metadata": {},
     "output_type": "display_data"
    },
    {
     "data": {
      "image/png": "[encoded data removed]",
      "text/plain": [
       "<Figure size 648x360 with 1 Axes>"
      ]
     },
     "metadata": {
      "needs_background": "light"
     },
     "output_type": "display_data"
    }
   ],
   "source": [
    "df.plot(y = 'rooms', kind = 'hist', bins = 100, grid=True, figsize = (9,5), range = (0, 16))\n",
    "df['rooms'].describe()\n",
    "display('Кол-во комнат:', df['rooms'].unique())"
   ]
  },
  {
   "cell_type": "markdown",
   "id": "25727c60",
   "metadata": {},
   "source": [
    "**Данные состоят из квартир с 1, 2 и 3 комнатами. Есть небольшая доля 4-комнатных квартир. Квартиры с 0 комнат являются апартаментами**\n",
    "\n",
    "- **Гистограмма столбца `ceiling_height`:**"
   ]
  },
  {
   "cell_type": "code",
   "execution_count": 30,
   "id": "8cb512c1",
   "metadata": {},
   "outputs": [
    {
     "data": {
      "text/plain": [
       "count    20777.000000\n",
       "mean         2.688204\n",
       "std          0.798091\n",
       "min          1.000000\n",
       "25%          2.600000\n",
       "50%          2.640000\n",
       "75%          2.700000\n",
       "max         32.000000\n",
       "Name: ceiling_height, dtype: float64"
      ]
     },
     "execution_count": 30,
     "metadata": {},
     "output_type": "execute_result"
    },
    {
     "data": {
      "image/png": "[encoded data removed]",
      "text/plain": [
       "<Figure size 648x360 with 1 Axes>"
      ]
     },
     "metadata": {
      "needs_background": "light"
     },
     "output_type": "display_data"
    }
   ],
   "source": [
    "df.plot(y = 'ceiling_height', kind = 'hist', bins = 100, grid=True, figsize = (9,5), range = (0, 16))\n",
    "df['ceiling_height'].describe()"
   ]
  },
  {
   "cell_type": "markdown",
   "id": "adb35eae",
   "metadata": {},
   "source": [
    "**Допустим, что некоторые данные были внесены по ошибке, исправим эти значения и отфильтруем данные от 1.8м до 3.2м**\n",
    "\n",
    "**(Данные можно было сразу отбросить)**"
   ]
  },
  {
   "cell_type": "code",
   "execution_count": 31,
   "id": "84d71aaa",
   "metadata": {},
   "outputs": [
    {
     "name": "stderr",
     "output_type": "stream",
     "text": [
      "/opt/conda/lib/python3.7/site-packages/pandas/core/indexing.py:494: SettingWithCopyWarning: \n",
      "A value is trying to be set on a copy of a slice from a DataFrame.\n",
      "Try using .loc[row_indexer,col_indexer] = value instead\n",
      "\n",
      "See the caveats in the documentation: http://pandas.pydata.org/pandas-docs/stable/user_guide/indexing.html#returning-a-view-versus-a-copy\n",
      "  self.obj[item] = s\n"
     ]
    }
   ],
   "source": [
    "df.loc[df['ceiling_height'] == 32.00, 'ceiling_height'] = 3.2\n",
    "df.loc[df['ceiling_height'] == 27.50, 'ceiling_height'] = 2.7\n",
    "df.loc[df['ceiling_height'] == 27.00, 'ceiling_height'] = 2.7\n",
    "df.loc[df['ceiling_height'] == 26.00, 'ceiling_height'] = 2.6\n",
    "df.loc[df['ceiling_height'] == 25.00, 'ceiling_height'] = 2.5\n",
    "df.loc[df['ceiling_height'] == 24.00, 'ceiling_height'] = 2.4\n",
    "df.loc[df['ceiling_height'] == 22.60, 'ceiling_height'] = 2.6\n",
    "df.loc[df['ceiling_height'] == 20.00, 'ceiling_height'] = 2.0\n",
    "df = df.query('ceiling_height > 1.80 and ceiling_height <= 3.20')"
   ]
  },
  {
   "cell_type": "markdown",
   "id": "304d28a9",
   "metadata": {},
   "source": [
    "### Изучите время продажи квартиры. Постройте гистограмму. Посчитайте среднее и медиану. Опишите, сколько обычно занимает продажа. Когда можно считать, что продажи прошли очень быстро, а когда необычно долго?"
   ]
  },
  {
   "cell_type": "code",
   "execution_count": 32,
   "id": "a127ee09",
   "metadata": {},
   "outputs": [
    {
     "data": {
      "text/plain": [
       "count    20410.000000\n",
       "mean       149.977413\n",
       "std        202.622620\n",
       "min          0.000000\n",
       "25%         24.000000\n",
       "50%         70.000000\n",
       "75%        190.000000\n",
       "max       1580.000000\n",
       "Name: days_exposition, dtype: float64"
      ]
     },
     "execution_count": 32,
     "metadata": {},
     "output_type": "execute_result"
    },
    {
     "data": {
      "image/png": "[encoded data removed]",
      "text/plain": [
       "<Figure size 648x360 with 1 Axes>"
      ]
     },
     "metadata": {
      "needs_background": "light"
     },
     "output_type": "display_data"
    }
   ],
   "source": [
    "df.plot(y = 'days_exposition', kind = 'hist', bins = 100, grid=True, figsize = (9,5), range = (0, 1600))\n",
    "df['days_exposition'].describe()"
   ]
  },
  {
   "cell_type": "code",
   "execution_count": 33,
   "id": "ad6ab29e",
   "metadata": {},
   "outputs": [
    {
     "data": {
      "text/plain": [
       "(-50, 600)"
      ]
     },
     "execution_count": 33,
     "metadata": {},
     "output_type": "execute_result"
    },
    {
     "data": {
      "image/png": "[encoded data removed]",
      "text/plain": [
       "<Figure size 432x288 with 1 Axes>"
      ]
     },
     "metadata": {
      "needs_background": "light"
     },
     "output_type": "display_data"
    }
   ],
   "source": [
    "plt.boxplot(df['days_exposition'])\n",
    "plt.ylim(-50,600)"
   ]
  },
  {
   "cell_type": "markdown",
   "id": "81d23d74",
   "metadata": {},
   "source": [
    "**Большая часть значений находится в диапазоне до 200 дней.**"
   ]
  },
  {
   "cell_type": "code",
   "execution_count": 34,
   "id": "1c40718b",
   "metadata": {},
   "outputs": [
    {
     "data": {
      "text/plain": [
       "<matplotlib.axes._subplots.AxesSubplot at 0x7f4ed727c710>"
      ]
     },
     "execution_count": 34,
     "metadata": {},
     "output_type": "execute_result"
    },
    {
     "data": {
      "image/png": "[encoded data removed]",
      "text/plain": [
       "<Figure size 648x360 with 1 Axes>"
      ]
     },
     "metadata": {
      "needs_background": "light"
     },
     "output_type": "display_data"
    }
   ],
   "source": [
    "df.plot(y = 'days_exposition', kind = 'hist', bins = 100, grid=True, figsize = (9,5), range = (0, 250))"
   ]
  },
  {
   "cell_type": "markdown",
   "id": "c2be875f",
   "metadata": {},
   "source": [
    "- **Сделка прошла быстро, если продажа состоялась в срок до 22 дней после подачи объявления, а если сделка состоялась через 199 и больше дней - она длилась долго.**\n",
    "\n",
    "- **Разница среднего(70) и медианы(148) больше в 2 раза.**\n",
    "\n",
    "- Значит, что **в распределении  хвост высоких значений, сильно влияет на среднее (третий квартиль у нас заканчивается на значении 199, а максимальное значение - целых 1580 дней).** Как видим по графикам, нормальные значения находятся в промежутке от 0 до 465.\n",
    "\n",
    "- Уберем из таблицы редкие и выбивающиеся значения."
   ]
  },
  {
   "cell_type": "code",
   "execution_count": 35,
   "id": "c457a6f6",
   "metadata": {},
   "outputs": [],
   "source": [
    "df = df.query('days_exposition > 0 and days_exposition <= 465')"
   ]
  },
  {
   "cell_type": "code",
   "execution_count": 36,
   "id": "73b9c3e4",
   "metadata": {},
   "outputs": [
    {
     "data": {
      "text/plain": [
       "<matplotlib.axes._subplots.AxesSubplot at 0x7f4edf7be150>"
      ]
     },
     "execution_count": 36,
     "metadata": {},
     "output_type": "execute_result"
    },
    {
     "data": {
      "image/png": "[encoded data removed]",
      "text/plain": [
       "<Figure size 648x360 with 1 Axes>"
      ]
     },
     "metadata": {
      "needs_background": "light"
     },
     "output_type": "display_data"
    }
   ],
   "source": [
    "df.plot(y = 'days_exposition', kind = 'hist', bins = 100, grid=True, figsize = (9,5), range = (0, 500))"
   ]
  },
  {
   "cell_type": "markdown",
   "id": "4be08744",
   "metadata": {},
   "source": [
    "**Выделяются значения на 45,60,90 дней. Возможно, данные объявления были автоматически сняты с продажи, отчистим эти данные:**"
   ]
  },
  {
   "cell_type": "code",
   "execution_count": 37,
   "id": "9f9226b7",
   "metadata": {},
   "outputs": [
    {
     "data": {
      "text/plain": [
       "<matplotlib.axes._subplots.AxesSubplot at 0x7f4ee0080950>"
      ]
     },
     "execution_count": 37,
     "metadata": {},
     "output_type": "execute_result"
    },
    {
     "data": {
      "image/png": "[encoded data removed]",
      "text/plain": [
       "<Figure size 648x360 with 1 Axes>"
      ]
     },
     "metadata": {
      "needs_background": "light"
     },
     "output_type": "display_data"
    }
   ],
   "source": [
    "df = df.query('days_exposition != 45  and days_exposition != 60 and days_exposition != 90')\n",
    "df.plot(y = 'days_exposition', kind = 'hist', bins = 100, grid=True, figsize = (9,5), range = (0, 500))"
   ]
  },
  {
   "cell_type": "markdown",
   "id": "2ef213b8",
   "metadata": {},
   "source": [
    "### Какие факторы больше всего влияют на стоимость квартиры? Изучите, зависит ли цена от площади, числа комнат, удалённости от центра. Изучите зависимость цены от того, на каком этаже расположена квартира: первом, последнем или другом. Также изучите зависимость от даты размещения: дня недели, месяца и года."
   ]
  },
  {
   "cell_type": "markdown",
   "id": "1c7f1371",
   "metadata": {},
   "source": [
    "- **Изучим зависимость цены  от общей площади квартиры.**"
   ]
  },
  {
   "cell_type": "code",
   "execution_count": 55,
   "id": "49713344",
   "metadata": {},
   "outputs": [
    {
     "data": {
      "image/png": "[encoded data removed]",
      "text/plain": [
       "<Figure size 576x360 with 1 Axes>"
      ]
     },
     "metadata": {
      "needs_background": "light"
     },
     "output_type": "display_data"
    },
    {
     "data": {
      "text/plain": [
       "total_area    1.000000\n",
       "last_price    0.681478\n",
       "Name: total_area, dtype: float64"
      ]
     },
     "execution_count": 55,
     "metadata": {},
     "output_type": "execute_result"
    }
   ],
   "source": [
    "(\n",
    "    df.pivot_table(index='total_area', values='last_price')\n",
    "    .plot(grid=True, style='o', figsize=(8, 5))\n",
    ")\n",
    "plt.show()\n",
    "df[['total_area', 'last_price']].corr()['total_area']"
   ]
  },
  {
   "cell_type": "markdown",
   "id": "a8973de6",
   "metadata": {},
   "source": [
    "**Заметна значительная корреляция, по которой видно, увеличение площади квартиры заметно увеличивает ее стоимость!**\n",
    "\n",
    "- Изучим зависимость кол-во комнат на стоимость квартиры."
   ]
  },
  {
   "cell_type": "code",
   "execution_count": 39,
   "id": "5fb62974",
   "metadata": {
    "scrolled": true
   },
   "outputs": [
    {
     "data": {
      "image/png": "[encoded data removed]",
      "text/plain": [
       "<Figure size 360x360 with 1 Axes>"
      ]
     },
     "metadata": {
      "needs_background": "light"
     },
     "output_type": "display_data"
    },
    {
     "data": {
      "text/html": [
       "<div>\n",
       "<style scoped>\n",
       "    .dataframe tbody tr th:only-of-type {\n",
       "        vertical-align: middle;\n",
       "    }\n",
       "\n",
       "    .dataframe tbody tr th {\n",
       "        vertical-align: top;\n",
       "    }\n",
       "\n",
       "    .dataframe thead th {\n",
       "        text-align: right;\n",
       "    }\n",
       "</style>\n",
       "<table border=\"1\" class=\"dataframe\">\n",
       "  <thead>\n",
       "    <tr style=\"text-align: right;\">\n",
       "      <th></th>\n",
       "      <th>last_price</th>\n",
       "      <th>rooms</th>\n",
       "    </tr>\n",
       "  </thead>\n",
       "  <tbody>\n",
       "    <tr>\n",
       "      <td>last_price</td>\n",
       "      <td>1.000000</td>\n",
       "      <td>0.703155</td>\n",
       "    </tr>\n",
       "    <tr>\n",
       "      <td>rooms</td>\n",
       "      <td>0.703155</td>\n",
       "      <td>1.000000</td>\n",
       "    </tr>\n",
       "  </tbody>\n",
       "</table>\n",
       "</div>"
      ],
      "text/plain": [
       "            last_price     rooms\n",
       "last_price    1.000000  0.703155\n",
       "rooms         0.703155  1.000000"
      ]
     },
     "metadata": {},
     "output_type": "display_data"
    }
   ],
   "source": [
    "(\n",
    "    df.query('rooms > 0').pivot_table(index='rooms', values='last_price')\n",
    "    .plot(grid=True, style='o-', figsize=(5, 5))\n",
    ")\n",
    "plt.show()\n",
    "display(df.query('rooms > 0').pivot_table(index='floor', values=['rooms', 'last_price']).corr())"
   ]
  },
  {
   "cell_type": "markdown",
   "id": "6ecd8efb",
   "metadata": {},
   "source": [
    "**Количество комнат влияет на цену, чем больше комнат, тем больше цена.Но стоит отметить, что зависимость не так высока, по сравнению с площадью квартиры.**\n",
    "\n",
    "- Изучим зависимость этажа квартиры на ее стоимость."
   ]
  },
  {
   "cell_type": "code",
   "execution_count": 40,
   "id": "e45eae75",
   "metadata": {},
   "outputs": [
    {
     "data": {
      "text/plain": [
       "<matplotlib.axes._subplots.AxesSubplot at 0x7f4ee01ebcd0>"
      ]
     },
     "execution_count": 40,
     "metadata": {},
     "output_type": "execute_result"
    },
    {
     "data": {
      "image/png": "[encoded data removed]",
      "text/plain": [
       "<Figure size 360x360 with 1 Axes>"
      ]
     },
     "metadata": {
      "needs_background": "light"
     },
     "output_type": "display_data"
    }
   ],
   "source": [
    "(\n",
    "    df.pivot_table(index='floor_lvl', values='last_price', aggfunc='median')\n",
    "    .plot(grid=True, style='o-', figsize=(5, 5))\n",
    ")"
   ]
  },
  {
   "cell_type": "markdown",
   "id": "5ceb9575",
   "metadata": {},
   "source": [
    "**Из-за особенной эксплуатации квартир, мы видим очевдную низкую стоимость жилья на 1 этаже, и существенно высокую стоимость этажей, находящихся не на 'первом-последнем'.**\n",
    "\n",
    "- Расмотрим зависимость удаленности квартиры от центра и ее стоимости."
   ]
  },
  {
   "cell_type": "code",
   "execution_count": 41,
   "id": "89fb2344",
   "metadata": {},
   "outputs": [
    {
     "data": {
      "image/png": "[encoded data removed]",
      "text/plain": [
       "<Figure size 360x360 with 1 Axes>"
      ]
     },
     "metadata": {
      "needs_background": "light"
     },
     "output_type": "display_data"
    },
    {
     "data": {
      "text/html": [
       "<div>\n",
       "<style scoped>\n",
       "    .dataframe tbody tr th:only-of-type {\n",
       "        vertical-align: middle;\n",
       "    }\n",
       "\n",
       "    .dataframe tbody tr th {\n",
       "        vertical-align: top;\n",
       "    }\n",
       "\n",
       "    .dataframe thead th {\n",
       "        text-align: right;\n",
       "    }\n",
       "</style>\n",
       "<table border=\"1\" class=\"dataframe\">\n",
       "  <thead>\n",
       "    <tr style=\"text-align: right;\">\n",
       "      <th></th>\n",
       "      <th>citycenters_nearest</th>\n",
       "      <th>last_price</th>\n",
       "    </tr>\n",
       "  </thead>\n",
       "  <tbody>\n",
       "    <tr>\n",
       "      <td>citycenters_nearest</td>\n",
       "      <td>1.000000</td>\n",
       "      <td>0.594362</td>\n",
       "    </tr>\n",
       "    <tr>\n",
       "      <td>last_price</td>\n",
       "      <td>0.594362</td>\n",
       "      <td>1.000000</td>\n",
       "    </tr>\n",
       "  </tbody>\n",
       "</table>\n",
       "</div>"
      ],
      "text/plain": [
       "                     citycenters_nearest  last_price\n",
       "citycenters_nearest             1.000000    0.594362\n",
       "last_price                      0.594362    1.000000"
      ]
     },
     "metadata": {},
     "output_type": "display_data"
    }
   ],
   "source": [
    "(\n",
    "    df.pivot_table(index='citycenters_nearest', values='last_price')\n",
    "    .plot(grid=True, style='o', figsize=(5, 5))\n",
    ")\n",
    "plt.show()\n",
    "display(df.pivot_table(index='floor', values=['citycenters_nearest', 'last_price']).corr())"
   ]
  },
  {
   "cell_type": "markdown",
   "id": "649bfaa0",
   "metadata": {},
   "source": [
    "**Очевидная зависимость стоимости квартиры от близости к центру. Чем ближе к центру, тем выше стоимость.**\n",
    "\n",
    "- **Оценим зависимость от даты размещения:**"
   ]
  },
  {
   "cell_type": "code",
   "execution_count": 42,
   "id": "be6add75",
   "metadata": {},
   "outputs": [
    {
     "data": {
      "image/png": "[encoded data removed]",
      "text/plain": [
       "<Figure size 720x360 with 1 Axes>"
      ]
     },
     "metadata": {
      "needs_background": "light"
     },
     "output_type": "display_data"
    },
    {
     "data": {
      "image/png": "[encoded data removed]",
      "text/plain": [
       "<Figure size 720x360 with 1 Axes>"
      ]
     },
     "metadata": {
      "needs_background": "light"
     },
     "output_type": "display_data"
    },
    {
     "data": {
      "image/png": "[encoded data removed]",
      "text/plain": [
       "<Figure size 720x360 with 1 Axes>"
      ]
     },
     "metadata": {
      "needs_background": "light"
     },
     "output_type": "display_data"
    }
   ],
   "source": [
    "# Зависимость от дня размещения\n",
    "(\n",
    "    df.pivot_table(index='weekday', values='last_price')\n",
    "    .plot(grid=True, style='o-', figsize=(10, 5))\n",
    ")\n",
    "plt.show()\n",
    "# Зависимость от месяца размещения\n",
    "(\n",
    "    df.pivot_table(index='month', values='last_price')\n",
    "    .plot(grid=True, style='o-', xlim=(1,12), figsize=(10, 5))\n",
    ")\n",
    "plt.show()\n",
    "# Зависимость от года размещения\n",
    "(\n",
    "    df.pivot_table(index='year', values='last_price')\n",
    "    .plot(grid=True, style='o-', figsize=(10, 5))\n",
    ")\n",
    "plt.show()"
   ]
  },
  {
   "cell_type": "markdown",
   "id": "227b000d",
   "metadata": {},
   "source": [
    "**Вне зависимости от дня недели, месяца или года, средняя стоимость квартиры держалась на одном уровне. Стоит только отметить начало подорожания жилья с начала 2018 года.**\n"
   ]
  },
  {
   "cell_type": "markdown",
   "id": "d2e088ed",
   "metadata": {},
   "source": [
    "### Выберите 10 населённых пунктов с наибольшим числом объявлений. Посчитайте среднюю цену квадратного метра в этих населённых пунктах. Выделите населённые пункты с самой высокой и низкой стоимостью жилья. Эти данные можно найти по имени в столбце locality_name."
   ]
  },
  {
   "cell_type": "code",
   "execution_count": 43,
   "id": "47dbdf22",
   "metadata": {},
   "outputs": [
    {
     "data": {
      "text/html": [
       "<div>\n",
       "<style scoped>\n",
       "    .dataframe tbody tr th:only-of-type {\n",
       "        vertical-align: middle;\n",
       "    }\n",
       "\n",
       "    .dataframe tbody tr th {\n",
       "        vertical-align: top;\n",
       "    }\n",
       "\n",
       "    .dataframe thead th {\n",
       "        text-align: right;\n",
       "    }\n",
       "</style>\n",
       "<table border=\"1\" class=\"dataframe\">\n",
       "  <thead>\n",
       "    <tr style=\"text-align: right;\">\n",
       "      <th></th>\n",
       "      <th>count</th>\n",
       "      <th>mean</th>\n",
       "    </tr>\n",
       "    <tr>\n",
       "      <th>locality_name</th>\n",
       "      <th></th>\n",
       "      <th></th>\n",
       "    </tr>\n",
       "  </thead>\n",
       "  <tbody>\n",
       "    <tr>\n",
       "      <td>Санкт-Петербург</td>\n",
       "      <td>9667</td>\n",
       "      <td>103553.432709</td>\n",
       "    </tr>\n",
       "    <tr>\n",
       "      <td>посёлок Мурино</td>\n",
       "      <td>408</td>\n",
       "      <td>85507.598039</td>\n",
       "    </tr>\n",
       "    <tr>\n",
       "      <td>посёлок Шушары</td>\n",
       "      <td>342</td>\n",
       "      <td>77962.991228</td>\n",
       "    </tr>\n",
       "    <tr>\n",
       "      <td>Всеволожск</td>\n",
       "      <td>265</td>\n",
       "      <td>66320.083019</td>\n",
       "    </tr>\n",
       "    <tr>\n",
       "      <td>Колпино</td>\n",
       "      <td>251</td>\n",
       "      <td>74790.366534</td>\n",
       "    </tr>\n",
       "    <tr>\n",
       "      <td>посёлок Парголово</td>\n",
       "      <td>246</td>\n",
       "      <td>89479.914634</td>\n",
       "    </tr>\n",
       "    <tr>\n",
       "      <td>Пушкин</td>\n",
       "      <td>234</td>\n",
       "      <td>99284.705128</td>\n",
       "    </tr>\n",
       "    <tr>\n",
       "      <td>деревня Кудрово</td>\n",
       "      <td>221</td>\n",
       "      <td>92105.710407</td>\n",
       "    </tr>\n",
       "    <tr>\n",
       "      <td>Гатчина</td>\n",
       "      <td>215</td>\n",
       "      <td>67816.311628</td>\n",
       "    </tr>\n",
       "    <tr>\n",
       "      <td>Выборг</td>\n",
       "      <td>155</td>\n",
       "      <td>56801.200000</td>\n",
       "    </tr>\n",
       "  </tbody>\n",
       "</table>\n",
       "</div>"
      ],
      "text/plain": [
       "                   count           mean\n",
       "locality_name                          \n",
       "Санкт-Петербург     9667  103553.432709\n",
       "посёлок Мурино       408   85507.598039\n",
       "посёлок Шушары       342   77962.991228\n",
       "Всеволожск           265   66320.083019\n",
       "Колпино              251   74790.366534\n",
       "посёлок Парголово    246   89479.914634\n",
       "Пушкин               234   99284.705128\n",
       "деревня Кудрово      221   92105.710407\n",
       "Гатчина              215   67816.311628\n",
       "Выборг               155   56801.200000"
      ]
     },
     "execution_count": 43,
     "metadata": {},
     "output_type": "execute_result"
    }
   ],
   "source": [
    "locality_pivot = df.pivot_table(index = 'locality_name', values = 'price_m2', aggfunc=['count', 'mean'])\n",
    "locality_pivot.columns = ['count', 'mean']\n",
    "locality_pivot = locality_pivot.sort_values('count', ascending = False)\n",
    "locality_pivot.head(10)"
   ]
  },
  {
   "cell_type": "code",
   "execution_count": 44,
   "id": "63c215b9",
   "metadata": {},
   "outputs": [
    {
     "data": {
      "text/html": [
       "<div>\n",
       "<style scoped>\n",
       "    .dataframe tbody tr th:only-of-type {\n",
       "        vertical-align: middle;\n",
       "    }\n",
       "\n",
       "    .dataframe tbody tr th {\n",
       "        vertical-align: top;\n",
       "    }\n",
       "\n",
       "    .dataframe thead th {\n",
       "        text-align: right;\n",
       "    }\n",
       "</style>\n",
       "<table border=\"1\" class=\"dataframe\">\n",
       "  <thead>\n",
       "    <tr style=\"text-align: right;\">\n",
       "      <th></th>\n",
       "      <th>count</th>\n",
       "      <th>mean</th>\n",
       "    </tr>\n",
       "    <tr>\n",
       "      <th>locality_name</th>\n",
       "      <th></th>\n",
       "      <th></th>\n",
       "    </tr>\n",
       "  </thead>\n",
       "  <tbody>\n",
       "    <tr>\n",
       "      <td>Санкт-Петербург</td>\n",
       "      <td>9667</td>\n",
       "      <td>103553.432709</td>\n",
       "    </tr>\n",
       "  </tbody>\n",
       "</table>\n",
       "</div>"
      ],
      "text/plain": [
       "                 count           mean\n",
       "locality_name                        \n",
       "Санкт-Петербург   9667  103553.432709"
      ]
     },
     "metadata": {},
     "output_type": "display_data"
    }
   ],
   "source": [
    "display(locality_pivot.query('locality_name == \"Санкт-Петербург\"'))"
   ]
  },
  {
   "cell_type": "code",
   "execution_count": 45,
   "id": "bd31679e",
   "metadata": {},
   "outputs": [
    {
     "data": {
      "text/html": [
       "<div>\n",
       "<style scoped>\n",
       "    .dataframe tbody tr th:only-of-type {\n",
       "        vertical-align: middle;\n",
       "    }\n",
       "\n",
       "    .dataframe tbody tr th {\n",
       "        vertical-align: top;\n",
       "    }\n",
       "\n",
       "    .dataframe thead th {\n",
       "        text-align: right;\n",
       "    }\n",
       "</style>\n",
       "<table border=\"1\" class=\"dataframe\">\n",
       "  <thead>\n",
       "    <tr style=\"text-align: right;\">\n",
       "      <th></th>\n",
       "      <th>count</th>\n",
       "      <th>mean</th>\n",
       "    </tr>\n",
       "    <tr>\n",
       "      <th>locality_name</th>\n",
       "      <th></th>\n",
       "      <th></th>\n",
       "    </tr>\n",
       "  </thead>\n",
       "  <tbody>\n",
       "    <tr>\n",
       "      <td>Выборг</td>\n",
       "      <td>155</td>\n",
       "      <td>56801.2</td>\n",
       "    </tr>\n",
       "  </tbody>\n",
       "</table>\n",
       "</div>"
      ],
      "text/plain": [
       "               count     mean\n",
       "locality_name                \n",
       "Выборг           155  56801.2"
      ]
     },
     "metadata": {},
     "output_type": "display_data"
    }
   ],
   "source": [
    "display(locality_pivot.query('locality_name == \"Выборг\"'))"
   ]
  },
  {
   "cell_type": "markdown",
   "id": "a2ee8cf5",
   "metadata": {},
   "source": [
    "### Изучите предложения квартир: для каждой квартиры есть информация о расстоянии до центра. Выделите квартиры в Санкт-Петербурге (locality_name). Ваша задача — выяснить, какая область входит в центр. Создайте столбец с расстоянием до центра в километрах: округлите до целых значений. После этого посчитайте среднюю цену для каждого километра. Постройте график: он должен показывать, как цена зависит от удалённости от центра. Определите границу, где график сильно меняется, — это и будет центральная зона."
   ]
  },
  {
   "cell_type": "markdown",
   "id": "1a72a834",
   "metadata": {},
   "source": [
    "- **Построим график для квартир Санкт-Петербурга и определим границу центральной зоны:**"
   ]
  },
  {
   "cell_type": "code",
   "execution_count": 46,
   "id": "e9f77109",
   "metadata": {},
   "outputs": [
    {
     "name": "stdout",
     "output_type": "stream",
     "text": [
      "<class 'pandas.core.frame.DataFrame'>\n",
      "Int64Index: 14958 entries, 1 to 23693\n",
      "Data columns (total 31 columns):\n",
      "total_images            14958 non-null int64\n",
      "last_price              14958 non-null float64\n",
      "total_area              14958 non-null float64\n",
      "first_day_exposition    14958 non-null object\n",
      "rooms                   14958 non-null int64\n",
      "ceiling_height          14958 non-null float64\n",
      "floors_total            14958 non-null float64\n",
      "living_area             14958 non-null float64\n",
      "floor                   14958 non-null int64\n",
      "is_apartment            14958 non-null bool\n",
      "studio                  14958 non-null bool\n",
      "open_plan               14958 non-null bool\n",
      "kitchen_area            14958 non-null float64\n",
      "balcony                 14958 non-null Int64\n",
      "locality_name           14958 non-null object\n",
      "airports_nearest        14958 non-null float64\n",
      "citycenters_nearest     11405 non-null float64\n",
      "parks_around3000        14958 non-null Int64\n",
      "parks_nearest           14958 non-null float64\n",
      "ponds_around3000        14958 non-null Int64\n",
      "ponds_nearest           14958 non-null float64\n",
      "days_exposition         14958 non-null int64\n",
      "cityCenters_nearest     14958 non-null float64\n",
      "price_m2                14958 non-null int64\n",
      "weekday                 14958 non-null int64\n",
      "month                   14958 non-null int64\n",
      "year                    14958 non-null int64\n",
      "floor_lvl               14958 non-null object\n",
      "relation_living         14958 non-null float64\n",
      "relation_kitchen        14958 non-null float64\n",
      "price                   14958 non-null float64\n",
      "dtypes: Int64(3), bool(3), float64(14), int64(8), object(3)\n",
      "memory usage: 3.4+ MB\n"
     ]
    }
   ],
   "source": [
    "df.info()"
   ]
  },
  {
   "cell_type": "code",
   "execution_count": 47,
   "id": "243021cf",
   "metadata": {},
   "outputs": [],
   "source": [
    "df['citycenters_nearest'] = df['citycenters_nearest'].fillna(0) \n",
    "df['centre'] = df['citycenters_nearest'] / 1000\n",
    "df['centre'] = df['centre'].astype('int')"
   ]
  },
  {
   "cell_type": "code",
   "execution_count": 48,
   "id": "6af0f93c",
   "metadata": {},
   "outputs": [
    {
     "data": {
      "text/plain": [
       "<matplotlib.axes._subplots.AxesSubplot at 0x7f4ed6f64a90>"
      ]
     },
     "execution_count": 48,
     "metadata": {},
     "output_type": "execute_result"
    },
    {
     "data": {
      "image/png": "[encoded data removed]",
      "text/plain": [
       "<Figure size 720x360 with 1 Axes>"
      ]
     },
     "metadata": {
      "needs_background": "light"
     },
     "output_type": "display_data"
    }
   ],
   "source": [
    "(\n",
    "    df.query('locality_name == \"Санкт-Петербург\"')\n",
    "    .pivot_table(index='centre', values='last_price')\n",
    "    .plot(grid=True, style='o-', xlim=(0,15), figsize=(10, 5))\n",
    ")\n"
   ]
  },
  {
   "cell_type": "markdown",
   "id": "2b12fc8f",
   "metadata": {},
   "source": [
    "- **Медианной графика является 7км. Значит центральной зоной Санкт-Петербурга является 7 км, т. к. после заметен спад в цене!**"
   ]
  },
  {
   "cell_type": "markdown",
   "id": "bb6ac258",
   "metadata": {},
   "source": [
    "### Выделите сегмент квартир в центре. Проанализируйте эту территорию и изучите следующие параметры: площадь, цена, число комнат, высота потолков. Также выделите факторы, которые влияют на стоимость квартиры (число комнат, этаж, удалённость от центра, дата размещения объявления). Сделайте выводы. Отличаются ли они от общих выводов по всей базе?"
   ]
  },
  {
   "cell_type": "markdown",
   "id": "94290f5f",
   "metadata": {},
   "source": [
    "- **Создадим датасет с двумя фильтрами: город - Санкт-Петербург, центр зоны - 7 км:**"
   ]
  },
  {
   "cell_type": "code",
   "execution_count": 49,
   "id": "df27d89d",
   "metadata": {},
   "outputs": [],
   "source": [
    "centre_p = df.query('locality_name == \"Санкт-Петербург\" and centre <= 7')"
   ]
  },
  {
   "cell_type": "code",
   "execution_count": 50,
   "id": "b35836e5",
   "metadata": {},
   "outputs": [
    {
     "data": {
      "text/plain": [
       "count    1364.000000\n",
       "mean       60.311796\n",
       "std        19.325597\n",
       "min        17.000000\n",
       "25%        45.000000\n",
       "50%        58.200000\n",
       "75%        73.000000\n",
       "max       115.000000\n",
       "Name: total_area, dtype: float64"
      ]
     },
     "metadata": {},
     "output_type": "display_data"
    },
    {
     "data": {
      "image/png": "[encoded data removed]",
      "text/plain": [
       "<Figure size 648x360 with 1 Axes>"
      ]
     },
     "metadata": {
      "needs_background": "light"
     },
     "output_type": "display_data"
    },
    {
     "name": "stderr",
     "output_type": "stream",
     "text": [
      "/opt/conda/lib/python3.7/site-packages/ipykernel_launcher.py:8: SettingWithCopyWarning: \n",
      "A value is trying to be set on a copy of a slice from a DataFrame.\n",
      "Try using .loc[row_indexer,col_indexer] = value instead\n",
      "\n",
      "See the caveats in the documentation: http://pandas.pydata.org/pandas-docs/stable/user_guide/indexing.html#returning-a-view-versus-a-copy\n",
      "  \n"
     ]
    },
    {
     "data": {
      "text/plain": [
       "count    1364.000000\n",
       "mean        6.739803\n",
       "std         1.862912\n",
       "min         1.600000\n",
       "25%         5.300000\n",
       "50%         6.700000\n",
       "75%         8.100000\n",
       "max        10.650000\n",
       "Name: price, dtype: float64"
      ]
     },
     "metadata": {},
     "output_type": "display_data"
    },
    {
     "data": {
      "image/png": "[encoded data removed]",
      "text/plain": [
       "<Figure size 648x360 with 1 Axes>"
      ]
     },
     "metadata": {
      "needs_background": "light"
     },
     "output_type": "display_data"
    },
    {
     "data": {
      "text/plain": [
       "count    1364.00000\n",
       "mean        2.16129\n",
       "std         0.91955\n",
       "min         0.00000\n",
       "25%         1.00000\n",
       "50%         2.00000\n",
       "75%         3.00000\n",
       "max         6.00000\n",
       "Name: rooms, dtype: float64"
      ]
     },
     "metadata": {},
     "output_type": "display_data"
    },
    {
     "data": {
      "image/png": "[encoded data removed]",
      "text/plain": [
       "<Figure size 648x360 with 1 Axes>"
      ]
     },
     "metadata": {
      "needs_background": "light"
     },
     "output_type": "display_data"
    },
    {
     "data": {
      "text/plain": [
       "count    1364.000000\n",
       "mean        2.766290\n",
       "std         0.202283\n",
       "min         2.400000\n",
       "25%         2.600000\n",
       "50%         2.650000\n",
       "75%         3.000000\n",
       "max         3.200000\n",
       "Name: ceiling_height, dtype: float64"
      ]
     },
     "metadata": {},
     "output_type": "display_data"
    },
    {
     "data": {
      "image/png": "[encoded data removed]",
      "text/plain": [
       "<Figure size 648x360 with 1 Axes>"
      ]
     },
     "metadata": {
      "needs_background": "light"
     },
     "output_type": "display_data"
    }
   ],
   "source": [
    "# Изучаем площадь\n",
    "\n",
    "centre_p.plot(y = 'total_area', kind = 'hist', bins = 100, grid=True, figsize = (9,5), range = (0,500))\n",
    "display(centre_p['total_area'].describe())\n",
    "plt.show()\n",
    "\n",
    "# Изучаем цену\n",
    "centre_p['price'] = df['last_price'] / 1000000\n",
    "centre_p.plot(y = 'price', kind = 'hist', bins = 100, grid=True, figsize = (9,5), range = (0, 100))\n",
    "display(centre_p['price'].describe())\n",
    "plt.show()\n",
    "\n",
    "# Изучаем число комнат\n",
    "centre_p.plot(y = 'rooms', kind = 'hist', bins = 100, grid=True, figsize = (9,5), range = (0, 16))\n",
    "display(centre_p['rooms'].describe())\n",
    "plt.show()\n",
    "\n",
    "# Изучаем высоту потолков\n",
    "centre_p.plot(y = 'ceiling_height', kind = 'hist', bins = 100, grid=True, figsize = (9,5), range = (0, 16))\n",
    "display(centre_p['ceiling_height'].describe())\n",
    "plt.show()"
   ]
  },
  {
   "cell_type": "markdown",
   "id": "55da6821",
   "metadata": {},
   "source": [
    "В общем заметно, что аномалий в центре Санкт-Петербурга не наблюдается:"
   ]
  },
  {
   "cell_type": "markdown",
   "id": "98d66cd2",
   "metadata": {},
   "source": [
    "- **Посмотрим на влияние числа комнат на стоимость квартир в центре Санкт-Петербурга:**"
   ]
  },
  {
   "cell_type": "code",
   "execution_count": 51,
   "id": "ba4ac9d4",
   "metadata": {},
   "outputs": [
    {
     "data": {
      "text/html": [
       "<div>\n",
       "<style scoped>\n",
       "    .dataframe tbody tr th:only-of-type {\n",
       "        vertical-align: middle;\n",
       "    }\n",
       "\n",
       "    .dataframe tbody tr th {\n",
       "        vertical-align: top;\n",
       "    }\n",
       "\n",
       "    .dataframe thead th {\n",
       "        text-align: right;\n",
       "    }\n",
       "</style>\n",
       "<table border=\"1\" class=\"dataframe\">\n",
       "  <thead>\n",
       "    <tr style=\"text-align: right;\">\n",
       "      <th></th>\n",
       "      <th>last_price</th>\n",
       "      <th>rooms</th>\n",
       "    </tr>\n",
       "  </thead>\n",
       "  <tbody>\n",
       "    <tr>\n",
       "      <td>last_price</td>\n",
       "      <td>1.000000</td>\n",
       "      <td>-0.015142</td>\n",
       "    </tr>\n",
       "    <tr>\n",
       "      <td>rooms</td>\n",
       "      <td>-0.015142</td>\n",
       "      <td>1.000000</td>\n",
       "    </tr>\n",
       "  </tbody>\n",
       "</table>\n",
       "</div>"
      ],
      "text/plain": [
       "            last_price     rooms\n",
       "last_price    1.000000 -0.015142\n",
       "rooms        -0.015142  1.000000"
      ]
     },
     "metadata": {},
     "output_type": "display_data"
    },
    {
     "data": {
      "image/png": "[encoded data removed]",
      "text/plain": [
       "<Figure size 360x360 with 1 Axes>"
      ]
     },
     "metadata": {
      "needs_background": "light"
     },
     "output_type": "display_data"
    }
   ],
   "source": [
    "(\n",
    "    centre_p.query('rooms > 0').pivot_table(index='rooms', values='last_price')\n",
    "    .plot(grid=True, style='o-', figsize=(5, 5),)\n",
    ")\n",
    "display(centre_p.query('rooms > 0').pivot_table(index='floor', values=['rooms', 'last_price']).corr())"
   ]
  },
  {
   "cell_type": "markdown",
   "id": "f66dddfc",
   "metadata": {},
   "source": [
    "**В центре стоимость жилья от колличества комнат планомерна растет. Можно заметить, что минимальная цена прилично выше, нежели в общей выборке.**"
   ]
  },
  {
   "cell_type": "markdown",
   "id": "7b707983",
   "metadata": {},
   "source": [
    "- **Посмотрим на влияние этажа на стоимость квартир в центре Санкт-Петербурга:**"
   ]
  },
  {
   "cell_type": "code",
   "execution_count": 52,
   "id": "148db117",
   "metadata": {},
   "outputs": [
    {
     "data": {
      "image/png": "[encoded data removed]",
      "text/plain": [
       "<Figure size 360x360 with 1 Axes>"
      ]
     },
     "metadata": {
      "needs_background": "light"
     },
     "output_type": "display_data"
    }
   ],
   "source": [
    "(\n",
    "    centre_p.pivot_table(index='floor_lvl', values='last_price', aggfunc='median')\n",
    "    .plot(grid=True, style='o-', figsize=(5, 5))\n",
    ")\n",
    "plt.show()"
   ]
  },
  {
   "cell_type": "markdown",
   "id": "3e84be47",
   "metadata": {},
   "source": [
    "**Мы также видим очевдную низкую стоимость жилья на 1 этаже, и существенно высокую стоимость этажей, находящихся не на 'первом-последнем', но в центре стоимость последнего этажа значительно выше общей выборки.**\n",
    "\n",
    "- **Посмотрим на влияние удаленности от центра на стоимость квартир в центре Санкт-Петербурга:**\n"
   ]
  },
  {
   "cell_type": "code",
   "execution_count": 53,
   "id": "3ef0948d",
   "metadata": {},
   "outputs": [
    {
     "data": {
      "text/html": [
       "<div>\n",
       "<style scoped>\n",
       "    .dataframe tbody tr th:only-of-type {\n",
       "        vertical-align: middle;\n",
       "    }\n",
       "\n",
       "    .dataframe tbody tr th {\n",
       "        vertical-align: top;\n",
       "    }\n",
       "\n",
       "    .dataframe thead th {\n",
       "        text-align: right;\n",
       "    }\n",
       "</style>\n",
       "<table border=\"1\" class=\"dataframe\">\n",
       "  <thead>\n",
       "    <tr style=\"text-align: right;\">\n",
       "      <th></th>\n",
       "      <th>citycenters_nearest</th>\n",
       "      <th>last_price</th>\n",
       "    </tr>\n",
       "  </thead>\n",
       "  <tbody>\n",
       "    <tr>\n",
       "      <td>citycenters_nearest</td>\n",
       "      <td>1.000000</td>\n",
       "      <td>0.569949</td>\n",
       "    </tr>\n",
       "    <tr>\n",
       "      <td>last_price</td>\n",
       "      <td>0.569949</td>\n",
       "      <td>1.000000</td>\n",
       "    </tr>\n",
       "  </tbody>\n",
       "</table>\n",
       "</div>"
      ],
      "text/plain": [
       "                     citycenters_nearest  last_price\n",
       "citycenters_nearest             1.000000    0.569949\n",
       "last_price                      0.569949    1.000000"
      ]
     },
     "metadata": {},
     "output_type": "display_data"
    },
    {
     "data": {
      "image/png": "[encoded data removed]",
      "text/plain": [
       "<Figure size 360x360 with 1 Axes>"
      ]
     },
     "metadata": {
      "needs_background": "light"
     },
     "output_type": "display_data"
    }
   ],
   "source": [
    "(\n",
    "    centre_p.pivot_table(index='citycenters_nearest', values='last_price')\n",
    "    .plot(grid=True, style='o', figsize=(5, 5))\n",
    ")\n",
    "display(centre_p.pivot_table(index='floor', values=['citycenters_nearest', 'last_price']).corr())"
   ]
  },
  {
   "cell_type": "markdown",
   "id": "461cd092",
   "metadata": {},
   "source": [
    "**Четкой зависимости нет**\n",
    "\n",
    "- **Посмотрим на влияние даты размещения на стоимость квартир в центре Санкт-Петербурга:**"
   ]
  },
  {
   "cell_type": "code",
   "execution_count": 54,
   "id": "aa58e656",
   "metadata": {},
   "outputs": [
    {
     "data": {
      "image/png": "[encoded data removed]",
      "text/plain": [
       "<Figure size 720x360 with 1 Axes>"
      ]
     },
     "metadata": {
      "needs_background": "light"
     },
     "output_type": "display_data"
    },
    {
     "data": {
      "image/png": "[encoded data removed]",
      "text/plain": [
       "<Figure size 720x360 with 1 Axes>"
      ]
     },
     "metadata": {
      "needs_background": "light"
     },
     "output_type": "display_data"
    },
    {
     "data": {
      "image/png": "[encoded data removed]",
      "text/plain": [
       "<Figure size 720x360 with 1 Axes>"
      ]
     },
     "metadata": {
      "needs_background": "light"
     },
     "output_type": "display_data"
    }
   ],
   "source": [
    "# Зависимость от дня размещения\n",
    "(\n",
    "    centre_p.pivot_table(index='weekday', values='last_price')\n",
    "    .plot(grid=True, style='o-', figsize=(10, 5))\n",
    ")\n",
    "plt.show()\n",
    "# Зависимость от месяца размещения\n",
    "(\n",
    "    centre_p.pivot_table(index='month', values='last_price')\n",
    "    .plot(grid=True, style='o-', xlim=(1,12), figsize=(10, 5))\n",
    ")\n",
    "plt.show()\n",
    "# Зависимость от года размещения\n",
    "(\n",
    "    centre_p.pivot_table(index='year', values='last_price')\n",
    "    .plot(grid=True, style='o-', figsize=(10, 5))\n",
    ")\n",
    "plt.show()"
   ]
  },
  {
   "cell_type": "markdown",
   "id": "22383cf2",
   "metadata": {},
   "source": [
    "**Зависимость от дня размещения**\n",
    "- Видим обратную ситуацию, цена на пике в выходные, чем в будние дни.\n",
    "**Зависимость от месяца размещения**\n",
    "- В апреле и в декабре квартиры значительно дешевле, в другие месяцы стоимость держится на уровне.\n",
    "**Зависимость от года размещения**\n",
    "- Заметно, что скачек стоимости квартир в центре произошел в 2015 году, после 2016 года, стоимость чуть спала и зафиксировалась."
   ]
  },
  {
   "cell_type": "markdown",
   "id": "cc1c4534",
   "metadata": {},
   "source": [
    "## **Общий вывод:**"
   ]
  },
  {
   "cell_type": "markdown",
   "id": "c27caaa9",
   "metadata": {},
   "source": [
    "**Время продажи квартиры:**\n",
    "\n",
    "- Чаще всего квартиру продают за 70 дней. Быстро - 22 дня,а долго - больше 199 дней.\n",
    "- Присутствует большая часть квартир, проданных очень быстро, но также были и объявления, которые висят по несколько лет.\n",
    "\n",
    "**Факторы, влияющие на стоимость:**\n",
    "\n",
    "- На стоимость больше всего влияет отдаленность от центра и площадь квартиры.\n",
    "- Самая дешевая недвижимость находится на 1 этаже, самая дорогая не находится на первом\\последнем этаже.\n",
    "- Также можно заметить, что в центре Питера квартиры на последнем этаже значительно дороже и популярнее, нежели по общей базе. Это может быть связанно с более манящей архитектурой города.\n",
    "- Старт подорожания квартир начинается с 2018 года.\n",
    "\n",
    "**Стоимость квадратного метра в топ-10 населённых пунктов:**\n",
    "Самый дорогой м2 находится в Санкт-Петербурге - 103553\n",
    "Самый дешевый м2 находится в Выборге - 11309\n",
    "\n",
    "**Факторы, влияющие на стоимость в центре Санкт-Петербурга:**\n",
    "\n",
    "- В центре города нет зависимости удаленности к центру города.\n",
    "- В целом из-за более дорогого м2 стоимость жилья не так сильно растет от количества комнат, как вне центра.\n"
   ]
  }
 ],
 "metadata": {
  "ExecuteTimeLog": [
   {
    "duration": 413,
    "start_time": "2022-03-08T07:26:16.866Z"
   },
   {
    "duration": 1436,
    "start_time": "2022-03-08T07:26:20.349Z"
   },
   {
    "duration": 2626,
    "start_time": "2022-03-08T07:26:22.656Z"
   },
   {
    "duration": 100,
    "start_time": "2022-03-08T07:26:36.186Z"
   },
   {
    "duration": 15,
    "start_time": "2022-03-08T07:26:37.269Z"
   },
   {
    "duration": 83,
    "start_time": "2022-03-08T07:26:50.822Z"
   },
   {
    "duration": 4,
    "start_time": "2022-03-08T08:25:43.389Z"
   },
   {
    "duration": 2575,
    "start_time": "2022-03-08T08:25:43.396Z"
   },
   {
    "duration": -518,
    "start_time": "2022-03-08T08:25:46.492Z"
   },
   {
    "duration": -525,
    "start_time": "2022-03-08T08:25:46.500Z"
   },
   {
    "duration": -527,
    "start_time": "2022-03-08T08:25:46.503Z"
   },
   {
    "duration": -527,
    "start_time": "2022-03-08T08:25:46.505Z"
   },
   {
    "duration": -601,
    "start_time": "2022-03-08T08:25:46.580Z"
   },
   {
    "duration": -602,
    "start_time": "2022-03-08T08:25:46.582Z"
   },
   {
    "duration": -603,
    "start_time": "2022-03-08T08:25:46.585Z"
   },
   {
    "duration": -605,
    "start_time": "2022-03-08T08:25:46.588Z"
   },
   {
    "duration": -681,
    "start_time": "2022-03-08T08:25:46.666Z"
   },
   {
    "duration": -687,
    "start_time": "2022-03-08T08:25:46.673Z"
   },
   {
    "duration": -688,
    "start_time": "2022-03-08T08:25:46.675Z"
   },
   {
    "duration": -688,
    "start_time": "2022-03-08T08:25:46.677Z"
   },
   {
    "duration": -691,
    "start_time": "2022-03-08T08:25:46.681Z"
   },
   {
    "duration": -691,
    "start_time": "2022-03-08T08:25:46.683Z"
   },
   {
    "duration": -693,
    "start_time": "2022-03-08T08:25:46.686Z"
   },
   {
    "duration": -768,
    "start_time": "2022-03-08T08:25:46.763Z"
   },
   {
    "duration": 4,
    "start_time": "2022-03-08T08:26:12.267Z"
   },
   {
    "duration": 15,
    "start_time": "2022-03-08T08:26:12.274Z"
   },
   {
    "duration": 106,
    "start_time": "2022-03-08T08:26:12.292Z"
   },
   {
    "duration": 32,
    "start_time": "2022-03-08T08:26:12.401Z"
   },
   {
    "duration": 43,
    "start_time": "2022-03-08T08:26:12.436Z"
   },
   {
    "duration": 15,
    "start_time": "2022-03-08T08:26:12.482Z"
   },
   {
    "duration": 12,
    "start_time": "2022-03-08T08:26:12.541Z"
   },
   {
    "duration": 9,
    "start_time": "2022-03-08T08:26:12.556Z"
   },
   {
    "duration": 16,
    "start_time": "2022-03-08T08:26:12.568Z"
   },
   {
    "duration": 13,
    "start_time": "2022-03-08T08:26:12.586Z"
   },
   {
    "duration": 45,
    "start_time": "2022-03-08T08:26:12.602Z"
   },
   {
    "duration": 43,
    "start_time": "2022-03-08T08:26:12.652Z"
   },
   {
    "duration": 1966,
    "start_time": "2022-03-08T08:26:12.697Z"
   },
   {
    "duration": 2055,
    "start_time": "2022-03-08T08:26:14.666Z"
   },
   {
    "duration": 17,
    "start_time": "2022-03-08T08:26:16.724Z"
   },
   {
    "duration": 14,
    "start_time": "2022-03-08T08:26:16.744Z"
   },
   {
    "duration": 14,
    "start_time": "2022-03-08T08:26:16.760Z"
   },
   {
    "duration": 11,
    "start_time": "2022-03-08T08:26:16.776Z"
   },
   {
    "duration": 36,
    "start_time": "2022-03-08T08:26:19.416Z"
   },
   {
    "duration": 248,
    "start_time": "2022-03-08T08:26:24.944Z"
   },
   {
    "duration": 5,
    "start_time": "2022-03-08T08:30:30.434Z"
   },
   {
    "duration": 7,
    "start_time": "2022-03-08T08:30:30.442Z"
   },
   {
    "duration": 97,
    "start_time": "2022-03-08T08:30:30.452Z"
   },
   {
    "duration": 14,
    "start_time": "2022-03-08T08:30:30.552Z"
   },
   {
    "duration": 34,
    "start_time": "2022-03-08T08:30:30.569Z"
   },
   {
    "duration": 12,
    "start_time": "2022-03-08T08:30:30.633Z"
   },
   {
    "duration": 8,
    "start_time": "2022-03-08T08:30:30.647Z"
   },
   {
    "duration": 12,
    "start_time": "2022-03-08T08:30:30.659Z"
   },
   {
    "duration": 16,
    "start_time": "2022-03-08T08:30:30.674Z"
   },
   {
    "duration": 47,
    "start_time": "2022-03-08T08:30:30.693Z"
   },
   {
    "duration": 7,
    "start_time": "2022-03-08T08:30:30.742Z"
   },
   {
    "duration": 38,
    "start_time": "2022-03-08T08:30:30.751Z"
   },
   {
    "duration": 1845,
    "start_time": "2022-03-08T08:30:30.791Z"
   },
   {
    "duration": 2071,
    "start_time": "2022-03-08T08:30:32.638Z"
   },
   {
    "duration": 21,
    "start_time": "2022-03-08T08:30:34.711Z"
   },
   {
    "duration": 8,
    "start_time": "2022-03-08T08:30:34.734Z"
   },
   {
    "duration": 12,
    "start_time": "2022-03-08T08:30:34.745Z"
   },
   {
    "duration": 5,
    "start_time": "2022-03-08T08:30:34.760Z"
   },
   {
    "duration": 65,
    "start_time": "2022-03-08T08:30:34.767Z"
   },
   {
    "duration": 1121,
    "start_time": "2022-03-08T08:30:34.835Z"
   },
   {
    "duration": 4,
    "start_time": "2022-03-08T08:30:35.959Z"
   },
   {
    "duration": 7,
    "start_time": "2022-03-08T08:30:35.966Z"
   },
   {
    "duration": 703,
    "start_time": "2022-03-08T08:30:35.980Z"
   },
   {
    "duration": 230,
    "start_time": "2022-03-08T08:30:36.686Z"
   },
   {
    "duration": 21,
    "start_time": "2022-03-08T08:30:36.918Z"
   },
   {
    "duration": 794,
    "start_time": "2022-03-08T08:30:36.942Z"
   },
   {
    "duration": 328,
    "start_time": "2022-03-08T08:30:37.739Z"
   },
   {
    "duration": 14,
    "start_time": "2022-03-08T08:30:38.070Z"
   },
   {
    "duration": 749,
    "start_time": "2022-03-08T08:30:38.086Z"
   },
   {
    "duration": 662,
    "start_time": "2022-03-08T08:30:38.838Z"
   },
   {
    "duration": 2043,
    "start_time": "2022-03-08T08:30:39.503Z"
   },
   {
    "duration": 815,
    "start_time": "2022-03-08T08:30:41.548Z"
   },
   {
    "duration": 231,
    "start_time": "2022-03-08T08:30:42.365Z"
   },
   {
    "duration": 669,
    "start_time": "2022-03-08T08:30:42.599Z"
   },
   {
    "duration": 13,
    "start_time": "2022-03-08T08:30:43.271Z"
   },
   {
    "duration": 687,
    "start_time": "2022-03-08T08:30:43.286Z"
   },
   {
    "duration": 788,
    "start_time": "2022-03-08T08:30:43.977Z"
   },
   {
    "duration": 438,
    "start_time": "2022-03-08T08:30:44.767Z"
   },
   {
    "duration": 425,
    "start_time": "2022-03-08T08:30:45.209Z"
   },
   {
    "duration": 281,
    "start_time": "2022-03-08T08:30:45.636Z"
   },
   {
    "duration": 340,
    "start_time": "2022-03-08T08:30:45.920Z"
   },
   {
    "duration": 1115,
    "start_time": "2022-03-08T08:30:46.263Z"
   },
   {
    "duration": 57,
    "start_time": "2022-03-08T08:30:47.381Z"
   },
   {
    "duration": 20,
    "start_time": "2022-03-08T08:30:47.441Z"
   },
   {
    "duration": 333,
    "start_time": "2022-03-08T08:30:47.464Z"
   },
   {
    "duration": -45,
    "start_time": "2022-03-08T08:30:47.845Z"
   },
   {
    "duration": -56,
    "start_time": "2022-03-08T08:30:47.857Z"
   },
   {
    "duration": -57,
    "start_time": "2022-03-08T08:30:47.860Z"
   },
   {
    "duration": -59,
    "start_time": "2022-03-08T08:30:47.863Z"
   },
   {
    "duration": -59,
    "start_time": "2022-03-08T08:30:47.865Z"
   },
   {
    "duration": -61,
    "start_time": "2022-03-08T08:30:47.868Z"
   },
   {
    "duration": 5,
    "start_time": "2022-03-08T08:44:26.451Z"
   },
   {
    "duration": 13,
    "start_time": "2022-03-08T08:44:26.459Z"
   },
   {
    "duration": 103,
    "start_time": "2022-03-08T08:44:26.475Z"
   },
   {
    "duration": 15,
    "start_time": "2022-03-08T08:44:26.581Z"
   },
   {
    "duration": 51,
    "start_time": "2022-03-08T08:44:26.598Z"
   },
   {
    "duration": 24,
    "start_time": "2022-03-08T08:44:26.651Z"
   },
   {
    "duration": 9,
    "start_time": "2022-03-08T08:44:26.677Z"
   },
   {
    "duration": 8,
    "start_time": "2022-03-08T08:44:26.688Z"
   },
   {
    "duration": 56,
    "start_time": "2022-03-08T08:44:26.698Z"
   },
   {
    "duration": 11,
    "start_time": "2022-03-08T08:44:26.758Z"
   },
   {
    "duration": 14,
    "start_time": "2022-03-08T08:44:26.772Z"
   },
   {
    "duration": 68,
    "start_time": "2022-03-08T08:44:26.788Z"
   },
   {
    "duration": 2055,
    "start_time": "2022-03-08T08:44:26.858Z"
   },
   {
    "duration": 1832,
    "start_time": "2022-03-08T08:44:28.916Z"
   },
   {
    "duration": 12,
    "start_time": "2022-03-08T08:44:30.750Z"
   },
   {
    "duration": 9,
    "start_time": "2022-03-08T08:44:30.764Z"
   },
   {
    "duration": 19,
    "start_time": "2022-03-08T08:44:30.775Z"
   },
   {
    "duration": 43,
    "start_time": "2022-03-08T08:44:30.797Z"
   },
   {
    "duration": 37,
    "start_time": "2022-03-08T08:44:30.844Z"
   },
   {
    "duration": 1324,
    "start_time": "2022-03-08T08:44:30.885Z"
   },
   {
    "duration": 5,
    "start_time": "2022-03-08T08:44:32.211Z"
   },
   {
    "duration": 18,
    "start_time": "2022-03-08T08:44:32.219Z"
   },
   {
    "duration": 743,
    "start_time": "2022-03-08T08:44:32.240Z"
   },
   {
    "duration": 233,
    "start_time": "2022-03-08T08:44:32.986Z"
   },
   {
    "duration": 19,
    "start_time": "2022-03-08T08:44:33.221Z"
   },
   {
    "duration": 697,
    "start_time": "2022-03-08T08:44:33.243Z"
   },
   {
    "duration": 226,
    "start_time": "2022-03-08T08:44:33.947Z"
   },
   {
    "duration": 14,
    "start_time": "2022-03-08T08:44:34.176Z"
   },
   {
    "duration": 911,
    "start_time": "2022-03-08T08:44:34.195Z"
   },
   {
    "duration": 3150,
    "start_time": "2022-03-08T08:44:39.821Z"
   },
   {
    "duration": 116,
    "start_time": "2022-03-08T08:45:10.868Z"
   },
   {
    "duration": 21501,
    "start_time": "2022-03-08T08:45:14.302Z"
   },
   {
    "duration": 46,
    "start_time": "2022-03-08T08:46:32.833Z"
   },
   {
    "duration": 108,
    "start_time": "2022-03-08T08:46:53.824Z"
   },
   {
    "duration": 1399,
    "start_time": "2022-03-08T08:46:56.545Z"
   },
   {
    "duration": 108,
    "start_time": "2022-03-08T08:47:11.799Z"
   },
   {
    "duration": 385,
    "start_time": "2022-03-08T08:47:16.084Z"
   },
   {
    "duration": 354,
    "start_time": "2022-03-08T08:47:26.394Z"
   },
   {
    "duration": 362,
    "start_time": "2022-03-08T08:48:13.046Z"
   },
   {
    "duration": 425,
    "start_time": "2022-03-08T08:48:21.836Z"
   },
   {
    "duration": 42,
    "start_time": "2022-03-08T08:48:50.470Z"
   },
   {
    "duration": 55,
    "start_time": "2022-03-08T08:49:02.459Z"
   },
   {
    "duration": 378,
    "start_time": "2022-03-08T08:49:23.660Z"
   },
   {
    "duration": 116,
    "start_time": "2022-03-08T08:49:42.710Z"
   },
   {
    "duration": 61,
    "start_time": "2022-03-08T08:49:48.718Z"
   },
   {
    "duration": 19,
    "start_time": "2022-03-08T08:50:01.394Z"
   },
   {
    "duration": 357,
    "start_time": "2022-03-08T08:50:16.921Z"
   },
   {
    "duration": 57,
    "start_time": "2022-03-08T08:50:30.803Z"
   },
   {
    "duration": 2890,
    "start_time": "2022-03-08T08:50:42.546Z"
   },
   {
    "duration": 64,
    "start_time": "2022-03-08T08:50:55.028Z"
   },
   {
    "duration": 13,
    "start_time": "2022-03-08T08:51:20.925Z"
   },
   {
    "duration": 11,
    "start_time": "2022-03-08T08:51:24.873Z"
   },
   {
    "duration": 12,
    "start_time": "2022-03-08T09:12:08.074Z"
   },
   {
    "duration": 11,
    "start_time": "2022-03-08T09:12:17.513Z"
   },
   {
    "duration": 9,
    "start_time": "2022-03-08T09:28:34.101Z"
   },
   {
    "duration": 9,
    "start_time": "2022-03-08T09:29:21.430Z"
   },
   {
    "duration": 5,
    "start_time": "2022-03-08T09:29:36.901Z"
   },
   {
    "duration": 5,
    "start_time": "2022-03-08T09:29:36.909Z"
   },
   {
    "duration": 90,
    "start_time": "2022-03-08T09:29:36.917Z"
   },
   {
    "duration": 17,
    "start_time": "2022-03-08T09:29:37.009Z"
   },
   {
    "duration": 38,
    "start_time": "2022-03-08T09:29:37.028Z"
   },
   {
    "duration": 13,
    "start_time": "2022-03-08T09:29:37.070Z"
   },
   {
    "duration": 46,
    "start_time": "2022-03-08T09:29:37.086Z"
   },
   {
    "duration": 9,
    "start_time": "2022-03-08T09:29:37.135Z"
   },
   {
    "duration": 13,
    "start_time": "2022-03-08T09:29:37.147Z"
   },
   {
    "duration": 13,
    "start_time": "2022-03-08T09:29:37.164Z"
   },
   {
    "duration": 7,
    "start_time": "2022-03-08T09:29:37.180Z"
   },
   {
    "duration": 39,
    "start_time": "2022-03-08T09:29:37.234Z"
   },
   {
    "duration": 1875,
    "start_time": "2022-03-08T09:29:37.275Z"
   },
   {
    "duration": 1768,
    "start_time": "2022-03-08T09:29:39.153Z"
   },
   {
    "duration": 16,
    "start_time": "2022-03-08T09:29:40.924Z"
   },
   {
    "duration": 12,
    "start_time": "2022-03-08T09:29:40.943Z"
   },
   {
    "duration": 11,
    "start_time": "2022-03-08T09:29:40.958Z"
   },
   {
    "duration": 10,
    "start_time": "2022-03-08T09:29:40.971Z"
   },
   {
    "duration": 62,
    "start_time": "2022-03-08T09:29:40.983Z"
   },
   {
    "duration": 1176,
    "start_time": "2022-03-08T09:29:41.047Z"
   },
   {
    "duration": 9,
    "start_time": "2022-03-08T09:29:42.225Z"
   },
   {
    "duration": 16,
    "start_time": "2022-03-08T09:29:42.236Z"
   },
   {
    "duration": 731,
    "start_time": "2022-03-08T09:29:42.256Z"
   },
   {
    "duration": 317,
    "start_time": "2022-03-08T09:29:42.991Z"
   },
   {
    "duration": 30,
    "start_time": "2022-03-08T09:29:43.311Z"
   },
   {
    "duration": 842,
    "start_time": "2022-03-08T09:29:43.344Z"
   },
   {
    "duration": 235,
    "start_time": "2022-03-08T09:29:44.189Z"
   },
   {
    "duration": 17,
    "start_time": "2022-03-08T09:29:44.426Z"
   },
   {
    "duration": 822,
    "start_time": "2022-03-08T09:29:44.446Z"
   },
   {
    "duration": 886,
    "start_time": "2022-03-08T09:29:45.271Z"
   },
   {
    "duration": 2206,
    "start_time": "2022-03-08T09:29:46.160Z"
   },
   {
    "duration": 788,
    "start_time": "2022-03-08T09:29:48.368Z"
   },
   {
    "duration": 273,
    "start_time": "2022-03-08T09:29:49.159Z"
   },
   {
    "duration": 672,
    "start_time": "2022-03-08T09:29:49.436Z"
   },
   {
    "duration": 21,
    "start_time": "2022-03-08T09:29:50.111Z"
   },
   {
    "duration": 819,
    "start_time": "2022-03-08T09:29:50.135Z"
   },
   {
    "duration": 902,
    "start_time": "2022-03-08T09:29:50.956Z"
   },
   {
    "duration": 10,
    "start_time": "2022-03-08T09:29:56.072Z"
   },
   {
    "duration": 25,
    "start_time": "2022-03-08T09:30:10.046Z"
   },
   {
    "duration": 360,
    "start_time": "2022-03-08T09:42:29.381Z"
   },
   {
    "duration": 6,
    "start_time": "2022-03-08T09:42:52.080Z"
   },
   {
    "duration": 547,
    "start_time": "2022-03-08T09:58:48.744Z"
   },
   {
    "duration": -210,
    "start_time": "2022-03-08T09:58:49.504Z"
   },
   {
    "duration": 320,
    "start_time": "2022-03-08T09:58:49.550Z"
   },
   {
    "duration": -77,
    "start_time": "2022-03-08T09:58:49.949Z"
   },
   {
    "duration": 12066,
    "start_time": "2022-03-08T09:59:47.019Z"
   },
   {
    "duration": 410,
    "start_time": "2022-03-08T10:00:14.455Z"
   },
   {
    "duration": 273,
    "start_time": "2022-03-10T03:50:29.885Z"
   },
   {
    "duration": 1482,
    "start_time": "2022-03-10T03:50:43.173Z"
   },
   {
    "duration": 3,
    "start_time": "2022-03-10T03:50:44.658Z"
   },
   {
    "duration": 86,
    "start_time": "2022-03-10T03:50:44.664Z"
   },
   {
    "duration": 14,
    "start_time": "2022-03-10T03:50:44.753Z"
   },
   {
    "duration": 41,
    "start_time": "2022-03-10T03:50:44.770Z"
   },
   {
    "duration": 11,
    "start_time": "2022-03-10T03:50:44.813Z"
   },
   {
    "duration": 8,
    "start_time": "2022-03-10T03:50:44.826Z"
   },
   {
    "duration": 9,
    "start_time": "2022-03-10T03:50:44.837Z"
   },
   {
    "duration": 13,
    "start_time": "2022-03-10T03:50:44.849Z"
   },
   {
    "duration": 27,
    "start_time": "2022-03-10T03:50:44.865Z"
   },
   {
    "duration": 4,
    "start_time": "2022-03-10T03:50:44.895Z"
   },
   {
    "duration": 44,
    "start_time": "2022-03-10T03:50:44.901Z"
   },
   {
    "duration": 1981,
    "start_time": "2022-03-10T03:50:44.947Z"
   },
   {
    "duration": 1675,
    "start_time": "2022-03-10T03:50:46.930Z"
   },
   {
    "duration": 11,
    "start_time": "2022-03-10T03:50:48.607Z"
   },
   {
    "duration": 9,
    "start_time": "2022-03-10T03:50:48.621Z"
   },
   {
    "duration": 14,
    "start_time": "2022-03-10T03:50:48.632Z"
   },
   {
    "duration": 35,
    "start_time": "2022-03-10T03:50:48.648Z"
   },
   {
    "duration": 31,
    "start_time": "2022-03-10T03:50:48.685Z"
   },
   {
    "duration": 1007,
    "start_time": "2022-03-10T03:50:48.719Z"
   },
   {
    "duration": 5,
    "start_time": "2022-03-10T03:50:49.728Z"
   },
   {
    "duration": 8,
    "start_time": "2022-03-10T03:50:49.736Z"
   },
   {
    "duration": 711,
    "start_time": "2022-03-10T03:50:49.749Z"
   },
   {
    "duration": 224,
    "start_time": "2022-03-10T03:50:50.464Z"
   },
   {
    "duration": 15,
    "start_time": "2022-03-10T03:50:50.690Z"
   },
   {
    "duration": 657,
    "start_time": "2022-03-10T03:50:50.707Z"
   },
   {
    "duration": 232,
    "start_time": "2022-03-10T03:50:51.366Z"
   },
   {
    "duration": 14,
    "start_time": "2022-03-10T03:50:51.601Z"
   },
   {
    "duration": 694,
    "start_time": "2022-03-10T03:50:51.618Z"
   },
   {
    "duration": 651,
    "start_time": "2022-03-10T03:50:52.315Z"
   },
   {
    "duration": 1927,
    "start_time": "2022-03-10T03:50:52.968Z"
   },
   {
    "duration": 677,
    "start_time": "2022-03-10T03:50:54.897Z"
   },
   {
    "duration": 323,
    "start_time": "2022-03-10T03:50:55.577Z"
   },
   {
    "duration": 643,
    "start_time": "2022-03-10T03:50:55.902Z"
   },
   {
    "duration": 14,
    "start_time": "2022-03-10T03:50:56.547Z"
   },
   {
    "duration": 656,
    "start_time": "2022-03-10T03:50:56.563Z"
   },
   {
    "duration": 664,
    "start_time": "2022-03-10T03:50:57.221Z"
   },
   {
    "duration": 326,
    "start_time": "2022-03-10T03:50:57.888Z"
   },
   {
    "duration": 317,
    "start_time": "2022-03-10T03:50:58.217Z"
   },
   {
    "duration": 324,
    "start_time": "2022-03-10T03:50:58.537Z"
   },
   {
    "duration": 330,
    "start_time": "2022-03-10T03:50:58.863Z"
   },
   {
    "duration": 1100,
    "start_time": "2022-03-10T03:50:59.195Z"
   },
   {
    "duration": 35,
    "start_time": "2022-03-10T03:51:00.297Z"
   },
   {
    "duration": 18,
    "start_time": "2022-03-10T03:51:00.334Z"
   },
   {
    "duration": 381,
    "start_time": "2022-03-10T03:51:00.383Z"
   },
   {
    "duration": 161,
    "start_time": "2022-03-10T03:51:00.605Z"
   },
   {
    "duration": 158,
    "start_time": "2022-03-10T03:51:00.610Z"
   },
   {
    "duration": 156,
    "start_time": "2022-03-10T03:51:00.613Z"
   },
   {
    "duration": 156,
    "start_time": "2022-03-10T03:51:00.615Z"
   },
   {
    "duration": 154,
    "start_time": "2022-03-10T03:51:00.618Z"
   },
   {
    "duration": 152,
    "start_time": "2022-03-10T03:51:00.621Z"
   },
   {
    "duration": 14,
    "start_time": "2022-03-10T03:51:39.452Z"
   },
   {
    "duration": 217,
    "start_time": "2022-03-10T03:54:06.046Z"
   },
   {
    "duration": 65,
    "start_time": "2022-03-10T03:54:54.512Z"
   },
   {
    "duration": 5318,
    "start_time": "2022-03-10T03:54:57.713Z"
   },
   {
    "duration": 8,
    "start_time": "2022-03-10T03:55:20.595Z"
   },
   {
    "duration": 6,
    "start_time": "2022-03-10T03:55:48.493Z"
   },
   {
    "duration": 5733,
    "start_time": "2022-03-10T03:56:01.482Z"
   },
   {
    "duration": 48,
    "start_time": "2022-03-10T04:08:55.619Z"
   },
   {
    "duration": 53,
    "start_time": "2022-03-10T04:09:29.906Z"
   },
   {
    "duration": 37,
    "start_time": "2022-03-10T04:09:53.974Z"
   },
   {
    "duration": 46,
    "start_time": "2022-03-10T04:09:59.373Z"
   },
   {
    "duration": 5212,
    "start_time": "2022-03-10T04:12:23.070Z"
   },
   {
    "duration": 7,
    "start_time": "2022-03-10T04:12:39.236Z"
   },
   {
    "duration": 866,
    "start_time": "2022-03-10T04:13:25.165Z"
   },
   {
    "duration": 7,
    "start_time": "2022-03-10T04:17:14.167Z"
   },
   {
    "duration": 218,
    "start_time": "2022-03-10T04:17:22.041Z"
   },
   {
    "duration": 213,
    "start_time": "2022-03-10T04:17:25.889Z"
   },
   {
    "duration": 215,
    "start_time": "2022-03-10T04:17:43.926Z"
   },
   {
    "duration": 221,
    "start_time": "2022-03-10T04:17:55.497Z"
   },
   {
    "duration": 7,
    "start_time": "2022-03-10T04:19:53.352Z"
   },
   {
    "duration": 13,
    "start_time": "2022-03-10T04:20:02.046Z"
   },
   {
    "duration": 81,
    "start_time": "2022-03-10T04:20:40.050Z"
   },
   {
    "duration": 26,
    "start_time": "2022-03-10T04:21:02.665Z"
   },
   {
    "duration": 18,
    "start_time": "2022-03-10T04:24:45.028Z"
   },
   {
    "duration": 13,
    "start_time": "2022-03-10T04:24:46.272Z"
   },
   {
    "duration": 236,
    "start_time": "2022-03-10T04:28:10.358Z"
   },
   {
    "duration": 42,
    "start_time": "2022-03-10T04:28:55.524Z"
   },
   {
    "duration": 14,
    "start_time": "2022-03-10T04:29:54.589Z"
   },
   {
    "duration": 218,
    "start_time": "2022-03-10T04:31:29.628Z"
   },
   {
    "duration": 263,
    "start_time": "2022-03-10T04:31:51.669Z"
   },
   {
    "duration": 232,
    "start_time": "2022-03-10T04:31:58.764Z"
   },
   {
    "duration": 213,
    "start_time": "2022-03-10T04:32:27.335Z"
   },
   {
    "duration": 230,
    "start_time": "2022-03-10T04:32:32.165Z"
   },
   {
    "duration": 7,
    "start_time": "2022-03-10T04:32:50.344Z"
   },
   {
    "duration": 433,
    "start_time": "2022-03-10T04:32:52.649Z"
   },
   {
    "duration": 215,
    "start_time": "2022-03-10T04:33:26.801Z"
   },
   {
    "duration": 235,
    "start_time": "2022-03-10T04:33:30.472Z"
   },
   {
    "duration": 8,
    "start_time": "2022-03-10T04:35:25.949Z"
   },
   {
    "duration": 332,
    "start_time": "2022-03-10T04:35:27.750Z"
   },
   {
    "duration": 1347,
    "start_time": "2022-03-10T04:38:21.612Z"
   },
   {
    "duration": 3,
    "start_time": "2022-03-10T04:38:22.962Z"
   },
   {
    "duration": 104,
    "start_time": "2022-03-10T04:38:22.969Z"
   },
   {
    "duration": 17,
    "start_time": "2022-03-10T04:38:23.076Z"
   },
   {
    "duration": 36,
    "start_time": "2022-03-10T04:38:23.095Z"
   },
   {
    "duration": 17,
    "start_time": "2022-03-10T04:38:23.133Z"
   },
   {
    "duration": 30,
    "start_time": "2022-03-10T04:38:23.152Z"
   },
   {
    "duration": 34,
    "start_time": "2022-03-10T04:38:23.186Z"
   },
   {
    "duration": 30,
    "start_time": "2022-03-10T04:38:23.223Z"
   },
   {
    "duration": 32,
    "start_time": "2022-03-10T04:38:23.256Z"
   },
   {
    "duration": 19,
    "start_time": "2022-03-10T04:38:23.291Z"
   },
   {
    "duration": 55,
    "start_time": "2022-03-10T04:38:23.312Z"
   },
   {
    "duration": 1789,
    "start_time": "2022-03-10T04:38:23.370Z"
   },
   {
    "duration": 1911,
    "start_time": "2022-03-10T04:38:25.161Z"
   },
   {
    "duration": 16,
    "start_time": "2022-03-10T04:38:27.074Z"
   },
   {
    "duration": 33,
    "start_time": "2022-03-10T04:38:27.092Z"
   },
   {
    "duration": 38,
    "start_time": "2022-03-10T04:38:27.128Z"
   },
   {
    "duration": 19,
    "start_time": "2022-03-10T04:38:27.169Z"
   },
   {
    "duration": 49,
    "start_time": "2022-03-10T04:38:27.190Z"
   },
   {
    "duration": 983,
    "start_time": "2022-03-10T04:38:27.242Z"
   },
   {
    "duration": 6,
    "start_time": "2022-03-10T04:38:28.227Z"
   },
   {
    "duration": 34,
    "start_time": "2022-03-10T04:38:28.235Z"
   },
   {
    "duration": 738,
    "start_time": "2022-03-10T04:38:28.274Z"
   },
   {
    "duration": 233,
    "start_time": "2022-03-10T04:38:29.015Z"
   },
   {
    "duration": 30,
    "start_time": "2022-03-10T04:38:29.252Z"
   },
   {
    "duration": 655,
    "start_time": "2022-03-10T04:38:29.285Z"
   },
   {
    "duration": 243,
    "start_time": "2022-03-10T04:38:29.943Z"
   },
   {
    "duration": 16,
    "start_time": "2022-03-10T04:38:30.190Z"
   },
   {
    "duration": 700,
    "start_time": "2022-03-10T04:38:30.209Z"
   },
   {
    "duration": 764,
    "start_time": "2022-03-10T04:38:30.912Z"
   },
   {
    "duration": 1908,
    "start_time": "2022-03-10T04:38:31.682Z"
   },
   {
    "duration": 776,
    "start_time": "2022-03-10T04:38:33.593Z"
   },
   {
    "duration": 315,
    "start_time": "2022-03-10T04:38:34.372Z"
   },
   {
    "duration": 637,
    "start_time": "2022-03-10T04:38:34.689Z"
   },
   {
    "duration": 12,
    "start_time": "2022-03-10T04:38:35.329Z"
   },
   {
    "duration": 652,
    "start_time": "2022-03-10T04:38:35.344Z"
   },
   {
    "duration": 675,
    "start_time": "2022-03-10T04:38:35.998Z"
   },
   {
    "duration": 326,
    "start_time": "2022-03-10T04:38:36.683Z"
   },
   {
    "duration": 323,
    "start_time": "2022-03-10T04:38:37.011Z"
   },
   {
    "duration": 301,
    "start_time": "2022-03-10T04:38:37.337Z"
   },
   {
    "duration": 323,
    "start_time": "2022-03-10T04:38:37.641Z"
   },
   {
    "duration": 1106,
    "start_time": "2022-03-10T04:38:37.966Z"
   },
   {
    "duration": 32,
    "start_time": "2022-03-10T04:38:39.082Z"
   },
   {
    "duration": 11,
    "start_time": "2022-03-10T04:38:39.116Z"
   },
   {
    "duration": 18,
    "start_time": "2022-03-10T04:38:39.129Z"
   },
   {
    "duration": 38,
    "start_time": "2022-03-10T04:38:39.150Z"
   },
   {
    "duration": 12,
    "start_time": "2022-03-10T04:38:39.190Z"
   },
   {
    "duration": 365,
    "start_time": "2022-03-10T04:38:39.204Z"
   },
   {
    "duration": 17,
    "start_time": "2022-03-10T04:38:39.571Z"
   },
   {
    "duration": 2654,
    "start_time": "2022-03-10T04:38:39.591Z"
   },
   {
    "duration": 328,
    "start_time": "2022-03-10T04:38:42.248Z"
   },
   {
    "duration": 410,
    "start_time": "2022-03-10T04:38:42.582Z"
   },
   {
    "duration": 349,
    "start_time": "2022-03-10T04:38:42.995Z"
   },
   {
    "duration": 1073,
    "start_time": "2022-03-10T04:38:43.347Z"
   },
   {
    "duration": 299,
    "start_time": "2022-03-10T04:48:33.744Z"
   }
  ],
  "kernelspec": {
   "display_name": "Python 3 (ipykernel)",
   "language": "python",
   "name": "python3"
  },
  "language_info": {
   "codemirror_mode": {
    "name": "ipython",
    "version": 3
   },
   "file_extension": ".py",
   "mimetype": "text/x-python",
   "name": "python",
   "nbconvert_exporter": "python",
   "pygments_lexer": "ipython3",
   "version": "3.9.13"
  },
  "latex_envs": {
   "LaTeX_envs_menu_present": true,
   "autoclose": false,
   "autocomplete": true,
   "bibliofile": "biblio.bib",
   "cite_by": "apalike",
   "current_citInitial": 1,
   "eqLabelWithNumbers": true,
   "eqNumInitial": 1,
   "hotkeys": {
    "equation": "Ctrl-E",
    "itemize": "Ctrl-I"
   },
   "labels_anchors": false,
   "latex_user_defs": false,
   "report_style_numbering": false,
   "user_envs_cfg": false
  },
  "toc": {
   "base_numbering": "1.0",
   "nav_menu": {},
   "number_sections": true,
   "sideBar": true,
   "skip_h1_title": false,
   "title_cell": "Table of Contents",
   "title_sidebar": "Contents",
   "toc_cell": false,
   "toc_position": {
    "height": "calc(100% - 180px)",
    "left": "10px",
    "top": "150px",
    "width": "394px"
   },
   "toc_section_display": true,
   "toc_window_display": true
  }
 },
 "nbformat": 4,
 "nbformat_minor": 5
}
