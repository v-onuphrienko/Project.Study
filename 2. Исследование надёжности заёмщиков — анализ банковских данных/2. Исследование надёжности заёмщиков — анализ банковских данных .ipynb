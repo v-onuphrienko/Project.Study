{
 "cells": [
  {
   "cell_type": "markdown",
   "id": "f2bbc6ef",
   "metadata": {},
   "source": [
    "## **Обзор данных**"
   ]
  },
  {
   "cell_type": "markdown",
   "id": "5c27853c",
   "metadata": {},
   "source": [
    "**Данные:**"
   ]
  },
  {
   "cell_type": "markdown",
   "id": "18878fe4",
   "metadata": {},
   "source": [
    "`children` — количество детей в семье\n",
    "\n",
    "`days_employed` — общий трудовой стаж в днях\n",
    "\n",
    "`dob_years` — возраст клиента в годах\n",
    "\n",
    "`education` — уровень образования клиента\n",
    "\n",
    "`education_id` — идентификатор уровня образования\n",
    "\n",
    "`family_status` — семейное положение\n",
    "\n",
    "`family_status_id` — идентификатор семейного положения\n",
    "\n",
    "`gender` — пол клиента\n",
    "\n",
    "`income_type` — тип занятости\n",
    "\n",
    "`debt` — имел ли задолженность по возврату кредитов\n",
    "\n",
    "`total_income` — ежемесячный доход\n",
    "\n",
    "`purpose` — цель получения кредита"
   ]
  },
  {
   "cell_type": "code",
   "execution_count": 1,
   "id": "af4081fa",
   "metadata": {},
   "outputs": [],
   "source": [
    "import pandas as pd\n",
    "from pymystem3 import Mystem"
   ]
  },
  {
   "cell_type": "code",
   "execution_count": 2,
   "id": "f1a0749a",
   "metadata": {},
   "outputs": [],
   "source": [
    "try:\n",
    "    data = (\n",
    "    pd.read_csv(\"D:/datasets/data.csv\") \n",
    ")\n",
    "except FileNotFoundError:\n",
    "    print(\"File not found.\")\n",
    "except pd.errors.EmptyDataError:\n",
    "    print(\"No data\")\n",
    "except pd.errors.ParserError:\n",
    "    print(\"Parse error\")\n",
    "except Exception:\n",
    "    print(\"Some other exception\")"
   ]
  },
  {
   "cell_type": "code",
   "execution_count": 3,
   "id": "35f4e801",
   "metadata": {},
   "outputs": [
    {
     "name": "stdout",
     "output_type": "stream",
     "text": [
      "<class 'pandas.core.frame.DataFrame'>\n",
      "RangeIndex: 21525 entries, 0 to 21524\n",
      "Data columns (total 12 columns):\n",
      " #   Column            Non-Null Count  Dtype  \n",
      "---  ------            --------------  -----  \n",
      " 0   children          21525 non-null  int64  \n",
      " 1   days_employed     19351 non-null  float64\n",
      " 2   dob_years         21525 non-null  int64  \n",
      " 3   education         21525 non-null  object \n",
      " 4   education_id      21525 non-null  int64  \n",
      " 5   family_status     21525 non-null  object \n",
      " 6   family_status_id  21525 non-null  int64  \n",
      " 7   gender            21525 non-null  object \n",
      " 8   income_type       21525 non-null  object \n",
      " 9   debt              21525 non-null  int64  \n",
      " 10  total_income      19351 non-null  float64\n",
      " 11  purpose           21525 non-null  object \n",
      "dtypes: float64(2), int64(5), object(5)\n",
      "memory usage: 2.0+ MB\n"
     ]
    }
   ],
   "source": [
    "data.info()"
   ]
  },
  {
   "cell_type": "code",
   "execution_count": 4,
   "id": "de34c954",
   "metadata": {},
   "outputs": [
    {
     "data": {
      "text/html": [
       "<div>\n",
       "<style scoped>\n",
       "    .dataframe tbody tr th:only-of-type {\n",
       "        vertical-align: middle;\n",
       "    }\n",
       "\n",
       "    .dataframe tbody tr th {\n",
       "        vertical-align: top;\n",
       "    }\n",
       "\n",
       "    .dataframe thead th {\n",
       "        text-align: right;\n",
       "    }\n",
       "</style>\n",
       "<table border=\"1\" class=\"dataframe\">\n",
       "  <thead>\n",
       "    <tr style=\"text-align: right;\">\n",
       "      <th></th>\n",
       "      <th>children</th>\n",
       "      <th>days_employed</th>\n",
       "      <th>dob_years</th>\n",
       "      <th>education</th>\n",
       "      <th>education_id</th>\n",
       "      <th>family_status</th>\n",
       "      <th>family_status_id</th>\n",
       "      <th>gender</th>\n",
       "      <th>income_type</th>\n",
       "      <th>debt</th>\n",
       "      <th>total_income</th>\n",
       "      <th>purpose</th>\n",
       "    </tr>\n",
       "  </thead>\n",
       "  <tbody>\n",
       "    <tr>\n",
       "      <td>0</td>\n",
       "      <td>1</td>\n",
       "      <td>-8437.673028</td>\n",
       "      <td>42</td>\n",
       "      <td>высшее</td>\n",
       "      <td>0</td>\n",
       "      <td>женат / замужем</td>\n",
       "      <td>0</td>\n",
       "      <td>F</td>\n",
       "      <td>сотрудник</td>\n",
       "      <td>0</td>\n",
       "      <td>253875.639453</td>\n",
       "      <td>покупка жилья</td>\n",
       "    </tr>\n",
       "    <tr>\n",
       "      <td>1</td>\n",
       "      <td>1</td>\n",
       "      <td>-4024.803754</td>\n",
       "      <td>36</td>\n",
       "      <td>среднее</td>\n",
       "      <td>1</td>\n",
       "      <td>женат / замужем</td>\n",
       "      <td>0</td>\n",
       "      <td>F</td>\n",
       "      <td>сотрудник</td>\n",
       "      <td>0</td>\n",
       "      <td>112080.014102</td>\n",
       "      <td>приобретение автомобиля</td>\n",
       "    </tr>\n",
       "    <tr>\n",
       "      <td>2</td>\n",
       "      <td>0</td>\n",
       "      <td>-5623.422610</td>\n",
       "      <td>33</td>\n",
       "      <td>Среднее</td>\n",
       "      <td>1</td>\n",
       "      <td>женат / замужем</td>\n",
       "      <td>0</td>\n",
       "      <td>M</td>\n",
       "      <td>сотрудник</td>\n",
       "      <td>0</td>\n",
       "      <td>145885.952297</td>\n",
       "      <td>покупка жилья</td>\n",
       "    </tr>\n",
       "    <tr>\n",
       "      <td>3</td>\n",
       "      <td>3</td>\n",
       "      <td>-4124.747207</td>\n",
       "      <td>32</td>\n",
       "      <td>среднее</td>\n",
       "      <td>1</td>\n",
       "      <td>женат / замужем</td>\n",
       "      <td>0</td>\n",
       "      <td>M</td>\n",
       "      <td>сотрудник</td>\n",
       "      <td>0</td>\n",
       "      <td>267628.550329</td>\n",
       "      <td>дополнительное образование</td>\n",
       "    </tr>\n",
       "    <tr>\n",
       "      <td>4</td>\n",
       "      <td>0</td>\n",
       "      <td>340266.072047</td>\n",
       "      <td>53</td>\n",
       "      <td>среднее</td>\n",
       "      <td>1</td>\n",
       "      <td>гражданский брак</td>\n",
       "      <td>1</td>\n",
       "      <td>F</td>\n",
       "      <td>пенсионер</td>\n",
       "      <td>0</td>\n",
       "      <td>158616.077870</td>\n",
       "      <td>сыграть свадьбу</td>\n",
       "    </tr>\n",
       "    <tr>\n",
       "      <td>5</td>\n",
       "      <td>0</td>\n",
       "      <td>-926.185831</td>\n",
       "      <td>27</td>\n",
       "      <td>высшее</td>\n",
       "      <td>0</td>\n",
       "      <td>гражданский брак</td>\n",
       "      <td>1</td>\n",
       "      <td>M</td>\n",
       "      <td>компаньон</td>\n",
       "      <td>0</td>\n",
       "      <td>255763.565419</td>\n",
       "      <td>покупка жилья</td>\n",
       "    </tr>\n",
       "    <tr>\n",
       "      <td>6</td>\n",
       "      <td>0</td>\n",
       "      <td>-2879.202052</td>\n",
       "      <td>43</td>\n",
       "      <td>высшее</td>\n",
       "      <td>0</td>\n",
       "      <td>женат / замужем</td>\n",
       "      <td>0</td>\n",
       "      <td>F</td>\n",
       "      <td>компаньон</td>\n",
       "      <td>0</td>\n",
       "      <td>240525.971920</td>\n",
       "      <td>операции с жильем</td>\n",
       "    </tr>\n",
       "    <tr>\n",
       "      <td>7</td>\n",
       "      <td>0</td>\n",
       "      <td>-152.779569</td>\n",
       "      <td>50</td>\n",
       "      <td>СРЕДНЕЕ</td>\n",
       "      <td>1</td>\n",
       "      <td>женат / замужем</td>\n",
       "      <td>0</td>\n",
       "      <td>M</td>\n",
       "      <td>сотрудник</td>\n",
       "      <td>0</td>\n",
       "      <td>135823.934197</td>\n",
       "      <td>образование</td>\n",
       "    </tr>\n",
       "    <tr>\n",
       "      <td>8</td>\n",
       "      <td>2</td>\n",
       "      <td>-6929.865299</td>\n",
       "      <td>35</td>\n",
       "      <td>ВЫСШЕЕ</td>\n",
       "      <td>0</td>\n",
       "      <td>гражданский брак</td>\n",
       "      <td>1</td>\n",
       "      <td>F</td>\n",
       "      <td>сотрудник</td>\n",
       "      <td>0</td>\n",
       "      <td>95856.832424</td>\n",
       "      <td>на проведение свадьбы</td>\n",
       "    </tr>\n",
       "    <tr>\n",
       "      <td>9</td>\n",
       "      <td>0</td>\n",
       "      <td>-2188.756445</td>\n",
       "      <td>41</td>\n",
       "      <td>среднее</td>\n",
       "      <td>1</td>\n",
       "      <td>женат / замужем</td>\n",
       "      <td>0</td>\n",
       "      <td>M</td>\n",
       "      <td>сотрудник</td>\n",
       "      <td>0</td>\n",
       "      <td>144425.938277</td>\n",
       "      <td>покупка жилья для семьи</td>\n",
       "    </tr>\n",
       "  </tbody>\n",
       "</table>\n",
       "</div>"
      ],
      "text/plain": [
       "   children  days_employed  dob_years education  education_id  \\\n",
       "0         1   -8437.673028         42    высшее             0   \n",
       "1         1   -4024.803754         36   среднее             1   \n",
       "2         0   -5623.422610         33   Среднее             1   \n",
       "3         3   -4124.747207         32   среднее             1   \n",
       "4         0  340266.072047         53   среднее             1   \n",
       "5         0    -926.185831         27    высшее             0   \n",
       "6         0   -2879.202052         43    высшее             0   \n",
       "7         0    -152.779569         50   СРЕДНЕЕ             1   \n",
       "8         2   -6929.865299         35    ВЫСШЕЕ             0   \n",
       "9         0   -2188.756445         41   среднее             1   \n",
       "\n",
       "      family_status  family_status_id gender income_type  debt   total_income  \\\n",
       "0   женат / замужем                 0      F   сотрудник     0  253875.639453   \n",
       "1   женат / замужем                 0      F   сотрудник     0  112080.014102   \n",
       "2   женат / замужем                 0      M   сотрудник     0  145885.952297   \n",
       "3   женат / замужем                 0      M   сотрудник     0  267628.550329   \n",
       "4  гражданский брак                 1      F   пенсионер     0  158616.077870   \n",
       "5  гражданский брак                 1      M   компаньон     0  255763.565419   \n",
       "6   женат / замужем                 0      F   компаньон     0  240525.971920   \n",
       "7   женат / замужем                 0      M   сотрудник     0  135823.934197   \n",
       "8  гражданский брак                 1      F   сотрудник     0   95856.832424   \n",
       "9   женат / замужем                 0      M   сотрудник     0  144425.938277   \n",
       "\n",
       "                      purpose  \n",
       "0               покупка жилья  \n",
       "1     приобретение автомобиля  \n",
       "2               покупка жилья  \n",
       "3  дополнительное образование  \n",
       "4             сыграть свадьбу  \n",
       "5               покупка жилья  \n",
       "6           операции с жильем  \n",
       "7                 образование  \n",
       "8       на проведение свадьбы  \n",
       "9     покупка жилья для семьи  "
      ]
     },
     "execution_count": 4,
     "metadata": {},
     "output_type": "execute_result"
    }
   ],
   "source": [
    "data.head(10)"
   ]
  },
  {
   "cell_type": "markdown",
   "id": "0c26ae76",
   "metadata": {},
   "source": [
    "**Из описания данных и первых 10 строк видно, что перед тем как приступать к анализу данных, необходимо совершеть предобработку файлов, разобраться со значениями столбца `days_employed`, `education`, а также проверить датасет на возможные пропуски/отсутствие значений.**\n",
    "\n",
    "**`total_income` необходимо перевести в целочисленные строки для более комфортного и реалистичного подсчета значений!**"
   ]
  },
  {
   "cell_type": "markdown",
   "id": "ba42ed5d",
   "metadata": {},
   "source": [
    "## **Предобработка данных:**"
   ]
  },
  {
   "cell_type": "markdown",
   "id": "59ae57b4",
   "metadata": {},
   "source": [
    "### Поиск артефактов/пропусков"
   ]
  },
  {
   "cell_type": "markdown",
   "id": "2abc036f",
   "metadata": {},
   "source": [
    "**Найдем столбцы с пропущенными значениями, и заполним медианным значением по столбцу:**"
   ]
  },
  {
   "cell_type": "code",
   "execution_count": 5,
   "id": "6be97f6a",
   "metadata": {},
   "outputs": [
    {
     "data": {
      "text/plain": [
       "children               0\n",
       "days_employed       2174\n",
       "dob_years              0\n",
       "education              0\n",
       "education_id           0\n",
       "family_status          0\n",
       "family_status_id       0\n",
       "gender                 0\n",
       "income_type            0\n",
       "debt                   0\n",
       "total_income        2174\n",
       "purpose                0\n",
       "dtype: int64"
      ]
     },
     "execution_count": 5,
     "metadata": {},
     "output_type": "execute_result"
    }
   ],
   "source": [
    "data.isnull().sum()"
   ]
  },
  {
   "cell_type": "code",
   "execution_count": 6,
   "id": "0253d9ed",
   "metadata": {},
   "outputs": [
    {
     "data": {
      "text/plain": [
       "'Пропущенные значения составляют: 10.1%'"
      ]
     },
     "metadata": {},
     "output_type": "display_data"
    }
   ],
   "source": [
    "miss_days_employed = (data['days_employed'].isnull().sum() / len(data['days_employed']))\n",
    "display('Пропущенные значения составляют: {:.1%}' .format(miss_days_employed))"
   ]
  },
  {
   "cell_type": "markdown",
   "id": "3b1279e5",
   "metadata": {},
   "source": [
    "**Также мы видим, что присутвуют отрицательные значения, чего быть не должно, заменим данные на положительные с помощью метода `abs()`.** \n",
    "\n",
    "**Также заменим пропуски медианным значением**"
   ]
  },
  {
   "cell_type": "code",
   "execution_count": 7,
   "id": "480db3f1",
   "metadata": {},
   "outputs": [],
   "source": [
    "data['days_employed'] = data['days_employed'].abs()"
   ]
  },
  {
   "cell_type": "markdown",
   "id": "0a2eb45c",
   "metadata": {},
   "source": [
    "**Проверим минимальное значение**"
   ]
  },
  {
   "cell_type": "code",
   "execution_count": 8,
   "id": "38572206",
   "metadata": {},
   "outputs": [
    {
     "data": {
      "text/plain": [
       "24.14163324048118"
      ]
     },
     "execution_count": 8,
     "metadata": {},
     "output_type": "execute_result"
    }
   ],
   "source": [
    "data['days_employed'].min()"
   ]
  },
  {
   "cell_type": "markdown",
   "id": "ebf63df7",
   "metadata": {},
   "source": [
    "**В столбце days_employed найдены пропуски и артефакты - в некоторых случаях стаж отрицательный, в остальных он неправдоподобно большой. Скорее всего, база данных была ошибочно заполнена, либо данные были неправильно извлечены. Заменим отрицательные значения на полодительные, и составим функцию учитывающую пол и возраст выхода на пенсию.**"
   ]
  },
  {
   "cell_type": "code",
   "execution_count": 9,
   "id": "24e2fd2a",
   "metadata": {},
   "outputs": [],
   "source": [
    "data['days_employed'] = data['days_employed'].fillna(data['days_employed'].median())"
   ]
  },
  {
   "cell_type": "markdown",
   "id": "5954b2ae",
   "metadata": {},
   "source": [
    "**Заполняем пропуски столбца `уровня дохода` медианным значение для соответвующего типа занятости:**"
   ]
  },
  {
   "cell_type": "code",
   "execution_count": 10,
   "id": "761c776b",
   "metadata": {},
   "outputs": [],
   "source": [
    "data['total_income'] = data.groupby('income_type')['total_income'].transform(lambda x: x.fillna(x.median()))"
   ]
  },
  {
   "cell_type": "markdown",
   "id": "61e7279e",
   "metadata": {},
   "source": [
    "**Среднее** - это среднее значение набора данных, а **медиана** - это центральное числовое значение набора данных. Используем медиану, т.к. среднее значение из-за разброса min и max значений может дать неоднозначную сумму:\n",
    "\n",
    "**e.g.** 2,20,100: `медиана` будет равняться 20, а `среднее` значение = 66. В нашем случае, лучше воспользоваться `медианой` т.к. помимо пропусков, в данных есть аномальные значения, о которых я расскажу ниже:"
   ]
  },
  {
   "cell_type": "markdown",
   "id": "b83e78d1",
   "metadata": {},
   "source": [
    "**Проверим максимальное значение стажа:**"
   ]
  },
  {
   "cell_type": "code",
   "execution_count": 11,
   "id": "982821fd",
   "metadata": {},
   "outputs": [
    {
     "data": {
      "text/plain": [
       "401755.40047533"
      ]
     },
     "execution_count": 11,
     "metadata": {},
     "output_type": "execute_result"
    }
   ],
   "source": [
    "data['days_employed'].max()"
   ]
  },
  {
   "cell_type": "markdown",
   "id": "a75d5add",
   "metadata": {},
   "source": [
    "Получается, кто-то работает `1100 года`, а говорят бессмертных не существует.\n",
    "Т.к. **в данных отсутствует точная информация о стаже**, а в трудовой стаж, дающий право на отпуск, включаются все время, когда за сотрудником сохранялось место работы (должность), в том числе выходные и праздничные дни, дни отпуска, больничного и т п., то сделаем функцию:"
   ]
  },
  {
   "cell_type": "code",
   "execution_count": 12,
   "id": "ec24929e",
   "metadata": {},
   "outputs": [],
   "source": [
    "def max_seniority(value):\n",
    "    current_seniority = value['days_employed']\n",
    "    if value['gender'] == 'M' and value['dob_years'] > 60 : \n",
    "        max_years = 60\n",
    "    elif value['gender'] == 'F' and value['dob_years'] > 55:\n",
    "        max_years = 55\n",
    "    else: \n",
    "        max_years = value['dob_years']\n",
    "\n",
    "        max_seniority = (max_years - 18) * 365\n",
    "        if current_seniority > max_seniority:\n",
    "            return max_seniority\n",
    "        elif current_seniority < 0:\n",
    "            return (current_seniority * -1)\n",
    "        else:\n",
    "            return current_seniority\n",
    "data['days_employed'] = data.apply(max_seniority, axis = 1)"
   ]
  },
  {
   "cell_type": "code",
   "execution_count": 13,
   "id": "bf584ce0",
   "metadata": {},
   "outputs": [
    {
     "data": {
      "text/plain": [
       "15330.0"
      ]
     },
     "metadata": {},
     "output_type": "display_data"
    }
   ],
   "source": [
    "display(data['days_employed'].max())"
   ]
  },
  {
   "cell_type": "markdown",
   "id": "14846155",
   "metadata": {},
   "source": [
    "**Ключевые проблемы появления пропусков в dataset:**\n",
    "* Самая очевидная проблема: человеческий фактор.\n",
    "* При перезаписи/переносе файла между людьми/дисками и.т.п данные могут повредиться"
   ]
  },
  {
   "cell_type": "markdown",
   "id": "8d291fbc",
   "metadata": {},
   "source": [
    "**Проверим кол-во пропусков в столбцах. А также, заменим вещественный тип данных в столбце total_income на целочисленный(int64).**"
   ]
  },
  {
   "cell_type": "code",
   "execution_count": 14,
   "id": "f3bc3f4c",
   "metadata": {},
   "outputs": [
    {
     "data": {
      "text/plain": [
       "children               0\n",
       "days_employed       3798\n",
       "dob_years              0\n",
       "education              0\n",
       "education_id           0\n",
       "family_status          0\n",
       "family_status_id       0\n",
       "gender                 0\n",
       "income_type            0\n",
       "debt                   0\n",
       "total_income           0\n",
       "purpose                0\n",
       "dtype: int64"
      ]
     },
     "execution_count": 14,
     "metadata": {},
     "output_type": "execute_result"
    }
   ],
   "source": [
    "data.isnull().sum()"
   ]
  },
  {
   "cell_type": "code",
   "execution_count": 15,
   "id": "02096e27",
   "metadata": {},
   "outputs": [],
   "source": [
    "data['total_income'] = data['total_income'].astype('int64')"
   ]
  },
  {
   "cell_type": "markdown",
   "id": "fc4c16f0",
   "metadata": {},
   "source": [
    "### Обработка/анализ уникальных значений\n",
    "\n",
    "**Снизу выведены столбцы с уникальными значениями без артефактов/пропусков:**"
   ]
  },
  {
   "cell_type": "code",
   "execution_count": 16,
   "id": "223ed971",
   "metadata": {},
   "outputs": [
    {
     "data": {
      "text/plain": [
       "'Тип занятости:'"
      ]
     },
     "metadata": {},
     "output_type": "display_data"
    },
    {
     "data": {
      "text/plain": [
       "array(['сотрудник', 'пенсионер', 'компаньон', 'госслужащий',\n",
       "       'безработный', 'предприниматель', 'студент', 'в декрете'],\n",
       "      dtype=object)"
      ]
     },
     "metadata": {},
     "output_type": "display_data"
    },
    {
     "data": {
      "text/plain": [
       "'Идентификатор семейного положения:'"
      ]
     },
     "metadata": {},
     "output_type": "display_data"
    },
    {
     "data": {
      "text/plain": [
       "array([0, 1, 2, 3, 4])"
      ]
     },
     "metadata": {},
     "output_type": "display_data"
    },
    {
     "data": {
      "text/plain": [
       "'Задолженность:'"
      ]
     },
     "metadata": {},
     "output_type": "display_data"
    },
    {
     "data": {
      "text/plain": [
       "array([0, 1])"
      ]
     },
     "metadata": {},
     "output_type": "display_data"
    }
   ],
   "source": [
    "display('Тип занятости:', data['income_type'].unique())\n",
    "display('Идентификатор семейного положения:', data['family_status_id'].unique())\n",
    "display('Задолженность:', data['debt'].unique())"
   ]
  },
  {
   "cell_type": "markdown",
   "id": "322932c2",
   "metadata": {},
   "source": [
    "**Приведем все значения столбца `семейный статус` к нижнему регистру**"
   ]
  },
  {
   "cell_type": "code",
   "execution_count": 17,
   "id": "5dbec116",
   "metadata": {},
   "outputs": [],
   "source": [
    "data['family_status'] = data['family_status'].str.lower()"
   ]
  },
  {
   "cell_type": "code",
   "execution_count": 18,
   "id": "579ca9c1",
   "metadata": {},
   "outputs": [
    {
     "data": {
      "text/plain": [
       "'Семейное положение:'"
      ]
     },
     "metadata": {},
     "output_type": "display_data"
    },
    {
     "data": {
      "text/plain": [
       "array(['женат / замужем', 'гражданский брак', 'вдовец / вдова',\n",
       "       'в разводе', 'не женат / не замужем'], dtype=object)"
      ]
     },
     "metadata": {},
     "output_type": "display_data"
    }
   ],
   "source": [
    "display('Семейное положение:', data['family_status'].unique())"
   ]
  },
  {
   "cell_type": "markdown",
   "id": "34e6de94",
   "metadata": {},
   "source": [
    "**Выведем на экран уникальные значения столбца** `children` **методом** `.unique()`"
   ]
  },
  {
   "cell_type": "code",
   "execution_count": 19,
   "id": "fad5fa08",
   "metadata": {},
   "outputs": [
    {
     "data": {
      "text/plain": [
       "'Кол-во детей:'"
      ]
     },
     "metadata": {},
     "output_type": "display_data"
    },
    {
     "data": {
      "text/plain": [
       "array([ 1,  0,  3,  2, -1,  4, 20,  5])"
      ]
     },
     "metadata": {},
     "output_type": "display_data"
    }
   ],
   "source": [
    "display('Кол-во детей:', data['children'].unique())"
   ]
  },
  {
   "cell_type": "markdown",
   "id": "a067ae3a",
   "metadata": {},
   "source": [
    "**Видим 2 настораживающих значения:** `-1` и `20`\n",
    "\n",
    "Заменим значение:\n",
    "* `-1` на `1`\n",
    "* `20` на `2`"
   ]
  },
  {
   "cell_type": "code",
   "execution_count": 20,
   "id": "85c9e3e6",
   "metadata": {},
   "outputs": [
    {
     "data": {
      "text/plain": [
       "'Кол-во детей:'"
      ]
     },
     "metadata": {},
     "output_type": "display_data"
    },
    {
     "data": {
      "text/plain": [
       "array([1, 0, 3, 2, 4, 5])"
      ]
     },
     "metadata": {},
     "output_type": "display_data"
    }
   ],
   "source": [
    "data.loc[data['children'] == -1, 'children'] = 1\n",
    "data.loc[data['children'] == 20, 'children'] = 2\n",
    "display('Кол-во детей:', data['children'].unique())"
   ]
  },
  {
   "cell_type": "markdown",
   "id": "821d079b",
   "metadata": {},
   "source": [
    "**Двигаемся дальше и выведем на экран столбец** `education`"
   ]
  },
  {
   "cell_type": "code",
   "execution_count": 21,
   "id": "74b39060",
   "metadata": {},
   "outputs": [
    {
     "data": {
      "text/plain": [
       "среднее                13750\n",
       "высшее                  4718\n",
       "СРЕДНЕЕ                  772\n",
       "Среднее                  711\n",
       "неоконченное высшее      668\n",
       "ВЫСШЕЕ                   274\n",
       "Высшее                   268\n",
       "начальное                250\n",
       "Неоконченное высшее       47\n",
       "НЕОКОНЧЕННОЕ ВЫСШЕЕ       29\n",
       "НАЧАЛЬНОЕ                 17\n",
       "Начальное                 15\n",
       "ученая степень             4\n",
       "Ученая степень             1\n",
       "УЧЕНАЯ СТЕПЕНЬ             1\n",
       "Name: education, dtype: int64"
      ]
     },
     "execution_count": 21,
     "metadata": {},
     "output_type": "execute_result"
    }
   ],
   "source": [
    "data['education'].value_counts()"
   ]
  },
  {
   "cell_type": "markdown",
   "id": "edcd314b",
   "metadata": {},
   "source": [
    "**Видим неявные дубликаты, приведем все значению к 1 виду:**"
   ]
  },
  {
   "cell_type": "code",
   "execution_count": 22,
   "id": "7f9c69e1",
   "metadata": {},
   "outputs": [
    {
     "data": {
      "text/plain": [
       "среднее                15233\n",
       "высшее                  5260\n",
       "неоконченное высшее      744\n",
       "начальное                282\n",
       "ученая степень             6\n",
       "Name: education, dtype: int64"
      ]
     },
     "metadata": {},
     "output_type": "display_data"
    }
   ],
   "source": [
    "data['education'] = data['education'].str.lower()\n",
    "display(data['education'].value_counts())"
   ]
  },
  {
   "cell_type": "markdown",
   "id": "b58edf17",
   "metadata": {},
   "source": [
    "**Выведем на экран столбец** `gender`"
   ]
  },
  {
   "cell_type": "code",
   "execution_count": 23,
   "id": "2735cb29",
   "metadata": {},
   "outputs": [
    {
     "data": {
      "text/plain": [
       "'Пол:'"
      ]
     },
     "metadata": {},
     "output_type": "display_data"
    },
    {
     "data": {
      "text/plain": [
       "F      14236\n",
       "M       7288\n",
       "XNA        1\n",
       "Name: gender, dtype: int64"
      ]
     },
     "metadata": {},
     "output_type": "display_data"
    }
   ],
   "source": [
    "display('Пол:', data['gender'].value_counts())"
   ]
  },
  {
   "cell_type": "markdown",
   "id": "c22a016d",
   "metadata": {},
   "source": [
    "Видим 1 значение `XNA`:\n",
    "    \n",
    "**Так как значение 1 и не сможет повлиять на дальнейший анализ, удалим данную строчку.**"
   ]
  },
  {
   "cell_type": "code",
   "execution_count": 24,
   "id": "e56fa09f",
   "metadata": {},
   "outputs": [],
   "source": [
    "data = data[data['gender'] != 'XNA']"
   ]
  },
  {
   "cell_type": "markdown",
   "id": "5a09b909",
   "metadata": {},
   "source": [
    "Перейдем к столбцу с `возрастом`"
   ]
  },
  {
   "cell_type": "code",
   "execution_count": 25,
   "id": "a3b1aacf",
   "metadata": {
    "scrolled": true
   },
   "outputs": [
    {
     "data": {
      "text/plain": [
       "'Возраст:'"
      ]
     },
     "metadata": {},
     "output_type": "display_data"
    },
    {
     "data": {
      "text/plain": [
       "35    617\n",
       "40    609\n",
       "41    607\n",
       "34    603\n",
       "38    598\n",
       "42    597\n",
       "33    581\n",
       "39    573\n",
       "31    560\n",
       "36    555\n",
       "44    547\n",
       "29    545\n",
       "30    540\n",
       "48    538\n",
       "37    537\n",
       "50    514\n",
       "43    513\n",
       "32    510\n",
       "49    508\n",
       "28    503\n",
       "45    497\n",
       "27    493\n",
       "56    487\n",
       "52    484\n",
       "47    480\n",
       "54    479\n",
       "46    475\n",
       "58    461\n",
       "57    460\n",
       "53    459\n",
       "51    448\n",
       "59    444\n",
       "55    443\n",
       "26    408\n",
       "60    377\n",
       "25    357\n",
       "61    355\n",
       "62    352\n",
       "63    269\n",
       "64    265\n",
       "24    263\n",
       "23    254\n",
       "65    194\n",
       "66    183\n",
       "22    183\n",
       "67    167\n",
       "21    111\n",
       "0     101\n",
       "68     99\n",
       "69     85\n",
       "70     65\n",
       "71     58\n",
       "20     51\n",
       "72     33\n",
       "19     14\n",
       "73      8\n",
       "74      6\n",
       "75      1\n",
       "Name: dob_years, dtype: int64"
      ]
     },
     "metadata": {},
     "output_type": "display_data"
    }
   ],
   "source": [
    "display('Возраст:', data['dob_years'].value_counts())"
   ]
  },
  {
   "cell_type": "markdown",
   "id": "630fdd6c",
   "metadata": {},
   "source": [
    "**Смотрим глубже**"
   ]
  },
  {
   "cell_type": "code",
   "execution_count": 26,
   "id": "ac5ac8fe",
   "metadata": {},
   "outputs": [
    {
     "data": {
      "text/html": [
       "<div>\n",
       "<style scoped>\n",
       "    .dataframe tbody tr th:only-of-type {\n",
       "        vertical-align: middle;\n",
       "    }\n",
       "\n",
       "    .dataframe tbody tr th {\n",
       "        vertical-align: top;\n",
       "    }\n",
       "\n",
       "    .dataframe thead th {\n",
       "        text-align: right;\n",
       "    }\n",
       "</style>\n",
       "<table border=\"1\" class=\"dataframe\">\n",
       "  <thead>\n",
       "    <tr style=\"text-align: right;\">\n",
       "      <th></th>\n",
       "      <th>children</th>\n",
       "      <th>days_employed</th>\n",
       "      <th>dob_years</th>\n",
       "      <th>education</th>\n",
       "      <th>education_id</th>\n",
       "      <th>family_status</th>\n",
       "      <th>family_status_id</th>\n",
       "      <th>gender</th>\n",
       "      <th>income_type</th>\n",
       "      <th>debt</th>\n",
       "      <th>total_income</th>\n",
       "      <th>purpose</th>\n",
       "    </tr>\n",
       "  </thead>\n",
       "  <tbody>\n",
       "    <tr>\n",
       "      <td>99</td>\n",
       "      <td>0</td>\n",
       "      <td>-6570.0</td>\n",
       "      <td>0</td>\n",
       "      <td>среднее</td>\n",
       "      <td>1</td>\n",
       "      <td>женат / замужем</td>\n",
       "      <td>0</td>\n",
       "      <td>F</td>\n",
       "      <td>пенсионер</td>\n",
       "      <td>0</td>\n",
       "      <td>71291</td>\n",
       "      <td>автомобиль</td>\n",
       "    </tr>\n",
       "    <tr>\n",
       "      <td>149</td>\n",
       "      <td>0</td>\n",
       "      <td>-6570.0</td>\n",
       "      <td>0</td>\n",
       "      <td>среднее</td>\n",
       "      <td>1</td>\n",
       "      <td>в разводе</td>\n",
       "      <td>3</td>\n",
       "      <td>F</td>\n",
       "      <td>сотрудник</td>\n",
       "      <td>0</td>\n",
       "      <td>70176</td>\n",
       "      <td>операции с жильем</td>\n",
       "    </tr>\n",
       "    <tr>\n",
       "      <td>270</td>\n",
       "      <td>3</td>\n",
       "      <td>-6570.0</td>\n",
       "      <td>0</td>\n",
       "      <td>среднее</td>\n",
       "      <td>1</td>\n",
       "      <td>женат / замужем</td>\n",
       "      <td>0</td>\n",
       "      <td>F</td>\n",
       "      <td>сотрудник</td>\n",
       "      <td>0</td>\n",
       "      <td>102166</td>\n",
       "      <td>ремонт жилью</td>\n",
       "    </tr>\n",
       "    <tr>\n",
       "      <td>578</td>\n",
       "      <td>0</td>\n",
       "      <td>-6570.0</td>\n",
       "      <td>0</td>\n",
       "      <td>среднее</td>\n",
       "      <td>1</td>\n",
       "      <td>женат / замужем</td>\n",
       "      <td>0</td>\n",
       "      <td>F</td>\n",
       "      <td>пенсионер</td>\n",
       "      <td>0</td>\n",
       "      <td>97620</td>\n",
       "      <td>строительство собственной недвижимости</td>\n",
       "    </tr>\n",
       "    <tr>\n",
       "      <td>1040</td>\n",
       "      <td>0</td>\n",
       "      <td>-6570.0</td>\n",
       "      <td>0</td>\n",
       "      <td>высшее</td>\n",
       "      <td>0</td>\n",
       "      <td>в разводе</td>\n",
       "      <td>3</td>\n",
       "      <td>F</td>\n",
       "      <td>компаньон</td>\n",
       "      <td>0</td>\n",
       "      <td>303994</td>\n",
       "      <td>свой автомобиль</td>\n",
       "    </tr>\n",
       "    <tr>\n",
       "      <td>...</td>\n",
       "      <td>...</td>\n",
       "      <td>...</td>\n",
       "      <td>...</td>\n",
       "      <td>...</td>\n",
       "      <td>...</td>\n",
       "      <td>...</td>\n",
       "      <td>...</td>\n",
       "      <td>...</td>\n",
       "      <td>...</td>\n",
       "      <td>...</td>\n",
       "      <td>...</td>\n",
       "      <td>...</td>\n",
       "    </tr>\n",
       "    <tr>\n",
       "      <td>19829</td>\n",
       "      <td>0</td>\n",
       "      <td>-6570.0</td>\n",
       "      <td>0</td>\n",
       "      <td>среднее</td>\n",
       "      <td>1</td>\n",
       "      <td>женат / замужем</td>\n",
       "      <td>0</td>\n",
       "      <td>F</td>\n",
       "      <td>сотрудник</td>\n",
       "      <td>0</td>\n",
       "      <td>142594</td>\n",
       "      <td>жилье</td>\n",
       "    </tr>\n",
       "    <tr>\n",
       "      <td>20462</td>\n",
       "      <td>0</td>\n",
       "      <td>-6570.0</td>\n",
       "      <td>0</td>\n",
       "      <td>среднее</td>\n",
       "      <td>1</td>\n",
       "      <td>женат / замужем</td>\n",
       "      <td>0</td>\n",
       "      <td>F</td>\n",
       "      <td>пенсионер</td>\n",
       "      <td>0</td>\n",
       "      <td>259193</td>\n",
       "      <td>покупка своего жилья</td>\n",
       "    </tr>\n",
       "    <tr>\n",
       "      <td>20577</td>\n",
       "      <td>0</td>\n",
       "      <td>-6570.0</td>\n",
       "      <td>0</td>\n",
       "      <td>среднее</td>\n",
       "      <td>1</td>\n",
       "      <td>не женат / не замужем</td>\n",
       "      <td>4</td>\n",
       "      <td>F</td>\n",
       "      <td>пенсионер</td>\n",
       "      <td>0</td>\n",
       "      <td>129788</td>\n",
       "      <td>недвижимость</td>\n",
       "    </tr>\n",
       "    <tr>\n",
       "      <td>21179</td>\n",
       "      <td>2</td>\n",
       "      <td>-6570.0</td>\n",
       "      <td>0</td>\n",
       "      <td>высшее</td>\n",
       "      <td>0</td>\n",
       "      <td>женат / замужем</td>\n",
       "      <td>0</td>\n",
       "      <td>M</td>\n",
       "      <td>компаньон</td>\n",
       "      <td>0</td>\n",
       "      <td>240702</td>\n",
       "      <td>строительство жилой недвижимости</td>\n",
       "    </tr>\n",
       "    <tr>\n",
       "      <td>21313</td>\n",
       "      <td>0</td>\n",
       "      <td>-6570.0</td>\n",
       "      <td>0</td>\n",
       "      <td>среднее</td>\n",
       "      <td>1</td>\n",
       "      <td>не женат / не замужем</td>\n",
       "      <td>4</td>\n",
       "      <td>M</td>\n",
       "      <td>сотрудник</td>\n",
       "      <td>0</td>\n",
       "      <td>152419</td>\n",
       "      <td>операции с жильем</td>\n",
       "    </tr>\n",
       "  </tbody>\n",
       "</table>\n",
       "<p>101 rows × 12 columns</p>\n",
       "</div>"
      ],
      "text/plain": [
       "       children  days_employed  dob_years education  education_id  \\\n",
       "99            0        -6570.0          0   среднее             1   \n",
       "149           0        -6570.0          0   среднее             1   \n",
       "270           3        -6570.0          0   среднее             1   \n",
       "578           0        -6570.0          0   среднее             1   \n",
       "1040          0        -6570.0          0    высшее             0   \n",
       "...         ...            ...        ...       ...           ...   \n",
       "19829         0        -6570.0          0   среднее             1   \n",
       "20462         0        -6570.0          0   среднее             1   \n",
       "20577         0        -6570.0          0   среднее             1   \n",
       "21179         2        -6570.0          0    высшее             0   \n",
       "21313         0        -6570.0          0   среднее             1   \n",
       "\n",
       "               family_status  family_status_id gender income_type  debt  \\\n",
       "99           женат / замужем                 0      F   пенсионер     0   \n",
       "149                в разводе                 3      F   сотрудник     0   \n",
       "270          женат / замужем                 0      F   сотрудник     0   \n",
       "578          женат / замужем                 0      F   пенсионер     0   \n",
       "1040               в разводе                 3      F   компаньон     0   \n",
       "...                      ...               ...    ...         ...   ...   \n",
       "19829        женат / замужем                 0      F   сотрудник     0   \n",
       "20462        женат / замужем                 0      F   пенсионер     0   \n",
       "20577  не женат / не замужем                 4      F   пенсионер     0   \n",
       "21179        женат / замужем                 0      M   компаньон     0   \n",
       "21313  не женат / не замужем                 4      M   сотрудник     0   \n",
       "\n",
       "       total_income                                 purpose  \n",
       "99            71291                              автомобиль  \n",
       "149           70176                       операции с жильем  \n",
       "270          102166                            ремонт жилью  \n",
       "578           97620  строительство собственной недвижимости  \n",
       "1040         303994                         свой автомобиль  \n",
       "...             ...                                     ...  \n",
       "19829        142594                                   жилье  \n",
       "20462        259193                    покупка своего жилья  \n",
       "20577        129788                            недвижимость  \n",
       "21179        240702        строительство жилой недвижимости  \n",
       "21313        152419                       операции с жильем  \n",
       "\n",
       "[101 rows x 12 columns]"
      ]
     },
     "metadata": {},
     "output_type": "display_data"
    }
   ],
   "source": [
    "display(data.loc[data['dob_years'] == 0])"
   ]
  },
  {
   "cell_type": "markdown",
   "id": "72555ee2",
   "metadata": {},
   "source": [
    "**Заменим значение `0` медианым значением согласно значению столбца** `income_type`"
   ]
  },
  {
   "cell_type": "code",
   "execution_count": 27,
   "id": "a0755fd0",
   "metadata": {},
   "outputs": [
    {
     "data": {
      "text/plain": [
       "income_type\n",
       "безработный        38.0\n",
       "в декрете          39.0\n",
       "госслужащий        40.0\n",
       "компаньон          39.0\n",
       "пенсионер          60.0\n",
       "предприниматель    42.5\n",
       "сотрудник          39.0\n",
       "студент            22.0\n",
       "Name: dob_years, dtype: float64"
      ]
     },
     "metadata": {},
     "output_type": "display_data"
    }
   ],
   "source": [
    "dob_years_median = data.groupby('income_type')['dob_years'].median()\n",
    "display(dob_years_median)"
   ]
  },
  {
   "cell_type": "code",
   "execution_count": 28,
   "id": "361c34a3",
   "metadata": {},
   "outputs": [],
   "source": [
    "data.loc[(data['income_type'] == 'безработный ') & (data['dob_years'] == 0), 'dob_years'] = dob_years_median[0]\n",
    "data.loc[(data['income_type'] == 'в декрете') & (data['dob_years'] == 0), 'dob_years'] = dob_years_median[1]\n",
    "data.loc[(data['income_type'] == 'госслужащий') & (data['dob_years'] == 0), 'dob_years'] = dob_years_median[2]\n",
    "data.loc[(data['income_type'] == 'компаньон') & (data['dob_years'] == 0), 'dob_years'] = dob_years_median[3]\n",
    "data.loc[(data['income_type'] == 'пенсионер') & (data['dob_years'] == 0), 'dob_years'] = dob_years_median[4]\n",
    "data.loc[(data['income_type'] == 'предприниматель') & (data['dob_years'] == 0), 'dob_years'] = dob_years_median[5]\n",
    "data.loc[(data['income_type'] == 'сотрудник') & (data['dob_years'] == 0), 'dob_years'] = dob_years_median[6]\n",
    "data.loc[(data['income_type'] == 'студент') & (data['dob_years'] == 0), 'dob_years'] = dob_years_median[7]"
   ]
  },
  {
   "cell_type": "markdown",
   "id": "e8487250",
   "metadata": {},
   "source": [
    "**Проверим таблицу на** `0`"
   ]
  },
  {
   "cell_type": "code",
   "execution_count": 29,
   "id": "b70e9a99",
   "metadata": {},
   "outputs": [
    {
     "data": {
      "text/html": [
       "<div>\n",
       "<style scoped>\n",
       "    .dataframe tbody tr th:only-of-type {\n",
       "        vertical-align: middle;\n",
       "    }\n",
       "\n",
       "    .dataframe tbody tr th {\n",
       "        vertical-align: top;\n",
       "    }\n",
       "\n",
       "    .dataframe thead th {\n",
       "        text-align: right;\n",
       "    }\n",
       "</style>\n",
       "<table border=\"1\" class=\"dataframe\">\n",
       "  <thead>\n",
       "    <tr style=\"text-align: right;\">\n",
       "      <th></th>\n",
       "      <th>children</th>\n",
       "      <th>days_employed</th>\n",
       "      <th>dob_years</th>\n",
       "      <th>education</th>\n",
       "      <th>education_id</th>\n",
       "      <th>family_status</th>\n",
       "      <th>family_status_id</th>\n",
       "      <th>gender</th>\n",
       "      <th>income_type</th>\n",
       "      <th>debt</th>\n",
       "      <th>total_income</th>\n",
       "      <th>purpose</th>\n",
       "    </tr>\n",
       "  </thead>\n",
       "  <tbody>\n",
       "  </tbody>\n",
       "</table>\n",
       "</div>"
      ],
      "text/plain": [
       "Empty DataFrame\n",
       "Columns: [children, days_employed, dob_years, education, education_id, family_status, family_status_id, gender, income_type, debt, total_income, purpose]\n",
       "Index: []"
      ]
     },
     "metadata": {},
     "output_type": "display_data"
    }
   ],
   "source": [
    "display(data.loc[data['dob_years'] == 0])"
   ]
  },
  {
   "cell_type": "markdown",
   "id": "86742d37",
   "metadata": {},
   "source": [
    "### Группировка столбца `total_income` по категориям:"
   ]
  },
  {
   "cell_type": "markdown",
   "id": "f46f726f",
   "metadata": {},
   "source": [
    "**На основании диапазонов, указанных заказчиком, создадим столбец `total_income_category` с категориями:**"
   ]
  },
  {
   "cell_type": "code",
   "execution_count": 30,
   "id": "0d6efd2a",
   "metadata": {},
   "outputs": [
    {
     "data": {
      "text/plain": [
       "C    16086\n",
       "B     5041\n",
       "D      350\n",
       "A       25\n",
       "E       22\n",
       "Name: total_income_category, dtype: int64"
      ]
     },
     "metadata": {},
     "output_type": "display_data"
    }
   ],
   "source": [
    "def income_category(income):\n",
    "    if income < 30000:\n",
    "        return 'E'\n",
    "    if 30001 <= income <= 50000:\n",
    "        return 'D'\n",
    "    if 50001 <= income <= 200000:\n",
    "        return 'C'\n",
    "    if 200001 <= income <= 1000000:\n",
    "        return 'B'\n",
    "    if income >= 1000001:\n",
    "        return 'A'\n",
    "    return 'группа не определена'\n",
    "data['total_income_category'] = data['total_income'].apply(income_category)\n",
    "display(data['total_income_category'].value_counts())"
   ]
  },
  {
   "cell_type": "markdown",
   "id": "d34831cb",
   "metadata": {},
   "source": [
    "### Создание 2 новых dataframe со столбцами:\n",
    "* **education_id и education — в первом;**\n",
    "* **family_status_id и family_status — во втором.**"
   ]
  },
  {
   "cell_type": "code",
   "execution_count": 31,
   "id": "57dff17e",
   "metadata": {},
   "outputs": [
    {
     "data": {
      "text/plain": [
       "{0: 'высшее',\n",
       " 1: 'начальное',\n",
       " 2: 'неоконченное высшее',\n",
       " 3: 'среднее',\n",
       " 4: 'ученая степень'}"
      ]
     },
     "metadata": {},
     "output_type": "display_data"
    }
   ],
   "source": [
    "education_id = [0, 1, 2, 3, 4]\n",
    "education = ['высшее', 'начальное', 'неоконченное высшее', 'среднее', 'ученая степень']\n",
    "education_df = dict(zip(education_id, education))\n",
    "display(education_df)"
   ]
  },
  {
   "cell_type": "code",
   "execution_count": 32,
   "id": "fa9e06dd",
   "metadata": {},
   "outputs": [
    {
     "data": {
      "text/plain": [
       "{0: 'женат / замужем',\n",
       " 1: 'гражданский брак',\n",
       " 2: 'вдовец / вдова',\n",
       " 3: 'в разводе',\n",
       " 4: 'Не женат / не замужем'}"
      ]
     },
     "metadata": {},
     "output_type": "display_data"
    }
   ],
   "source": [
    "family_status_id = [0, 1, 2, 3, 4]\n",
    "family_status = ['женат / замужем', 'гражданский брак', 'вдовец / вдова', 'в разводе', 'Не женат / не замужем']\n",
    "family_df = dict(zip(family_status_id, family_status))\n",
    "display(family_df)"
   ]
  },
  {
   "cell_type": "code",
   "execution_count": 33,
   "id": "f6923800",
   "metadata": {},
   "outputs": [],
   "source": [
    "data.drop([\"education\", \"family_status\"], axis = 1, inplace = True)"
   ]
  },
  {
   "cell_type": "markdown",
   "id": "f26bf7ec",
   "metadata": {},
   "source": [
    "## **Лемматизация**\n",
    "\n",
    "**Проверим и обработаем столбец** `purpose`"
   ]
  },
  {
   "cell_type": "code",
   "execution_count": 34,
   "id": "697694af",
   "metadata": {},
   "outputs": [],
   "source": [
    "m = Mystem()\n",
    "def purpose_group (purpose):\n",
    "    lemmas = m.lemmatize(purpose)\n",
    "    for i in lemmas:\n",
    "        if 'свадьб' in i:\n",
    "            return 'проведение свадьбы'\n",
    "        elif 'образов' in i:\n",
    "            return 'получение образования'\n",
    "        elif 'недвиж' in i:\n",
    "            return 'операции с недвижимостью'\n",
    "        elif 'жил' in i:\n",
    "            return 'операции с недвижимостью'\n",
    "        elif 'автомобил' in i:\n",
    "            return 'операции с автомобилем'"
   ]
  },
  {
   "cell_type": "code",
   "execution_count": 35,
   "id": "2fd5a1a3",
   "metadata": {},
   "outputs": [
    {
     "data": {
      "text/plain": [
       "операции с недвижимостью    10839\n",
       "операции с автомобилем       4315\n",
       "получение образования        4022\n",
       "проведение свадьбы           2348\n",
       "Name: purpose_category, dtype: int64"
      ]
     },
     "execution_count": 35,
     "metadata": {},
     "output_type": "execute_result"
    }
   ],
   "source": [
    "data['purpose_category'] = data['purpose'].apply(purpose_group)\n",
    "data['purpose_category'].value_counts()"
   ]
  },
  {
   "cell_type": "markdown",
   "id": "66a48405",
   "metadata": {},
   "source": [
    "**После создания 4 категорий из столбца `purpose`, мы можем заметить, что большая доля кредитов - операции с `недвижимостью`.**"
   ]
  },
  {
   "cell_type": "markdown",
   "id": "d6c983ec",
   "metadata": {},
   "source": [
    "## **Ответьты на вопросы**"
   ]
  },
  {
   "cell_type": "markdown",
   "id": "76606b70",
   "metadata": {},
   "source": [
    "### Присутствует ли зависимость между количеством детей и возвратом кредита в срок?"
   ]
  },
  {
   "cell_type": "markdown",
   "id": "f20d2290",
   "metadata": {},
   "source": [
    "**Посчитаем общую долю просроченных платажей:**"
   ]
  },
  {
   "cell_type": "code",
   "execution_count": 36,
   "id": "37961966",
   "metadata": {},
   "outputs": [
    {
     "data": {
      "text/plain": [
       "'Шанс просроченного платежа состовляет 8.8%'"
      ]
     },
     "metadata": {},
     "output_type": "display_data"
    }
   ],
   "source": [
    "overdue_p = data[(data['debt'] == 1)].count() / data[(data['debt'] == 0)].count()\n",
    "display('Шанс просроченного платежа состовляет {:.1%}'.format((overdue_p['debt'])))"
   ]
  },
  {
   "cell_type": "markdown",
   "id": "074c3d8f",
   "metadata": {},
   "source": [
    "**Построим сводную таблицу и посмотрим количество просрочек:**"
   ]
  },
  {
   "cell_type": "code",
   "execution_count": 37,
   "id": "0c978f81",
   "metadata": {},
   "outputs": [
    {
     "data": {
      "text/html": [
       "<div>\n",
       "<style scoped>\n",
       "    .dataframe tbody tr th:only-of-type {\n",
       "        vertical-align: middle;\n",
       "    }\n",
       "\n",
       "    .dataframe tbody tr th {\n",
       "        vertical-align: top;\n",
       "    }\n",
       "\n",
       "    .dataframe thead th {\n",
       "        text-align: right;\n",
       "    }\n",
       "</style>\n",
       "<table border=\"1\" class=\"dataframe\">\n",
       "  <thead>\n",
       "    <tr style=\"text-align: right;\">\n",
       "      <th>debt</th>\n",
       "      <th>0</th>\n",
       "      <th>1</th>\n",
       "    </tr>\n",
       "    <tr>\n",
       "      <th>children</th>\n",
       "      <th></th>\n",
       "      <th></th>\n",
       "    </tr>\n",
       "  </thead>\n",
       "  <tbody>\n",
       "    <tr>\n",
       "      <td>0</td>\n",
       "      <td>13085</td>\n",
       "      <td>1063</td>\n",
       "    </tr>\n",
       "    <tr>\n",
       "      <td>1</td>\n",
       "      <td>4420</td>\n",
       "      <td>445</td>\n",
       "    </tr>\n",
       "    <tr>\n",
       "      <td>2</td>\n",
       "      <td>1929</td>\n",
       "      <td>202</td>\n",
       "    </tr>\n",
       "    <tr>\n",
       "      <td>3</td>\n",
       "      <td>303</td>\n",
       "      <td>27</td>\n",
       "    </tr>\n",
       "    <tr>\n",
       "      <td>4</td>\n",
       "      <td>37</td>\n",
       "      <td>4</td>\n",
       "    </tr>\n",
       "    <tr>\n",
       "      <td>5</td>\n",
       "      <td>9</td>\n",
       "      <td>0</td>\n",
       "    </tr>\n",
       "  </tbody>\n",
       "</table>\n",
       "</div>"
      ],
      "text/plain": [
       "debt          0     1\n",
       "children             \n",
       "0         13085  1063\n",
       "1          4420   445\n",
       "2          1929   202\n",
       "3           303    27\n",
       "4            37     4\n",
       "5             9     0"
      ]
     },
     "metadata": {},
     "output_type": "display_data"
    }
   ],
   "source": [
    "children_debt = data.pivot_table(index=['children'], columns='debt', values = 'family_status_id', aggfunc='count', fill_value=0)\n",
    "display(children_debt)"
   ]
  },
  {
   "cell_type": "code",
   "execution_count": 38,
   "id": "3e153016",
   "metadata": {},
   "outputs": [],
   "source": [
    "children_debt['% non payments'] = (children_debt[1] * 100  / children_debt[0])"
   ]
  },
  {
   "cell_type": "code",
   "execution_count": 39,
   "id": "5f371ddd",
   "metadata": {},
   "outputs": [
    {
     "data": {
      "text/html": [
       "<div>\n",
       "<style scoped>\n",
       "    .dataframe tbody tr th:only-of-type {\n",
       "        vertical-align: middle;\n",
       "    }\n",
       "\n",
       "    .dataframe tbody tr th {\n",
       "        vertical-align: top;\n",
       "    }\n",
       "\n",
       "    .dataframe thead th {\n",
       "        text-align: right;\n",
       "    }\n",
       "</style>\n",
       "<table border=\"1\" class=\"dataframe\">\n",
       "  <thead>\n",
       "    <tr style=\"text-align: right;\">\n",
       "      <th>debt</th>\n",
       "      <th>0</th>\n",
       "      <th>1</th>\n",
       "      <th>% non payments</th>\n",
       "    </tr>\n",
       "    <tr>\n",
       "      <th>children</th>\n",
       "      <th></th>\n",
       "      <th></th>\n",
       "      <th></th>\n",
       "    </tr>\n",
       "  </thead>\n",
       "  <tbody>\n",
       "    <tr>\n",
       "      <td>0</td>\n",
       "      <td>13085</td>\n",
       "      <td>1063</td>\n",
       "      <td>8.123806</td>\n",
       "    </tr>\n",
       "    <tr>\n",
       "      <td>1</td>\n",
       "      <td>4420</td>\n",
       "      <td>445</td>\n",
       "      <td>10.067873</td>\n",
       "    </tr>\n",
       "    <tr>\n",
       "      <td>2</td>\n",
       "      <td>1929</td>\n",
       "      <td>202</td>\n",
       "      <td>10.471747</td>\n",
       "    </tr>\n",
       "    <tr>\n",
       "      <td>3</td>\n",
       "      <td>303</td>\n",
       "      <td>27</td>\n",
       "      <td>8.910891</td>\n",
       "    </tr>\n",
       "    <tr>\n",
       "      <td>4</td>\n",
       "      <td>37</td>\n",
       "      <td>4</td>\n",
       "      <td>10.810811</td>\n",
       "    </tr>\n",
       "    <tr>\n",
       "      <td>5</td>\n",
       "      <td>9</td>\n",
       "      <td>0</td>\n",
       "      <td>0.000000</td>\n",
       "    </tr>\n",
       "  </tbody>\n",
       "</table>\n",
       "</div>"
      ],
      "text/plain": [
       "debt          0     1  % non payments\n",
       "children                             \n",
       "0         13085  1063        8.123806\n",
       "1          4420   445       10.067873\n",
       "2          1929   202       10.471747\n",
       "3           303    27        8.910891\n",
       "4            37     4       10.810811\n",
       "5             9     0        0.000000"
      ]
     },
     "metadata": {},
     "output_type": "display_data"
    }
   ],
   "source": [
    "display(children_debt)"
   ]
  },
  {
   "cell_type": "markdown",
   "id": "183de405",
   "metadata": {},
   "source": [
    "**Вывод:**\n",
    "Клиенты с количеством детей: 0-2 в большей степени подвержены неоплате кредита в срок, чем клиенты с 3-4 детьми. Также можно заметить, что клиенты с 5 детьми совсем не имеют задолженностей! "
   ]
  },
  {
   "cell_type": "markdown",
   "id": "616c3e1b",
   "metadata": {},
   "source": [
    "### Есть ли зависимость между семейным положением и возвратом кредита в срок?"
   ]
  },
  {
   "cell_type": "code",
   "execution_count": 40,
   "id": "95d1156c",
   "metadata": {},
   "outputs": [
    {
     "data": {
      "text/html": [
       "<div>\n",
       "<style scoped>\n",
       "    .dataframe tbody tr th:only-of-type {\n",
       "        vertical-align: middle;\n",
       "    }\n",
       "\n",
       "    .dataframe tbody tr th {\n",
       "        vertical-align: top;\n",
       "    }\n",
       "\n",
       "    .dataframe thead th {\n",
       "        text-align: right;\n",
       "    }\n",
       "</style>\n",
       "<table border=\"1\" class=\"dataframe\">\n",
       "  <thead>\n",
       "    <tr style=\"text-align: right;\">\n",
       "      <th>debt</th>\n",
       "      <th>0</th>\n",
       "      <th>1</th>\n",
       "      <th>% non payments</th>\n",
       "    </tr>\n",
       "    <tr>\n",
       "      <th>family_status_id</th>\n",
       "      <th></th>\n",
       "      <th></th>\n",
       "      <th></th>\n",
       "    </tr>\n",
       "  </thead>\n",
       "  <tbody>\n",
       "    <tr>\n",
       "      <td>0</td>\n",
       "      <td>11449</td>\n",
       "      <td>931</td>\n",
       "      <td>8.131715</td>\n",
       "    </tr>\n",
       "    <tr>\n",
       "      <td>1</td>\n",
       "      <td>3788</td>\n",
       "      <td>388</td>\n",
       "      <td>10.242872</td>\n",
       "    </tr>\n",
       "    <tr>\n",
       "      <td>2</td>\n",
       "      <td>897</td>\n",
       "      <td>63</td>\n",
       "      <td>7.023411</td>\n",
       "    </tr>\n",
       "    <tr>\n",
       "      <td>3</td>\n",
       "      <td>1110</td>\n",
       "      <td>85</td>\n",
       "      <td>7.657658</td>\n",
       "    </tr>\n",
       "    <tr>\n",
       "      <td>4</td>\n",
       "      <td>2539</td>\n",
       "      <td>274</td>\n",
       "      <td>10.791650</td>\n",
       "    </tr>\n",
       "  </tbody>\n",
       "</table>\n",
       "</div>"
      ],
      "text/plain": [
       "debt                  0    1  % non payments\n",
       "family_status_id                            \n",
       "0                 11449  931        8.131715\n",
       "1                  3788  388       10.242872\n",
       "2                   897   63        7.023411\n",
       "3                  1110   85        7.657658\n",
       "4                  2539  274       10.791650"
      ]
     },
     "metadata": {},
     "output_type": "display_data"
    },
    {
     "data": {
      "text/plain": [
       "{0: 'женат / замужем',\n",
       " 1: 'гражданский брак',\n",
       " 2: 'вдовец / вдова',\n",
       " 3: 'в разводе',\n",
       " 4: 'Не женат / не замужем'}"
      ]
     },
     "metadata": {},
     "output_type": "display_data"
    }
   ],
   "source": [
    "family_debt = data.pivot_table(index='family_status_id', columns='debt', values='dob_years', aggfunc='count',fill_value=0)\n",
    "family_debt['% non payments'] = (family_debt[1] * 100  / family_debt[0])\n",
    "display(family_debt)\n",
    "display(family_df)"
   ]
  },
  {
   "cell_type": "markdown",
   "id": "d76fb91b",
   "metadata": {},
   "source": [
    "**Вывод:**\n",
    "\n",
    "`Не женатые/не замужние` & люди состоящие в `гражданском браке` с большей вероятностью не вернут кредит в срок."
   ]
  },
  {
   "cell_type": "markdown",
   "id": "206a2dea",
   "metadata": {},
   "source": [
    "### Есть ли зависимость между уровнем дохода и возвратом кредита в срок?"
   ]
  },
  {
   "cell_type": "code",
   "execution_count": 41,
   "id": "db141885",
   "metadata": {},
   "outputs": [
    {
     "data": {
      "text/html": [
       "<div>\n",
       "<style scoped>\n",
       "    .dataframe tbody tr th:only-of-type {\n",
       "        vertical-align: middle;\n",
       "    }\n",
       "\n",
       "    .dataframe tbody tr th {\n",
       "        vertical-align: top;\n",
       "    }\n",
       "\n",
       "    .dataframe thead th {\n",
       "        text-align: right;\n",
       "    }\n",
       "</style>\n",
       "<table border=\"1\" class=\"dataframe\">\n",
       "  <thead>\n",
       "    <tr style=\"text-align: right;\">\n",
       "      <th>debt</th>\n",
       "      <th>0</th>\n",
       "      <th>1</th>\n",
       "      <th>% non payments</th>\n",
       "    </tr>\n",
       "    <tr>\n",
       "      <th>total_income_category</th>\n",
       "      <th></th>\n",
       "      <th></th>\n",
       "      <th></th>\n",
       "    </tr>\n",
       "  </thead>\n",
       "  <tbody>\n",
       "    <tr>\n",
       "      <td>A</td>\n",
       "      <td>23</td>\n",
       "      <td>2</td>\n",
       "      <td>8.695652</td>\n",
       "    </tr>\n",
       "    <tr>\n",
       "      <td>B</td>\n",
       "      <td>4685</td>\n",
       "      <td>356</td>\n",
       "      <td>7.598719</td>\n",
       "    </tr>\n",
       "    <tr>\n",
       "      <td>C</td>\n",
       "      <td>14726</td>\n",
       "      <td>1360</td>\n",
       "      <td>9.235366</td>\n",
       "    </tr>\n",
       "    <tr>\n",
       "      <td>D</td>\n",
       "      <td>329</td>\n",
       "      <td>21</td>\n",
       "      <td>6.382979</td>\n",
       "    </tr>\n",
       "    <tr>\n",
       "      <td>E</td>\n",
       "      <td>20</td>\n",
       "      <td>2</td>\n",
       "      <td>10.000000</td>\n",
       "    </tr>\n",
       "  </tbody>\n",
       "</table>\n",
       "</div>"
      ],
      "text/plain": [
       "debt                       0     1  % non payments\n",
       "total_income_category                             \n",
       "A                         23     2        8.695652\n",
       "B                       4685   356        7.598719\n",
       "C                      14726  1360        9.235366\n",
       "D                        329    21        6.382979\n",
       "E                         20     2       10.000000"
      ]
     },
     "metadata": {},
     "output_type": "display_data"
    }
   ],
   "source": [
    "income_debt = data.pivot_table(index=['total_income_category'], columns='debt', values='total_income', aggfunc='count')\n",
    "income_debt['% non payments'] = (income_debt[1] * 100  / income_debt[0])\n",
    "display(income_debt)"
   ]
  },
  {
   "cell_type": "markdown",
   "id": "6fa6d80e",
   "metadata": {},
   "source": [
    "**Вывод:**\n",
    "\n",
    "Люди с более низким уровнем дохода `категория Е` имеет большую долю просроченных платещей, нежели с высоким уровнем дохода `категория А`.\n",
    "\n",
    "Также, стоит отметить, долю просроченных платежей среднего класса. `категория С`"
   ]
  },
  {
   "cell_type": "markdown",
   "id": "1a6eeb42",
   "metadata": {},
   "source": [
    "### Как разные цели кредита влияют на его возврат в срок?"
   ]
  },
  {
   "cell_type": "code",
   "execution_count": 42,
   "id": "40fc7a13",
   "metadata": {},
   "outputs": [
    {
     "data": {
      "text/html": [
       "<div>\n",
       "<style scoped>\n",
       "    .dataframe tbody tr th:only-of-type {\n",
       "        vertical-align: middle;\n",
       "    }\n",
       "\n",
       "    .dataframe tbody tr th {\n",
       "        vertical-align: top;\n",
       "    }\n",
       "\n",
       "    .dataframe thead th {\n",
       "        text-align: right;\n",
       "    }\n",
       "</style>\n",
       "<table border=\"1\" class=\"dataframe\">\n",
       "  <thead>\n",
       "    <tr style=\"text-align: right;\">\n",
       "      <th>debt</th>\n",
       "      <th>0</th>\n",
       "      <th>1</th>\n",
       "      <th>% non payments</th>\n",
       "    </tr>\n",
       "    <tr>\n",
       "      <th>purpose_category</th>\n",
       "      <th></th>\n",
       "      <th></th>\n",
       "      <th></th>\n",
       "    </tr>\n",
       "  </thead>\n",
       "  <tbody>\n",
       "    <tr>\n",
       "      <td>операции с автомобилем</td>\n",
       "      <td>3912</td>\n",
       "      <td>403</td>\n",
       "      <td>10.301636</td>\n",
       "    </tr>\n",
       "    <tr>\n",
       "      <td>операции с недвижимостью</td>\n",
       "      <td>10057</td>\n",
       "      <td>782</td>\n",
       "      <td>7.775679</td>\n",
       "    </tr>\n",
       "    <tr>\n",
       "      <td>получение образования</td>\n",
       "      <td>3652</td>\n",
       "      <td>370</td>\n",
       "      <td>10.131435</td>\n",
       "    </tr>\n",
       "    <tr>\n",
       "      <td>проведение свадьбы</td>\n",
       "      <td>2162</td>\n",
       "      <td>186</td>\n",
       "      <td>8.603145</td>\n",
       "    </tr>\n",
       "  </tbody>\n",
       "</table>\n",
       "</div>"
      ],
      "text/plain": [
       "debt                          0    1  % non payments\n",
       "purpose_category                                    \n",
       "операции с автомобилем     3912  403       10.301636\n",
       "операции с недвижимостью  10057  782        7.775679\n",
       "получение образования      3652  370       10.131435\n",
       "проведение свадьбы         2162  186        8.603145"
      ]
     },
     "metadata": {},
     "output_type": "display_data"
    }
   ],
   "source": [
    "purpose_debt = data.pivot_table(index=['purpose_category'], columns='debt', values='purpose', aggfunc='count')\n",
    "purpose_debt['% non payments'] = (purpose_debt[1] * 100  / purpose_debt[0])\n",
    "display(purpose_debt)"
   ]
  },
  {
   "cell_type": "markdown",
   "id": "290655af",
   "metadata": {},
   "source": [
    "**Вывод:**\n",
    "\n",
    "Чаще всего платят в срок люди с категорией `Операции с недвижимостью`, чаще просрочка у категорий `Операции с автомобилем` и `Получение образования`. Кредиты с категорией `Проведение свадьбы` просрачивают реже, примерно как и в случае недвижимости."
   ]
  },
  {
   "cell_type": "markdown",
   "id": "07cb8426",
   "metadata": {},
   "source": [
    "<img src=\"https://hsto.org/r/w1560/getpro/habr/upload_files/dee/1a0/71f/dee1a071f6203a7c34c0b5b6283bcf83.png\" width=\"800\"/>"
   ]
  },
  {
   "cell_type": "markdown",
   "id": "ab049f63",
   "metadata": {},
   "source": [
    "## **Общий вывод:**"
   ]
  },
  {
   "cell_type": "markdown",
   "id": "90002d1f",
   "metadata": {},
   "source": [
    "После заполнения всех пропусков, обработке уникальных значений и удаление неявных дубликатов, а также использования сводных таблиц сделаем вывод:\n",
    "\n",
    "- Количество детей не сильно влияют на сроки выплаты кредита.\n",
    "- `Не женатые/не замужние`и люди состоящие в `гражданском браке` с большей вероятностью не вернут кредит в срок.\n",
    "- Люди с доходом `0–30000` и `50001–200000` более склоны к не возвращению кредита в срок.\n",
    "- Кредиты с целью образования или проведения свадьбы с большей вероятностью будут просрочены."
   ]
  },
  {
   "cell_type": "markdown",
   "id": "c64d1f8d",
   "metadata": {},
   "source": [
    "**Мы ответили на 4 вопроса и установили:**\n",
    "\n",
    "- Зависимость количества детей и возвратом кредита в срок: Клиенты с количеством детей: 0-2 в большей степени подвержены неоплате кредита в срок, чем клиенты с 3-4 детьми. Также можно заметить, что клиенты с 5 детьми совсем не имеют задолженностей! \n",
    "\n",
    "\n",
    "- Расчеты показали, что `не женатые/не замужние` & `люди состоящие в гражданском браке` с большей вероятностью не вернут кредит в срок. Доля клиентов с  просроченными платежами составила: `10.79%` & `10.24%` соответственно.\n",
    "\n",
    "\n",
    "- Люди с более низкими доходами **(< 30.000)** более склоны к не возвратом кредита в срок, нежели клиенты с  более высоким уровнем дохода. Также, стоит отметить, долю просроченных платежей `категории С` с доходами **(50.000–200.000)**.\n",
    "\n",
    "\n",
    "- Чаще всего платят в срок люди с категориями `Операции с недвижимостью` и `Проведение свадьбы` , а у категорий `Операции с автомобилем` и `Получение образования` заметна более высокая доля просроченных платещей по кредиту.\n",
    "\n",
    "- Исходя из проведенного анализа, можно заметить, что многодетные клиенты состоящие в браке, заработком выше среднего самые кредитоспособные для любой категории кредита."
   ]
  }
 ],
 "metadata": {
  "ExecuteTimeLog": [
   {
    "duration": 836,
    "start_time": "2022-02-20T17:47:06.401Z"
   },
   {
    "duration": 4747,
    "start_time": "2022-02-20T17:47:07.240Z"
   },
   {
    "duration": -1009,
    "start_time": "2022-02-20T17:47:13.001Z"
   },
   {
    "duration": -1012,
    "start_time": "2022-02-20T17:47:13.005Z"
   },
   {
    "duration": -1014,
    "start_time": "2022-02-20T17:47:13.009Z"
   },
   {
    "duration": -1017,
    "start_time": "2022-02-20T17:47:13.013Z"
   },
   {
    "duration": -1020,
    "start_time": "2022-02-20T17:47:13.018Z"
   },
   {
    "duration": -1023,
    "start_time": "2022-02-20T17:47:13.022Z"
   },
   {
    "duration": -1025,
    "start_time": "2022-02-20T17:47:13.025Z"
   },
   {
    "duration": -1027,
    "start_time": "2022-02-20T17:47:13.029Z"
   },
   {
    "duration": -1029,
    "start_time": "2022-02-20T17:47:13.032Z"
   },
   {
    "duration": -1032,
    "start_time": "2022-02-20T17:47:13.036Z"
   },
   {
    "duration": -1033,
    "start_time": "2022-02-20T17:47:13.039Z"
   },
   {
    "duration": -1036,
    "start_time": "2022-02-20T17:47:13.043Z"
   },
   {
    "duration": -1039,
    "start_time": "2022-02-20T17:47:13.048Z"
   },
   {
    "duration": -1039,
    "start_time": "2022-02-20T17:47:13.050Z"
   },
   {
    "duration": -1041,
    "start_time": "2022-02-20T17:47:13.053Z"
   },
   {
    "duration": -1042,
    "start_time": "2022-02-20T17:47:13.056Z"
   },
   {
    "duration": -1044,
    "start_time": "2022-02-20T17:47:13.059Z"
   },
   {
    "duration": -1045,
    "start_time": "2022-02-20T17:47:13.062Z"
   },
   {
    "duration": -1045,
    "start_time": "2022-02-20T17:47:13.065Z"
   },
   {
    "duration": -1046,
    "start_time": "2022-02-20T17:47:13.068Z"
   },
   {
    "duration": -1048,
    "start_time": "2022-02-20T17:47:13.072Z"
   },
   {
    "duration": -1049,
    "start_time": "2022-02-20T17:47:13.075Z"
   },
   {
    "duration": -1050,
    "start_time": "2022-02-20T17:47:13.078Z"
   },
   {
    "duration": -1050,
    "start_time": "2022-02-20T17:47:13.080Z"
   },
   {
    "duration": -1052,
    "start_time": "2022-02-20T17:47:13.083Z"
   },
   {
    "duration": -1054,
    "start_time": "2022-02-20T17:47:13.087Z"
   },
   {
    "duration": -1055,
    "start_time": "2022-02-20T17:47:13.090Z"
   },
   {
    "duration": -1055,
    "start_time": "2022-02-20T17:47:13.092Z"
   },
   {
    "duration": -1056,
    "start_time": "2022-02-20T17:47:13.095Z"
   },
   {
    "duration": -1057,
    "start_time": "2022-02-20T17:47:13.098Z"
   },
   {
    "duration": -1058,
    "start_time": "2022-02-20T17:47:13.101Z"
   },
   {
    "duration": -1058,
    "start_time": "2022-02-20T17:47:13.103Z"
   },
   {
    "duration": -1057,
    "start_time": "2022-02-20T17:47:13.106Z"
   },
   {
    "duration": -1058,
    "start_time": "2022-02-20T17:47:13.109Z"
   },
   {
    "duration": -1060,
    "start_time": "2022-02-20T17:47:13.112Z"
   },
   {
    "duration": -1061,
    "start_time": "2022-02-20T17:47:13.115Z"
   },
   {
    "duration": -1063,
    "start_time": "2022-02-20T17:47:13.118Z"
   },
   {
    "duration": -1064,
    "start_time": "2022-02-20T17:47:13.121Z"
   },
   {
    "duration": -1065,
    "start_time": "2022-02-20T17:47:13.124Z"
   },
   {
    "duration": -1077,
    "start_time": "2022-02-20T17:47:13.137Z"
   },
   {
    "duration": -1079,
    "start_time": "2022-02-20T17:47:13.141Z"
   },
   {
    "duration": -1081,
    "start_time": "2022-02-20T17:47:13.145Z"
   },
   {
    "duration": 859,
    "start_time": "2022-02-20T17:53:52.293Z"
   },
   {
    "duration": 3483,
    "start_time": "2022-02-20T17:53:53.155Z"
   },
   {
    "duration": 0,
    "start_time": "2022-02-20T17:53:56.647Z"
   },
   {
    "duration": -5,
    "start_time": "2022-02-20T17:53:56.654Z"
   },
   {
    "duration": -12,
    "start_time": "2022-02-20T17:53:56.663Z"
   },
   {
    "duration": -17,
    "start_time": "2022-02-20T17:53:56.670Z"
   },
   {
    "duration": -21,
    "start_time": "2022-02-20T17:53:56.677Z"
   },
   {
    "duration": -26,
    "start_time": "2022-02-20T17:53:56.684Z"
   },
   {
    "duration": -32,
    "start_time": "2022-02-20T17:53:56.692Z"
   },
   {
    "duration": -36,
    "start_time": "2022-02-20T17:53:56.698Z"
   },
   {
    "duration": -42,
    "start_time": "2022-02-20T17:53:56.706Z"
   },
   {
    "duration": -45,
    "start_time": "2022-02-20T17:53:56.712Z"
   },
   {
    "duration": -52,
    "start_time": "2022-02-20T17:53:56.721Z"
   },
   {
    "duration": -58,
    "start_time": "2022-02-20T17:53:56.729Z"
   },
   {
    "duration": -62,
    "start_time": "2022-02-20T17:53:56.736Z"
   },
   {
    "duration": -67,
    "start_time": "2022-02-20T17:53:56.743Z"
   },
   {
    "duration": -42,
    "start_time": "2022-02-20T17:53:56.751Z"
   },
   {
    "duration": -47,
    "start_time": "2022-02-20T17:53:56.759Z"
   },
   {
    "duration": -55,
    "start_time": "2022-02-20T17:53:56.769Z"
   },
   {
    "duration": -61,
    "start_time": "2022-02-20T17:53:56.777Z"
   },
   {
    "duration": -66,
    "start_time": "2022-02-20T17:53:56.785Z"
   },
   {
    "duration": -70,
    "start_time": "2022-02-20T17:53:56.791Z"
   },
   {
    "duration": -75,
    "start_time": "2022-02-20T17:53:56.798Z"
   },
   {
    "duration": -81,
    "start_time": "2022-02-20T17:53:56.806Z"
   },
   {
    "duration": -84,
    "start_time": "2022-02-20T17:53:56.811Z"
   },
   {
    "duration": -89,
    "start_time": "2022-02-20T17:53:56.818Z"
   },
   {
    "duration": -91,
    "start_time": "2022-02-20T17:53:56.822Z"
   },
   {
    "duration": -93,
    "start_time": "2022-02-20T17:53:56.826Z"
   },
   {
    "duration": -94,
    "start_time": "2022-02-20T17:53:56.830Z"
   },
   {
    "duration": -97,
    "start_time": "2022-02-20T17:53:56.835Z"
   },
   {
    "duration": -102,
    "start_time": "2022-02-20T17:53:56.842Z"
   },
   {
    "duration": -103,
    "start_time": "2022-02-20T17:53:56.846Z"
   },
   {
    "duration": -132,
    "start_time": "2022-02-20T17:53:56.878Z"
   },
   {
    "duration": -154,
    "start_time": "2022-02-20T17:53:56.902Z"
   },
   {
    "duration": -102,
    "start_time": "2022-02-20T17:53:56.911Z"
   },
   {
    "duration": -107,
    "start_time": "2022-02-20T17:53:56.919Z"
   },
   {
    "duration": -115,
    "start_time": "2022-02-20T17:53:56.929Z"
   },
   {
    "duration": -119,
    "start_time": "2022-02-20T17:53:56.935Z"
   },
   {
    "duration": -122,
    "start_time": "2022-02-20T17:53:56.940Z"
   },
   {
    "duration": -123,
    "start_time": "2022-02-20T17:53:56.943Z"
   },
   {
    "duration": -124,
    "start_time": "2022-02-20T17:53:56.946Z"
   },
   {
    "duration": -127,
    "start_time": "2022-02-20T17:53:56.950Z"
   },
   {
    "duration": -130,
    "start_time": "2022-02-20T17:53:56.954Z"
   },
   {
    "duration": -131,
    "start_time": "2022-02-20T17:53:56.957Z"
   },
   {
    "duration": 367,
    "start_time": "2022-02-21T05:59:41.305Z"
   },
   {
    "duration": 574,
    "start_time": "2022-02-21T05:59:46.152Z"
   },
   {
    "duration": 52,
    "start_time": "2022-02-21T05:59:48.041Z"
   },
   {
    "duration": 11,
    "start_time": "2022-02-21T05:59:51.672Z"
   },
   {
    "duration": 18,
    "start_time": "2022-02-21T05:59:52.545Z"
   },
   {
    "duration": 43,
    "start_time": "2022-02-21T06:05:47.644Z"
   },
   {
    "duration": 11,
    "start_time": "2022-02-21T06:05:48.181Z"
   },
   {
    "duration": 12,
    "start_time": "2022-02-21T06:05:48.213Z"
   },
   {
    "duration": 9,
    "start_time": "2022-02-21T06:05:48.350Z"
   },
   {
    "duration": 5,
    "start_time": "2022-02-21T06:05:48.381Z"
   },
   {
    "duration": 10,
    "start_time": "2022-02-21T06:05:48.443Z"
   },
   {
    "duration": 5,
    "start_time": "2022-02-21T06:05:48.510Z"
   },
   {
    "duration": 6,
    "start_time": "2022-02-21T06:05:48.537Z"
   },
   {
    "duration": 5,
    "start_time": "2022-02-21T06:05:48.644Z"
   },
   {
    "duration": 674,
    "start_time": "2022-02-21T06:05:48.706Z"
   },
   {
    "duration": 4,
    "start_time": "2022-02-21T06:05:49.382Z"
   },
   {
    "duration": 10,
    "start_time": "2022-02-21T06:05:49.388Z"
   },
   {
    "duration": 3,
    "start_time": "2022-02-21T06:05:49.400Z"
   },
   {
    "duration": 33,
    "start_time": "2022-02-21T06:05:49.405Z"
   },
   {
    "duration": 15,
    "start_time": "2022-02-21T06:05:49.439Z"
   },
   {
    "duration": 5,
    "start_time": "2022-02-21T06:05:49.456Z"
   },
   {
    "duration": 11,
    "start_time": "2022-02-21T06:05:49.463Z"
   },
   {
    "duration": 6,
    "start_time": "2022-02-21T06:05:49.476Z"
   },
   {
    "duration": 61,
    "start_time": "2022-02-21T06:05:49.483Z"
   },
   {
    "duration": 8,
    "start_time": "2022-02-21T06:05:49.545Z"
   },
   {
    "duration": 11,
    "start_time": "2022-02-21T06:05:49.554Z"
   },
   {
    "duration": 7,
    "start_time": "2022-02-21T06:05:49.566Z"
   },
   {
    "duration": 20,
    "start_time": "2022-02-21T06:05:49.575Z"
   },
   {
    "duration": 40,
    "start_time": "2022-02-21T06:05:49.597Z"
   },
   {
    "duration": 43,
    "start_time": "2022-02-21T06:05:49.638Z"
   },
   {
    "duration": 7,
    "start_time": "2022-02-21T06:05:49.683Z"
   },
   {
    "duration": 15,
    "start_time": "2022-02-21T06:05:49.759Z"
   },
   {
    "duration": 16,
    "start_time": "2022-02-21T06:05:49.825Z"
   },
   {
    "duration": 4,
    "start_time": "2022-02-21T06:05:49.868Z"
   },
   {
    "duration": 4,
    "start_time": "2022-02-21T06:05:49.902Z"
   },
   {
    "duration": 15,
    "start_time": "2022-02-21T06:05:49.933Z"
   },
   {
    "duration": 6,
    "start_time": "2022-02-21T06:05:49.995Z"
   },
   {
    "duration": 8,
    "start_time": "2022-02-21T06:05:50.031Z"
   },
   {
    "duration": 28,
    "start_time": "2022-02-21T06:05:51.017Z"
   },
   {
    "duration": 18,
    "start_time": "2022-02-21T06:05:51.670Z"
   },
   {
    "duration": 18,
    "start_time": "2022-02-21T06:05:52.498Z"
   },
   {
    "duration": 11,
    "start_time": "2022-02-21T06:05:52.815Z"
   },
   {
    "duration": 17,
    "start_time": "2022-02-21T06:05:53.446Z"
   },
   {
    "duration": 10,
    "start_time": "2022-02-21T06:05:53.650Z"
   },
   {
    "duration": 17,
    "start_time": "2022-02-21T06:05:54.250Z"
   },
   {
    "duration": 9,
    "start_time": "2022-02-21T06:05:54.754Z"
   },
   {
    "duration": 18,
    "start_time": "2022-02-21T06:05:54.862Z"
   },
   {
    "duration": 7,
    "start_time": "2022-02-21T06:05:54.891Z"
   },
   {
    "duration": 3,
    "start_time": "2022-02-21T06:05:57.261Z"
   },
   {
    "duration": 505,
    "start_time": "2022-02-21T17:23:46.690Z"
   },
   {
    "duration": 44,
    "start_time": "2022-02-21T17:23:47.197Z"
   },
   {
    "duration": 10,
    "start_time": "2022-02-21T17:23:47.245Z"
   },
   {
    "duration": 17,
    "start_time": "2022-02-21T17:23:47.257Z"
   },
   {
    "duration": 9,
    "start_time": "2022-02-21T17:23:47.276Z"
   },
   {
    "duration": 5,
    "start_time": "2022-02-21T17:23:47.286Z"
   },
   {
    "duration": 41,
    "start_time": "2022-02-21T17:23:47.293Z"
   },
   {
    "duration": 7,
    "start_time": "2022-02-21T17:23:47.336Z"
   },
   {
    "duration": 6,
    "start_time": "2022-02-21T17:23:47.344Z"
   },
   {
    "duration": 3,
    "start_time": "2022-02-21T17:23:47.352Z"
   },
   {
    "duration": 684,
    "start_time": "2022-02-21T17:23:47.357Z"
   },
   {
    "duration": 4,
    "start_time": "2022-02-21T17:23:48.043Z"
   },
   {
    "duration": 12,
    "start_time": "2022-02-21T17:23:48.048Z"
   },
   {
    "duration": 4,
    "start_time": "2022-02-21T17:23:48.061Z"
   },
   {
    "duration": 13,
    "start_time": "2022-02-21T17:23:48.067Z"
   },
   {
    "duration": 50,
    "start_time": "2022-02-21T17:23:48.082Z"
   },
   {
    "duration": 6,
    "start_time": "2022-02-21T17:23:48.133Z"
   },
   {
    "duration": 11,
    "start_time": "2022-02-21T17:23:48.140Z"
   },
   {
    "duration": 7,
    "start_time": "2022-02-21T17:23:48.153Z"
   },
   {
    "duration": 16,
    "start_time": "2022-02-21T17:23:48.162Z"
   },
   {
    "duration": 9,
    "start_time": "2022-02-21T17:23:48.180Z"
   },
   {
    "duration": 17,
    "start_time": "2022-02-21T17:23:48.233Z"
   },
   {
    "duration": 7,
    "start_time": "2022-02-21T17:23:48.252Z"
   },
   {
    "duration": 35,
    "start_time": "2022-02-21T17:23:48.260Z"
   },
   {
    "duration": 6,
    "start_time": "2022-02-21T17:23:48.297Z"
   },
   {
    "duration": 52,
    "start_time": "2022-02-21T17:23:48.304Z"
   },
   {
    "duration": 7,
    "start_time": "2022-02-21T17:23:48.358Z"
   },
   {
    "duration": 15,
    "start_time": "2022-02-21T17:23:48.366Z"
   },
   {
    "duration": 18,
    "start_time": "2022-02-21T17:23:48.382Z"
   },
   {
    "duration": 9,
    "start_time": "2022-02-21T17:23:48.401Z"
   },
   {
    "duration": 22,
    "start_time": "2022-02-21T17:23:48.411Z"
   },
   {
    "duration": 17,
    "start_time": "2022-02-21T17:23:48.435Z"
   },
   {
    "duration": 6,
    "start_time": "2022-02-21T17:23:48.454Z"
   },
   {
    "duration": 12,
    "start_time": "2022-02-21T17:23:48.462Z"
   },
   {
    "duration": 54,
    "start_time": "2022-02-21T17:23:48.477Z"
   },
   {
    "duration": 15,
    "start_time": "2022-02-21T17:23:48.533Z"
   },
   {
    "duration": 18,
    "start_time": "2022-02-21T17:23:48.550Z"
   },
   {
    "duration": 11,
    "start_time": "2022-02-21T17:23:48.569Z"
   },
   {
    "duration": 50,
    "start_time": "2022-02-21T17:23:48.581Z"
   },
   {
    "duration": 9,
    "start_time": "2022-02-21T17:23:48.633Z"
   },
   {
    "duration": 16,
    "start_time": "2022-02-21T17:23:48.644Z"
   },
   {
    "duration": 7,
    "start_time": "2022-02-21T17:23:48.662Z"
   },
   {
    "duration": 18,
    "start_time": "2022-02-21T17:23:48.671Z"
   },
   {
    "duration": 45,
    "start_time": "2022-02-21T17:23:48.690Z"
   },
   {
    "duration": 4,
    "start_time": "2022-02-21T17:23:48.736Z"
   },
   {
    "duration": 601,
    "start_time": "2022-02-21T18:40:36.429Z"
   },
   {
    "duration": 55,
    "start_time": "2022-02-21T18:40:37.032Z"
   },
   {
    "duration": 15,
    "start_time": "2022-02-21T18:40:37.092Z"
   },
   {
    "duration": 32,
    "start_time": "2022-02-21T18:40:37.109Z"
   },
   {
    "duration": 10,
    "start_time": "2022-02-21T18:40:37.143Z"
   },
   {
    "duration": 7,
    "start_time": "2022-02-21T18:40:37.154Z"
   },
   {
    "duration": 12,
    "start_time": "2022-02-21T18:40:37.163Z"
   },
   {
    "duration": 4,
    "start_time": "2022-02-21T18:40:37.178Z"
   },
   {
    "duration": 7,
    "start_time": "2022-02-21T18:40:37.183Z"
   },
   {
    "duration": 40,
    "start_time": "2022-02-21T18:40:37.191Z"
   },
   {
    "duration": 704,
    "start_time": "2022-02-21T18:40:37.233Z"
   },
   {
    "duration": 4,
    "start_time": "2022-02-21T18:40:37.939Z"
   },
   {
    "duration": 11,
    "start_time": "2022-02-21T18:40:37.944Z"
   },
   {
    "duration": 3,
    "start_time": "2022-02-21T18:40:37.957Z"
   },
   {
    "duration": 13,
    "start_time": "2022-02-21T18:40:37.961Z"
   },
   {
    "duration": 14,
    "start_time": "2022-02-21T18:40:37.976Z"
   },
   {
    "duration": 40,
    "start_time": "2022-02-21T18:40:37.992Z"
   },
   {
    "duration": 10,
    "start_time": "2022-02-21T18:40:38.034Z"
   },
   {
    "duration": 7,
    "start_time": "2022-02-21T18:40:38.046Z"
   },
   {
    "duration": 18,
    "start_time": "2022-02-21T18:40:38.055Z"
   },
   {
    "duration": 10,
    "start_time": "2022-02-21T18:40:38.075Z"
   },
   {
    "duration": 49,
    "start_time": "2022-02-21T18:40:38.088Z"
   },
   {
    "duration": 6,
    "start_time": "2022-02-21T18:40:38.139Z"
   },
   {
    "duration": 20,
    "start_time": "2022-02-21T18:40:38.146Z"
   },
   {
    "duration": 7,
    "start_time": "2022-02-21T18:40:38.167Z"
   },
   {
    "duration": 61,
    "start_time": "2022-02-21T18:40:38.176Z"
   },
   {
    "duration": 7,
    "start_time": "2022-02-21T18:40:38.239Z"
   },
   {
    "duration": 17,
    "start_time": "2022-02-21T18:40:38.247Z"
   },
   {
    "duration": 17,
    "start_time": "2022-02-21T18:40:38.265Z"
   },
   {
    "duration": 11,
    "start_time": "2022-02-21T18:40:38.284Z"
   },
   {
    "duration": 8,
    "start_time": "2022-02-21T18:40:38.296Z"
   },
   {
    "duration": 43,
    "start_time": "2022-02-21T18:40:38.306Z"
   },
   {
    "duration": 6,
    "start_time": "2022-02-21T18:40:38.351Z"
   },
   {
    "duration": 9,
    "start_time": "2022-02-21T18:40:38.359Z"
   },
   {
    "duration": 39,
    "start_time": "2022-02-21T18:40:38.369Z"
   },
   {
    "duration": 35,
    "start_time": "2022-02-21T18:40:38.411Z"
   },
   {
    "duration": 20,
    "start_time": "2022-02-21T18:40:38.448Z"
   },
   {
    "duration": 10,
    "start_time": "2022-02-21T18:40:38.470Z"
   },
   {
    "duration": 50,
    "start_time": "2022-02-21T18:40:38.482Z"
   },
   {
    "duration": 9,
    "start_time": "2022-02-21T18:40:38.534Z"
   },
   {
    "duration": 16,
    "start_time": "2022-02-21T18:40:38.545Z"
   },
   {
    "duration": 9,
    "start_time": "2022-02-21T18:40:38.563Z"
   },
   {
    "duration": 18,
    "start_time": "2022-02-21T18:40:38.574Z"
   },
   {
    "duration": 40,
    "start_time": "2022-02-21T18:40:38.594Z"
   },
   {
    "duration": 4,
    "start_time": "2022-02-21T18:40:38.636Z"
   },
   {
    "duration": 366,
    "start_time": "2022-02-22T03:59:17.096Z"
   },
   {
    "duration": 581,
    "start_time": "2022-02-23T04:08:29.505Z"
   },
   {
    "duration": 61,
    "start_time": "2022-02-23T04:08:31.133Z"
   },
   {
    "duration": 12,
    "start_time": "2022-02-23T04:08:32.978Z"
   },
   {
    "duration": 19,
    "start_time": "2022-02-23T04:08:34.195Z"
   },
   {
    "duration": 10,
    "start_time": "2022-02-23T04:08:36.507Z"
   },
   {
    "duration": 3,
    "start_time": "2022-02-23T04:09:39.648Z"
   },
   {
    "duration": 13,
    "start_time": "2022-02-23T04:10:04.207Z"
   },
   {
    "duration": 4,
    "start_time": "2022-02-23T04:10:09.952Z"
   },
   {
    "duration": 4,
    "start_time": "2022-02-23T04:12:24.474Z"
   },
   {
    "duration": 5,
    "start_time": "2022-02-23T04:14:26.305Z"
   },
   {
    "duration": 569,
    "start_time": "2022-02-23T04:17:57.750Z"
   },
   {
    "duration": 18,
    "start_time": "2022-02-23T04:18:07.569Z"
   },
   {
    "duration": 5,
    "start_time": "2022-02-23T04:18:19.224Z"
   },
   {
    "duration": 753,
    "start_time": "2022-02-23T04:19:18.241Z"
   },
   {
    "duration": 4,
    "start_time": "2022-02-23T04:19:21.314Z"
   },
   {
    "duration": 15,
    "start_time": "2022-02-23T04:19:33.148Z"
   },
   {
    "duration": 4,
    "start_time": "2022-02-23T04:20:05.391Z"
   },
   {
    "duration": 11,
    "start_time": "2022-02-23T04:20:07.369Z"
   },
   {
    "duration": 11,
    "start_time": "2022-02-23T04:20:13.093Z"
   },
   {
    "duration": 3,
    "start_time": "2022-02-23T04:20:34.392Z"
   },
   {
    "duration": 47,
    "start_time": "2022-02-23T04:20:35.680Z"
   },
   {
    "duration": 12,
    "start_time": "2022-02-23T04:20:38.069Z"
   },
   {
    "duration": 13,
    "start_time": "2022-02-23T04:20:39.626Z"
   },
   {
    "duration": 13,
    "start_time": "2022-02-23T04:20:41.842Z"
   },
   {
    "duration": 10,
    "start_time": "2022-02-23T04:20:44.316Z"
   },
   {
    "duration": 5,
    "start_time": "2022-02-23T04:20:45.873Z"
   },
   {
    "duration": 4,
    "start_time": "2022-02-23T04:20:47.274Z"
   },
   {
    "duration": 5,
    "start_time": "2022-02-23T04:20:48.930Z"
   },
   {
    "duration": 5,
    "start_time": "2022-02-23T04:20:50.195Z"
   },
   {
    "duration": 19,
    "start_time": "2022-02-23T04:20:51.753Z"
   },
   {
    "duration": 4,
    "start_time": "2022-02-23T04:20:53.393Z"
   },
   {
    "duration": 736,
    "start_time": "2022-02-23T04:20:55.221Z"
   },
   {
    "duration": 4,
    "start_time": "2022-02-23T04:20:56.938Z"
   },
   {
    "duration": 11,
    "start_time": "2022-02-23T04:20:58.974Z"
   },
   {
    "duration": 11,
    "start_time": "2022-02-23T04:21:08.591Z"
   },
   {
    "duration": 16,
    "start_time": "2022-02-23T04:24:54.302Z"
   },
   {
    "duration": 6,
    "start_time": "2022-02-23T04:24:57.020Z"
   },
   {
    "duration": 11,
    "start_time": "2022-02-23T04:25:05.374Z"
   },
   {
    "duration": 13,
    "start_time": "2022-02-23T04:25:12.369Z"
   },
   {
    "duration": 14,
    "start_time": "2022-02-23T04:28:25.538Z"
   },
   {
    "duration": 5,
    "start_time": "2022-02-23T04:28:27.680Z"
   },
   {
    "duration": 6,
    "start_time": "2022-02-23T04:28:33.628Z"
   },
   {
    "duration": 200,
    "start_time": "2022-02-23T04:29:21.424Z"
   },
   {
    "duration": 168,
    "start_time": "2022-02-23T04:29:55.613Z"
   },
   {
    "duration": 152,
    "start_time": "2022-02-23T04:29:59.323Z"
   },
   {
    "duration": 49,
    "start_time": "2022-02-23T04:33:56.092Z"
   },
   {
    "duration": 151,
    "start_time": "2022-02-23T04:34:04.890Z"
   },
   {
    "duration": 189,
    "start_time": "2022-02-23T04:34:39.220Z"
   },
   {
    "duration": 71,
    "start_time": "2022-02-23T04:35:52.008Z"
   },
   {
    "duration": 158,
    "start_time": "2022-02-23T04:36:01.989Z"
   },
   {
    "duration": 312,
    "start_time": "2022-02-23T04:38:26.127Z"
   },
   {
    "duration": 18,
    "start_time": "2022-02-23T04:38:32.768Z"
   },
   {
    "duration": 13,
    "start_time": "2022-02-23T04:39:19.815Z"
   },
   {
    "duration": 8,
    "start_time": "2022-02-23T04:39:26.736Z"
   },
   {
    "duration": 6,
    "start_time": "2022-02-23T04:40:40.062Z"
   },
   {
    "duration": 13,
    "start_time": "2022-02-23T04:40:44.635Z"
   },
   {
    "duration": 8,
    "start_time": "2022-02-23T04:40:47.653Z"
   },
   {
    "duration": 19,
    "start_time": "2022-02-23T04:40:50.183Z"
   },
   {
    "duration": 10,
    "start_time": "2022-02-23T04:40:52.385Z"
   },
   {
    "duration": 8,
    "start_time": "2022-02-23T04:41:11.060Z"
   },
   {
    "duration": 8,
    "start_time": "2022-02-23T04:52:28.264Z"
   },
   {
    "duration": 26,
    "start_time": "2022-02-23T04:52:31.034Z"
   },
   {
    "duration": 8,
    "start_time": "2022-02-23T04:52:47.102Z"
   },
   {
    "duration": 38,
    "start_time": "2022-02-23T04:52:48.472Z"
   },
   {
    "duration": 3,
    "start_time": "2022-02-23T04:53:22.460Z"
   },
   {
    "duration": 55,
    "start_time": "2022-02-23T04:53:24.823Z"
   },
   {
    "duration": 12,
    "start_time": "2022-02-23T04:53:26.634Z"
   },
   {
    "duration": 13,
    "start_time": "2022-02-23T04:53:27.338Z"
   },
   {
    "duration": 11,
    "start_time": "2022-02-23T04:53:29.897Z"
   },
   {
    "duration": 5,
    "start_time": "2022-02-23T04:53:31.347Z"
   },
   {
    "duration": 4,
    "start_time": "2022-02-23T04:53:32.867Z"
   },
   {
    "duration": 6,
    "start_time": "2022-02-23T04:53:34.355Z"
   },
   {
    "duration": 5,
    "start_time": "2022-02-23T04:53:35.807Z"
   },
   {
    "duration": 14,
    "start_time": "2022-02-23T04:53:37.778Z"
   },
   {
    "duration": 5,
    "start_time": "2022-02-23T04:53:39.472Z"
   },
   {
    "duration": 661,
    "start_time": "2022-02-23T04:53:41.340Z"
   },
   {
    "duration": 5,
    "start_time": "2022-02-23T04:53:43.172Z"
   },
   {
    "duration": 10,
    "start_time": "2022-02-23T04:53:44.663Z"
   },
   {
    "duration": 5,
    "start_time": "2022-02-23T04:53:46.551Z"
   },
   {
    "duration": 11,
    "start_time": "2022-02-23T04:53:52.527Z"
   },
   {
    "duration": 11,
    "start_time": "2022-02-23T04:53:56.604Z"
   },
   {
    "duration": 13,
    "start_time": "2022-02-23T04:53:58.883Z"
   },
   {
    "duration": 9,
    "start_time": "2022-02-23T04:53:59.810Z"
   },
   {
    "duration": 6,
    "start_time": "2022-02-23T04:54:01.142Z"
   },
   {
    "duration": 12,
    "start_time": "2022-02-23T04:54:02.503Z"
   },
   {
    "duration": 8,
    "start_time": "2022-02-23T04:54:03.907Z"
   },
   {
    "duration": 17,
    "start_time": "2022-02-23T04:54:05.811Z"
   },
   {
    "duration": 9,
    "start_time": "2022-02-23T04:54:07.603Z"
   },
   {
    "duration": 7,
    "start_time": "2022-02-23T04:54:09.460Z"
   },
   {
    "duration": 8,
    "start_time": "2022-02-23T04:54:10.631Z"
   },
   {
    "duration": 22,
    "start_time": "2022-02-23T04:54:12.735Z"
   },
   {
    "duration": 9,
    "start_time": "2022-02-23T04:54:14.445Z"
   },
   {
    "duration": 4,
    "start_time": "2022-02-23T04:54:27.284Z"
   },
   {
    "duration": 4,
    "start_time": "2022-02-23T04:54:30.527Z"
   },
   {
    "duration": 5,
    "start_time": "2022-02-23T04:54:31.616Z"
   },
   {
    "duration": 5,
    "start_time": "2022-02-23T04:54:33.724Z"
   },
   {
    "duration": 15,
    "start_time": "2022-02-23T04:54:35.583Z"
   },
   {
    "duration": 4,
    "start_time": "2022-02-23T04:54:36.995Z"
   },
   {
    "duration": 667,
    "start_time": "2022-02-23T04:54:38.396Z"
   },
   {
    "duration": 5,
    "start_time": "2022-02-23T04:54:40.620Z"
   },
   {
    "duration": 10,
    "start_time": "2022-02-23T04:54:42.535Z"
   },
   {
    "duration": 3,
    "start_time": "2022-02-23T04:54:44.484Z"
   },
   {
    "duration": 667,
    "start_time": "2022-02-23T04:54:49.051Z"
   },
   {
    "duration": 11,
    "start_time": "2022-02-23T04:54:50.432Z"
   },
   {
    "duration": 4,
    "start_time": "2022-02-23T04:54:52.145Z"
   },
   {
    "duration": 10,
    "start_time": "2022-02-23T04:54:53.067Z"
   },
   {
    "duration": 13,
    "start_time": "2022-02-23T04:54:54.539Z"
   },
   {
    "duration": 9,
    "start_time": "2022-02-23T04:54:54.986Z"
   },
   {
    "duration": 7,
    "start_time": "2022-02-23T04:54:56.309Z"
   },
   {
    "duration": 11,
    "start_time": "2022-02-23T04:54:57.737Z"
   },
   {
    "duration": 8,
    "start_time": "2022-02-23T04:54:59.004Z"
   },
   {
    "duration": 18,
    "start_time": "2022-02-23T04:55:00.582Z"
   },
   {
    "duration": 9,
    "start_time": "2022-02-23T04:55:01.723Z"
   },
   {
    "duration": 7,
    "start_time": "2022-02-23T04:55:03.462Z"
   },
   {
    "duration": 8,
    "start_time": "2022-02-23T04:55:04.329Z"
   },
   {
    "duration": 23,
    "start_time": "2022-02-23T04:55:05.820Z"
   },
   {
    "duration": 9,
    "start_time": "2022-02-23T04:55:08.242Z"
   },
   {
    "duration": 36,
    "start_time": "2022-02-23T04:55:09.634Z"
   },
   {
    "duration": 9,
    "start_time": "2022-02-23T04:55:12.217Z"
   },
   {
    "duration": 8,
    "start_time": "2022-02-23T04:57:55.640Z"
   },
   {
    "duration": 17,
    "start_time": "2022-02-23T04:57:57.584Z"
   },
   {
    "duration": 5,
    "start_time": "2022-02-23T05:00:21.456Z"
   },
   {
    "duration": 4,
    "start_time": "2022-02-23T05:00:22.277Z"
   },
   {
    "duration": 18,
    "start_time": "2022-02-23T05:00:23.517Z"
   },
   {
    "duration": 158,
    "start_time": "2022-02-23T05:00:31.293Z"
   },
   {
    "duration": 142,
    "start_time": "2022-02-23T05:00:40.814Z"
   },
   {
    "duration": 4,
    "start_time": "2022-02-23T05:00:45.864Z"
   },
   {
    "duration": 4,
    "start_time": "2022-02-23T05:00:46.908Z"
   },
   {
    "duration": 4,
    "start_time": "2022-02-23T05:06:49.579Z"
   },
   {
    "duration": 3409,
    "start_time": "2022-02-23T05:07:32.697Z"
   },
   {
    "duration": 24,
    "start_time": "2022-02-23T05:08:33.664Z"
   },
   {
    "duration": 3654,
    "start_time": "2022-02-23T05:08:34.680Z"
   },
   {
    "duration": 25,
    "start_time": "2022-02-23T05:08:48.791Z"
   },
   {
    "duration": 3609,
    "start_time": "2022-02-23T05:08:50.077Z"
   },
   {
    "duration": 25,
    "start_time": "2022-02-23T05:09:38.375Z"
   },
   {
    "duration": 3537,
    "start_time": "2022-02-23T05:09:39.587Z"
   },
   {
    "duration": 25,
    "start_time": "2022-02-23T05:10:25.159Z"
   },
   {
    "duration": 3362,
    "start_time": "2022-02-23T05:10:25.764Z"
   },
   {
    "duration": 26,
    "start_time": "2022-02-23T05:10:39.003Z"
   },
   {
    "duration": 3620,
    "start_time": "2022-02-23T05:10:39.951Z"
   },
   {
    "duration": 26,
    "start_time": "2022-02-23T05:10:49.691Z"
   },
   {
    "duration": 3555,
    "start_time": "2022-02-23T05:11:00.043Z"
   },
   {
    "duration": 26,
    "start_time": "2022-02-23T05:11:30.180Z"
   },
   {
    "duration": 3419,
    "start_time": "2022-02-23T05:11:31.804Z"
   },
   {
    "duration": 29,
    "start_time": "2022-02-23T05:12:24.582Z"
   },
   {
    "duration": 3523,
    "start_time": "2022-02-23T05:12:25.463Z"
   },
   {
    "duration": 26,
    "start_time": "2022-02-23T05:12:37.806Z"
   },
   {
    "duration": 3574,
    "start_time": "2022-02-23T05:12:39.729Z"
   },
   {
    "duration": 2830,
    "start_time": "2022-02-23T05:12:56.336Z"
   },
   {
    "duration": 20,
    "start_time": "2022-02-23T05:17:32.863Z"
   },
   {
    "duration": 28,
    "start_time": "2022-02-23T05:17:35.355Z"
   },
   {
    "duration": 11,
    "start_time": "2022-02-23T05:17:37.657Z"
   },
   {
    "duration": 19,
    "start_time": "2022-02-23T05:19:50.530Z"
   },
   {
    "duration": 20,
    "start_time": "2022-02-23T05:19:53.782Z"
   },
   {
    "duration": 40,
    "start_time": "2022-02-23T05:21:37.577Z"
   },
   {
    "duration": 156,
    "start_time": "2022-02-23T05:24:49.340Z"
   },
   {
    "duration": 148,
    "start_time": "2022-02-23T05:37:36.984Z"
   },
   {
    "duration": 38,
    "start_time": "2022-02-23T05:37:53.160Z"
   },
   {
    "duration": 11,
    "start_time": "2022-02-23T05:38:20.877Z"
   },
   {
    "duration": 52,
    "start_time": "2022-02-23T05:38:26.927Z"
   },
   {
    "duration": 46,
    "start_time": "2022-02-23T05:38:32.584Z"
   },
   {
    "duration": 10,
    "start_time": "2022-02-23T05:38:36.701Z"
   },
   {
    "duration": 175,
    "start_time": "2022-02-23T05:47:33.827Z"
   },
   {
    "duration": 142,
    "start_time": "2022-02-23T05:47:58.099Z"
   },
   {
    "duration": 150,
    "start_time": "2022-02-23T05:48:07.158Z"
   },
   {
    "duration": 2,
    "start_time": "2022-02-23T05:49:02.789Z"
   },
   {
    "duration": 42,
    "start_time": "2022-02-23T05:49:48.277Z"
   },
   {
    "duration": 48,
    "start_time": "2022-02-23T05:50:25.015Z"
   },
   {
    "duration": 178,
    "start_time": "2022-02-23T05:51:12.421Z"
   },
   {
    "duration": 39,
    "start_time": "2022-02-23T05:51:39.592Z"
   },
   {
    "duration": 1166,
    "start_time": "2022-02-23T05:52:11.868Z"
   },
   {
    "duration": 16,
    "start_time": "2022-02-23T05:52:27.061Z"
   },
   {
    "duration": 23,
    "start_time": "2022-02-23T05:52:37.865Z"
   },
   {
    "duration": 23,
    "start_time": "2022-02-23T05:55:02.905Z"
   },
   {
    "duration": 151,
    "start_time": "2022-02-23T05:55:39.399Z"
   },
   {
    "duration": 1691,
    "start_time": "2022-02-23T05:55:52.277Z"
   },
   {
    "duration": 42,
    "start_time": "2022-02-23T05:56:05.161Z"
   },
   {
    "duration": 25,
    "start_time": "2022-02-23T05:56:08.635Z"
   },
   {
    "duration": 1360,
    "start_time": "2022-02-23T05:56:13.236Z"
   },
   {
    "duration": 25,
    "start_time": "2022-02-23T05:56:16.151Z"
   },
   {
    "duration": 28,
    "start_time": "2022-02-23T06:06:58.207Z"
   },
   {
    "duration": 161,
    "start_time": "2022-02-23T06:07:25.971Z"
   },
   {
    "duration": 12,
    "start_time": "2022-02-23T06:07:30.061Z"
   },
   {
    "duration": 11,
    "start_time": "2022-02-23T06:07:35.560Z"
   },
   {
    "duration": 11,
    "start_time": "2022-02-23T06:07:43.511Z"
   },
   {
    "duration": 3,
    "start_time": "2022-02-23T06:09:35.061Z"
   },
   {
    "duration": 1156,
    "start_time": "2022-02-23T06:09:41.959Z"
   },
   {
    "duration": 1330,
    "start_time": "2022-02-23T06:09:59.142Z"
   },
   {
    "duration": 26,
    "start_time": "2022-02-23T06:10:31.888Z"
   },
   {
    "duration": 138,
    "start_time": "2022-02-23T06:10:48.657Z"
   },
   {
    "duration": 21,
    "start_time": "2022-02-23T06:13:47.627Z"
   },
   {
    "duration": 24,
    "start_time": "2022-02-23T06:13:56.082Z"
   },
   {
    "duration": 4,
    "start_time": "2022-02-23T06:18:05.693Z"
   },
   {
    "duration": 15,
    "start_time": "2022-02-23T06:18:11.687Z"
   },
   {
    "duration": 18,
    "start_time": "2022-02-23T06:18:47.726Z"
   },
   {
    "duration": 4,
    "start_time": "2022-02-23T06:18:51.368Z"
   },
   {
    "duration": 7,
    "start_time": "2022-02-23T06:18:53.215Z"
   },
   {
    "duration": 4,
    "start_time": "2022-02-23T06:20:24.156Z"
   },
   {
    "duration": 9,
    "start_time": "2022-02-23T06:20:25.700Z"
   },
   {
    "duration": 5,
    "start_time": "2022-02-23T06:32:18.404Z"
   },
   {
    "duration": 10,
    "start_time": "2022-02-23T06:32:20.634Z"
   },
   {
    "duration": 19,
    "start_time": "2022-02-23T06:38:33.021Z"
   },
   {
    "duration": 17,
    "start_time": "2022-02-23T06:38:44.862Z"
   },
   {
    "duration": 16,
    "start_time": "2022-02-23T06:38:56.861Z"
   },
   {
    "duration": 20,
    "start_time": "2022-02-23T06:39:18.001Z"
   },
   {
    "duration": 3505,
    "start_time": "2022-02-23T06:39:22.956Z"
   },
   {
    "duration": 146,
    "start_time": "2022-02-23T06:39:55.398Z"
   },
   {
    "duration": 177,
    "start_time": "2022-02-23T06:40:00.020Z"
   },
   {
    "duration": 19,
    "start_time": "2022-02-23T06:40:06.008Z"
   },
   {
    "duration": 147,
    "start_time": "2022-02-23T06:43:27.199Z"
   },
   {
    "duration": 1733,
    "start_time": "2022-02-23T06:43:44.045Z"
   },
   {
    "duration": 39,
    "start_time": "2022-02-23T06:44:08.239Z"
   },
   {
    "duration": 22,
    "start_time": "2022-02-23T06:45:22.314Z"
   },
   {
    "duration": 3528,
    "start_time": "2022-02-23T06:53:27.067Z"
   },
   {
    "duration": 25,
    "start_time": "2022-02-23T06:53:36.519Z"
   },
   {
    "duration": 183,
    "start_time": "2022-02-23T06:54:11.159Z"
   },
   {
    "duration": 202,
    "start_time": "2022-02-23T06:55:05.732Z"
   },
   {
    "duration": 26,
    "start_time": "2022-02-23T06:55:09.396Z"
   },
   {
    "duration": 26,
    "start_time": "2022-02-23T06:55:27.238Z"
   },
   {
    "duration": 27,
    "start_time": "2022-02-23T06:55:36.401Z"
   },
   {
    "duration": 312,
    "start_time": "2022-02-23T06:55:48.293Z"
   },
   {
    "duration": 23,
    "start_time": "2022-02-23T06:55:53.767Z"
   },
   {
    "duration": 152,
    "start_time": "2022-02-23T06:55:58.569Z"
   },
   {
    "duration": 209,
    "start_time": "2022-02-23T06:56:04.236Z"
   },
   {
    "duration": 147,
    "start_time": "2022-02-23T06:56:07.123Z"
   },
   {
    "duration": 208,
    "start_time": "2022-02-23T06:57:24.647Z"
   },
   {
    "duration": 21,
    "start_time": "2022-02-23T06:57:33.015Z"
   },
   {
    "duration": 3695,
    "start_time": "2022-02-23T06:57:50.109Z"
   },
   {
    "duration": 147,
    "start_time": "2022-02-23T07:00:44.342Z"
   },
   {
    "duration": 21,
    "start_time": "2022-02-23T07:00:48.584Z"
   },
   {
    "duration": 49,
    "start_time": "2022-02-23T07:00:55.319Z"
   },
   {
    "duration": 21,
    "start_time": "2022-02-23T07:01:02.937Z"
   },
   {
    "duration": 165,
    "start_time": "2022-02-23T07:01:09.786Z"
   },
   {
    "duration": 218,
    "start_time": "2022-02-23T07:01:12.851Z"
   },
   {
    "duration": 20,
    "start_time": "2022-02-23T07:02:32.220Z"
   },
   {
    "duration": 20,
    "start_time": "2022-02-23T07:03:32.487Z"
   },
   {
    "duration": 4893,
    "start_time": "2022-02-23T07:03:56.313Z"
   },
   {
    "duration": 23,
    "start_time": "2022-02-23T07:04:05.692Z"
   },
   {
    "duration": 21,
    "start_time": "2022-02-23T07:23:37.524Z"
   },
   {
    "duration": 3,
    "start_time": "2022-02-23T07:33:32.569Z"
   },
   {
    "duration": 55,
    "start_time": "2022-02-23T07:33:32.574Z"
   },
   {
    "duration": 13,
    "start_time": "2022-02-23T07:33:32.632Z"
   },
   {
    "duration": 16,
    "start_time": "2022-02-23T07:33:32.647Z"
   },
   {
    "duration": 11,
    "start_time": "2022-02-23T07:33:32.665Z"
   },
   {
    "duration": 5,
    "start_time": "2022-02-23T07:33:32.677Z"
   },
   {
    "duration": 3,
    "start_time": "2022-02-23T07:33:32.696Z"
   },
   {
    "duration": 5,
    "start_time": "2022-02-23T07:33:32.702Z"
   },
   {
    "duration": 6,
    "start_time": "2022-02-23T07:33:32.709Z"
   },
   {
    "duration": 16,
    "start_time": "2022-02-23T07:33:32.716Z"
   },
   {
    "duration": 27,
    "start_time": "2022-02-23T07:33:32.733Z"
   },
   {
    "duration": 690,
    "start_time": "2022-02-23T07:33:32.830Z"
   },
   {
    "duration": 5,
    "start_time": "2022-02-23T07:33:33.522Z"
   },
   {
    "duration": 15,
    "start_time": "2022-02-23T07:33:33.529Z"
   },
   {
    "duration": 15,
    "start_time": "2022-02-23T07:33:33.547Z"
   },
   {
    "duration": 19,
    "start_time": "2022-02-23T07:33:33.564Z"
   },
   {
    "duration": 14,
    "start_time": "2022-02-23T07:33:33.585Z"
   },
   {
    "duration": 16,
    "start_time": "2022-02-23T07:33:33.601Z"
   },
   {
    "duration": 6,
    "start_time": "2022-02-23T07:33:33.618Z"
   },
   {
    "duration": 12,
    "start_time": "2022-02-23T07:33:33.659Z"
   },
   {
    "duration": 7,
    "start_time": "2022-02-23T07:33:33.674Z"
   },
   {
    "duration": 26,
    "start_time": "2022-02-23T07:33:33.682Z"
   },
   {
    "duration": 11,
    "start_time": "2022-02-23T07:33:33.709Z"
   },
   {
    "duration": 14,
    "start_time": "2022-02-23T07:33:33.721Z"
   },
   {
    "duration": 27,
    "start_time": "2022-02-23T07:33:33.737Z"
   },
   {
    "duration": 26,
    "start_time": "2022-02-23T07:33:33.765Z"
   },
   {
    "duration": 7,
    "start_time": "2022-02-23T07:33:33.793Z"
   },
   {
    "duration": 36,
    "start_time": "2022-02-23T07:33:33.802Z"
   },
   {
    "duration": 25,
    "start_time": "2022-02-23T07:33:33.840Z"
   },
   {
    "duration": 15,
    "start_time": "2022-02-23T07:33:33.867Z"
   },
   {
    "duration": 8,
    "start_time": "2022-02-23T07:33:33.883Z"
   },
   {
    "duration": 8,
    "start_time": "2022-02-23T07:33:33.892Z"
   },
   {
    "duration": 12,
    "start_time": "2022-02-23T07:33:33.902Z"
   },
   {
    "duration": 47,
    "start_time": "2022-02-23T07:33:33.916Z"
   },
   {
    "duration": 3438,
    "start_time": "2022-02-23T07:33:33.964Z"
   },
   {
    "duration": 19,
    "start_time": "2022-02-23T07:33:37.404Z"
   },
   {
    "duration": 41,
    "start_time": "2022-02-23T07:33:37.425Z"
   },
   {
    "duration": 12,
    "start_time": "2022-02-23T07:33:37.469Z"
   },
   {
    "duration": 12,
    "start_time": "2022-02-23T07:33:37.484Z"
   },
   {
    "duration": 24,
    "start_time": "2022-02-23T07:33:37.498Z"
   },
   {
    "duration": 39,
    "start_time": "2022-02-23T07:33:37.524Z"
   },
   {
    "duration": 21,
    "start_time": "2022-02-23T07:33:37.565Z"
   },
   {
    "duration": 3,
    "start_time": "2022-02-23T07:33:37.588Z"
   },
   {
    "duration": 3,
    "start_time": "2022-02-23T07:35:06.750Z"
   },
   {
    "duration": 52,
    "start_time": "2022-02-23T07:35:07.568Z"
   },
   {
    "duration": 11,
    "start_time": "2022-02-23T07:35:08.548Z"
   },
   {
    "duration": 13,
    "start_time": "2022-02-23T07:35:10.387Z"
   },
   {
    "duration": 10,
    "start_time": "2022-02-23T07:35:13.032Z"
   },
   {
    "duration": 5,
    "start_time": "2022-02-23T07:35:14.558Z"
   },
   {
    "duration": 4,
    "start_time": "2022-02-23T07:35:16.096Z"
   },
   {
    "duration": 5,
    "start_time": "2022-02-23T07:35:18.666Z"
   },
   {
    "duration": 5,
    "start_time": "2022-02-23T07:35:20.426Z"
   },
   {
    "duration": 22,
    "start_time": "2022-02-23T07:35:21.935Z"
   },
   {
    "duration": 5,
    "start_time": "2022-02-23T07:35:24.050Z"
   },
   {
    "duration": 658,
    "start_time": "2022-02-23T07:35:25.721Z"
   },
   {
    "duration": 5,
    "start_time": "2022-02-23T07:35:27.245Z"
   },
   {
    "duration": 10,
    "start_time": "2022-02-23T07:35:28.566Z"
   },
   {
    "duration": 14,
    "start_time": "2022-02-23T07:38:12.047Z"
   },
   {
    "duration": 12,
    "start_time": "2022-02-23T07:41:23.204Z"
   },
   {
    "duration": 5,
    "start_time": "2022-02-23T07:41:26.166Z"
   },
   {
    "duration": 16,
    "start_time": "2022-02-23T07:41:27.933Z"
   },
   {
    "duration": 5,
    "start_time": "2022-02-23T07:41:29.431Z"
   },
   {
    "duration": 689,
    "start_time": "2022-02-23T07:41:30.395Z"
   },
   {
    "duration": 5,
    "start_time": "2022-02-23T07:41:31.087Z"
   },
   {
    "duration": 15,
    "start_time": "2022-02-23T07:41:31.095Z"
   },
   {
    "duration": 3,
    "start_time": "2022-02-23T07:41:31.112Z"
   },
   {
    "duration": 43,
    "start_time": "2022-02-23T07:41:31.117Z"
   },
   {
    "duration": 13,
    "start_time": "2022-02-23T07:41:31.162Z"
   },
   {
    "duration": 17,
    "start_time": "2022-02-23T07:41:31.177Z"
   },
   {
    "duration": 9,
    "start_time": "2022-02-23T07:41:31.196Z"
   },
   {
    "duration": 19,
    "start_time": "2022-02-23T07:41:31.207Z"
   },
   {
    "duration": 14,
    "start_time": "2022-02-23T07:41:31.228Z"
   },
   {
    "duration": 34,
    "start_time": "2022-02-23T07:41:31.244Z"
   },
   {
    "duration": 13,
    "start_time": "2022-02-23T07:41:31.280Z"
   },
   {
    "duration": 8,
    "start_time": "2022-02-23T07:41:31.356Z"
   },
   {
    "duration": 8,
    "start_time": "2022-02-23T07:41:31.427Z"
   },
   {
    "duration": 22,
    "start_time": "2022-02-23T07:41:31.499Z"
   },
   {
    "duration": 9,
    "start_time": "2022-02-23T07:41:31.554Z"
   },
   {
    "duration": 33,
    "start_time": "2022-02-23T07:41:31.588Z"
   },
   {
    "duration": 8,
    "start_time": "2022-02-23T07:41:31.728Z"
   },
   {
    "duration": 17,
    "start_time": "2022-02-23T07:41:31.820Z"
   },
   {
    "duration": 4,
    "start_time": "2022-02-23T07:41:31.984Z"
   },
   {
    "duration": 5,
    "start_time": "2022-02-23T07:41:32.020Z"
   },
   {
    "duration": 9,
    "start_time": "2022-02-23T07:41:32.051Z"
   },
   {
    "duration": 27,
    "start_time": "2022-02-23T07:41:32.175Z"
   },
   {
    "duration": 3619,
    "start_time": "2022-02-23T07:41:32.207Z"
   },
   {
    "duration": 32,
    "start_time": "2022-02-23T07:41:35.828Z"
   },
   {
    "duration": 18,
    "start_time": "2022-02-23T07:41:36.455Z"
   },
   {
    "duration": 4,
    "start_time": "2022-02-23T07:41:36.647Z"
   },
   {
    "duration": 8,
    "start_time": "2022-02-23T07:41:36.834Z"
   },
   {
    "duration": 22,
    "start_time": "2022-02-23T07:41:37.826Z"
   },
   {
    "duration": 21,
    "start_time": "2022-02-23T07:41:38.728Z"
   },
   {
    "duration": 21,
    "start_time": "2022-02-23T07:41:39.804Z"
   },
   {
    "duration": 4,
    "start_time": "2022-02-23T07:41:44.100Z"
   },
   {
    "duration": 44,
    "start_time": "2022-02-23T07:43:41.550Z"
   },
   {
    "duration": 614,
    "start_time": "2022-02-23T08:30:10.001Z"
   },
   {
    "duration": 56,
    "start_time": "2022-02-23T08:30:10.617Z"
   },
   {
    "duration": 13,
    "start_time": "2022-02-23T08:30:10.675Z"
   },
   {
    "duration": 21,
    "start_time": "2022-02-23T08:30:10.690Z"
   },
   {
    "duration": 14,
    "start_time": "2022-02-23T08:30:10.713Z"
   },
   {
    "duration": 8,
    "start_time": "2022-02-23T08:30:10.728Z"
   },
   {
    "duration": 33,
    "start_time": "2022-02-23T08:30:10.738Z"
   },
   {
    "duration": 10,
    "start_time": "2022-02-23T08:30:10.774Z"
   },
   {
    "duration": 10,
    "start_time": "2022-02-23T08:30:10.787Z"
   },
   {
    "duration": 20,
    "start_time": "2022-02-23T08:30:10.799Z"
   },
   {
    "duration": 4,
    "start_time": "2022-02-23T08:30:10.821Z"
   },
   {
    "duration": 782,
    "start_time": "2022-02-23T08:30:10.827Z"
   },
   {
    "duration": 5,
    "start_time": "2022-02-23T08:30:11.611Z"
   },
   {
    "duration": 17,
    "start_time": "2022-02-23T08:30:11.617Z"
   },
   {
    "duration": 25,
    "start_time": "2022-02-23T08:30:11.635Z"
   },
   {
    "duration": 27,
    "start_time": "2022-02-23T08:30:11.662Z"
   },
   {
    "duration": 24,
    "start_time": "2022-02-23T08:30:11.691Z"
   },
   {
    "duration": 45,
    "start_time": "2022-02-23T08:30:11.717Z"
   },
   {
    "duration": 18,
    "start_time": "2022-02-23T08:30:11.764Z"
   },
   {
    "duration": 29,
    "start_time": "2022-02-23T08:30:11.784Z"
   },
   {
    "duration": 39,
    "start_time": "2022-02-23T08:30:11.814Z"
   },
   {
    "duration": 44,
    "start_time": "2022-02-23T08:30:11.855Z"
   },
   {
    "duration": 15,
    "start_time": "2022-02-23T08:30:11.903Z"
   },
   {
    "duration": 29,
    "start_time": "2022-02-23T08:30:11.920Z"
   },
   {
    "duration": 30,
    "start_time": "2022-02-23T08:30:11.950Z"
   },
   {
    "duration": 58,
    "start_time": "2022-02-23T08:30:11.982Z"
   },
   {
    "duration": 35,
    "start_time": "2022-02-23T08:30:12.042Z"
   },
   {
    "duration": 61,
    "start_time": "2022-02-23T08:30:12.079Z"
   },
   {
    "duration": 9,
    "start_time": "2022-02-23T08:30:12.142Z"
   },
   {
    "duration": 23,
    "start_time": "2022-02-23T08:30:12.153Z"
   },
   {
    "duration": 20,
    "start_time": "2022-02-23T08:30:12.178Z"
   },
   {
    "duration": 19,
    "start_time": "2022-02-23T08:30:12.200Z"
   },
   {
    "duration": 27,
    "start_time": "2022-02-23T08:30:12.221Z"
   },
   {
    "duration": 19,
    "start_time": "2022-02-23T08:30:12.250Z"
   },
   {
    "duration": 3755,
    "start_time": "2022-02-23T08:30:12.271Z"
   },
   {
    "duration": 22,
    "start_time": "2022-02-23T08:30:16.028Z"
   },
   {
    "duration": 22,
    "start_time": "2022-02-23T08:30:16.070Z"
   },
   {
    "duration": 5,
    "start_time": "2022-02-23T08:30:16.094Z"
   },
   {
    "duration": 11,
    "start_time": "2022-02-23T08:30:16.102Z"
   },
   {
    "duration": 55,
    "start_time": "2022-02-23T08:30:16.115Z"
   },
   {
    "duration": 22,
    "start_time": "2022-02-23T08:30:16.172Z"
   },
   {
    "duration": 24,
    "start_time": "2022-02-23T08:30:16.196Z"
   },
   {
    "duration": 4,
    "start_time": "2022-02-23T08:30:16.222Z"
   },
   {
    "duration": 706,
    "start_time": "2022-02-23T08:47:37.748Z"
   },
   {
    "duration": 54,
    "start_time": "2022-02-23T08:47:38.456Z"
   },
   {
    "duration": 12,
    "start_time": "2022-02-23T08:47:38.513Z"
   },
   {
    "duration": 20,
    "start_time": "2022-02-23T08:47:38.528Z"
   },
   {
    "duration": 27,
    "start_time": "2022-02-23T08:47:38.550Z"
   },
   {
    "duration": 6,
    "start_time": "2022-02-23T08:47:38.578Z"
   },
   {
    "duration": 10,
    "start_time": "2022-02-23T08:47:38.586Z"
   },
   {
    "duration": 12,
    "start_time": "2022-02-23T08:47:38.598Z"
   },
   {
    "duration": 13,
    "start_time": "2022-02-23T08:47:38.613Z"
   },
   {
    "duration": 28,
    "start_time": "2022-02-23T08:47:38.628Z"
   },
   {
    "duration": 14,
    "start_time": "2022-02-23T08:47:38.658Z"
   },
   {
    "duration": 765,
    "start_time": "2022-02-23T08:47:38.674Z"
   },
   {
    "duration": 4,
    "start_time": "2022-02-23T08:47:39.441Z"
   },
   {
    "duration": 23,
    "start_time": "2022-02-23T08:47:39.447Z"
   },
   {
    "duration": 4,
    "start_time": "2022-02-23T08:47:39.472Z"
   },
   {
    "duration": 22,
    "start_time": "2022-02-23T08:47:39.478Z"
   },
   {
    "duration": 15,
    "start_time": "2022-02-23T08:47:39.502Z"
   },
   {
    "duration": 12,
    "start_time": "2022-02-23T08:47:39.519Z"
   },
   {
    "duration": 7,
    "start_time": "2022-02-23T08:47:39.570Z"
   },
   {
    "duration": 15,
    "start_time": "2022-02-23T08:47:39.579Z"
   },
   {
    "duration": 10,
    "start_time": "2022-02-23T08:47:39.596Z"
   },
   {
    "duration": 20,
    "start_time": "2022-02-23T08:47:39.608Z"
   },
   {
    "duration": 50,
    "start_time": "2022-02-23T08:47:39.630Z"
   },
   {
    "duration": 9,
    "start_time": "2022-02-23T08:47:39.682Z"
   },
   {
    "duration": 7,
    "start_time": "2022-02-23T08:47:39.693Z"
   },
   {
    "duration": 23,
    "start_time": "2022-02-23T08:47:39.702Z"
   },
   {
    "duration": 44,
    "start_time": "2022-02-23T08:47:39.728Z"
   },
   {
    "duration": 39,
    "start_time": "2022-02-23T08:47:39.774Z"
   },
   {
    "duration": 8,
    "start_time": "2022-02-23T08:47:39.815Z"
   },
   {
    "duration": 25,
    "start_time": "2022-02-23T08:47:39.825Z"
   },
   {
    "duration": 20,
    "start_time": "2022-02-23T08:47:39.852Z"
   },
   {
    "duration": 6,
    "start_time": "2022-02-23T08:47:39.874Z"
   },
   {
    "duration": 15,
    "start_time": "2022-02-23T08:47:39.882Z"
   },
   {
    "duration": 5,
    "start_time": "2022-02-23T08:47:39.899Z"
   },
   {
    "duration": 4003,
    "start_time": "2022-02-23T08:47:39.906Z"
   },
   {
    "duration": 21,
    "start_time": "2022-02-23T08:47:43.912Z"
   },
   {
    "duration": 44,
    "start_time": "2022-02-23T08:47:43.935Z"
   },
   {
    "duration": 4,
    "start_time": "2022-02-23T08:47:43.981Z"
   },
   {
    "duration": 15,
    "start_time": "2022-02-23T08:47:43.987Z"
   },
   {
    "duration": 35,
    "start_time": "2022-02-23T08:47:44.004Z"
   },
   {
    "duration": 35,
    "start_time": "2022-02-23T08:47:44.040Z"
   },
   {
    "duration": 23,
    "start_time": "2022-02-23T08:47:44.077Z"
   },
   {
    "duration": 3,
    "start_time": "2022-02-23T08:47:44.102Z"
   }
  ],
  "kernelspec": {
   "display_name": "Python 3 (ipykernel)",
   "language": "python",
   "name": "python3"
  },
  "language_info": {
   "codemirror_mode": {
    "name": "ipython",
    "version": 3
   },
   "file_extension": ".py",
   "mimetype": "text/x-python",
   "name": "python",
   "nbconvert_exporter": "python",
   "pygments_lexer": "ipython3",
   "version": "3.9.13"
  },
  "latex_envs": {
   "LaTeX_envs_menu_present": true,
   "autoclose": false,
   "autocomplete": true,
   "bibliofile": "biblio.bib",
   "cite_by": "apalike",
   "current_citInitial": 1,
   "eqLabelWithNumbers": true,
   "eqNumInitial": 1,
   "hotkeys": {
    "equation": "Ctrl-E",
    "itemize": "Ctrl-I"
   },
   "labels_anchors": false,
   "latex_user_defs": false,
   "report_style_numbering": false,
   "user_envs_cfg": false
  },
  "toc": {
   "base_numbering": 1,
   "nav_menu": {},
   "number_sections": true,
   "sideBar": true,
   "skip_h1_title": true,
   "title_cell": "Table of Contents",
   "title_sidebar": "Contents",
   "toc_cell": false,
   "toc_position": {
    "height": "calc(100% - 180px)",
    "left": "10px",
    "top": "150px",
    "width": "574px"
   },
   "toc_section_display": true,
   "toc_window_display": true
  }
 },
 "nbformat": 4,
 "nbformat_minor": 5
}
