{
 "cells": [
  {
   "cell_type": "code",
   "execution_count": 1,
   "id": "07f033de",
   "metadata": {},
   "outputs": [],
   "source": [
    "import pandas as pd\n",
    "import numpy as np\n",
    "import seaborn as sns\n",
    "import matplotlib.pyplot as plt\n",
    "import scipy.stats as st"
   ]
  },
  {
   "cell_type": "markdown",
   "id": "80a5ad7c",
   "metadata": {},
   "source": [
    "## **Описание проекта**"
   ]
  },
  {
   "cell_type": "code",
   "execution_count": 2,
   "id": "0b5c14ba",
   "metadata": {},
   "outputs": [],
   "source": [
    "try:\n",
    "    df = (\n",
    "    pd.read_csv('D:/datasets/games.csv') \n",
    ")\n",
    "except FileNotFoundError:\n",
    "    print(\"File not found.\")\n",
    "except pd.errors.EmptyDataError:\n",
    "    print(\"No data\")\n",
    "except pd.errors.ParserError:\n",
    "    print(\"Parse error\")\n",
    "except Exception:\n",
    "    print(\"Some other exception\")"
   ]
  },
  {
   "cell_type": "markdown",
   "id": "75af20e2",
   "metadata": {},
   "source": [
    "`Name` — название игры\n",
    "\n",
    "`Platform` — платформа\n",
    "\n",
    "`Year_of_Release` — год выпуска\n",
    "\n",
    "`Genre` — жанр игры\n",
    "\n",
    "`NA_sales` — продажи в Северной Америке (миллионы проданных копий)\n",
    "\n",
    "`EU_sales` — продажи в Европе (миллионы проданных копий)\n",
    "\n",
    "`JP_sales` — продажи в Японии (миллионы проданных копий)\n",
    "\n",
    "`Other_sales` — продажи в других странах (миллионы проданных копий)\n",
    "\n",
    "`Critic_Score` — оценка критиков (максимум 100)\n",
    "\n",
    "`User_Score` — оценка пользователей (максимум 10)\n",
    "\n",
    "`Rating` — рейтинг от организации ESRB (англ. Entertainment Software Rating\n",
    "Board). Эта ассоциация определяет рейтинг компьютерных игр и присваивает\n",
    "им подходящую возрастную категорию.\n"
   ]
  },
  {
   "cell_type": "markdown",
   "id": "3ce14be3",
   "metadata": {},
   "source": [
    "**`Rating`**:\n",
    "\n",
    "- «EC» («Early childhood») — «Для детей младшего возраста»\n",
    "- «E» («Everyone») — «Для всех»\n",
    "- «E10+» («Everyone 10 and older») — «Для всех старше 10 лет»\n",
    "- «T» («Teen») — «Подросткам 13—19 лет»\n",
    "- «M» («Mature») — «От 17 лет»\n",
    "- «AO» («Adults Only 18+»\n",
    "- «RP» ( «Rating Pending»») — «Рейтинг ожидается»:"
   ]
  },
  {
   "cell_type": "markdown",
   "id": "c9055224",
   "metadata": {},
   "source": [
    "## **Предобработка данных**"
   ]
  },
  {
   "cell_type": "code",
   "execution_count": 3,
   "id": "55908ccd",
   "metadata": {},
   "outputs": [
    {
     "name": "stdout",
     "output_type": "stream",
     "text": [
      "<class 'pandas.core.frame.DataFrame'>\n",
      "RangeIndex: 16715 entries, 0 to 16714\n",
      "Data columns (total 11 columns):\n",
      " #   Column           Non-Null Count  Dtype  \n",
      "---  ------           --------------  -----  \n",
      " 0   Name             16713 non-null  object \n",
      " 1   Platform         16715 non-null  object \n",
      " 2   Year_of_Release  16446 non-null  float64\n",
      " 3   Genre            16713 non-null  object \n",
      " 4   NA_sales         16715 non-null  float64\n",
      " 5   EU_sales         16715 non-null  float64\n",
      " 6   JP_sales         16715 non-null  float64\n",
      " 7   Other_sales      16715 non-null  float64\n",
      " 8   Critic_Score     8137 non-null   float64\n",
      " 9   User_Score       10014 non-null  object \n",
      " 10  Rating           9949 non-null   object \n",
      "dtypes: float64(6), object(5)\n",
      "memory usage: 1.4+ MB\n"
     ]
    }
   ],
   "source": [
    "df.info()"
   ]
  },
  {
   "cell_type": "code",
   "execution_count": 4,
   "id": "f05d624c",
   "metadata": {},
   "outputs": [
    {
     "data": {
      "text/html": [
       "<div>\n",
       "<style scoped>\n",
       "    .dataframe tbody tr th:only-of-type {\n",
       "        vertical-align: middle;\n",
       "    }\n",
       "\n",
       "    .dataframe tbody tr th {\n",
       "        vertical-align: top;\n",
       "    }\n",
       "\n",
       "    .dataframe thead th {\n",
       "        text-align: right;\n",
       "    }\n",
       "</style>\n",
       "<table border=\"1\" class=\"dataframe\">\n",
       "  <thead>\n",
       "    <tr style=\"text-align: right;\">\n",
       "      <th></th>\n",
       "      <th>Name</th>\n",
       "      <th>Platform</th>\n",
       "      <th>Year_of_Release</th>\n",
       "      <th>Genre</th>\n",
       "      <th>NA_sales</th>\n",
       "      <th>EU_sales</th>\n",
       "      <th>JP_sales</th>\n",
       "      <th>Other_sales</th>\n",
       "      <th>Critic_Score</th>\n",
       "      <th>User_Score</th>\n",
       "      <th>Rating</th>\n",
       "    </tr>\n",
       "  </thead>\n",
       "  <tbody>\n",
       "    <tr>\n",
       "      <th>0</th>\n",
       "      <td>Wii Sports</td>\n",
       "      <td>Wii</td>\n",
       "      <td>2006.0</td>\n",
       "      <td>Sports</td>\n",
       "      <td>41.36</td>\n",
       "      <td>28.96</td>\n",
       "      <td>3.77</td>\n",
       "      <td>8.45</td>\n",
       "      <td>76.0</td>\n",
       "      <td>8</td>\n",
       "      <td>E</td>\n",
       "    </tr>\n",
       "    <tr>\n",
       "      <th>1</th>\n",
       "      <td>Super Mario Bros.</td>\n",
       "      <td>NES</td>\n",
       "      <td>1985.0</td>\n",
       "      <td>Platform</td>\n",
       "      <td>29.08</td>\n",
       "      <td>3.58</td>\n",
       "      <td>6.81</td>\n",
       "      <td>0.77</td>\n",
       "      <td>NaN</td>\n",
       "      <td>NaN</td>\n",
       "      <td>NaN</td>\n",
       "    </tr>\n",
       "    <tr>\n",
       "      <th>2</th>\n",
       "      <td>Mario Kart Wii</td>\n",
       "      <td>Wii</td>\n",
       "      <td>2008.0</td>\n",
       "      <td>Racing</td>\n",
       "      <td>15.68</td>\n",
       "      <td>12.76</td>\n",
       "      <td>3.79</td>\n",
       "      <td>3.29</td>\n",
       "      <td>82.0</td>\n",
       "      <td>8.3</td>\n",
       "      <td>E</td>\n",
       "    </tr>\n",
       "    <tr>\n",
       "      <th>3</th>\n",
       "      <td>Wii Sports Resort</td>\n",
       "      <td>Wii</td>\n",
       "      <td>2009.0</td>\n",
       "      <td>Sports</td>\n",
       "      <td>15.61</td>\n",
       "      <td>10.93</td>\n",
       "      <td>3.28</td>\n",
       "      <td>2.95</td>\n",
       "      <td>80.0</td>\n",
       "      <td>8</td>\n",
       "      <td>E</td>\n",
       "    </tr>\n",
       "    <tr>\n",
       "      <th>4</th>\n",
       "      <td>Pokemon Red/Pokemon Blue</td>\n",
       "      <td>GB</td>\n",
       "      <td>1996.0</td>\n",
       "      <td>Role-Playing</td>\n",
       "      <td>11.27</td>\n",
       "      <td>8.89</td>\n",
       "      <td>10.22</td>\n",
       "      <td>1.00</td>\n",
       "      <td>NaN</td>\n",
       "      <td>NaN</td>\n",
       "      <td>NaN</td>\n",
       "    </tr>\n",
       "    <tr>\n",
       "      <th>5</th>\n",
       "      <td>Tetris</td>\n",
       "      <td>GB</td>\n",
       "      <td>1989.0</td>\n",
       "      <td>Puzzle</td>\n",
       "      <td>23.20</td>\n",
       "      <td>2.26</td>\n",
       "      <td>4.22</td>\n",
       "      <td>0.58</td>\n",
       "      <td>NaN</td>\n",
       "      <td>NaN</td>\n",
       "      <td>NaN</td>\n",
       "    </tr>\n",
       "    <tr>\n",
       "      <th>6</th>\n",
       "      <td>New Super Mario Bros.</td>\n",
       "      <td>DS</td>\n",
       "      <td>2006.0</td>\n",
       "      <td>Platform</td>\n",
       "      <td>11.28</td>\n",
       "      <td>9.14</td>\n",
       "      <td>6.50</td>\n",
       "      <td>2.88</td>\n",
       "      <td>89.0</td>\n",
       "      <td>8.5</td>\n",
       "      <td>E</td>\n",
       "    </tr>\n",
       "    <tr>\n",
       "      <th>7</th>\n",
       "      <td>Wii Play</td>\n",
       "      <td>Wii</td>\n",
       "      <td>2006.0</td>\n",
       "      <td>Misc</td>\n",
       "      <td>13.96</td>\n",
       "      <td>9.18</td>\n",
       "      <td>2.93</td>\n",
       "      <td>2.84</td>\n",
       "      <td>58.0</td>\n",
       "      <td>6.6</td>\n",
       "      <td>E</td>\n",
       "    </tr>\n",
       "    <tr>\n",
       "      <th>8</th>\n",
       "      <td>New Super Mario Bros. Wii</td>\n",
       "      <td>Wii</td>\n",
       "      <td>2009.0</td>\n",
       "      <td>Platform</td>\n",
       "      <td>14.44</td>\n",
       "      <td>6.94</td>\n",
       "      <td>4.70</td>\n",
       "      <td>2.24</td>\n",
       "      <td>87.0</td>\n",
       "      <td>8.4</td>\n",
       "      <td>E</td>\n",
       "    </tr>\n",
       "    <tr>\n",
       "      <th>9</th>\n",
       "      <td>Duck Hunt</td>\n",
       "      <td>NES</td>\n",
       "      <td>1984.0</td>\n",
       "      <td>Shooter</td>\n",
       "      <td>26.93</td>\n",
       "      <td>0.63</td>\n",
       "      <td>0.28</td>\n",
       "      <td>0.47</td>\n",
       "      <td>NaN</td>\n",
       "      <td>NaN</td>\n",
       "      <td>NaN</td>\n",
       "    </tr>\n",
       "    <tr>\n",
       "      <th>10</th>\n",
       "      <td>Nintendogs</td>\n",
       "      <td>DS</td>\n",
       "      <td>2005.0</td>\n",
       "      <td>Simulation</td>\n",
       "      <td>9.05</td>\n",
       "      <td>10.95</td>\n",
       "      <td>1.93</td>\n",
       "      <td>2.74</td>\n",
       "      <td>NaN</td>\n",
       "      <td>NaN</td>\n",
       "      <td>NaN</td>\n",
       "    </tr>\n",
       "    <tr>\n",
       "      <th>11</th>\n",
       "      <td>Mario Kart DS</td>\n",
       "      <td>DS</td>\n",
       "      <td>2005.0</td>\n",
       "      <td>Racing</td>\n",
       "      <td>9.71</td>\n",
       "      <td>7.47</td>\n",
       "      <td>4.13</td>\n",
       "      <td>1.90</td>\n",
       "      <td>91.0</td>\n",
       "      <td>8.6</td>\n",
       "      <td>E</td>\n",
       "    </tr>\n",
       "    <tr>\n",
       "      <th>12</th>\n",
       "      <td>Pokemon Gold/Pokemon Silver</td>\n",
       "      <td>GB</td>\n",
       "      <td>1999.0</td>\n",
       "      <td>Role-Playing</td>\n",
       "      <td>9.00</td>\n",
       "      <td>6.18</td>\n",
       "      <td>7.20</td>\n",
       "      <td>0.71</td>\n",
       "      <td>NaN</td>\n",
       "      <td>NaN</td>\n",
       "      <td>NaN</td>\n",
       "    </tr>\n",
       "    <tr>\n",
       "      <th>13</th>\n",
       "      <td>Wii Fit</td>\n",
       "      <td>Wii</td>\n",
       "      <td>2007.0</td>\n",
       "      <td>Sports</td>\n",
       "      <td>8.92</td>\n",
       "      <td>8.03</td>\n",
       "      <td>3.60</td>\n",
       "      <td>2.15</td>\n",
       "      <td>80.0</td>\n",
       "      <td>7.7</td>\n",
       "      <td>E</td>\n",
       "    </tr>\n",
       "    <tr>\n",
       "      <th>14</th>\n",
       "      <td>Kinect Adventures!</td>\n",
       "      <td>X360</td>\n",
       "      <td>2010.0</td>\n",
       "      <td>Misc</td>\n",
       "      <td>15.00</td>\n",
       "      <td>4.89</td>\n",
       "      <td>0.24</td>\n",
       "      <td>1.69</td>\n",
       "      <td>61.0</td>\n",
       "      <td>6.3</td>\n",
       "      <td>E</td>\n",
       "    </tr>\n",
       "  </tbody>\n",
       "</table>\n",
       "</div>"
      ],
      "text/plain": [
       "                           Name Platform  Year_of_Release         Genre  \\\n",
       "0                    Wii Sports      Wii           2006.0        Sports   \n",
       "1             Super Mario Bros.      NES           1985.0      Platform   \n",
       "2                Mario Kart Wii      Wii           2008.0        Racing   \n",
       "3             Wii Sports Resort      Wii           2009.0        Sports   \n",
       "4      Pokemon Red/Pokemon Blue       GB           1996.0  Role-Playing   \n",
       "5                        Tetris       GB           1989.0        Puzzle   \n",
       "6         New Super Mario Bros.       DS           2006.0      Platform   \n",
       "7                      Wii Play      Wii           2006.0          Misc   \n",
       "8     New Super Mario Bros. Wii      Wii           2009.0      Platform   \n",
       "9                     Duck Hunt      NES           1984.0       Shooter   \n",
       "10                   Nintendogs       DS           2005.0    Simulation   \n",
       "11                Mario Kart DS       DS           2005.0        Racing   \n",
       "12  Pokemon Gold/Pokemon Silver       GB           1999.0  Role-Playing   \n",
       "13                      Wii Fit      Wii           2007.0        Sports   \n",
       "14           Kinect Adventures!     X360           2010.0          Misc   \n",
       "\n",
       "    NA_sales  EU_sales  JP_sales  Other_sales  Critic_Score User_Score Rating  \n",
       "0      41.36     28.96      3.77         8.45          76.0          8      E  \n",
       "1      29.08      3.58      6.81         0.77           NaN        NaN    NaN  \n",
       "2      15.68     12.76      3.79         3.29          82.0        8.3      E  \n",
       "3      15.61     10.93      3.28         2.95          80.0          8      E  \n",
       "4      11.27      8.89     10.22         1.00           NaN        NaN    NaN  \n",
       "5      23.20      2.26      4.22         0.58           NaN        NaN    NaN  \n",
       "6      11.28      9.14      6.50         2.88          89.0        8.5      E  \n",
       "7      13.96      9.18      2.93         2.84          58.0        6.6      E  \n",
       "8      14.44      6.94      4.70         2.24          87.0        8.4      E  \n",
       "9      26.93      0.63      0.28         0.47           NaN        NaN    NaN  \n",
       "10      9.05     10.95      1.93         2.74           NaN        NaN    NaN  \n",
       "11      9.71      7.47      4.13         1.90          91.0        8.6      E  \n",
       "12      9.00      6.18      7.20         0.71           NaN        NaN    NaN  \n",
       "13      8.92      8.03      3.60         2.15          80.0        7.7      E  \n",
       "14     15.00      4.89      0.24         1.69          61.0        6.3      E  "
      ]
     },
     "execution_count": 4,
     "metadata": {},
     "output_type": "execute_result"
    }
   ],
   "source": [
    "df.head(15)"
   ]
  },
  {
   "cell_type": "code",
   "execution_count": 5,
   "id": "3a7763ef",
   "metadata": {},
   "outputs": [],
   "source": [
    "df.columns = df.columns.str.lower()\n",
    "\n",
    "\n",
    "text = ['name', 'platform', 'genre', 'rating']\n",
    "for index in text:\n",
    "    df[index] = df[index].str.lower()"
   ]
  },
  {
   "cell_type": "code",
   "execution_count": 6,
   "id": "ee1ce597",
   "metadata": {},
   "outputs": [
    {
     "data": {
      "text/plain": [
       "name                  2\n",
       "platform              0\n",
       "year_of_release     269\n",
       "genre                 2\n",
       "na_sales              0\n",
       "eu_sales              0\n",
       "jp_sales              0\n",
       "other_sales           0\n",
       "critic_score       8578\n",
       "user_score         6701\n",
       "rating             6766\n",
       "dtype: int64"
      ]
     },
     "execution_count": 6,
     "metadata": {},
     "output_type": "execute_result"
    }
   ],
   "source": [
    "df.isnull().sum()"
   ]
  },
  {
   "cell_type": "markdown",
   "id": "e94a0d4c",
   "metadata": {},
   "source": [
    "**Не имеем возможность восстановить 2 пропуска в столбце `name`(название игры) и 269 пропусков в стобце `year_of_release`(год выпуска), т.к. от общего количества пропуски занимают маленькую долю, удалим их.**"
   ]
  },
  {
   "cell_type": "code",
   "execution_count": 7,
   "id": "0beb6662",
   "metadata": {},
   "outputs": [],
   "source": [
    "df = df.dropna(subset = ['name'])\n",
    "df = df.dropna(subset = ['year_of_release'])"
   ]
  },
  {
   "cell_type": "code",
   "execution_count": 8,
   "id": "e61eb09b",
   "metadata": {},
   "outputs": [],
   "source": [
    "df['rating'].value_counts()\n",
    "df['rating'] = df['rating'].fillna('rp')"
   ]
  },
  {
   "cell_type": "code",
   "execution_count": 9,
   "id": "2074ccdc",
   "metadata": {},
   "outputs": [
    {
     "data": {
      "text/plain": [
       "name                  0\n",
       "platform              0\n",
       "year_of_release       0\n",
       "genre                 0\n",
       "na_sales              0\n",
       "eu_sales              0\n",
       "jp_sales              0\n",
       "other_sales           0\n",
       "critic_score       8461\n",
       "user_score         6605\n",
       "rating                0\n",
       "dtype: int64"
      ]
     },
     "execution_count": 9,
     "metadata": {},
     "output_type": "execute_result"
    }
   ],
   "source": [
    "df.isnull().sum()"
   ]
  },
  {
   "cell_type": "markdown",
   "id": "f72c1210",
   "metadata": {},
   "source": [
    "- **Абревиатура `TBD` в столбце `user_score` означает `To Be Determined(Будет определено)`**\n",
    "\n",
    "- **Заменим значения `TBD` на `NaN` для дальнейшей работы**"
   ]
  },
  {
   "cell_type": "code",
   "execution_count": 10,
   "id": "3b405b91",
   "metadata": {},
   "outputs": [],
   "source": [
    "df.loc[df['user_score'] =='tbd','user_score'] = np.nan\n",
    "df['user_score'] = df['user_score'].astype('float64')"
   ]
  },
  {
   "cell_type": "code",
   "execution_count": 11,
   "id": "e246dbd3",
   "metadata": {},
   "outputs": [
    {
     "data": {
      "text/plain": [
       "name                  0\n",
       "platform              0\n",
       "year_of_release       0\n",
       "genre                 0\n",
       "na_sales              0\n",
       "eu_sales              0\n",
       "jp_sales              0\n",
       "other_sales           0\n",
       "critic_score       8461\n",
       "user_score         8981\n",
       "rating                0\n",
       "dtype: int64"
      ]
     },
     "execution_count": 11,
     "metadata": {},
     "output_type": "execute_result"
    }
   ],
   "source": [
    "df.isnull().sum()"
   ]
  },
  {
   "cell_type": "markdown",
   "id": "394b3666",
   "metadata": {},
   "source": [
    "+ добавить общее кол-во продаж!\n",
    "+ добавить категоризацию по ней заполнить значения!"
   ]
  },
  {
   "cell_type": "code",
   "execution_count": 12,
   "id": "3539239a",
   "metadata": {},
   "outputs": [],
   "source": [
    "df['total_sales'] = df.apply(lambda row: sum(row[['na_sales','eu_sales','jp_sales','other_sales']]),axis =1)"
   ]
  },
  {
   "cell_type": "markdown",
   "id": "17f80bd4",
   "metadata": {},
   "source": []
  },
  {
   "cell_type": "code",
   "execution_count": 13,
   "id": "0f7aaa83",
   "metadata": {},
   "outputs": [],
   "source": [
    "df['year_of_release'] = df['year_of_release'].astype('int64')"
   ]
  },
  {
   "cell_type": "markdown",
   "id": "cbac187b",
   "metadata": {},
   "source": []
  },
  {
   "cell_type": "code",
   "execution_count": 14,
   "id": "4bae3e02",
   "metadata": {},
   "outputs": [
    {
     "data": {
      "text/plain": [
       "name                  0\n",
       "platform              0\n",
       "year_of_release       0\n",
       "genre                 0\n",
       "na_sales              0\n",
       "eu_sales              0\n",
       "jp_sales              0\n",
       "other_sales           0\n",
       "critic_score       8461\n",
       "user_score         8981\n",
       "rating                0\n",
       "total_sales           0\n",
       "dtype: int64"
      ]
     },
     "execution_count": 14,
     "metadata": {},
     "output_type": "execute_result"
    }
   ],
   "source": [
    "df.loc[df['user_score'] == 'tbd', 'user_score'] = float('NaN')\n",
    "df.isnull().sum()"
   ]
  },
  {
   "cell_type": "markdown",
   "id": "423b920d",
   "metadata": {},
   "source": [
    "**Открыв датасет, былы выявлены и заполнены пропуски, привели столбцы к нужным типам данных, а также добавили стобец `total_sales` с общим кол-вом продаж всех регионов.**"
   ]
  },
  {
   "cell_type": "markdown",
   "id": "7d410a7d",
   "metadata": {},
   "source": [
    "## **Исследовательский анализ данных**"
   ]
  },
  {
   "cell_type": "markdown",
   "id": "d874e6b2",
   "metadata": {},
   "source": [
    " ### Посмотрим, сколько игр выпускалось в разные годы.\n",
    "\n",
    "- Также отсеем данные до 1994 года, т.к. этот тип данных никак не смогут повлиять на анализ и не описывает реальной картины."
   ]
  },
  {
   "cell_type": "code",
   "execution_count": 15,
   "id": "101299cf",
   "metadata": {},
   "outputs": [],
   "source": [
    "game_for_years = df.groupby('year_of_release').agg({'name':'count'})\n",
    "game_for_years = game_for_years.query('year_of_release >= 1994')"
   ]
  },
  {
   "cell_type": "markdown",
   "id": "c27a6d40",
   "metadata": {},
   "source": [
    "- Самые успешный период игровой индустрии: **2005-2011 года**\n",
    "- С 2012 года заметен явный спад выпуска игр."
   ]
  },
  {
   "cell_type": "code",
   "execution_count": 16,
   "id": "49ed830a",
   "metadata": {},
   "outputs": [
    {
     "data": {
      "text/plain": [
       "<AxesSubplot:xlabel='year_of_release'>"
      ]
     },
     "execution_count": 16,
     "metadata": {},
     "output_type": "execute_result"
    },
    {
     "data": {
      "image/png": "[encoded data removed]",
      "text/plain": [
       "<Figure size 1440x720 with 1 Axes>"
      ]
     },
     "metadata": {
      "needs_background": "light"
     },
     "output_type": "display_data"
    }
   ],
   "source": [
    "game_for_years.plot(\n",
    "    y='name', kind='bar', figsize=(20,10),\n",
    ")"
   ]
  },
  {
   "cell_type": "markdown",
   "id": "4199bf19",
   "metadata": {},
   "source": [
    "### Посмотрим, как менялись продажи по платформам. Выберем платформы с наибольшими суммарными продажами и построим распределение по годам."
   ]
  },
  {
   "cell_type": "markdown",
   "id": "29862941",
   "metadata": {},
   "source": [
    "Можно заметить что в 3ку самых касовых платформ входят 2 платформы:\n",
    "- PS2 и PS3 суммарно обгоняют платформу X360 в 2 раза.\n",
    "- Игровая приставка Wii в наш период игрвой индустрии еще имеет огромную популярность, также как и ее младший собрат портативных приставок DS."
   ]
  },
  {
   "cell_type": "code",
   "execution_count": 17,
   "id": "28e3621f",
   "metadata": {},
   "outputs": [
    {
     "data": {
      "text/html": [
       "<div>\n",
       "<style scoped>\n",
       "    .dataframe tbody tr th:only-of-type {\n",
       "        vertical-align: middle;\n",
       "    }\n",
       "\n",
       "    .dataframe tbody tr th {\n",
       "        vertical-align: top;\n",
       "    }\n",
       "\n",
       "    .dataframe thead th {\n",
       "        text-align: right;\n",
       "    }\n",
       "</style>\n",
       "<table border=\"1\" class=\"dataframe\">\n",
       "  <thead>\n",
       "    <tr style=\"text-align: right;\">\n",
       "      <th></th>\n",
       "      <th>platform</th>\n",
       "      <th>total_sales</th>\n",
       "    </tr>\n",
       "  </thead>\n",
       "  <tbody>\n",
       "    <tr>\n",
       "      <th>0</th>\n",
       "      <td>ps2</td>\n",
       "      <td>1233.56</td>\n",
       "    </tr>\n",
       "    <tr>\n",
       "      <th>1</th>\n",
       "      <td>x360</td>\n",
       "      <td>961.24</td>\n",
       "    </tr>\n",
       "    <tr>\n",
       "      <th>2</th>\n",
       "      <td>ps3</td>\n",
       "      <td>931.34</td>\n",
       "    </tr>\n",
       "    <tr>\n",
       "      <th>3</th>\n",
       "      <td>wii</td>\n",
       "      <td>891.18</td>\n",
       "    </tr>\n",
       "    <tr>\n",
       "      <th>4</th>\n",
       "      <td>ds</td>\n",
       "      <td>802.78</td>\n",
       "    </tr>\n",
       "    <tr>\n",
       "      <th>5</th>\n",
       "      <td>ps</td>\n",
       "      <td>727.58</td>\n",
       "    </tr>\n",
       "    <tr>\n",
       "      <th>6</th>\n",
       "      <td>ps4</td>\n",
       "      <td>314.14</td>\n",
       "    </tr>\n",
       "    <tr>\n",
       "      <th>7</th>\n",
       "      <td>gba</td>\n",
       "      <td>312.88</td>\n",
       "    </tr>\n",
       "    <tr>\n",
       "      <th>8</th>\n",
       "      <td>psp</td>\n",
       "      <td>289.53</td>\n",
       "    </tr>\n",
       "    <tr>\n",
       "      <th>9</th>\n",
       "      <td>3ds</td>\n",
       "      <td>257.81</td>\n",
       "    </tr>\n",
       "    <tr>\n",
       "      <th>10</th>\n",
       "      <td>pc</td>\n",
       "      <td>255.76</td>\n",
       "    </tr>\n",
       "  </tbody>\n",
       "</table>\n",
       "</div>"
      ],
      "text/plain": [
       "   platform  total_sales\n",
       "0       ps2      1233.56\n",
       "1      x360       961.24\n",
       "2       ps3       931.34\n",
       "3       wii       891.18\n",
       "4        ds       802.78\n",
       "5        ps       727.58\n",
       "6       ps4       314.14\n",
       "7       gba       312.88\n",
       "8       psp       289.53\n",
       "9       3ds       257.81\n",
       "10       pc       255.76"
      ]
     },
     "execution_count": 17,
     "metadata": {},
     "output_type": "execute_result"
    }
   ],
   "source": [
    "top_platform = df.pivot_table(index='platform', values='total_sales', aggfunc='sum').sort_values(\n",
    "    by='total_sales', ascending=False)\n",
    "\n",
    "top_platform = top_platform.head(11).reset_index()\n",
    "top_platforms_dict = top_platform['platform'].unique() \n",
    "top_platform"
   ]
  },
  {
   "cell_type": "markdown",
   "id": "f1799aaa",
   "metadata": {},
   "source": [
    "### Для сравнения возьмем топ11 платформ, в 10ку входят консоли и портативные игровые системы, для более разнообразного анализа, добавим в рейтинг персональный компьютер."
   ]
  },
  {
   "cell_type": "code",
   "execution_count": 18,
   "id": "91dcf00f",
   "metadata": {
    "scrolled": false
   },
   "outputs": [
    {
     "data": {
      "image/png": "[encoded data removed]",
      "text/plain": [
       "<Figure size 1440x360 with 1 Axes>"
      ]
     },
     "metadata": {
      "needs_background": "light"
     },
     "output_type": "display_data"
    },
    {
     "data": {
      "image/png": "[encoded data removed]",
      "text/plain": [
       "<Figure size 1440x360 with 1 Axes>"
      ]
     },
     "metadata": {
      "needs_background": "light"
     },
     "output_type": "display_data"
    },
    {
     "data": {
      "image/png": "[encoded data removed]",
      "text/plain": [
       "<Figure size 1440x360 with 1 Axes>"
      ]
     },
     "metadata": {
      "needs_background": "light"
     },
     "output_type": "display_data"
    },
    {
     "data": {
      "image/png": "[encoded data removed]",
      "text/plain": [
       "<Figure size 1440x360 with 1 Axes>"
      ]
     },
     "metadata": {
      "needs_background": "light"
     },
     "output_type": "display_data"
    },
    {
     "data": {
      "image/png": "[encoded data removed]",
      "text/plain": [
       "<Figure size 1440x360 with 1 Axes>"
      ]
     },
     "metadata": {
      "needs_background": "light"
     },
     "output_type": "display_data"
    },
    {
     "data": {
      "image/png": "[encoded data removed]",
      "text/plain": [
       "<Figure size 1440x360 with 1 Axes>"
      ]
     },
     "metadata": {
      "needs_background": "light"
     },
     "output_type": "display_data"
    },
    {
     "data": {
      "image/png": "[encoded data removed]",
      "text/plain": [
       "<Figure size 1440x360 with 1 Axes>"
      ]
     },
     "metadata": {
      "needs_background": "light"
     },
     "output_type": "display_data"
    },
    {
     "data": {
      "image/png": "[encoded data removed]",
      "text/plain": [
       "<Figure size 1440x360 with 1 Axes>"
      ]
     },
     "metadata": {
      "needs_background": "light"
     },
     "output_type": "display_data"
    },
    {
     "data": {
      "image/png": "[encoded data removed]",
      "text/plain": [
       "<Figure size 1440x360 with 1 Axes>"
      ]
     },
     "metadata": {
      "needs_background": "light"
     },
     "output_type": "display_data"
    },
    {
     "data": {
      "image/png": "[encoded data removed]",
      "text/plain": [
       "<Figure size 1440x360 with 1 Axes>"
      ]
     },
     "metadata": {
      "needs_background": "light"
     },
     "output_type": "display_data"
    },
    {
     "data": {
      "image/png": "[encoded data removed]",
      "text/plain": [
       "<Figure size 1440x360 with 1 Axes>"
      ]
     },
     "metadata": {
      "needs_background": "light"
     },
     "output_type": "display_data"
    }
   ],
   "source": [
    "for platform in top_platforms_dict:\n",
    "    df[df['platform'] == platform].pivot_table(index='year_of_release', values='total_sales', aggfunc='sum').plot(kind='bar', figsize=(20,5))\n",
    "    plt.title(platform)"
   ]
  },
  {
   "cell_type": "markdown",
   "id": "84ae3b99",
   "metadata": {},
   "source": [
    "- PlayStation 2 с самыми большими продажами в период 2001-2006 г. к в 2011 году платформа больше не актуальна, т.к. в 2006г. появляется следующее поколение PlayStation 3 с большими продажами в период 2006-2013 г.\n",
    "\n",
    "\n",
    "- Можно заметить, что практически весь рынок занимает консоль от PS.\n",
    "\n",
    "\n",
    "- XBOX360 занимает 2ю строчку в рейтинге общих продаж, за 10 лет компании удалось продать свыше 961 миллионов копий игр.\n",
    "\n",
    "\n",
    "- Нинтендо и остальные портативные консоли обходят портативный компьютер, который занимает лишь 11 место в рейтинге самых кассовых платформ."
   ]
  },
  {
   "cell_type": "markdown",
   "id": "beaeec79",
   "metadata": {},
   "source": [
    "**Каждой платформе необходимо разное количество времени для взлета/падения с рынка платформ. PC занимающая лишь 11 место в общих продажах игр падение не светит ближайшие десять лет, в то время как игровой приставке 7го поколения WII хватило 5 лет жизни больших продаж, как за последующие 3 года платформа полностью утратила свою актуальность.** \n",
    "\n",
    "- Учтем, что датасет имеет не полные данные за 2016 год, за актуальный период примем последние 4 года, а именно: 2013-2016г."
   ]
  },
  {
   "cell_type": "code",
   "execution_count": 19,
   "id": "4d618333",
   "metadata": {},
   "outputs": [
    {
     "data": {
      "text/plain": [
       "<AxesSubplot:xlabel='year_of_release'>"
      ]
     },
     "execution_count": 19,
     "metadata": {},
     "output_type": "execute_result"
    },
    {
     "data": {
      "image/png": "[encoded data removed]",
      "text/plain": [
       "<Figure size 1440x720 with 1 Axes>"
      ]
     },
     "metadata": {
      "needs_background": "light"
     },
     "output_type": "display_data"
    }
   ],
   "source": [
    "df_act = df.query('2013<= year_of_release <= 2016')\n",
    "df_act = df_act.query('platform != [\"ps2\", \"dc\"]')\n",
    "df_act_gb = df_act.groupby('year_of_release').agg({'name':'count'})\n",
    "\n",
    "df_act_gb.plot(\n",
    "    y='name', kind='bar', figsize=(20,10),\n",
    ")"
   ]
  },
  {
   "cell_type": "markdown",
   "id": "c26fbf47",
   "metadata": {},
   "source": [
    "- **Можно заметить как произошла смена поколений, на смену PS3 успешно вошла PS4, также заметим что XONE хоть и входит в топ3 плафторм 2013-2016 года, но также успешно заменить X360 она не смогла.**"
   ]
  },
  {
   "cell_type": "code",
   "execution_count": 20,
   "id": "37bfdaba",
   "metadata": {},
   "outputs": [
    {
     "data": {
      "text/html": [
       "<div>\n",
       "<style scoped>\n",
       "    .dataframe tbody tr th:only-of-type {\n",
       "        vertical-align: middle;\n",
       "    }\n",
       "\n",
       "    .dataframe tbody tr th {\n",
       "        vertical-align: top;\n",
       "    }\n",
       "\n",
       "    .dataframe thead th {\n",
       "        text-align: right;\n",
       "    }\n",
       "</style>\n",
       "<table border=\"1\" class=\"dataframe\">\n",
       "  <thead>\n",
       "    <tr style=\"text-align: right;\">\n",
       "      <th></th>\n",
       "      <th>platform</th>\n",
       "      <th>total_sales</th>\n",
       "    </tr>\n",
       "  </thead>\n",
       "  <tbody>\n",
       "    <tr>\n",
       "      <th>4</th>\n",
       "      <td>ps4</td>\n",
       "      <td>314.14</td>\n",
       "    </tr>\n",
       "    <tr>\n",
       "      <th>3</th>\n",
       "      <td>ps3</td>\n",
       "      <td>181.43</td>\n",
       "    </tr>\n",
       "    <tr>\n",
       "      <th>10</th>\n",
       "      <td>xone</td>\n",
       "      <td>159.32</td>\n",
       "    </tr>\n",
       "    <tr>\n",
       "      <th>0</th>\n",
       "      <td>3ds</td>\n",
       "      <td>143.25</td>\n",
       "    </tr>\n",
       "    <tr>\n",
       "      <th>9</th>\n",
       "      <td>x360</td>\n",
       "      <td>136.80</td>\n",
       "    </tr>\n",
       "    <tr>\n",
       "      <th>8</th>\n",
       "      <td>wiiu</td>\n",
       "      <td>64.63</td>\n",
       "    </tr>\n",
       "    <tr>\n",
       "      <th>2</th>\n",
       "      <td>pc</td>\n",
       "      <td>39.43</td>\n",
       "    </tr>\n",
       "    <tr>\n",
       "      <th>6</th>\n",
       "      <td>psv</td>\n",
       "      <td>32.99</td>\n",
       "    </tr>\n",
       "    <tr>\n",
       "      <th>7</th>\n",
       "      <td>wii</td>\n",
       "      <td>13.66</td>\n",
       "    </tr>\n",
       "    <tr>\n",
       "      <th>5</th>\n",
       "      <td>psp</td>\n",
       "      <td>3.50</td>\n",
       "    </tr>\n",
       "    <tr>\n",
       "      <th>1</th>\n",
       "      <td>ds</td>\n",
       "      <td>1.54</td>\n",
       "    </tr>\n",
       "  </tbody>\n",
       "</table>\n",
       "</div>"
      ],
      "text/plain": [
       "   platform  total_sales\n",
       "4       ps4       314.14\n",
       "3       ps3       181.43\n",
       "10     xone       159.32\n",
       "0       3ds       143.25\n",
       "9      x360       136.80\n",
       "8      wiiu        64.63\n",
       "2        pc        39.43\n",
       "6       psv        32.99\n",
       "7       wii        13.66\n",
       "5       psp         3.50\n",
       "1        ds         1.54"
      ]
     },
     "execution_count": 20,
     "metadata": {},
     "output_type": "execute_result"
    }
   ],
   "source": [
    "pivot_act = df_act.pivot_table(index=['platform'], values='total_sales', aggfunc='sum').reset_index().sort_values(by='total_sales', ascending=False)\n",
    "pivot_act_dict = pivot_act['platform'].unique() \n",
    "pivot_act"
   ]
  },
  {
   "cell_type": "code",
   "execution_count": 21,
   "id": "9bfdb15c",
   "metadata": {
    "scrolled": false
   },
   "outputs": [
    {
     "data": {
      "image/png": "[encoded data removed]",
      "text/plain": [
       "<Figure size 1440x360 with 1 Axes>"
      ]
     },
     "metadata": {
      "needs_background": "light"
     },
     "output_type": "display_data"
    },
    {
     "data": {
      "image/png": "[encoded data removed]",
      "text/plain": [
       "<Figure size 1440x360 with 1 Axes>"
      ]
     },
     "metadata": {
      "needs_background": "light"
     },
     "output_type": "display_data"
    },
    {
     "data": {
      "image/png": "[encoded data removed]",
      "text/plain": [
       "<Figure size 1440x360 with 1 Axes>"
      ]
     },
     "metadata": {
      "needs_background": "light"
     },
     "output_type": "display_data"
    },
    {
     "data": {
      "image/png": "[encoded data removed]",
      "text/plain": [
       "<Figure size 1440x360 with 1 Axes>"
      ]
     },
     "metadata": {
      "needs_background": "light"
     },
     "output_type": "display_data"
    },
    {
     "data": {
      "image/png": "[encoded data removed]",
      "text/plain": [
       "<Figure size 1440x360 with 1 Axes>"
      ]
     },
     "metadata": {
      "needs_background": "light"
     },
     "output_type": "display_data"
    },
    {
     "data": {
      "image/png": "[encoded data removed]",
      "text/plain": [
       "<Figure size 1440x360 with 1 Axes>"
      ]
     },
     "metadata": {
      "needs_background": "light"
     },
     "output_type": "display_data"
    },
    {
     "data": {
      "image/png": "[encoded data removed]",
      "text/plain": [
       "<Figure size 1440x360 with 1 Axes>"
      ]
     },
     "metadata": {
      "needs_background": "light"
     },
     "output_type": "display_data"
    },
    {
     "data": {
      "image/png": "[encoded data removed]",
      "text/plain": [
       "<Figure size 1440x360 with 1 Axes>"
      ]
     },
     "metadata": {
      "needs_background": "light"
     },
     "output_type": "display_data"
    },
    {
     "data": {
      "image/png": "[encoded data removed]",
      "text/plain": [
       "<Figure size 1440x360 with 1 Axes>"
      ]
     },
     "metadata": {
      "needs_background": "light"
     },
     "output_type": "display_data"
    },
    {
     "data": {
      "image/png": "[encoded data removed]",
      "text/plain": [
       "<Figure size 1440x360 with 1 Axes>"
      ]
     },
     "metadata": {
      "needs_background": "light"
     },
     "output_type": "display_data"
    },
    {
     "data": {
      "image/png": "[encoded data removed]",
      "text/plain": [
       "<Figure size 1440x360 with 1 Axes>"
      ]
     },
     "metadata": {
      "needs_background": "light"
     },
     "output_type": "display_data"
    }
   ],
   "source": [
    "for platform in pivot_act_dict:\n",
    "    df_act[df_act['platform'] == platform].pivot_table(index='year_of_release', values='total_sales', aggfunc='sum').plot(kind='bar', figsize=(20,5))\n",
    "    plt.title(platform)"
   ]
  },
  {
   "cell_type": "markdown",
   "id": "caace627",
   "metadata": {},
   "source": [
    "- Заметен спад PS4, это обусловлено переходом платформы на более новую в 2016 году.\n",
    "\n",
    "- Также заметен спад XONE, в 2016 году выйдет новое поколение. \n",
    "\n",
    "\n",
    "**Данные в датасет не учтены, но стоит обратить внимание на это, т.к. уменьшение продаж не связано с уменьшением популярности платформ, а говорит только о том, что компании решили обновлять свои платформы намного чаще, т.к. скачок технологий позволял это сделать!**"
   ]
  },
  {
   "cell_type": "markdown",
   "id": "13341479",
   "metadata": {},
   "source": [
    "### Построим график «ящик с усами» по глобальным продажам игр в разбивке по платформам. "
   ]
  },
  {
   "cell_type": "markdown",
   "id": "856debea",
   "metadata": {},
   "source": [
    "**Без ограничений по оси продаж**"
   ]
  },
  {
   "cell_type": "code",
   "execution_count": 22,
   "id": "bd8b02c6",
   "metadata": {},
   "outputs": [
    {
     "data": {
      "text/plain": [
       "(0.0, 6.0)"
      ]
     },
     "execution_count": 22,
     "metadata": {},
     "output_type": "execute_result"
    },
    {
     "data": {
      "image/png": "[encoded data removed]",
      "text/plain": [
       "<Figure size 1080x360 with 1 Axes>"
      ]
     },
     "metadata": {
      "needs_background": "light"
     },
     "output_type": "display_data"
    }
   ],
   "source": [
    "df_act.boxplot(\n",
    "    'total_sales',\n",
    "    by='platform',\n",
    "    figsize=(15,5),\n",
    "    patch_artist = True,\n",
    ").set_ylim(0,6)"
   ]
  },
  {
   "cell_type": "markdown",
   "id": "c744e2b1",
   "metadata": {},
   "source": [
    "**- Убрав ограничения по оси суммарных продаж платформы, мы можем заметить, что самую кассовую игру выпустила платформа PS3, а платформа PS4 имеет большоо количество выбросов, мы можем сделать вывод, что PS4 успешно сменила PS3.**"
   ]
  },
  {
   "cell_type": "markdown",
   "id": "650be0c8",
   "metadata": {},
   "source": [
    "**С ограничениями по оси продаж**"
   ]
  },
  {
   "cell_type": "code",
   "execution_count": 23,
   "id": "55b50aca",
   "metadata": {},
   "outputs": [
    {
     "data": {
      "text/plain": [
       "(0.0, 0.9)"
      ]
     },
     "execution_count": 23,
     "metadata": {},
     "output_type": "execute_result"
    },
    {
     "data": {
      "image/png": "[encoded data removed]",
      "text/plain": [
       "<Figure size 1080x360 with 1 Axes>"
      ]
     },
     "metadata": {
      "needs_background": "light"
     },
     "output_type": "display_data"
    }
   ],
   "source": [
    "df_act.boxplot(\n",
    "    'total_sales',\n",
    "    by='platform',\n",
    "    figsize=(15,5),\n",
    "    patch_artist = True,\n",
    ").set_ylim(0,0.9)"
   ]
  },
  {
   "cell_type": "markdown",
   "id": "3f162182",
   "metadata": {},
   "source": [
    "- **Построив график с ограничениями по оси продажможем заметить, что медиана продаж у всех платформ схожа.**\n",
    "\n",
    "\n",
    "- **Медиана меньше среднего.**\n",
    "\n",
    "\n",
    "- **Графики скошены вправо.**\n"
   ]
  },
  {
   "cell_type": "markdown",
   "id": "64eb551f",
   "metadata": {},
   "source": [
    "### Посмотрим, как влияют на продажи внутри одной популярной платформы отзывы пользователей и критиков. Постройте диаграмму рассеяния и посчитайте корреляцию между отзывами и продажами. \n",
    "\n",
    "- Сформулируем выводы."
   ]
  },
  {
   "cell_type": "code",
   "execution_count": 24,
   "id": "b8b6bb83",
   "metadata": {},
   "outputs": [
    {
     "data": {
      "text/plain": [
       "<AxesSubplot:title={'center':'Диаграмма рассеяния продаж платформы PS4 от отзывов пользователей'}, xlabel='user_score', ylabel='total_sales'>"
      ]
     },
     "execution_count": 24,
     "metadata": {},
     "output_type": "execute_result"
    },
    {
     "data": {
      "image/png": "[encoded data removed]",
      "text/plain": [
       "<Figure size 1080x360 with 1 Axes>"
      ]
     },
     "metadata": {
      "needs_background": "light"
     },
     "output_type": "display_data"
    }
   ],
   "source": [
    "df_act.query('platform==\"ps4\"').sort_values(by='user_score',ascending=True).plot(kind='scatter',x='user_score',y='total_sales',figsize=(15,5),title='Диаграмма рассеяния продаж платформы PS4 от отзывов пользователей')"
   ]
  },
  {
   "cell_type": "code",
   "execution_count": 25,
   "id": "b6146b51",
   "metadata": {},
   "outputs": [
    {
     "data": {
      "text/plain": [
       "<AxesSubplot:title={'center':'Диаграмма рассеяния продаж платформы PS4 от отзывов критиков'}, xlabel='critic_score', ylabel='total_sales'>"
      ]
     },
     "execution_count": 25,
     "metadata": {},
     "output_type": "execute_result"
    },
    {
     "data": {
      "image/png": "[encoded data removed]",
      "text/plain": [
       "<Figure size 1080x360 with 1 Axes>"
      ]
     },
     "metadata": {
      "needs_background": "light"
     },
     "output_type": "display_data"
    }
   ],
   "source": [
    "df_act.query('platform==\"ps4\"').sort_values(by='critic_score',ascending=True).plot(kind='scatter',x='critic_score',y='total_sales',figsize=(15,5),title='Диаграмма рассеяния продаж платформы PS4 от отзывов критиков')"
   ]
  },
  {
   "cell_type": "markdown",
   "id": "8ce308fe",
   "metadata": {},
   "source": [
    "- **Можем заметить зависимость между оценкой пользователей и критиков. Более высокая оценка подразумевает больший шанс на многомиллионые продажи.**\n",
    "\n",
    "- **В виде исключения можем заметить игру с продажами 20+ миллионов с оценкой в районе 75 от пользователей и критиков соответственно.**"
   ]
  },
  {
   "cell_type": "markdown",
   "id": "7e47bb2e",
   "metadata": {},
   "source": [
    "### Соотнесем выводы с продажами игр на других платформах."
   ]
  },
  {
   "cell_type": "code",
   "execution_count": 26,
   "id": "9fe0b815",
   "metadata": {},
   "outputs": [
    {
     "data": {
      "image/png": "[encoded data removed]",
      "text/plain": [
       "<Figure size 1080x360 with 1 Axes>"
      ]
     },
     "metadata": {
      "needs_background": "light"
     },
     "output_type": "display_data"
    }
   ],
   "source": [
    "df_act.query('platform==\"ps3\"').sort_values(by='user_score',ascending=True).plot(kind='scatter',x='user_score',y='total_sales',figsize=(15,5),title='Диаграмма рассеяния продаж платформы PS3 от отзывов пользователей')\n",
    "ps3 = df_act.query('platform==\"ps3\"')"
   ]
  },
  {
   "cell_type": "code",
   "execution_count": 27,
   "id": "87ac7d79",
   "metadata": {},
   "outputs": [
    {
     "data": {
      "text/plain": [
       "0.3342853393371919"
      ]
     },
     "execution_count": 27,
     "metadata": {},
     "output_type": "execute_result"
    },
    {
     "data": {
      "image/png": "[encoded data removed]",
      "text/plain": [
       "<Figure size 1080x360 with 1 Axes>"
      ]
     },
     "metadata": {
      "needs_background": "light"
     },
     "output_type": "display_data"
    }
   ],
   "source": [
    "df_act.query('platform==\"ps3\"').sort_values(by='critic_score',ascending=True).plot(kind='scatter',x='critic_score',y='total_sales',figsize=(15,5),title='Диаграмма рассеяния продаж платформы PS3 от отзывов критиков')\n",
    "ps3['total_sales'].corr(ps3['critic_score'])"
   ]
  },
  {
   "cell_type": "code",
   "execution_count": 28,
   "id": "078f97ae",
   "metadata": {},
   "outputs": [
    {
     "data": {
      "text/plain": [
       "-0.06892505328279412"
      ]
     },
     "execution_count": 28,
     "metadata": {},
     "output_type": "execute_result"
    },
    {
     "data": {
      "image/png": "[encoded data removed]",
      "text/plain": [
       "<Figure size 1080x360 with 1 Axes>"
      ]
     },
     "metadata": {
      "needs_background": "light"
     },
     "output_type": "display_data"
    }
   ],
   "source": [
    "df_act.query('platform==\"xone\"').sort_values(by='user_score',ascending=True).plot(kind='scatter',x='user_score',y='total_sales',figsize=(15,5),title='Диаграмма рассеяния продаж платформы XONE от отзывов пользователей')\n",
    "xone = df_act.query('platform==\"xone\"')\n",
    "xone['total_sales'].corr(xone['user_score'])"
   ]
  },
  {
   "cell_type": "code",
   "execution_count": 29,
   "id": "629b9176",
   "metadata": {},
   "outputs": [
    {
     "data": {
      "text/plain": [
       "0.41699832800840175"
      ]
     },
     "execution_count": 29,
     "metadata": {},
     "output_type": "execute_result"
    },
    {
     "data": {
      "image/png": "[encoded data removed]",
      "text/plain": [
       "<Figure size 1080x360 with 1 Axes>"
      ]
     },
     "metadata": {
      "needs_background": "light"
     },
     "output_type": "display_data"
    }
   ],
   "source": [
    "df_act.query('platform==\"xone\"').sort_values(by='critic_score',ascending=True).plot(kind='scatter',x='critic_score',y='total_sales',figsize=(15,5),title='Диаграмма рассеяния продаж платформы XONE от отзывов критиков')\n",
    "xone['total_sales'].corr(xone['critic_score'])"
   ]
  },
  {
   "cell_type": "code",
   "execution_count": 30,
   "id": "fc96d4b5",
   "metadata": {},
   "outputs": [
    {
     "data": {
      "image/png": "[encoded data removed]",
      "text/plain": [
       "<Figure size 1080x360 with 1 Axes>"
      ]
     },
     "metadata": {
      "needs_background": "light"
     },
     "output_type": "display_data"
    }
   ],
   "source": [
    "df_act.query('platform==\"3ds\"').sort_values(by='user_score',ascending=True).plot(kind='scatter',x='user_score',y='total_sales',figsize=(15,5),title='Диаграмма рассеяния продаж платформы 3DS от отзывов пользователей')\n",
    "platform_3ds = df_act.query('platform==\"3ds\"')\n"
   ]
  },
  {
   "cell_type": "code",
   "execution_count": 31,
   "id": "4319e799",
   "metadata": {},
   "outputs": [
    {
     "data": {
      "text/plain": [
       "0.35705661422881035"
      ]
     },
     "execution_count": 31,
     "metadata": {},
     "output_type": "execute_result"
    },
    {
     "data": {
      "image/png": "[encoded data removed]",
      "text/plain": [
       "<Figure size 1080x360 with 1 Axes>"
      ]
     },
     "metadata": {
      "needs_background": "light"
     },
     "output_type": "display_data"
    }
   ],
   "source": [
    "df_act.query('platform==\"3ds\"').sort_values(by='critic_score',ascending=True).plot(kind='scatter',x='critic_score',y='total_sales',figsize=(15,5),title='Диаграмма рассеяния продаж платформы 3DS от отзывов критиков')\n",
    "platform_3ds['total_sales'].corr(platform_3ds['critic_score'])"
   ]
  },
  {
   "cell_type": "markdown",
   "id": "6dfa11d1",
   "metadata": {},
   "source": [
    "**Для сравнения взяли дополнительно топ3 после PS4, построили диаграммы рассеяния от отзывов пользователей/критиков/**\n",
    "\n",
    "- **Можем заметить общую слабу взаимосвязь объемов продаж и оценкой пользователей, т.к. у каждого пользователя свои показатели оценки той или иной игры, зачастую они субъективны, в то время как критики зачастую пользуются одними и теми же критеями оценки игры.**\n",
    "\n",
    "\n",
    "- **Платформы Wii & DS имеют достаточно слабую корреляцию по отношению к отзывам критиков.**\n",
    "\n",
    "\n",
    "- **Платформа PS3 имеет более сильную корреляцию, нежели X360 по отношению продаже к отзывам критиков.**"
   ]
  },
  {
   "cell_type": "markdown",
   "id": "2dbb5331",
   "metadata": {},
   "source": [
    "### Посмотрим на общее распределение игр по жанрам. \n",
    "- Что можно сказать о самых прибыльных жанрах? \n",
    "- Выделяются ли жанры с высокими и низкими продажами?"
   ]
  },
  {
   "cell_type": "code",
   "execution_count": 32,
   "id": "d0303906",
   "metadata": {},
   "outputs": [
    {
     "data": {
      "text/plain": [
       "<AxesSubplot:xlabel='genre'>"
      ]
     },
     "execution_count": 32,
     "metadata": {},
     "output_type": "execute_result"
    },
    {
     "data": {
      "image/png": "[encoded data removed]",
      "text/plain": [
       "<Figure size 1080x720 with 1 Axes>"
      ]
     },
     "metadata": {
      "needs_background": "light"
     },
     "output_type": "display_data"
    }
   ],
   "source": [
    "(\n",
    " df_act\n",
    " .pivot_table(index='genre', aggfunc={'total_sales':sum})\n",
    " .sort_values(by='total_sales', ascending=False)\n",
    " .plot(y='total_sales', kind='bar', figsize=(15, 10))\n",
    ")"
   ]
  },
  {
   "cell_type": "code",
   "execution_count": 33,
   "id": "76d99e65",
   "metadata": {},
   "outputs": [
    {
     "data": {
      "text/html": [
       "<div>\n",
       "<style scoped>\n",
       "    .dataframe tbody tr th:only-of-type {\n",
       "        vertical-align: middle;\n",
       "    }\n",
       "\n",
       "    .dataframe tbody tr th {\n",
       "        vertical-align: top;\n",
       "    }\n",
       "\n",
       "    .dataframe thead th {\n",
       "        text-align: right;\n",
       "    }\n",
       "</style>\n",
       "<table border=\"1\" class=\"dataframe\">\n",
       "  <thead>\n",
       "    <tr style=\"text-align: right;\">\n",
       "      <th></th>\n",
       "      <th>count</th>\n",
       "      <th>median</th>\n",
       "      <th>sum</th>\n",
       "    </tr>\n",
       "    <tr>\n",
       "      <th>genre</th>\n",
       "      <th></th>\n",
       "      <th></th>\n",
       "      <th></th>\n",
       "    </tr>\n",
       "  </thead>\n",
       "  <tbody>\n",
       "    <tr>\n",
       "      <th>action</th>\n",
       "      <td>766</td>\n",
       "      <td>0.110</td>\n",
       "      <td>321.87</td>\n",
       "    </tr>\n",
       "    <tr>\n",
       "      <th>adventure</th>\n",
       "      <td>245</td>\n",
       "      <td>0.030</td>\n",
       "      <td>23.64</td>\n",
       "    </tr>\n",
       "    <tr>\n",
       "      <th>fighting</th>\n",
       "      <td>80</td>\n",
       "      <td>0.125</td>\n",
       "      <td>35.31</td>\n",
       "    </tr>\n",
       "    <tr>\n",
       "      <th>misc</th>\n",
       "      <td>155</td>\n",
       "      <td>0.100</td>\n",
       "      <td>62.82</td>\n",
       "    </tr>\n",
       "    <tr>\n",
       "      <th>platform</th>\n",
       "      <td>74</td>\n",
       "      <td>0.225</td>\n",
       "      <td>42.63</td>\n",
       "    </tr>\n",
       "    <tr>\n",
       "      <th>puzzle</th>\n",
       "      <td>17</td>\n",
       "      <td>0.060</td>\n",
       "      <td>3.17</td>\n",
       "    </tr>\n",
       "    <tr>\n",
       "      <th>racing</th>\n",
       "      <td>85</td>\n",
       "      <td>0.120</td>\n",
       "      <td>39.89</td>\n",
       "    </tr>\n",
       "    <tr>\n",
       "      <th>role-playing</th>\n",
       "      <td>292</td>\n",
       "      <td>0.125</td>\n",
       "      <td>145.89</td>\n",
       "    </tr>\n",
       "    <tr>\n",
       "      <th>shooter</th>\n",
       "      <td>187</td>\n",
       "      <td>0.450</td>\n",
       "      <td>232.98</td>\n",
       "    </tr>\n",
       "    <tr>\n",
       "      <th>simulation</th>\n",
       "      <td>62</td>\n",
       "      <td>0.100</td>\n",
       "      <td>21.76</td>\n",
       "    </tr>\n",
       "    <tr>\n",
       "      <th>sports</th>\n",
       "      <td>214</td>\n",
       "      <td>0.240</td>\n",
       "      <td>150.65</td>\n",
       "    </tr>\n",
       "    <tr>\n",
       "      <th>strategy</th>\n",
       "      <td>56</td>\n",
       "      <td>0.080</td>\n",
       "      <td>10.08</td>\n",
       "    </tr>\n",
       "  </tbody>\n",
       "</table>\n",
       "</div>"
      ],
      "text/plain": [
       "              count  median     sum\n",
       "genre                              \n",
       "action          766   0.110  321.87\n",
       "adventure       245   0.030   23.64\n",
       "fighting         80   0.125   35.31\n",
       "misc            155   0.100   62.82\n",
       "platform         74   0.225   42.63\n",
       "puzzle           17   0.060    3.17\n",
       "racing           85   0.120   39.89\n",
       "role-playing    292   0.125  145.89\n",
       "shooter         187   0.450  232.98\n",
       "simulation       62   0.100   21.76\n",
       "sports          214   0.240  150.65\n",
       "strategy         56   0.080   10.08"
      ]
     },
     "execution_count": 33,
     "metadata": {},
     "output_type": "execute_result"
    }
   ],
   "source": [
    "genre_p = df_act.groupby('genre').agg({'name':'count','total_sales':['median','sum']})\n",
    "genre_p.columns = ['count', 'median','sum']\n",
    "genre_p"
   ]
  },
  {
   "cell_type": "markdown",
   "id": "47445a55",
   "metadata": {},
   "source": [
    "- **Для большей наглядности сделаем круговую диаграмму.**"
   ]
  },
  {
   "cell_type": "code",
   "execution_count": 34,
   "id": "a13da94c",
   "metadata": {},
   "outputs": [
    {
     "data": {
      "text/plain": [
       "<AxesSubplot:ylabel='genre'>"
      ]
     },
     "execution_count": 34,
     "metadata": {},
     "output_type": "execute_result"
    },
    {
     "data": {
      "image/png": "[encoded data removed]",
      "text/plain": [
       "<Figure size 576x576 with 1 Axes>"
      ]
     },
     "metadata": {},
     "output_type": "display_data"
    }
   ],
   "source": [
    "df_act['genre'].value_counts().plot(kind='pie', figsize=(8, 8), legend=False, autopct='%.0f%%')"
   ]
  },
  {
   "cell_type": "markdown",
   "id": "a100da8b",
   "metadata": {},
   "source": [
    "**Посмотрев на таблицу, можно сделать следующие выводы:**\n",
    "\n",
    "- В жанре `action` имеется целых 2381 игра с самыми большими ожидаемыми продажами, но количество игр не является показателем кассовости.\n",
    "\n",
    "- Самое крупное медианное значение имеет жанр `shooter`, хотя количество игр в 3 раза меньше жанра `action`. Также данный жанр входит в топ3 по продажам.\n",
    "\n",
    "- Жанр `adventure` при достаточно высоком количестве игр имеет самый низкий показатель медианны и также имеет одно из низких уровней продаж.\n",
    "\n",
    "**Продажи могут быть успешны в жанре и без огромного количества выпущенных игр, популярность может набрать любой жанр вне зависимости от каких-либо на то внешних факторов.**"
   ]
  },
  {
   "cell_type": "markdown",
   "id": "20c5bed1",
   "metadata": {},
   "source": [
    "##  **Портрет пользователя каждого региона(NA, EU, JP)**"
   ]
  },
  {
   "cell_type": "markdown",
   "id": "13796e97",
   "metadata": {},
   "source": [
    "**`Rating`**:\n",
    "\n",
    "- «EC» («Early childhood») — «Для детей младшего возраста»\n",
    "- «E» («Everyone») — «Для всех»\n",
    "- «E10+» («Everyone 10 and older») — «Для всех старше 10 лет»\n",
    "- «T» («Teen») — «Подросткам 13—19 лет»\n",
    "- «M» («Mature») — «От 17 лет»\n",
    "- «AO» («Adults Only 18+»\n",
    "- «RP» ( «Rating Pending»») — «Рейтинг ожидается»:"
   ]
  },
  {
   "cell_type": "markdown",
   "id": "28b9e205",
   "metadata": {},
   "source": [
    "### Портрет пользователя `NA` региона"
   ]
  },
  {
   "cell_type": "markdown",
   "id": "5ab25e74",
   "metadata": {},
   "source": [
    "- **ТОП5 ПЛАТФОРМ `NA` региона**"
   ]
  },
  {
   "cell_type": "code",
   "execution_count": 35,
   "id": "14149865",
   "metadata": {},
   "outputs": [
    {
     "data": {
      "text/html": [
       "<div>\n",
       "<style scoped>\n",
       "    .dataframe tbody tr th:only-of-type {\n",
       "        vertical-align: middle;\n",
       "    }\n",
       "\n",
       "    .dataframe tbody tr th {\n",
       "        vertical-align: top;\n",
       "    }\n",
       "\n",
       "    .dataframe thead th {\n",
       "        text-align: right;\n",
       "    }\n",
       "</style>\n",
       "<table border=\"1\" class=\"dataframe\">\n",
       "  <thead>\n",
       "    <tr style=\"text-align: right;\">\n",
       "      <th></th>\n",
       "      <th>na_sales</th>\n",
       "      <th>total_sales</th>\n",
       "    </tr>\n",
       "    <tr>\n",
       "      <th>platform</th>\n",
       "      <th></th>\n",
       "      <th></th>\n",
       "    </tr>\n",
       "  </thead>\n",
       "  <tbody>\n",
       "    <tr>\n",
       "      <th>ps4</th>\n",
       "      <td>108.74</td>\n",
       "      <td>314.14</td>\n",
       "    </tr>\n",
       "    <tr>\n",
       "      <th>xone</th>\n",
       "      <td>93.12</td>\n",
       "      <td>159.32</td>\n",
       "    </tr>\n",
       "    <tr>\n",
       "      <th>x360</th>\n",
       "      <td>81.66</td>\n",
       "      <td>136.80</td>\n",
       "    </tr>\n",
       "    <tr>\n",
       "      <th>ps3</th>\n",
       "      <td>63.50</td>\n",
       "      <td>181.43</td>\n",
       "    </tr>\n",
       "    <tr>\n",
       "      <th>3ds</th>\n",
       "      <td>38.20</td>\n",
       "      <td>143.25</td>\n",
       "    </tr>\n",
       "  </tbody>\n",
       "</table>\n",
       "</div>"
      ],
      "text/plain": [
       "          na_sales  total_sales\n",
       "platform                       \n",
       "ps4         108.74       314.14\n",
       "xone         93.12       159.32\n",
       "x360         81.66       136.80\n",
       "ps3          63.50       181.43\n",
       "3ds          38.20       143.25"
      ]
     },
     "execution_count": 35,
     "metadata": {},
     "output_type": "execute_result"
    }
   ],
   "source": [
    "na_users = df_act.pivot_table(index = 'platform', values=['na_sales', 'total_sales'],aggfunc=('sum'))\n",
    "na_users = na_users.sort_values(by='na_sales', ascending=False).head(5)\n",
    "na_users"
   ]
  },
  {
   "cell_type": "code",
   "execution_count": 36,
   "id": "1cf0f6b7",
   "metadata": {},
   "outputs": [
    {
     "data": {
      "image/png": "[encoded data removed]",
      "text/plain": [
       "<Figure size 576x576 with 1 Axes>"
      ]
     },
     "metadata": {},
     "output_type": "display_data"
    }
   ],
   "source": [
    "na_users.plot(kind='pie', y='na_sales', subplots=True, figsize=(8, 8), autopct='%.0f%%')\n",
    "plt.show()"
   ]
  },
  {
   "cell_type": "markdown",
   "id": "8c21a500",
   "metadata": {},
   "source": [
    "- **ТОП5 ЖАНРОВ `NA` региона**"
   ]
  },
  {
   "cell_type": "code",
   "execution_count": 37,
   "id": "18ad2ad7",
   "metadata": {},
   "outputs": [
    {
     "data": {
      "text/html": [
       "<div>\n",
       "<style scoped>\n",
       "    .dataframe tbody tr th:only-of-type {\n",
       "        vertical-align: middle;\n",
       "    }\n",
       "\n",
       "    .dataframe tbody tr th {\n",
       "        vertical-align: top;\n",
       "    }\n",
       "\n",
       "    .dataframe thead th {\n",
       "        text-align: right;\n",
       "    }\n",
       "</style>\n",
       "<table border=\"1\" class=\"dataframe\">\n",
       "  <thead>\n",
       "    <tr style=\"text-align: right;\">\n",
       "      <th></th>\n",
       "      <th>na_sales</th>\n",
       "    </tr>\n",
       "    <tr>\n",
       "      <th>genre</th>\n",
       "      <th></th>\n",
       "    </tr>\n",
       "  </thead>\n",
       "  <tbody>\n",
       "    <tr>\n",
       "      <th>action</th>\n",
       "      <td>126.05</td>\n",
       "    </tr>\n",
       "    <tr>\n",
       "      <th>shooter</th>\n",
       "      <td>109.74</td>\n",
       "    </tr>\n",
       "    <tr>\n",
       "      <th>sports</th>\n",
       "      <td>65.27</td>\n",
       "    </tr>\n",
       "    <tr>\n",
       "      <th>role-playing</th>\n",
       "      <td>46.40</td>\n",
       "    </tr>\n",
       "    <tr>\n",
       "      <th>misc</th>\n",
       "      <td>27.49</td>\n",
       "    </tr>\n",
       "  </tbody>\n",
       "</table>\n",
       "</div>"
      ],
      "text/plain": [
       "              na_sales\n",
       "genre                 \n",
       "action          126.05\n",
       "shooter         109.74\n",
       "sports           65.27\n",
       "role-playing     46.40\n",
       "misc             27.49"
      ]
     },
     "execution_count": 37,
     "metadata": {},
     "output_type": "execute_result"
    }
   ],
   "source": [
    "na_genres=df_act.pivot_table(index='genre',values=['na_sales'],aggfunc=('sum'))\n",
    "na_genres = na_genres.sort_values(by='na_sales', ascending=False).head(5)\n",
    "na_genres"
   ]
  },
  {
   "cell_type": "markdown",
   "id": "61fd6d28",
   "metadata": {},
   "source": [
    "- **Влияние рейтинга на продажи в `NA` регионе**"
   ]
  },
  {
   "cell_type": "code",
   "execution_count": 38,
   "id": "aab0e33c",
   "metadata": {},
   "outputs": [
    {
     "data": {
      "text/html": [
       "<div>\n",
       "<style scoped>\n",
       "    .dataframe tbody tr th:only-of-type {\n",
       "        vertical-align: middle;\n",
       "    }\n",
       "\n",
       "    .dataframe tbody tr th {\n",
       "        vertical-align: top;\n",
       "    }\n",
       "\n",
       "    .dataframe thead th {\n",
       "        text-align: right;\n",
       "    }\n",
       "</style>\n",
       "<table border=\"1\" class=\"dataframe\">\n",
       "  <thead>\n",
       "    <tr style=\"text-align: right;\">\n",
       "      <th></th>\n",
       "      <th>na_sales</th>\n",
       "    </tr>\n",
       "    <tr>\n",
       "      <th>rating</th>\n",
       "      <th></th>\n",
       "    </tr>\n",
       "  </thead>\n",
       "  <tbody>\n",
       "    <tr>\n",
       "      <th>m</th>\n",
       "      <td>165.21</td>\n",
       "    </tr>\n",
       "    <tr>\n",
       "      <th>rp</th>\n",
       "      <td>89.42</td>\n",
       "    </tr>\n",
       "    <tr>\n",
       "      <th>e</th>\n",
       "      <td>79.05</td>\n",
       "    </tr>\n",
       "    <tr>\n",
       "      <th>e10+</th>\n",
       "      <td>54.24</td>\n",
       "    </tr>\n",
       "    <tr>\n",
       "      <th>t</th>\n",
       "      <td>49.79</td>\n",
       "    </tr>\n",
       "  </tbody>\n",
       "</table>\n",
       "</div>"
      ],
      "text/plain": [
       "        na_sales\n",
       "rating          \n",
       "m         165.21\n",
       "rp         89.42\n",
       "e          79.05\n",
       "e10+       54.24\n",
       "t          49.79"
      ]
     },
     "execution_count": 38,
     "metadata": {},
     "output_type": "execute_result"
    }
   ],
   "source": [
    "na_esrb=df_act.pivot_table(index='rating',values=['na_sales'],aggfunc=('sum'))\n",
    "na_esrb=na_esrb.sort_values(by='na_sales',ascending=False)\n",
    "na_esrb"
   ]
  },
  {
   "cell_type": "markdown",
   "id": "73b99a0f",
   "metadata": {},
   "source": [
    "- В топ3 платформ вошли PS4, XONE  & X360.\n",
    "\n",
    "- Самыми популярными жанрами оказались Action & Shooter & Sports.\n",
    "\n",
    "- Больше всех продаж имеют игры +17 и игры для всех возрастов, также видим, что 2ю строчку занимают игры без рейтинга."
   ]
  },
  {
   "cell_type": "markdown",
   "id": "791031f2",
   "metadata": {},
   "source": [
    "### Портрет пользователя `EU` региона"
   ]
  },
  {
   "cell_type": "markdown",
   "id": "9abf00fd",
   "metadata": {},
   "source": [
    "- **ТОП5 ПЛАТФОРМ `EU` региона**"
   ]
  },
  {
   "cell_type": "code",
   "execution_count": 39,
   "id": "e6fa3e12",
   "metadata": {},
   "outputs": [
    {
     "data": {
      "text/html": [
       "<div>\n",
       "<style scoped>\n",
       "    .dataframe tbody tr th:only-of-type {\n",
       "        vertical-align: middle;\n",
       "    }\n",
       "\n",
       "    .dataframe tbody tr th {\n",
       "        vertical-align: top;\n",
       "    }\n",
       "\n",
       "    .dataframe thead th {\n",
       "        text-align: right;\n",
       "    }\n",
       "</style>\n",
       "<table border=\"1\" class=\"dataframe\">\n",
       "  <thead>\n",
       "    <tr style=\"text-align: right;\">\n",
       "      <th></th>\n",
       "      <th>eu_sales</th>\n",
       "      <th>total_sales</th>\n",
       "    </tr>\n",
       "    <tr>\n",
       "      <th>platform</th>\n",
       "      <th></th>\n",
       "      <th></th>\n",
       "    </tr>\n",
       "  </thead>\n",
       "  <tbody>\n",
       "    <tr>\n",
       "      <th>ps4</th>\n",
       "      <td>141.09</td>\n",
       "      <td>314.14</td>\n",
       "    </tr>\n",
       "    <tr>\n",
       "      <th>ps3</th>\n",
       "      <td>67.81</td>\n",
       "      <td>181.43</td>\n",
       "    </tr>\n",
       "    <tr>\n",
       "      <th>xone</th>\n",
       "      <td>51.59</td>\n",
       "      <td>159.32</td>\n",
       "    </tr>\n",
       "    <tr>\n",
       "      <th>x360</th>\n",
       "      <td>42.52</td>\n",
       "      <td>136.80</td>\n",
       "    </tr>\n",
       "    <tr>\n",
       "      <th>3ds</th>\n",
       "      <td>30.96</td>\n",
       "      <td>143.25</td>\n",
       "    </tr>\n",
       "  </tbody>\n",
       "</table>\n",
       "</div>"
      ],
      "text/plain": [
       "          eu_sales  total_sales\n",
       "platform                       \n",
       "ps4         141.09       314.14\n",
       "ps3          67.81       181.43\n",
       "xone         51.59       159.32\n",
       "x360         42.52       136.80\n",
       "3ds          30.96       143.25"
      ]
     },
     "execution_count": 39,
     "metadata": {},
     "output_type": "execute_result"
    }
   ],
   "source": [
    "eu_users = df_act.pivot_table(index = 'platform', values=['eu_sales', 'total_sales'],aggfunc=('sum'))\n",
    "eu_users = eu_users.sort_values(by='eu_sales', ascending=False).head(5)\n",
    "eu_users"
   ]
  },
  {
   "cell_type": "code",
   "execution_count": 40,
   "id": "9626599c",
   "metadata": {},
   "outputs": [
    {
     "data": {
      "image/png": "[encoded data removed]",
      "text/plain": [
       "<Figure size 576x576 with 1 Axes>"
      ]
     },
     "metadata": {},
     "output_type": "display_data"
    }
   ],
   "source": [
    "eu_users.plot(kind='pie', y='eu_sales', subplots=True, figsize=(8, 8), autopct='%.0f%%')\n",
    "plt.show()"
   ]
  },
  {
   "cell_type": "markdown",
   "id": "0cd392f9",
   "metadata": {},
   "source": [
    "- **ТОП5 ЖАНРОВ `EU` региона**"
   ]
  },
  {
   "cell_type": "code",
   "execution_count": 41,
   "id": "c9a02a4a",
   "metadata": {},
   "outputs": [
    {
     "data": {
      "text/html": [
       "<div>\n",
       "<style scoped>\n",
       "    .dataframe tbody tr th:only-of-type {\n",
       "        vertical-align: middle;\n",
       "    }\n",
       "\n",
       "    .dataframe tbody tr th {\n",
       "        vertical-align: top;\n",
       "    }\n",
       "\n",
       "    .dataframe thead th {\n",
       "        text-align: right;\n",
       "    }\n",
       "</style>\n",
       "<table border=\"1\" class=\"dataframe\">\n",
       "  <thead>\n",
       "    <tr style=\"text-align: right;\">\n",
       "      <th></th>\n",
       "      <th>eu_sales</th>\n",
       "    </tr>\n",
       "    <tr>\n",
       "      <th>genre</th>\n",
       "      <th></th>\n",
       "    </tr>\n",
       "  </thead>\n",
       "  <tbody>\n",
       "    <tr>\n",
       "      <th>action</th>\n",
       "      <td>118.13</td>\n",
       "    </tr>\n",
       "    <tr>\n",
       "      <th>shooter</th>\n",
       "      <td>87.86</td>\n",
       "    </tr>\n",
       "    <tr>\n",
       "      <th>sports</th>\n",
       "      <td>60.52</td>\n",
       "    </tr>\n",
       "    <tr>\n",
       "      <th>role-playing</th>\n",
       "      <td>36.97</td>\n",
       "    </tr>\n",
       "    <tr>\n",
       "      <th>racing</th>\n",
       "      <td>20.19</td>\n",
       "    </tr>\n",
       "  </tbody>\n",
       "</table>\n",
       "</div>"
      ],
      "text/plain": [
       "              eu_sales\n",
       "genre                 \n",
       "action          118.13\n",
       "shooter          87.86\n",
       "sports           60.52\n",
       "role-playing     36.97\n",
       "racing           20.19"
      ]
     },
     "execution_count": 41,
     "metadata": {},
     "output_type": "execute_result"
    }
   ],
   "source": [
    "eu_genres=df_act.pivot_table(index='genre',values=['eu_sales'],aggfunc=('sum'))\n",
    "eu_genres = eu_genres.sort_values(by='eu_sales', ascending=False).head(5)\n",
    "eu_genres"
   ]
  },
  {
   "cell_type": "markdown",
   "id": "b60df76b",
   "metadata": {},
   "source": [
    "- **Влияние рейтинга на продажи в `EU` регионе**"
   ]
  },
  {
   "cell_type": "code",
   "execution_count": 42,
   "id": "a48c0cc4",
   "metadata": {},
   "outputs": [
    {
     "data": {
      "text/html": [
       "<div>\n",
       "<style scoped>\n",
       "    .dataframe tbody tr th:only-of-type {\n",
       "        vertical-align: middle;\n",
       "    }\n",
       "\n",
       "    .dataframe tbody tr th {\n",
       "        vertical-align: top;\n",
       "    }\n",
       "\n",
       "    .dataframe thead th {\n",
       "        text-align: right;\n",
       "    }\n",
       "</style>\n",
       "<table border=\"1\" class=\"dataframe\">\n",
       "  <thead>\n",
       "    <tr style=\"text-align: right;\">\n",
       "      <th></th>\n",
       "      <th>eu_sales</th>\n",
       "    </tr>\n",
       "    <tr>\n",
       "      <th>rating</th>\n",
       "      <th></th>\n",
       "    </tr>\n",
       "  </thead>\n",
       "  <tbody>\n",
       "    <tr>\n",
       "      <th>m</th>\n",
       "      <td>145.32</td>\n",
       "    </tr>\n",
       "    <tr>\n",
       "      <th>e</th>\n",
       "      <td>83.36</td>\n",
       "    </tr>\n",
       "    <tr>\n",
       "      <th>rp</th>\n",
       "      <td>78.91</td>\n",
       "    </tr>\n",
       "    <tr>\n",
       "      <th>e10+</th>\n",
       "      <td>42.69</td>\n",
       "    </tr>\n",
       "    <tr>\n",
       "      <th>t</th>\n",
       "      <td>41.95</td>\n",
       "    </tr>\n",
       "  </tbody>\n",
       "</table>\n",
       "</div>"
      ],
      "text/plain": [
       "        eu_sales\n",
       "rating          \n",
       "m         145.32\n",
       "e          83.36\n",
       "rp         78.91\n",
       "e10+       42.69\n",
       "t          41.95"
      ]
     },
     "execution_count": 42,
     "metadata": {},
     "output_type": "execute_result"
    }
   ],
   "source": [
    "eu_esrb=df_act.pivot_table(index='rating',values=['eu_sales'],aggfunc=('sum'))\n",
    "eu_esrb=eu_esrb.sort_values(by='eu_sales',ascending=False)\n",
    "eu_esrb"
   ]
  },
  {
   "cell_type": "markdown",
   "id": "3d5366b7",
   "metadata": {},
   "source": [
    "- В топ3 платформ вошли PS4, PS3, XONE.\n",
    "\n",
    "- Самыми популярными жанрами оказались Action & Shooter & Sports.\n",
    "\n",
    "- Больше всех продаж имеют игры без ограничения по возрасту, дальше следуют +17 и замыкают топ3 игры без рейтинга."
   ]
  },
  {
   "cell_type": "markdown",
   "id": "14f91d89",
   "metadata": {},
   "source": [
    "### Портрет пользователя `JP` региона"
   ]
  },
  {
   "cell_type": "markdown",
   "id": "f4f0b3ad",
   "metadata": {},
   "source": [
    "- **ТОП5 ПЛАТФОРМ `JP` региона**"
   ]
  },
  {
   "cell_type": "code",
   "execution_count": 43,
   "id": "aa547c13",
   "metadata": {},
   "outputs": [
    {
     "data": {
      "text/html": [
       "<div>\n",
       "<style scoped>\n",
       "    .dataframe tbody tr th:only-of-type {\n",
       "        vertical-align: middle;\n",
       "    }\n",
       "\n",
       "    .dataframe tbody tr th {\n",
       "        vertical-align: top;\n",
       "    }\n",
       "\n",
       "    .dataframe thead th {\n",
       "        text-align: right;\n",
       "    }\n",
       "</style>\n",
       "<table border=\"1\" class=\"dataframe\">\n",
       "  <thead>\n",
       "    <tr style=\"text-align: right;\">\n",
       "      <th></th>\n",
       "      <th>jp_sales</th>\n",
       "      <th>total_sales</th>\n",
       "    </tr>\n",
       "    <tr>\n",
       "      <th>platform</th>\n",
       "      <th></th>\n",
       "      <th></th>\n",
       "    </tr>\n",
       "  </thead>\n",
       "  <tbody>\n",
       "    <tr>\n",
       "      <th>3ds</th>\n",
       "      <td>67.81</td>\n",
       "      <td>143.25</td>\n",
       "    </tr>\n",
       "    <tr>\n",
       "      <th>ps3</th>\n",
       "      <td>23.35</td>\n",
       "      <td>181.43</td>\n",
       "    </tr>\n",
       "    <tr>\n",
       "      <th>psv</th>\n",
       "      <td>18.59</td>\n",
       "      <td>32.99</td>\n",
       "    </tr>\n",
       "    <tr>\n",
       "      <th>ps4</th>\n",
       "      <td>15.96</td>\n",
       "      <td>314.14</td>\n",
       "    </tr>\n",
       "    <tr>\n",
       "      <th>wiiu</th>\n",
       "      <td>10.88</td>\n",
       "      <td>64.63</td>\n",
       "    </tr>\n",
       "  </tbody>\n",
       "</table>\n",
       "</div>"
      ],
      "text/plain": [
       "          jp_sales  total_sales\n",
       "platform                       \n",
       "3ds          67.81       143.25\n",
       "ps3          23.35       181.43\n",
       "psv          18.59        32.99\n",
       "ps4          15.96       314.14\n",
       "wiiu         10.88        64.63"
      ]
     },
     "execution_count": 43,
     "metadata": {},
     "output_type": "execute_result"
    }
   ],
   "source": [
    "jp_users = df_act.pivot_table(index = 'platform', values=['jp_sales', 'total_sales'],aggfunc=('sum'))\n",
    "jp_users = jp_users.sort_values(by='jp_sales', ascending=False).head(5)\n",
    "jp_users"
   ]
  },
  {
   "cell_type": "code",
   "execution_count": 44,
   "id": "d664b3e7",
   "metadata": {},
   "outputs": [
    {
     "data": {
      "image/png": "[encoded data removed]",
      "text/plain": [
       "<Figure size 576x576 with 1 Axes>"
      ]
     },
     "metadata": {},
     "output_type": "display_data"
    }
   ],
   "source": [
    "jp_users.plot(kind='pie', y='jp_sales', subplots=True, figsize=(8, 8), autopct='%.0f%%')\n",
    "plt.show()"
   ]
  },
  {
   "cell_type": "markdown",
   "id": "62eaa0ef",
   "metadata": {},
   "source": [
    "- **ТОП5 ЖАНРОВ `JP` региона**"
   ]
  },
  {
   "cell_type": "code",
   "execution_count": 45,
   "id": "e2a2a528",
   "metadata": {},
   "outputs": [
    {
     "data": {
      "text/html": [
       "<div>\n",
       "<style scoped>\n",
       "    .dataframe tbody tr th:only-of-type {\n",
       "        vertical-align: middle;\n",
       "    }\n",
       "\n",
       "    .dataframe tbody tr th {\n",
       "        vertical-align: top;\n",
       "    }\n",
       "\n",
       "    .dataframe thead th {\n",
       "        text-align: right;\n",
       "    }\n",
       "</style>\n",
       "<table border=\"1\" class=\"dataframe\">\n",
       "  <thead>\n",
       "    <tr style=\"text-align: right;\">\n",
       "      <th></th>\n",
       "      <th>jp_sales</th>\n",
       "    </tr>\n",
       "    <tr>\n",
       "      <th>genre</th>\n",
       "      <th></th>\n",
       "    </tr>\n",
       "  </thead>\n",
       "  <tbody>\n",
       "    <tr>\n",
       "      <th>role-playing</th>\n",
       "      <td>51.04</td>\n",
       "    </tr>\n",
       "    <tr>\n",
       "      <th>action</th>\n",
       "      <td>40.49</td>\n",
       "    </tr>\n",
       "    <tr>\n",
       "      <th>misc</th>\n",
       "      <td>9.20</td>\n",
       "    </tr>\n",
       "    <tr>\n",
       "      <th>fighting</th>\n",
       "      <td>7.65</td>\n",
       "    </tr>\n",
       "    <tr>\n",
       "      <th>shooter</th>\n",
       "      <td>6.61</td>\n",
       "    </tr>\n",
       "  </tbody>\n",
       "</table>\n",
       "</div>"
      ],
      "text/plain": [
       "              jp_sales\n",
       "genre                 \n",
       "role-playing     51.04\n",
       "action           40.49\n",
       "misc              9.20\n",
       "fighting          7.65\n",
       "shooter           6.61"
      ]
     },
     "execution_count": 45,
     "metadata": {},
     "output_type": "execute_result"
    }
   ],
   "source": [
    "jp_genres=df_act.pivot_table(index='genre',values=['jp_sales'],aggfunc=('sum'))\n",
    "jp_genres = jp_genres.sort_values(by='jp_sales', ascending=False).head(5)\n",
    "jp_genres"
   ]
  },
  {
   "cell_type": "markdown",
   "id": "6038da76",
   "metadata": {},
   "source": [
    "- **Влияние рейтинга на продажи в `JP` регионе**"
   ]
  },
  {
   "cell_type": "code",
   "execution_count": 46,
   "id": "a18de74f",
   "metadata": {},
   "outputs": [
    {
     "data": {
      "text/html": [
       "<div>\n",
       "<style scoped>\n",
       "    .dataframe tbody tr th:only-of-type {\n",
       "        vertical-align: middle;\n",
       "    }\n",
       "\n",
       "    .dataframe tbody tr th {\n",
       "        vertical-align: top;\n",
       "    }\n",
       "\n",
       "    .dataframe thead th {\n",
       "        text-align: right;\n",
       "    }\n",
       "</style>\n",
       "<table border=\"1\" class=\"dataframe\">\n",
       "  <thead>\n",
       "    <tr style=\"text-align: right;\">\n",
       "      <th></th>\n",
       "      <th>jp_sales</th>\n",
       "    </tr>\n",
       "    <tr>\n",
       "      <th>rating</th>\n",
       "      <th></th>\n",
       "    </tr>\n",
       "  </thead>\n",
       "  <tbody>\n",
       "    <tr>\n",
       "      <th>rp</th>\n",
       "      <td>85.05</td>\n",
       "    </tr>\n",
       "    <tr>\n",
       "      <th>t</th>\n",
       "      <td>20.59</td>\n",
       "    </tr>\n",
       "    <tr>\n",
       "      <th>e</th>\n",
       "      <td>15.14</td>\n",
       "    </tr>\n",
       "    <tr>\n",
       "      <th>m</th>\n",
       "      <td>14.11</td>\n",
       "    </tr>\n",
       "    <tr>\n",
       "      <th>e10+</th>\n",
       "      <td>5.89</td>\n",
       "    </tr>\n",
       "  </tbody>\n",
       "</table>\n",
       "</div>"
      ],
      "text/plain": [
       "        jp_sales\n",
       "rating          \n",
       "rp         85.05\n",
       "t          20.59\n",
       "e          15.14\n",
       "m          14.11\n",
       "e10+        5.89"
      ]
     },
     "execution_count": 46,
     "metadata": {},
     "output_type": "execute_result"
    }
   ],
   "source": [
    "jp_esrb=df_act.pivot_table(index='rating',values=['jp_sales'],aggfunc=('sum'))\n",
    "jp_esrb=jp_esrb.sort_values(by='jp_sales',ascending=False)\n",
    "jp_esrb"
   ]
  },
  {
   "cell_type": "markdown",
   "id": "1870c1dd",
   "metadata": {},
   "source": [
    "- В топ3 платформ вошли 3ds, PS3, PSV\n",
    "\n",
    "- Самыми популярными жанрами оказались Role-playing, action, misc\n",
    "\n",
    "- Большую часть игр не имеют рейтинга RP, очень маленькую часть занимают игры с рейтингом «T» («Teen») — «Подросткам 13—19 лет» и E - «Для всех»"
   ]
  },
  {
   "cell_type": "markdown",
   "id": "a91993ae",
   "metadata": {},
   "source": [
    "### Рейтинг ESRB"
   ]
  },
  {
   "cell_type": "markdown",
   "id": "8a902a3d",
   "metadata": {},
   "source": [
    "- **Построим сводную таблицу рейтингов в зависимости от региона продаж.**"
   ]
  },
  {
   "cell_type": "code",
   "execution_count": 47,
   "id": "11abc260",
   "metadata": {},
   "outputs": [
    {
     "data": {
      "text/html": [
       "<div>\n",
       "<style scoped>\n",
       "    .dataframe tbody tr th:only-of-type {\n",
       "        vertical-align: middle;\n",
       "    }\n",
       "\n",
       "    .dataframe tbody tr th {\n",
       "        vertical-align: top;\n",
       "    }\n",
       "\n",
       "    .dataframe thead th {\n",
       "        text-align: right;\n",
       "    }\n",
       "</style>\n",
       "<table border=\"1\" class=\"dataframe\">\n",
       "  <thead>\n",
       "    <tr style=\"text-align: right;\">\n",
       "      <th></th>\n",
       "      <th>eu_sales</th>\n",
       "      <th>jp_sales</th>\n",
       "      <th>na_sales</th>\n",
       "    </tr>\n",
       "    <tr>\n",
       "      <th>rating</th>\n",
       "      <th></th>\n",
       "      <th></th>\n",
       "      <th></th>\n",
       "    </tr>\n",
       "  </thead>\n",
       "  <tbody>\n",
       "    <tr>\n",
       "      <th>e</th>\n",
       "      <td>83.36</td>\n",
       "      <td>15.14</td>\n",
       "      <td>79.05</td>\n",
       "    </tr>\n",
       "    <tr>\n",
       "      <th>e10+</th>\n",
       "      <td>42.69</td>\n",
       "      <td>5.89</td>\n",
       "      <td>54.24</td>\n",
       "    </tr>\n",
       "    <tr>\n",
       "      <th>m</th>\n",
       "      <td>145.32</td>\n",
       "      <td>14.11</td>\n",
       "      <td>165.21</td>\n",
       "    </tr>\n",
       "    <tr>\n",
       "      <th>rp</th>\n",
       "      <td>78.91</td>\n",
       "      <td>85.05</td>\n",
       "      <td>89.42</td>\n",
       "    </tr>\n",
       "    <tr>\n",
       "      <th>t</th>\n",
       "      <td>41.95</td>\n",
       "      <td>20.59</td>\n",
       "      <td>49.79</td>\n",
       "    </tr>\n",
       "  </tbody>\n",
       "</table>\n",
       "</div>"
      ],
      "text/plain": [
       "        eu_sales  jp_sales  na_sales\n",
       "rating                              \n",
       "e          83.36     15.14     79.05\n",
       "e10+       42.69      5.89     54.24\n",
       "m         145.32     14.11    165.21\n",
       "rp         78.91     85.05     89.42\n",
       "t          41.95     20.59     49.79"
      ]
     },
     "execution_count": 47,
     "metadata": {},
     "output_type": "execute_result"
    }
   ],
   "source": [
    "esrb = df_act.pivot_table(index='rating', aggfunc={'na_sales':sum, 'eu_sales':sum, 'jp_sales':sum})\n",
    "esrb"
   ]
  },
  {
   "cell_type": "markdown",
   "id": "cdc13a56",
   "metadata": {},
   "source": [
    "Для Европы и Америки большую часть игр составляют игры с рейтингом **«M» («Mature») — «От 17 лет»**. В то время как в Японии преобладают игры **«T» («Teen») — «Подросткам 13—19 лет» и «E» («Everyone») — «Для всех»**. Можно заметить, что в выборе платформы EU и NA очень схожи, также похож выбор жанров игр и их рейтинга ESRB. В то время как Японцы выбирают абсолютно другие жанры, платформы и большую часть рейтинга составляют игры **«RP» ( «Rating Pending»») — «Рейтинг ожидается»**."
   ]
  },
  {
   "cell_type": "markdown",
   "id": "5e92c35f",
   "metadata": {},
   "source": [
    "### Вывод портретов"
   ]
  },
  {
   "cell_type": "markdown",
   "id": "dd54425f",
   "metadata": {},
   "source": [
    "- в `NA` 28% рынка занимает платформа PS4, 24% & 21% делят домашняя для региона платформы XONE & X360.\n",
    "- в `EU` 42% и 20%  рынка занимают PS4 & PS3, чуть меньшая доля у XONE - 15%.\n",
    "- в `JP` XBOX даже не вошла в выборку, т.к. данный регион владеет компаниями Nintendo & PS, стоит отметить лидера рынка 3ds - 50%.\n",
    "\n",
    "Для западного рынка лучшими жанрами остаются `Action & Sports & Shooter`, в то время как на Востоке игроки предпочитают `Role-playing`, в меньшей степени `Action и Misc`(игры не подходящие ни к одному из жанров, либо же владеющие в себе все жанры)\n",
    "\n",
    "\n",
    "Большая половина рынка находится в регионе `NA`, в 2 раза меньше в `EU`, а `JP` показывает скромные показатели, т.к. большую половину игр JP регион выпускал в начале 00х, но эти данные никак не могут повлиять на 2017 год."
   ]
  },
  {
   "cell_type": "markdown",
   "id": "b8fdfa7d",
   "metadata": {},
   "source": [
    "## **Проверка гипотез**"
   ]
  },
  {
   "cell_type": "markdown",
   "id": "167967f8",
   "metadata": {},
   "source": [
    "- Средние пользовательские рейтинги платформ Xbox One и PC одинаковые;\n",
    "\n",
    "- Средние пользовательские рейтинги жанров Action (англ. «действие», экшенигры) и Sports (англ. «спортивные соревнования») разные.\n"
   ]
  },
  {
   "cell_type": "markdown",
   "id": "a85f3ecd",
   "metadata": {},
   "source": [
    "### Средние пользовательские рейтинги платформ Xbox One и PC одинаковые;"
   ]
  },
  {
   "cell_type": "markdown",
   "id": "ce4308b3",
   "metadata": {},
   "source": [
    "h0: Средние пользовательские рейтинги платформ Xbox One и PC одинаковые.\n",
    "\n",
    "h1: Средние пользовательские рейтинги платформ Xbox One и PC не одинаковые."
   ]
  },
  {
   "cell_type": "code",
   "execution_count": 48,
   "id": "d95e2ec8",
   "metadata": {},
   "outputs": [
    {
     "name": "stdout",
     "output_type": "stream",
     "text": [
      "Равны ли дисперсии двух совокупностей? True\n"
     ]
    }
   ],
   "source": [
    "df_act = df_act.dropna()\n",
    "xone = st.variation(df_act.query('platform == \"xone\"')['user_score'])\n",
    "pc = st.variation(df_act.query('platform == \"pc\"')['user_score'])\n",
    "print('Равны ли дисперсии двух совокупностей?',(xone * 0.05 < abs(xone - pc)))"
   ]
  },
  {
   "cell_type": "code",
   "execution_count": 49,
   "id": "473c262f",
   "metadata": {},
   "outputs": [
    {
     "name": "stdout",
     "output_type": "stream",
     "text": [
      "р-значение:  0.17306926618147322\n",
      "Не получилось отвергнуть нулевую гипотезу\n"
     ]
    }
   ],
   "source": [
    "# самостоятельно назначим пороговое значение alpha.\n",
    "alpha = 0.05\n",
    "\n",
    "result = st.ttest_ind(df_act.query('platform == \"xone\"')['user_score'], df_act.query('platform == \"pc\"')['user_score'])\n",
    "\n",
    "print('р-значение: ',result.pvalue)\n",
    "if result.pvalue < alpha:\n",
    "    print(\"Отвергаем нулевую гипотезу\")\n",
    "else:\n",
    "    print(\"Не получилось отвергнуть нулевую гипотезу\")"
   ]
  },
  {
   "cell_type": "markdown",
   "id": "57f258ad",
   "metadata": {},
   "source": [
    "- P-уровень значимости равен 17%.\n",
    "\n",
    "- Средние пользовательские рейтинги платформы XBOX ONE & PC практически не отличаются друг от друга."
   ]
  },
  {
   "cell_type": "markdown",
   "id": "a03289ed",
   "metadata": {},
   "source": [
    "### Средние пользовательские рейтинги жанров Action  и Sports разные."
   ]
  },
  {
   "cell_type": "markdown",
   "id": "3c3a50e1",
   "metadata": {},
   "source": [
    "h0: Cредние пользовательские рейтинги жанров Action и Sports равны.\n",
    "\n",
    "h1: Cредние пользовательские рейтинги жанров Action и Sports различаются."
   ]
  },
  {
   "cell_type": "code",
   "execution_count": 50,
   "id": "7193cda7",
   "metadata": {},
   "outputs": [
    {
     "name": "stdout",
     "output_type": "stream",
     "text": [
      "Равны ли дисперсии двух совокупностей? True\n"
     ]
    }
   ],
   "source": [
    "action = st.variation(df_act.query('genre == \"action\"')['user_score'])\n",
    "sports = st.variation(df_act.query('genre == \"sports\"')['user_score'])\n",
    "print('Равны ли дисперсии двух совокупностей?',(((action * 0.05) < abs(action - sports))))"
   ]
  },
  {
   "cell_type": "code",
   "execution_count": 51,
   "id": "08dbe74f",
   "metadata": {},
   "outputs": [
    {
     "name": "stdout",
     "output_type": "stream",
     "text": [
      "р-значение:  1.0496920005008588e-13\n",
      "Отвергаем нулевую гипотезу\n"
     ]
    }
   ],
   "source": [
    "# самостоятельно назначим пороговое значение alpha.\n",
    "alpha = 0.05\n",
    "result_two = st.ttest_ind(df_act.query('genre == \"action\"')['user_score'],\n",
    "                             df_act.query('genre == \"sports\"')['user_score'],\n",
    "                             equal_var=False)\n",
    "\n",
    "print('р-значение: ',result_two.pvalue)\n",
    "if result_two.pvalue < alpha:\n",
    "    print(\"Отвергаем нулевую гипотезу\")\n",
    "else:\n",
    "    print(\"Не получилось отвергнуть нулевую гипотезу\")"
   ]
  },
  {
   "cell_type": "markdown",
   "id": "e1b30caf",
   "metadata": {},
   "source": [
    "- Значение p находится на уровне 1, в нормальных условиях означает, что есть веские доказательства против нулевой гипотезы\n",
    "\n",
    "- Средние пользовательские рейтинги жанра Action & Sports слишком сильно отличаются друг от друга."
   ]
  },
  {
   "cell_type": "markdown",
   "id": "f94dbb98",
   "metadata": {},
   "source": [
    "## **Общий вывод:**"
   ]
  },
  {
   "cell_type": "markdown",
   "id": "0f6d85e1",
   "metadata": {},
   "source": [
    "- C 2005 по 2011 года считаются самыми успешными для разработчиков игр.\n",
    "\n",
    "- Самой продаваемой платформой является PS (PS2 - 1233; PS3 - 931) следом идет X360 c 961 продаж. Заметна явная сменяемость поколений консоли, за год до появления заметен спад старой платформы/плавный переход на новую.\n",
    "\n",
    "- Можем заметить зависимость между оценкой пользователей и критиков. Более высокая оценка подразумевает больший шанс на многомиллионые продажи.\n",
    "\n",
    "- В виде исключения можем заметить игру с продажами 20+ миллионов с оценкой в районе 6 и 60 от пользователей и критиков соответственно.\n",
    "\n",
    "- Отзывы пользователей не так сильно влияют на продажи, корреляция слабая.\n",
    "\n",
    "- Корреляция отзывов критиков больше, видно прямую завивисимость оценки и объема продаж.\n",
    "\n",
    "- В жанре action имеется целых 2381 игра с самыми большими ожидаемыми продажами, но количество игр не является показателем кассовости.\n",
    "\n",
    "- Самое крупное медианное значение имеет жанр shooter, хотя количество игр в 3 раза меньше жанра action. Также данный жанр входит в топ3 по продажам.\n",
    "\n",
    "- Жанр adventure при достаточно высоком количестве игр имеет самый низкий показатель медианны и также имеет одно из низких уровней продаж.\n",
    "\n",
    "- в NA 28% рынка занимает платформа PS4, 24% & 21% делят домашняя для региона платформы XONE & X360.\n",
    "- в EU 42% и 20%  рынка занимают PS4 & PS3, чуть меньшая доля у XONE - 15%.\n",
    "- в JP XBOX даже не вошла в выборку, т.к. данный регион владеет компаниями Nintendo & PS, стоит отметить лидера рынка 3ds - 50%.\n",
    "- Для западного рынка лучшими жанрами остаются Action & Sports & Shooter, в то время как на Востоке игроки предпочитают Role-playing, в меньшей степени Action и Misc(игры не подходящие ни к одному из жанров, либо же владеющие в себе все жанры)\n",
    "\n",
    "- Большая половина рынка находится в регионе NA, в 2 раза меньше в EU, а JP показывает скромные показатели, т.к. большую половину игр JP регион выпускал в начале 00х, но эти данные никак не могут повлиять на 2017 год.\n",
    "\n",
    "- Средние пользовательские рейтинги жанра Action & Sports и платформы XONE & PC практически не отличаются друг от друга.\n",
    "\n"
   ]
  }
 ],
 "metadata": {
  "ExecuteTimeLog": [
   {
    "duration": 1379,
    "start_time": "2022-04-09T15:17:51.695Z"
   },
   {
    "duration": 47,
    "start_time": "2022-04-09T15:17:53.076Z"
   },
   {
    "duration": 20,
    "start_time": "2022-04-09T15:17:53.125Z"
   },
   {
    "duration": 47,
    "start_time": "2022-04-09T15:17:53.148Z"
   },
   {
    "duration": 31,
    "start_time": "2022-04-09T15:17:53.197Z"
   },
   {
    "duration": 17,
    "start_time": "2022-04-09T15:17:53.230Z"
   },
   {
    "duration": 36,
    "start_time": "2022-04-09T15:17:53.249Z"
   },
   {
    "duration": 9,
    "start_time": "2022-04-09T15:17:53.287Z"
   },
   {
    "duration": 14,
    "start_time": "2022-04-09T15:17:53.299Z"
   },
   {
    "duration": 8,
    "start_time": "2022-04-09T15:17:53.317Z"
   },
   {
    "duration": 9,
    "start_time": "2022-04-09T15:17:53.327Z"
   },
   {
    "duration": 44,
    "start_time": "2022-04-09T15:17:53.338Z"
   },
   {
    "duration": 15,
    "start_time": "2022-04-09T15:17:53.384Z"
   },
   {
    "duration": 13,
    "start_time": "2022-04-09T15:17:53.401Z"
   },
   {
    "duration": 7985,
    "start_time": "2022-04-09T15:17:53.417Z"
   },
   {
    "duration": 5,
    "start_time": "2022-04-09T15:18:01.404Z"
   },
   {
    "duration": 35,
    "start_time": "2022-04-09T15:18:01.411Z"
   },
   {
    "duration": 29,
    "start_time": "2022-04-09T15:18:01.448Z"
   },
   {
    "duration": 538,
    "start_time": "2022-04-09T15:18:01.479Z"
   },
   {
    "duration": 24,
    "start_time": "2022-04-09T15:18:02.019Z"
   },
   {
    "duration": 3684,
    "start_time": "2022-04-09T15:18:02.046Z"
   },
   {
    "duration": 496,
    "start_time": "2022-04-09T15:18:05.732Z"
   },
   {
    "duration": 24,
    "start_time": "2022-04-09T15:18:06.230Z"
   },
   {
    "duration": 4040,
    "start_time": "2022-04-09T15:18:06.255Z"
   },
   {
    "duration": 479,
    "start_time": "2022-04-09T15:18:10.297Z"
   },
   {
    "duration": 344,
    "start_time": "2022-04-09T15:18:10.778Z"
   },
   {
    "duration": 294,
    "start_time": "2022-04-09T15:18:11.124Z"
   },
   {
    "duration": 259,
    "start_time": "2022-04-09T15:18:11.423Z"
   },
   {
    "duration": 271,
    "start_time": "2022-04-09T15:18:11.684Z"
   },
   {
    "duration": 274,
    "start_time": "2022-04-09T15:18:11.958Z"
   },
   {
    "duration": 312,
    "start_time": "2022-04-09T15:18:12.235Z"
   },
   {
    "duration": 297,
    "start_time": "2022-04-09T15:18:12.549Z"
   },
   {
    "duration": 309,
    "start_time": "2022-04-09T15:18:12.850Z"
   },
   {
    "duration": 29,
    "start_time": "2022-04-09T15:18:13.161Z"
   },
   {
    "duration": 44,
    "start_time": "2022-04-09T15:18:13.193Z"
   },
   {
    "duration": 318,
    "start_time": "2022-04-09T15:18:13.240Z"
   },
   {
    "duration": 27,
    "start_time": "2022-04-09T15:18:13.560Z"
   },
   {
    "duration": 25,
    "start_time": "2022-04-09T15:18:13.589Z"
   },
   {
    "duration": 28,
    "start_time": "2022-04-09T15:18:13.616Z"
   },
   {
    "duration": 319,
    "start_time": "2022-04-09T15:18:13.646Z"
   },
   {
    "duration": 26,
    "start_time": "2022-04-09T15:18:13.967Z"
   },
   {
    "duration": 19,
    "start_time": "2022-04-09T15:18:13.995Z"
   },
   {
    "duration": 23,
    "start_time": "2022-04-09T15:18:14.016Z"
   },
   {
    "duration": 303,
    "start_time": "2022-04-09T15:18:14.073Z"
   },
   {
    "duration": 21,
    "start_time": "2022-04-09T15:18:14.378Z"
   },
   {
    "duration": 33,
    "start_time": "2022-04-09T15:18:14.401Z"
   },
   {
    "duration": 21,
    "start_time": "2022-04-09T15:18:14.437Z"
   },
   {
    "duration": 29,
    "start_time": "2022-04-09T15:18:14.460Z"
   },
   {
    "duration": 22,
    "start_time": "2022-04-09T15:18:14.492Z"
   },
   {
    "duration": 21,
    "start_time": "2022-04-09T15:18:14.517Z"
   },
   {
    "duration": 756,
    "start_time": "2022-04-09T15:38:13.855Z"
   },
   {
    "duration": 11,
    "start_time": "2022-04-09T15:38:46.400Z"
   },
   {
    "duration": 31,
    "start_time": "2022-04-09T15:39:08.586Z"
   },
   {
    "duration": 0,
    "start_time": "2022-04-09T15:40:13.676Z"
   },
   {
    "duration": 39099,
    "start_time": "2022-04-09T15:40:18.011Z"
   },
   {
    "duration": 0,
    "start_time": "2022-04-09T15:40:57.115Z"
   },
   {
    "duration": 34,
    "start_time": "2022-04-09T15:41:00.259Z"
   },
   {
    "duration": 9,
    "start_time": "2022-04-09T15:41:11.837Z"
   },
   {
    "duration": 76485,
    "start_time": "2022-04-09T15:41:17.062Z"
   },
   {
    "duration": 1971,
    "start_time": "2022-04-09T16:29:28.446Z"
   },
   {
    "duration": 54,
    "start_time": "2022-04-09T16:29:30.420Z"
   },
   {
    "duration": 22,
    "start_time": "2022-04-09T16:29:30.477Z"
   },
   {
    "duration": 37,
    "start_time": "2022-04-09T16:29:30.502Z"
   },
   {
    "duration": 51,
    "start_time": "2022-04-09T16:29:30.541Z"
   },
   {
    "duration": 16,
    "start_time": "2022-04-09T16:29:30.594Z"
   },
   {
    "duration": 21,
    "start_time": "2022-04-09T16:29:30.613Z"
   },
   {
    "duration": 8,
    "start_time": "2022-04-09T16:29:30.637Z"
   },
   {
    "duration": 36,
    "start_time": "2022-04-09T16:29:30.647Z"
   },
   {
    "duration": 8,
    "start_time": "2022-04-09T16:29:30.687Z"
   },
   {
    "duration": 10,
    "start_time": "2022-04-09T16:29:30.697Z"
   },
   {
    "duration": 11,
    "start_time": "2022-04-09T16:29:30.709Z"
   },
   {
    "duration": 9,
    "start_time": "2022-04-09T16:29:30.722Z"
   },
   {
    "duration": 50,
    "start_time": "2022-04-09T16:29:30.733Z"
   },
   {
    "duration": 9291,
    "start_time": "2022-04-09T16:29:30.785Z"
   },
   {
    "duration": 5,
    "start_time": "2022-04-09T16:29:40.079Z"
   },
   {
    "duration": 19,
    "start_time": "2022-04-09T16:29:40.085Z"
   },
   {
    "duration": 11,
    "start_time": "2022-04-09T16:29:40.107Z"
   },
   {
    "duration": 541,
    "start_time": "2022-04-09T16:29:40.120Z"
   },
   {
    "duration": 28,
    "start_time": "2022-04-09T16:29:40.663Z"
   },
   {
    "duration": 3862,
    "start_time": "2022-04-09T16:29:40.693Z"
   },
   {
    "duration": 503,
    "start_time": "2022-04-09T16:29:44.558Z"
   },
   {
    "duration": 30,
    "start_time": "2022-04-09T16:29:45.063Z"
   },
   {
    "duration": 4086,
    "start_time": "2022-04-09T16:29:45.095Z"
   },
   {
    "duration": 483,
    "start_time": "2022-04-09T16:29:49.183Z"
   },
   {
    "duration": 360,
    "start_time": "2022-04-09T16:29:49.668Z"
   },
   {
    "duration": 289,
    "start_time": "2022-04-09T16:29:50.030Z"
   },
   {
    "duration": 274,
    "start_time": "2022-04-09T16:29:50.324Z"
   },
   {
    "duration": 264,
    "start_time": "2022-04-09T16:29:50.600Z"
   },
   {
    "duration": 345,
    "start_time": "2022-04-09T16:29:50.873Z"
   },
   {
    "duration": 297,
    "start_time": "2022-04-09T16:29:51.221Z"
   },
   {
    "duration": 290,
    "start_time": "2022-04-09T16:29:51.520Z"
   },
   {
    "duration": 309,
    "start_time": "2022-04-09T16:29:51.813Z"
   },
   {
    "duration": 23,
    "start_time": "2022-04-09T16:29:52.124Z"
   },
   {
    "duration": 39,
    "start_time": "2022-04-09T16:29:52.150Z"
   },
   {
    "duration": 319,
    "start_time": "2022-04-09T16:29:52.191Z"
   },
   {
    "duration": 21,
    "start_time": "2022-04-09T16:29:52.512Z"
   },
   {
    "duration": 43,
    "start_time": "2022-04-09T16:29:52.535Z"
   },
   {
    "duration": 20,
    "start_time": "2022-04-09T16:29:52.580Z"
   },
   {
    "duration": 324,
    "start_time": "2022-04-09T16:29:52.602Z"
   },
   {
    "duration": 23,
    "start_time": "2022-04-09T16:29:52.929Z"
   },
   {
    "duration": 21,
    "start_time": "2022-04-09T16:29:52.973Z"
   },
   {
    "duration": 23,
    "start_time": "2022-04-09T16:29:52.996Z"
   },
   {
    "duration": 334,
    "start_time": "2022-04-09T16:29:53.021Z"
   },
   {
    "duration": 27,
    "start_time": "2022-04-09T16:29:53.358Z"
   },
   {
    "duration": 20,
    "start_time": "2022-04-09T16:29:53.388Z"
   },
   {
    "duration": 13,
    "start_time": "2022-04-09T16:29:53.411Z"
   },
   {
    "duration": 49,
    "start_time": "2022-04-09T16:29:53.426Z"
   },
   {
    "duration": 14,
    "start_time": "2022-04-09T16:29:53.477Z"
   },
   {
    "duration": 14,
    "start_time": "2022-04-09T16:29:53.493Z"
   },
   {
    "duration": 83,
    "start_time": "2022-04-11T00:44:41.241Z"
   },
   {
    "duration": 1315,
    "start_time": "2022-04-11T00:55:29.915Z"
   },
   {
    "duration": 37,
    "start_time": "2022-04-11T00:55:32.390Z"
   },
   {
    "duration": 17,
    "start_time": "2022-04-11T00:55:34.287Z"
   },
   {
    "duration": 23,
    "start_time": "2022-04-11T00:55:35.483Z"
   },
   {
    "duration": 24,
    "start_time": "2022-04-11T00:55:36.283Z"
   },
   {
    "duration": 10,
    "start_time": "2022-04-11T00:55:37.391Z"
   },
   {
    "duration": 13,
    "start_time": "2022-04-11T00:55:38.943Z"
   },
   {
    "duration": 7,
    "start_time": "2022-04-11T00:55:41.724Z"
   },
   {
    "duration": 9,
    "start_time": "2022-04-11T00:55:42.402Z"
   },
   {
    "duration": 4,
    "start_time": "2022-04-11T00:55:45.610Z"
   },
   {
    "duration": 9,
    "start_time": "2022-04-11T00:55:49.567Z"
   },
   {
    "duration": 7,
    "start_time": "2022-04-11T00:56:40.616Z"
   },
   {
    "duration": 9,
    "start_time": "2022-04-11T00:56:47.891Z"
   },
   {
    "duration": 4,
    "start_time": "2022-04-11T00:57:05.047Z"
   },
   {
    "duration": 9,
    "start_time": "2022-04-11T00:57:08.427Z"
   },
   {
    "duration": 10,
    "start_time": "2022-04-11T00:58:41.191Z"
   },
   {
    "duration": 3919,
    "start_time": "2022-04-11T00:58:42.574Z"
   },
   {
    "duration": 5,
    "start_time": "2022-04-11T00:58:46.739Z"
   },
   {
    "duration": 12,
    "start_time": "2022-04-11T00:58:47.738Z"
   },
   {
    "duration": 10,
    "start_time": "2022-04-11T01:01:56.653Z"
   },
   {
    "duration": 298,
    "start_time": "2022-04-11T01:02:23.549Z"
   },
   {
    "duration": 17,
    "start_time": "2022-04-11T01:03:49.270Z"
   },
   {
    "duration": 2028,
    "start_time": "2022-04-11T01:09:31.911Z"
   },
   {
    "duration": 285,
    "start_time": "2022-04-11T02:00:19.817Z"
   },
   {
    "duration": 17,
    "start_time": "2022-04-11T02:00:29.005Z"
   },
   {
    "duration": 1571,
    "start_time": "2022-04-11T02:02:03.519Z"
   },
   {
    "duration": 242,
    "start_time": "2022-04-11T02:06:01.729Z"
   },
   {
    "duration": 238,
    "start_time": "2022-04-11T02:07:05.217Z"
   },
   {
    "duration": 327,
    "start_time": "2022-04-11T02:07:12.103Z"
   },
   {
    "duration": 223,
    "start_time": "2022-04-11T02:09:07.342Z"
   },
   {
    "duration": 214,
    "start_time": "2022-04-11T02:10:19.335Z"
   },
   {
    "duration": 230,
    "start_time": "2022-04-11T02:10:30.285Z"
   },
   {
    "duration": 162,
    "start_time": "2022-04-11T02:16:26.020Z"
   },
   {
    "duration": 150,
    "start_time": "2022-04-11T02:16:42.223Z"
   },
   {
    "duration": 161,
    "start_time": "2022-04-11T02:18:05.753Z"
   },
   {
    "duration": 250,
    "start_time": "2022-04-11T02:18:26.039Z"
   },
   {
    "duration": 145,
    "start_time": "2022-04-11T02:18:43.964Z"
   },
   {
    "duration": 153,
    "start_time": "2022-04-11T02:18:52.374Z"
   },
   {
    "duration": 141,
    "start_time": "2022-04-11T02:20:40.551Z"
   },
   {
    "duration": 138,
    "start_time": "2022-04-11T02:20:42.466Z"
   },
   {
    "duration": 150,
    "start_time": "2022-04-11T02:21:22.663Z"
   },
   {
    "duration": 154,
    "start_time": "2022-04-11T02:21:25.562Z"
   },
   {
    "duration": 143,
    "start_time": "2022-04-11T02:21:45.781Z"
   },
   {
    "duration": 147,
    "start_time": "2022-04-11T02:21:47.917Z"
   },
   {
    "duration": 16,
    "start_time": "2022-04-11T02:34:57.461Z"
   },
   {
    "duration": 129,
    "start_time": "2022-04-11T02:36:51.976Z"
   },
   {
    "duration": 169,
    "start_time": "2022-04-11T02:37:21.490Z"
   },
   {
    "duration": 1384,
    "start_time": "2022-04-11T02:42:14.086Z"
   },
   {
    "duration": 1280,
    "start_time": "2022-04-11T02:42:22.720Z"
   },
   {
    "duration": 14,
    "start_time": "2022-04-11T02:42:32.513Z"
   },
   {
    "duration": 169,
    "start_time": "2022-04-11T02:43:34.239Z"
   },
   {
    "duration": 268,
    "start_time": "2022-04-11T02:43:55.211Z"
   },
   {
    "duration": 200,
    "start_time": "2022-04-11T02:44:04.056Z"
   },
   {
    "duration": 200,
    "start_time": "2022-04-11T02:44:36.060Z"
   },
   {
    "duration": 15,
    "start_time": "2022-04-11T02:45:13.129Z"
   },
   {
    "duration": 169,
    "start_time": "2022-04-11T02:45:15.058Z"
   },
   {
    "duration": 16,
    "start_time": "2022-04-11T02:45:36.345Z"
   },
   {
    "duration": 168,
    "start_time": "2022-04-11T02:45:38.627Z"
   },
   {
    "duration": 15,
    "start_time": "2022-04-11T02:45:42.422Z"
   },
   {
    "duration": 14,
    "start_time": "2022-04-11T02:45:47.429Z"
   },
   {
    "duration": 14,
    "start_time": "2022-04-11T02:48:41.513Z"
   },
   {
    "duration": 13,
    "start_time": "2022-04-11T02:48:58.224Z"
   },
   {
    "duration": 15,
    "start_time": "2022-04-11T02:49:28.565Z"
   },
   {
    "duration": 163,
    "start_time": "2022-04-11T02:49:31.533Z"
   },
   {
    "duration": 14,
    "start_time": "2022-04-11T02:49:56.116Z"
   },
   {
    "duration": 13,
    "start_time": "2022-04-11T02:50:01.513Z"
   },
   {
    "duration": 166,
    "start_time": "2022-04-11T02:58:09.329Z"
   },
   {
    "duration": 2,
    "start_time": "2022-04-11T03:00:49.900Z"
   },
   {
    "duration": 17,
    "start_time": "2022-04-11T03:01:20.900Z"
   },
   {
    "duration": 9,
    "start_time": "2022-04-11T03:03:49.585Z"
   },
   {
    "duration": 11,
    "start_time": "2022-04-11T03:04:20.036Z"
   },
   {
    "duration": 9,
    "start_time": "2022-04-11T03:04:25.160Z"
   },
   {
    "duration": 8,
    "start_time": "2022-04-11T03:04:39.037Z"
   },
   {
    "duration": 11,
    "start_time": "2022-04-11T03:10:20.005Z"
   },
   {
    "duration": 11,
    "start_time": "2022-04-11T03:10:24.373Z"
   },
   {
    "duration": 10,
    "start_time": "2022-04-11T03:15:52.482Z"
   },
   {
    "duration": 10,
    "start_time": "2022-04-11T03:15:54.030Z"
   },
   {
    "duration": 77,
    "start_time": "2022-04-11T03:21:14.532Z"
   },
   {
    "duration": 1923,
    "start_time": "2022-04-11T17:58:41.321Z"
   },
   {
    "duration": 59,
    "start_time": "2022-04-11T17:58:43.247Z"
   },
   {
    "duration": 25,
    "start_time": "2022-04-11T17:58:43.308Z"
   },
   {
    "duration": 71,
    "start_time": "2022-04-11T17:58:43.337Z"
   },
   {
    "duration": 53,
    "start_time": "2022-04-11T17:58:43.411Z"
   },
   {
    "duration": 21,
    "start_time": "2022-04-11T17:58:43.476Z"
   },
   {
    "duration": 21,
    "start_time": "2022-04-11T17:58:43.499Z"
   },
   {
    "duration": 9,
    "start_time": "2022-04-11T17:58:43.523Z"
   },
   {
    "duration": 15,
    "start_time": "2022-04-11T17:58:43.534Z"
   },
   {
    "duration": 5,
    "start_time": "2022-04-11T17:58:43.582Z"
   },
   {
    "duration": 18,
    "start_time": "2022-04-11T17:58:43.589Z"
   },
   {
    "duration": 7,
    "start_time": "2022-04-11T17:58:43.610Z"
   },
   {
    "duration": 14,
    "start_time": "2022-04-11T17:58:43.620Z"
   },
   {
    "duration": 11780,
    "start_time": "2022-04-11T17:58:43.636Z"
   },
   {
    "duration": 6,
    "start_time": "2022-04-11T17:58:55.418Z"
   },
   {
    "duration": 34,
    "start_time": "2022-04-11T17:58:55.427Z"
   },
   {
    "duration": 27,
    "start_time": "2022-04-11T17:58:55.463Z"
   },
   {
    "duration": 704,
    "start_time": "2022-04-11T17:58:55.493Z"
   },
   {
    "duration": 25,
    "start_time": "2022-04-11T17:58:56.200Z"
   },
   {
    "duration": 4011,
    "start_time": "2022-04-11T17:58:56.228Z"
   },
   {
    "duration": 451,
    "start_time": "2022-04-11T17:59:00.242Z"
   },
   {
    "duration": 29,
    "start_time": "2022-04-11T17:59:00.695Z"
   },
   {
    "duration": 3874,
    "start_time": "2022-04-11T17:59:00.727Z"
   },
   {
    "duration": 421,
    "start_time": "2022-04-11T17:59:04.605Z"
   },
   {
    "duration": 453,
    "start_time": "2022-04-11T17:59:05.028Z"
   },
   {
    "duration": 420,
    "start_time": "2022-04-11T17:59:05.483Z"
   },
   {
    "duration": 301,
    "start_time": "2022-04-11T17:59:05.906Z"
   },
   {
    "duration": 277,
    "start_time": "2022-04-11T17:59:06.214Z"
   },
   {
    "duration": 299,
    "start_time": "2022-04-11T17:59:06.496Z"
   },
   {
    "duration": 362,
    "start_time": "2022-04-11T17:59:06.797Z"
   },
   {
    "duration": 402,
    "start_time": "2022-04-11T17:59:07.162Z"
   },
   {
    "duration": 116,
    "start_time": "2022-04-11T17:59:07.566Z"
   },
   {
    "duration": 0,
    "start_time": "2022-04-11T17:59:07.684Z"
   },
   {
    "duration": 0,
    "start_time": "2022-04-11T17:59:07.688Z"
   },
   {
    "duration": 0,
    "start_time": "2022-04-11T17:59:07.690Z"
   },
   {
    "duration": 0,
    "start_time": "2022-04-11T17:59:07.692Z"
   },
   {
    "duration": 0,
    "start_time": "2022-04-11T17:59:07.694Z"
   },
   {
    "duration": 0,
    "start_time": "2022-04-11T17:59:07.696Z"
   },
   {
    "duration": 0,
    "start_time": "2022-04-11T17:59:07.699Z"
   },
   {
    "duration": 0,
    "start_time": "2022-04-11T17:59:07.702Z"
   },
   {
    "duration": 0,
    "start_time": "2022-04-11T17:59:07.704Z"
   },
   {
    "duration": 1,
    "start_time": "2022-04-11T17:59:07.705Z"
   },
   {
    "duration": 0,
    "start_time": "2022-04-11T17:59:07.708Z"
   },
   {
    "duration": 0,
    "start_time": "2022-04-11T17:59:07.710Z"
   },
   {
    "duration": 0,
    "start_time": "2022-04-11T17:59:07.714Z"
   },
   {
    "duration": 0,
    "start_time": "2022-04-11T17:59:07.716Z"
   },
   {
    "duration": 0,
    "start_time": "2022-04-11T17:59:07.718Z"
   },
   {
    "duration": 0,
    "start_time": "2022-04-11T17:59:07.720Z"
   },
   {
    "duration": 0,
    "start_time": "2022-04-11T17:59:07.722Z"
   },
   {
    "duration": 0,
    "start_time": "2022-04-11T17:59:07.725Z"
   },
   {
    "duration": 0,
    "start_time": "2022-04-11T17:59:07.727Z"
   },
   {
    "duration": 0,
    "start_time": "2022-04-11T17:59:07.729Z"
   },
   {
    "duration": 0,
    "start_time": "2022-04-11T17:59:07.774Z"
   },
   {
    "duration": 93,
    "start_time": "2022-04-11T18:11:13.611Z"
   },
   {
    "duration": 274,
    "start_time": "2022-04-11T18:11:22.690Z"
   },
   {
    "duration": 265,
    "start_time": "2022-04-11T18:11:45.292Z"
   },
   {
    "duration": 292,
    "start_time": "2022-04-11T18:14:10.914Z"
   },
   {
    "duration": 426,
    "start_time": "2022-04-11T18:14:11.208Z"
   },
   {
    "duration": 22,
    "start_time": "2022-04-11T18:14:11.637Z"
   },
   {
    "duration": 330,
    "start_time": "2022-04-11T18:14:11.674Z"
   },
   {
    "duration": 24,
    "start_time": "2022-04-11T18:14:12.007Z"
   },
   {
    "duration": 414,
    "start_time": "2022-04-11T18:14:12.033Z"
   },
   {
    "duration": 34,
    "start_time": "2022-04-11T18:14:12.451Z"
   },
   {
    "duration": 25,
    "start_time": "2022-04-11T18:14:12.487Z"
   },
   {
    "duration": 21,
    "start_time": "2022-04-11T18:14:12.515Z"
   },
   {
    "duration": 413,
    "start_time": "2022-04-11T18:14:12.541Z"
   },
   {
    "duration": 36,
    "start_time": "2022-04-11T18:14:12.956Z"
   },
   {
    "duration": 29,
    "start_time": "2022-04-11T18:14:12.995Z"
   },
   {
    "duration": 24,
    "start_time": "2022-04-11T18:14:13.026Z"
   },
   {
    "duration": 410,
    "start_time": "2022-04-11T18:14:13.074Z"
   },
   {
    "duration": 28,
    "start_time": "2022-04-11T18:14:13.487Z"
   },
   {
    "duration": 26,
    "start_time": "2022-04-11T18:14:13.519Z"
   },
   {
    "duration": 32,
    "start_time": "2022-04-11T18:14:13.577Z"
   },
   {
    "duration": 18,
    "start_time": "2022-04-11T18:14:13.612Z"
   },
   {
    "duration": 45,
    "start_time": "2022-04-11T18:14:13.633Z"
   },
   {
    "duration": 24,
    "start_time": "2022-04-11T18:14:13.682Z"
   },
   {
    "duration": 14,
    "start_time": "2022-04-11T18:14:13.709Z"
   },
   {
    "duration": 1528,
    "start_time": "2022-04-11T18:21:14.979Z"
   },
   {
    "duration": 67,
    "start_time": "2022-04-11T18:21:16.512Z"
   },
   {
    "duration": 26,
    "start_time": "2022-04-11T18:21:16.582Z"
   },
   {
    "duration": 52,
    "start_time": "2022-04-11T18:21:16.611Z"
   },
   {
    "duration": 47,
    "start_time": "2022-04-11T18:21:16.698Z"
   },
   {
    "duration": 14,
    "start_time": "2022-04-11T18:21:16.747Z"
   },
   {
    "duration": 18,
    "start_time": "2022-04-11T18:21:16.763Z"
   },
   {
    "duration": 12,
    "start_time": "2022-04-11T18:21:16.787Z"
   },
   {
    "duration": 16,
    "start_time": "2022-04-11T18:21:16.801Z"
   },
   {
    "duration": 5,
    "start_time": "2022-04-11T18:21:16.821Z"
   },
   {
    "duration": 49,
    "start_time": "2022-04-11T18:21:16.829Z"
   },
   {
    "duration": 15,
    "start_time": "2022-04-11T18:21:16.887Z"
   },
   {
    "duration": 19,
    "start_time": "2022-04-11T18:21:16.905Z"
   },
   {
    "duration": 8804,
    "start_time": "2022-04-11T18:21:16.926Z"
   },
   {
    "duration": 5,
    "start_time": "2022-04-11T18:21:25.733Z"
   },
   {
    "duration": 35,
    "start_time": "2022-04-11T18:21:25.740Z"
   },
   {
    "duration": 13,
    "start_time": "2022-04-11T18:21:25.783Z"
   },
   {
    "duration": 529,
    "start_time": "2022-04-11T18:21:25.799Z"
   },
   {
    "duration": 24,
    "start_time": "2022-04-11T18:21:26.331Z"
   },
   {
    "duration": 3824,
    "start_time": "2022-04-11T18:21:26.357Z"
   },
   {
    "duration": 458,
    "start_time": "2022-04-11T18:21:30.183Z"
   },
   {
    "duration": 36,
    "start_time": "2022-04-11T18:21:30.643Z"
   },
   {
    "duration": 3153,
    "start_time": "2022-04-11T18:21:30.682Z"
   },
   {
    "duration": 458,
    "start_time": "2022-04-11T18:21:33.838Z"
   },
   {
    "duration": 439,
    "start_time": "2022-04-11T18:21:34.298Z"
   },
   {
    "duration": 417,
    "start_time": "2022-04-11T18:21:34.740Z"
   },
   {
    "duration": 304,
    "start_time": "2022-04-11T18:21:35.159Z"
   },
   {
    "duration": 263,
    "start_time": "2022-04-11T18:21:35.473Z"
   },
   {
    "duration": 316,
    "start_time": "2022-04-11T18:21:35.738Z"
   },
   {
    "duration": 440,
    "start_time": "2022-04-11T18:21:36.057Z"
   },
   {
    "duration": 376,
    "start_time": "2022-04-11T18:21:36.500Z"
   },
   {
    "duration": 276,
    "start_time": "2022-04-11T18:21:36.879Z"
   },
   {
    "duration": 286,
    "start_time": "2022-04-11T18:21:37.158Z"
   },
   {
    "duration": 400,
    "start_time": "2022-04-11T18:21:37.447Z"
   },
   {
    "duration": 36,
    "start_time": "2022-04-11T18:21:37.849Z"
   },
   {
    "duration": 293,
    "start_time": "2022-04-11T18:21:37.888Z"
   },
   {
    "duration": 23,
    "start_time": "2022-04-11T18:21:38.183Z"
   },
   {
    "duration": 310,
    "start_time": "2022-04-11T18:21:38.209Z"
   },
   {
    "duration": 20,
    "start_time": "2022-04-11T18:21:38.521Z"
   },
   {
    "duration": 42,
    "start_time": "2022-04-11T18:21:38.544Z"
   },
   {
    "duration": 20,
    "start_time": "2022-04-11T18:21:38.589Z"
   },
   {
    "duration": 320,
    "start_time": "2022-04-11T18:21:38.611Z"
   },
   {
    "duration": 19,
    "start_time": "2022-04-11T18:21:38.933Z"
   },
   {
    "duration": 38,
    "start_time": "2022-04-11T18:21:38.954Z"
   },
   {
    "duration": 22,
    "start_time": "2022-04-11T18:21:38.994Z"
   },
   {
    "duration": 436,
    "start_time": "2022-04-11T18:21:39.019Z"
   },
   {
    "duration": 29,
    "start_time": "2022-04-11T18:21:39.457Z"
   },
   {
    "duration": 26,
    "start_time": "2022-04-11T18:21:39.488Z"
   },
   {
    "duration": 22,
    "start_time": "2022-04-11T18:21:39.517Z"
   },
   {
    "duration": 43,
    "start_time": "2022-04-11T18:21:39.542Z"
   },
   {
    "duration": 14,
    "start_time": "2022-04-11T18:21:39.588Z"
   },
   {
    "duration": 15,
    "start_time": "2022-04-11T18:21:39.604Z"
   },
   {
    "duration": 12,
    "start_time": "2022-04-11T18:21:39.621Z"
   },
   {
    "duration": 9,
    "start_time": "2022-04-11T18:25:56.553Z"
   },
   {
    "duration": 159,
    "start_time": "2022-04-11T18:27:01.762Z"
   },
   {
    "duration": 406,
    "start_time": "2022-04-11T18:27:14.859Z"
   },
   {
    "duration": 8,
    "start_time": "2022-04-11T18:27:20.564Z"
   },
   {
    "duration": 8,
    "start_time": "2022-04-11T18:27:44.221Z"
   },
   {
    "duration": 151,
    "start_time": "2022-04-11T18:28:10.011Z"
   },
   {
    "duration": 278,
    "start_time": "2022-04-11T18:29:00.455Z"
   },
   {
    "duration": 12,
    "start_time": "2022-04-11T18:30:15.066Z"
   },
   {
    "duration": 274,
    "start_time": "2022-04-11T18:35:11.402Z"
   },
   {
    "duration": 95,
    "start_time": "2022-04-11T18:35:19.123Z"
   },
   {
    "duration": 7,
    "start_time": "2022-04-11T18:38:58.755Z"
   },
   {
    "duration": 9,
    "start_time": "2022-04-11T18:39:16.939Z"
   },
   {
    "duration": 1770,
    "start_time": "2022-04-12T22:05:44.396Z"
   },
   {
    "duration": 50,
    "start_time": "2022-04-12T22:05:46.169Z"
   },
   {
    "duration": 21,
    "start_time": "2022-04-12T22:05:46.221Z"
   },
   {
    "duration": 29,
    "start_time": "2022-04-12T22:05:46.245Z"
   },
   {
    "duration": 44,
    "start_time": "2022-04-12T22:05:46.277Z"
   },
   {
    "duration": 15,
    "start_time": "2022-04-12T22:05:46.323Z"
   },
   {
    "duration": 16,
    "start_time": "2022-04-12T22:05:46.340Z"
   },
   {
    "duration": 37,
    "start_time": "2022-04-12T22:05:46.358Z"
   },
   {
    "duration": 15,
    "start_time": "2022-04-12T22:05:46.397Z"
   },
   {
    "duration": 5,
    "start_time": "2022-04-12T22:05:46.416Z"
   },
   {
    "duration": 16,
    "start_time": "2022-04-12T22:05:46.422Z"
   },
   {
    "duration": 6,
    "start_time": "2022-04-12T22:05:46.440Z"
   },
   {
    "duration": 12,
    "start_time": "2022-04-12T22:05:46.448Z"
   },
   {
    "duration": 8049,
    "start_time": "2022-04-12T22:05:46.462Z"
   },
   {
    "duration": 5,
    "start_time": "2022-04-12T22:05:54.513Z"
   },
   {
    "duration": 21,
    "start_time": "2022-04-12T22:05:54.520Z"
   },
   {
    "duration": 11,
    "start_time": "2022-04-12T22:05:54.543Z"
   },
   {
    "duration": 510,
    "start_time": "2022-04-12T22:05:54.556Z"
   },
   {
    "duration": 36,
    "start_time": "2022-04-12T22:05:55.068Z"
   },
   {
    "duration": 3504,
    "start_time": "2022-04-12T22:05:55.107Z"
   },
   {
    "duration": 430,
    "start_time": "2022-04-12T22:05:58.613Z"
   },
   {
    "duration": 24,
    "start_time": "2022-04-12T22:05:59.046Z"
   },
   {
    "duration": 2341,
    "start_time": "2022-04-12T22:05:59.073Z"
   },
   {
    "duration": 388,
    "start_time": "2022-04-12T22:06:01.416Z"
   },
   {
    "duration": 400,
    "start_time": "2022-04-12T22:06:01.807Z"
   },
   {
    "duration": 297,
    "start_time": "2022-04-12T22:06:02.209Z"
   },
   {
    "duration": 387,
    "start_time": "2022-04-12T22:06:02.508Z"
   },
   {
    "duration": 263,
    "start_time": "2022-04-12T22:06:02.900Z"
   },
   {
    "duration": 262,
    "start_time": "2022-04-12T22:06:03.166Z"
   },
   {
    "duration": 291,
    "start_time": "2022-04-12T22:06:03.430Z"
   },
   {
    "duration": 295,
    "start_time": "2022-04-12T22:06:03.723Z"
   },
   {
    "duration": 170,
    "start_time": "2022-04-12T22:06:04.020Z"
   },
   {
    "duration": 0,
    "start_time": "2022-04-12T22:06:04.192Z"
   },
   {
    "duration": 0,
    "start_time": "2022-04-12T22:06:04.194Z"
   },
   {
    "duration": 0,
    "start_time": "2022-04-12T22:06:04.196Z"
   },
   {
    "duration": 0,
    "start_time": "2022-04-12T22:06:04.198Z"
   },
   {
    "duration": 0,
    "start_time": "2022-04-12T22:06:04.200Z"
   },
   {
    "duration": 0,
    "start_time": "2022-04-12T22:06:04.201Z"
   },
   {
    "duration": 0,
    "start_time": "2022-04-12T22:06:04.203Z"
   },
   {
    "duration": 0,
    "start_time": "2022-04-12T22:06:04.205Z"
   },
   {
    "duration": 0,
    "start_time": "2022-04-12T22:06:04.206Z"
   },
   {
    "duration": 0,
    "start_time": "2022-04-12T22:06:04.208Z"
   },
   {
    "duration": 1,
    "start_time": "2022-04-12T22:06:04.209Z"
   },
   {
    "duration": 0,
    "start_time": "2022-04-12T22:06:04.211Z"
   },
   {
    "duration": 0,
    "start_time": "2022-04-12T22:06:04.213Z"
   },
   {
    "duration": 0,
    "start_time": "2022-04-12T22:06:04.215Z"
   },
   {
    "duration": 0,
    "start_time": "2022-04-12T22:06:04.217Z"
   },
   {
    "duration": 0,
    "start_time": "2022-04-12T22:06:04.218Z"
   },
   {
    "duration": 0,
    "start_time": "2022-04-12T22:06:04.220Z"
   },
   {
    "duration": 0,
    "start_time": "2022-04-12T22:06:04.222Z"
   },
   {
    "duration": 0,
    "start_time": "2022-04-12T22:06:04.224Z"
   },
   {
    "duration": 0,
    "start_time": "2022-04-12T22:06:04.226Z"
   },
   {
    "duration": 0,
    "start_time": "2022-04-12T22:06:04.227Z"
   },
   {
    "duration": 260,
    "start_time": "2022-04-12T22:10:28.398Z"
   },
   {
    "duration": 252,
    "start_time": "2022-04-12T22:10:46.641Z"
   },
   {
    "duration": 347,
    "start_time": "2022-04-12T22:10:49.682Z"
   },
   {
    "duration": 22,
    "start_time": "2022-04-12T22:10:52.231Z"
   },
   {
    "duration": 270,
    "start_time": "2022-04-12T22:10:54.608Z"
   },
   {
    "duration": 22,
    "start_time": "2022-04-12T22:10:58.273Z"
   },
   {
    "duration": 316,
    "start_time": "2022-04-12T22:10:58.495Z"
   },
   {
    "duration": 21,
    "start_time": "2022-04-12T22:10:58.839Z"
   },
   {
    "duration": 20,
    "start_time": "2022-04-12T22:10:59.139Z"
   },
   {
    "duration": 13,
    "start_time": "2022-04-12T22:11:13.396Z"
   },
   {
    "duration": 13,
    "start_time": "2022-04-12T22:11:15.408Z"
   },
   {
    "duration": 13,
    "start_time": "2022-04-12T22:11:33.944Z"
   },
   {
    "duration": 13,
    "start_time": "2022-04-12T22:11:35.758Z"
   },
   {
    "duration": 1826,
    "start_time": "2022-04-13T09:31:28.721Z"
   },
   {
    "duration": 52,
    "start_time": "2022-04-13T09:31:30.550Z"
   },
   {
    "duration": 34,
    "start_time": "2022-04-13T09:31:30.604Z"
   },
   {
    "duration": 37,
    "start_time": "2022-04-13T09:31:30.641Z"
   },
   {
    "duration": 54,
    "start_time": "2022-04-13T09:31:30.680Z"
   },
   {
    "duration": 13,
    "start_time": "2022-04-13T09:31:30.737Z"
   },
   {
    "duration": 18,
    "start_time": "2022-04-13T09:31:30.752Z"
   },
   {
    "duration": 9,
    "start_time": "2022-04-13T09:31:30.772Z"
   },
   {
    "duration": 45,
    "start_time": "2022-04-13T09:31:30.784Z"
   },
   {
    "duration": 5,
    "start_time": "2022-04-13T09:31:30.833Z"
   },
   {
    "duration": 27,
    "start_time": "2022-04-13T09:31:30.841Z"
   },
   {
    "duration": 6,
    "start_time": "2022-04-13T09:31:30.870Z"
   },
   {
    "duration": 16,
    "start_time": "2022-04-13T09:31:30.878Z"
   },
   {
    "duration": 8359,
    "start_time": "2022-04-13T09:31:30.896Z"
   },
   {
    "duration": 5,
    "start_time": "2022-04-13T09:31:39.257Z"
   },
   {
    "duration": 21,
    "start_time": "2022-04-13T09:31:39.264Z"
   },
   {
    "duration": 22,
    "start_time": "2022-04-13T09:31:39.287Z"
   },
   {
    "duration": 547,
    "start_time": "2022-04-13T09:31:39.311Z"
   },
   {
    "duration": 26,
    "start_time": "2022-04-13T09:31:39.860Z"
   },
   {
    "duration": 3980,
    "start_time": "2022-04-13T09:31:39.888Z"
   },
   {
    "duration": 511,
    "start_time": "2022-04-13T09:31:43.870Z"
   },
   {
    "duration": 23,
    "start_time": "2022-04-13T09:31:44.384Z"
   },
   {
    "duration": 2429,
    "start_time": "2022-04-13T09:31:44.424Z"
   },
   {
    "duration": 389,
    "start_time": "2022-04-13T09:31:46.855Z"
   },
   {
    "duration": 409,
    "start_time": "2022-04-13T09:31:47.246Z"
   },
   {
    "duration": 318,
    "start_time": "2022-04-13T09:31:47.657Z"
   },
   {
    "duration": 414,
    "start_time": "2022-04-13T09:31:47.977Z"
   },
   {
    "duration": 285,
    "start_time": "2022-04-13T09:31:48.396Z"
   },
   {
    "duration": 269,
    "start_time": "2022-04-13T09:31:48.685Z"
   },
   {
    "duration": 315,
    "start_time": "2022-04-13T09:31:48.956Z"
   },
   {
    "duration": 327,
    "start_time": "2022-04-13T09:31:49.273Z"
   },
   {
    "duration": 297,
    "start_time": "2022-04-13T09:31:49.603Z"
   },
   {
    "duration": 290,
    "start_time": "2022-04-13T09:31:49.903Z"
   },
   {
    "duration": 536,
    "start_time": "2022-04-13T09:31:50.196Z"
   },
   {
    "duration": 24,
    "start_time": "2022-04-13T09:31:50.735Z"
   },
   {
    "duration": 311,
    "start_time": "2022-04-13T09:31:50.762Z"
   },
   {
    "duration": 23,
    "start_time": "2022-04-13T09:31:51.077Z"
   },
   {
    "duration": 335,
    "start_time": "2022-04-13T09:31:51.103Z"
   },
   {
    "duration": 23,
    "start_time": "2022-04-13T09:31:51.441Z"
   },
   {
    "duration": 28,
    "start_time": "2022-04-13T09:31:51.466Z"
   },
   {
    "duration": 46,
    "start_time": "2022-04-13T09:31:51.496Z"
   },
   {
    "duration": 421,
    "start_time": "2022-04-13T09:31:51.545Z"
   },
   {
    "duration": 20,
    "start_time": "2022-04-13T09:31:52.024Z"
   },
   {
    "duration": 86,
    "start_time": "2022-04-13T09:31:52.047Z"
   },
   {
    "duration": 36,
    "start_time": "2022-04-13T09:31:52.136Z"
   },
   {
    "duration": 944,
    "start_time": "2022-04-13T09:31:52.226Z"
   },
   {
    "duration": 77,
    "start_time": "2022-04-13T09:31:53.173Z"
   },
   {
    "duration": 87,
    "start_time": "2022-04-13T09:31:53.254Z"
   },
   {
    "duration": 87,
    "start_time": "2022-04-13T09:31:53.344Z"
   },
   {
    "duration": 24,
    "start_time": "2022-04-13T09:31:53.434Z"
   },
   {
    "duration": 69,
    "start_time": "2022-04-13T09:31:53.461Z"
   },
   {
    "duration": 30,
    "start_time": "2022-04-13T09:31:53.534Z"
   },
   {
    "duration": 72,
    "start_time": "2022-04-13T09:31:53.566Z"
   },
   {
    "duration": 10,
    "start_time": "2022-04-13T09:39:47.816Z"
   },
   {
    "duration": 39,
    "start_time": "2022-04-13T09:43:28.604Z"
   },
   {
    "duration": 20,
    "start_time": "2022-04-13T09:52:53.666Z"
   },
   {
    "duration": 17,
    "start_time": "2022-04-13T09:53:02.371Z"
   },
   {
    "duration": 1579,
    "start_time": "2022-04-13T10:01:46.195Z"
   },
   {
    "duration": 56,
    "start_time": "2022-04-13T10:01:47.777Z"
   },
   {
    "duration": 22,
    "start_time": "2022-04-13T10:01:47.835Z"
   },
   {
    "duration": 34,
    "start_time": "2022-04-13T10:01:47.860Z"
   },
   {
    "duration": 56,
    "start_time": "2022-04-13T10:01:47.896Z"
   },
   {
    "duration": 17,
    "start_time": "2022-04-13T10:01:47.955Z"
   },
   {
    "duration": 18,
    "start_time": "2022-04-13T10:01:47.974Z"
   },
   {
    "duration": 33,
    "start_time": "2022-04-13T10:01:47.994Z"
   },
   {
    "duration": 13,
    "start_time": "2022-04-13T10:01:48.030Z"
   },
   {
    "duration": 5,
    "start_time": "2022-04-13T10:01:48.047Z"
   },
   {
    "duration": 13,
    "start_time": "2022-04-13T10:01:48.055Z"
   },
   {
    "duration": 30,
    "start_time": "2022-04-13T10:01:48.070Z"
   },
   {
    "duration": 32,
    "start_time": "2022-04-13T10:01:48.103Z"
   },
   {
    "duration": 8507,
    "start_time": "2022-04-13T10:01:48.137Z"
   },
   {
    "duration": 6,
    "start_time": "2022-04-13T10:01:56.646Z"
   },
   {
    "duration": 35,
    "start_time": "2022-04-13T10:01:56.654Z"
   },
   {
    "duration": 16,
    "start_time": "2022-04-13T10:01:56.691Z"
   },
   {
    "duration": 542,
    "start_time": "2022-04-13T10:01:56.709Z"
   },
   {
    "duration": 25,
    "start_time": "2022-04-13T10:01:57.254Z"
   },
   {
    "duration": 3753,
    "start_time": "2022-04-13T10:01:57.282Z"
   },
   {
    "duration": 463,
    "start_time": "2022-04-13T10:02:01.038Z"
   },
   {
    "duration": 37,
    "start_time": "2022-04-13T10:02:01.503Z"
   },
   {
    "duration": 2452,
    "start_time": "2022-04-13T10:02:01.542Z"
   },
   {
    "duration": 381,
    "start_time": "2022-04-13T10:02:03.996Z"
   },
   {
    "duration": 403,
    "start_time": "2022-04-13T10:02:04.379Z"
   },
   {
    "duration": 309,
    "start_time": "2022-04-13T10:02:04.785Z"
   },
   {
    "duration": 441,
    "start_time": "2022-04-13T10:02:05.096Z"
   },
   {
    "duration": 288,
    "start_time": "2022-04-13T10:02:05.543Z"
   },
   {
    "duration": 270,
    "start_time": "2022-04-13T10:02:05.833Z"
   },
   {
    "duration": 303,
    "start_time": "2022-04-13T10:02:06.106Z"
   },
   {
    "duration": 296,
    "start_time": "2022-04-13T10:02:06.411Z"
   },
   {
    "duration": 285,
    "start_time": "2022-04-13T10:02:06.709Z"
   },
   {
    "duration": 286,
    "start_time": "2022-04-13T10:02:06.996Z"
   },
   {
    "duration": 377,
    "start_time": "2022-04-13T10:02:07.284Z"
   },
   {
    "duration": 23,
    "start_time": "2022-04-13T10:02:07.664Z"
   },
   {
    "duration": 303,
    "start_time": "2022-04-13T10:02:07.689Z"
   },
   {
    "duration": 36,
    "start_time": "2022-04-13T10:02:07.994Z"
   },
   {
    "duration": 321,
    "start_time": "2022-04-13T10:02:08.032Z"
   },
   {
    "duration": 21,
    "start_time": "2022-04-13T10:02:08.355Z"
   },
   {
    "duration": 22,
    "start_time": "2022-04-13T10:02:08.378Z"
   },
   {
    "duration": 23,
    "start_time": "2022-04-13T10:02:08.424Z"
   },
   {
    "duration": 309,
    "start_time": "2022-04-13T10:02:08.449Z"
   },
   {
    "duration": 21,
    "start_time": "2022-04-13T10:02:08.760Z"
   },
   {
    "duration": 46,
    "start_time": "2022-04-13T10:02:08.783Z"
   },
   {
    "duration": 21,
    "start_time": "2022-04-13T10:02:08.831Z"
   },
   {
    "duration": 314,
    "start_time": "2022-04-13T10:02:08.854Z"
   },
   {
    "duration": 22,
    "start_time": "2022-04-13T10:02:09.170Z"
   },
   {
    "duration": 44,
    "start_time": "2022-04-13T10:02:09.194Z"
   },
   {
    "duration": 24,
    "start_time": "2022-04-13T10:02:09.241Z"
   },
   {
    "duration": 36,
    "start_time": "2022-04-13T10:02:09.267Z"
   },
   {
    "duration": 45,
    "start_time": "2022-04-13T10:02:09.305Z"
   },
   {
    "duration": 90,
    "start_time": "2022-04-13T10:02:09.352Z"
   },
   {
    "duration": 19,
    "start_time": "2022-04-13T10:02:09.444Z"
   },
   {
    "duration": 1771,
    "start_time": "2022-04-14T00:23:16.173Z"
   },
   {
    "duration": 54,
    "start_time": "2022-04-14T00:23:17.948Z"
   },
   {
    "duration": 21,
    "start_time": "2022-04-14T00:23:18.005Z"
   },
   {
    "duration": 46,
    "start_time": "2022-04-14T00:23:18.028Z"
   },
   {
    "duration": 31,
    "start_time": "2022-04-14T00:23:18.077Z"
   },
   {
    "duration": 14,
    "start_time": "2022-04-14T00:23:18.110Z"
   },
   {
    "duration": 37,
    "start_time": "2022-04-14T00:23:18.126Z"
   },
   {
    "duration": 9,
    "start_time": "2022-04-14T00:23:18.165Z"
   },
   {
    "duration": 25,
    "start_time": "2022-04-14T00:23:18.176Z"
   },
   {
    "duration": 3,
    "start_time": "2022-04-14T00:23:18.203Z"
   },
   {
    "duration": 11,
    "start_time": "2022-04-14T00:23:18.208Z"
   },
   {
    "duration": 30,
    "start_time": "2022-04-14T00:23:18.221Z"
   },
   {
    "duration": 13,
    "start_time": "2022-04-14T00:23:18.254Z"
   },
   {
    "duration": 8680,
    "start_time": "2022-04-14T00:23:18.272Z"
   },
   {
    "duration": 5,
    "start_time": "2022-04-14T00:23:26.954Z"
   },
   {
    "duration": 16,
    "start_time": "2022-04-14T00:23:26.961Z"
   },
   {
    "duration": 12,
    "start_time": "2022-04-14T00:23:26.979Z"
   },
   {
    "duration": 530,
    "start_time": "2022-04-14T00:23:26.993Z"
   },
   {
    "duration": 37,
    "start_time": "2022-04-14T00:23:27.525Z"
   },
   {
    "duration": 3580,
    "start_time": "2022-04-14T00:23:27.564Z"
   },
   {
    "duration": 439,
    "start_time": "2022-04-14T00:23:31.146Z"
   },
   {
    "duration": 23,
    "start_time": "2022-04-14T00:23:31.587Z"
   },
   {
    "duration": 2765,
    "start_time": "2022-04-14T00:23:31.612Z"
   },
   {
    "duration": 406,
    "start_time": "2022-04-14T00:23:34.379Z"
   },
   {
    "duration": 424,
    "start_time": "2022-04-14T00:23:34.787Z"
   },
   {
    "duration": 377,
    "start_time": "2022-04-14T00:23:35.214Z"
   },
   {
    "duration": 302,
    "start_time": "2022-04-14T00:23:35.593Z"
   },
   {
    "duration": 257,
    "start_time": "2022-04-14T00:23:35.897Z"
   },
   {
    "duration": 260,
    "start_time": "2022-04-14T00:23:36.156Z"
   },
   {
    "duration": 312,
    "start_time": "2022-04-14T00:23:36.418Z"
   },
   {
    "duration": 282,
    "start_time": "2022-04-14T00:23:36.732Z"
   },
   {
    "duration": 267,
    "start_time": "2022-04-14T00:23:37.016Z"
   },
   {
    "duration": 270,
    "start_time": "2022-04-14T00:23:37.285Z"
   },
   {
    "duration": 380,
    "start_time": "2022-04-14T00:23:37.557Z"
   },
   {
    "duration": 31,
    "start_time": "2022-04-14T00:23:37.940Z"
   },
   {
    "duration": 298,
    "start_time": "2022-04-14T00:23:37.973Z"
   },
   {
    "duration": 21,
    "start_time": "2022-04-14T00:23:38.274Z"
   },
   {
    "duration": 303,
    "start_time": "2022-04-14T00:23:38.297Z"
   },
   {
    "duration": 21,
    "start_time": "2022-04-14T00:23:38.602Z"
   },
   {
    "duration": 41,
    "start_time": "2022-04-14T00:23:38.625Z"
   },
   {
    "duration": 20,
    "start_time": "2022-04-14T00:23:38.671Z"
   },
   {
    "duration": 303,
    "start_time": "2022-04-14T00:23:38.693Z"
   },
   {
    "duration": 20,
    "start_time": "2022-04-14T00:23:39.000Z"
   },
   {
    "duration": 39,
    "start_time": "2022-04-14T00:23:39.022Z"
   },
   {
    "duration": 18,
    "start_time": "2022-04-14T00:23:39.064Z"
   },
   {
    "duration": 377,
    "start_time": "2022-04-14T00:23:39.085Z"
   },
   {
    "duration": 20,
    "start_time": "2022-04-14T00:23:39.464Z"
   },
   {
    "duration": 18,
    "start_time": "2022-04-14T00:23:39.486Z"
   },
   {
    "duration": 53,
    "start_time": "2022-04-14T00:23:39.506Z"
   },
   {
    "duration": 11,
    "start_time": "2022-04-14T00:23:39.562Z"
   },
   {
    "duration": 12,
    "start_time": "2022-04-14T00:23:39.576Z"
   },
   {
    "duration": 12,
    "start_time": "2022-04-14T00:23:39.590Z"
   },
   {
    "duration": 48,
    "start_time": "2022-04-14T00:23:39.604Z"
   },
   {
    "duration": 17,
    "start_time": "2022-04-14T00:24:57.643Z"
   },
   {
    "duration": 10,
    "start_time": "2022-04-14T00:25:36.634Z"
   },
   {
    "duration": 17,
    "start_time": "2022-04-14T00:30:55.512Z"
   },
   {
    "duration": 12,
    "start_time": "2022-04-14T00:30:57.322Z"
   },
   {
    "duration": 12,
    "start_time": "2022-04-14T00:31:01.546Z"
   },
   {
    "duration": 13,
    "start_time": "2022-04-14T00:31:02.682Z"
   },
   {
    "duration": 1350,
    "start_time": "2022-04-14T10:47:26.535Z"
   },
   {
    "duration": 40,
    "start_time": "2022-04-14T10:47:27.887Z"
   },
   {
    "duration": 14,
    "start_time": "2022-04-14T10:47:27.928Z"
   },
   {
    "duration": 18,
    "start_time": "2022-04-14T10:47:27.948Z"
   },
   {
    "duration": 20,
    "start_time": "2022-04-14T10:47:27.968Z"
   },
   {
    "duration": 8,
    "start_time": "2022-04-14T10:47:27.990Z"
   },
   {
    "duration": 12,
    "start_time": "2022-04-14T10:47:27.999Z"
   },
   {
    "duration": 6,
    "start_time": "2022-04-14T10:47:28.013Z"
   },
   {
    "duration": 31,
    "start_time": "2022-04-14T10:47:28.020Z"
   },
   {
    "duration": 7,
    "start_time": "2022-04-14T10:47:28.054Z"
   },
   {
    "duration": 8,
    "start_time": "2022-04-14T10:47:28.062Z"
   },
   {
    "duration": 4078,
    "start_time": "2022-04-14T10:47:28.071Z"
   },
   {
    "duration": 3,
    "start_time": "2022-04-14T10:47:32.151Z"
   },
   {
    "duration": 11,
    "start_time": "2022-04-14T10:47:32.156Z"
   },
   {
    "duration": 7,
    "start_time": "2022-04-14T10:47:32.168Z"
   },
   {
    "duration": 281,
    "start_time": "2022-04-14T10:47:32.177Z"
   },
   {
    "duration": 16,
    "start_time": "2022-04-14T10:47:32.459Z"
   },
   {
    "duration": 1862,
    "start_time": "2022-04-14T10:47:32.476Z"
   },
   {
    "duration": 238,
    "start_time": "2022-04-14T10:47:34.347Z"
   },
   {
    "duration": 14,
    "start_time": "2022-04-14T10:47:34.587Z"
   },
   {
    "duration": 1411,
    "start_time": "2022-04-14T10:47:34.603Z"
   },
   {
    "duration": 217,
    "start_time": "2022-04-14T10:47:36.016Z"
   },
   {
    "duration": 234,
    "start_time": "2022-04-14T10:47:36.235Z"
   },
   {
    "duration": 242,
    "start_time": "2022-04-14T10:47:36.470Z"
   },
   {
    "duration": 155,
    "start_time": "2022-04-14T10:47:36.714Z"
   },
   {
    "duration": 136,
    "start_time": "2022-04-14T10:47:36.870Z"
   },
   {
    "duration": 152,
    "start_time": "2022-04-14T10:47:37.007Z"
   },
   {
    "duration": 161,
    "start_time": "2022-04-14T10:47:37.162Z"
   },
   {
    "duration": 155,
    "start_time": "2022-04-14T10:47:37.325Z"
   },
   {
    "duration": 147,
    "start_time": "2022-04-14T10:47:37.481Z"
   },
   {
    "duration": 145,
    "start_time": "2022-04-14T10:47:37.630Z"
   },
   {
    "duration": 198,
    "start_time": "2022-04-14T10:47:37.777Z"
   },
   {
    "duration": 15,
    "start_time": "2022-04-14T10:47:37.977Z"
   },
   {
    "duration": 166,
    "start_time": "2022-04-14T10:47:37.993Z"
   },
   {
    "duration": 15,
    "start_time": "2022-04-14T10:47:38.160Z"
   },
   {
    "duration": 171,
    "start_time": "2022-04-14T10:47:38.177Z"
   },
   {
    "duration": 14,
    "start_time": "2022-04-14T10:47:38.350Z"
   },
   {
    "duration": 13,
    "start_time": "2022-04-14T10:47:38.366Z"
   },
   {
    "duration": 13,
    "start_time": "2022-04-14T10:47:38.381Z"
   },
   {
    "duration": 183,
    "start_time": "2022-04-14T10:47:38.396Z"
   },
   {
    "duration": 13,
    "start_time": "2022-04-14T10:47:38.581Z"
   },
   {
    "duration": 14,
    "start_time": "2022-04-14T10:47:38.596Z"
   },
   {
    "duration": 38,
    "start_time": "2022-04-14T10:47:38.611Z"
   },
   {
    "duration": 237,
    "start_time": "2022-04-14T10:47:38.651Z"
   },
   {
    "duration": 14,
    "start_time": "2022-04-14T10:47:38.890Z"
   },
   {
    "duration": 13,
    "start_time": "2022-04-14T10:47:38.905Z"
   },
   {
    "duration": 39,
    "start_time": "2022-04-14T10:47:38.919Z"
   },
   {
    "duration": 12,
    "start_time": "2022-04-14T10:47:38.960Z"
   },
   {
    "duration": 9,
    "start_time": "2022-04-14T10:47:38.973Z"
   },
   {
    "duration": 9,
    "start_time": "2022-04-14T10:47:38.984Z"
   },
   {
    "duration": 9,
    "start_time": "2022-04-14T10:47:38.995Z"
   },
   {
    "duration": 3,
    "start_time": "2022-04-14T10:56:49.090Z"
   },
   {
    "duration": 34,
    "start_time": "2022-04-14T10:56:49.098Z"
   },
   {
    "duration": 12,
    "start_time": "2022-04-14T10:56:49.134Z"
   },
   {
    "duration": 17,
    "start_time": "2022-04-14T10:56:49.148Z"
   },
   {
    "duration": 21,
    "start_time": "2022-04-14T10:56:49.167Z"
   },
   {
    "duration": 10,
    "start_time": "2022-04-14T10:56:49.189Z"
   },
   {
    "duration": 12,
    "start_time": "2022-04-14T10:56:49.201Z"
   },
   {
    "duration": 33,
    "start_time": "2022-04-14T10:56:49.215Z"
   },
   {
    "duration": 10,
    "start_time": "2022-04-14T10:56:49.249Z"
   },
   {
    "duration": 7,
    "start_time": "2022-04-14T10:56:49.260Z"
   },
   {
    "duration": 8,
    "start_time": "2022-04-14T10:56:49.270Z"
   },
   {
    "duration": 4236,
    "start_time": "2022-04-14T10:56:49.280Z"
   },
   {
    "duration": 3,
    "start_time": "2022-04-14T10:56:53.518Z"
   },
   {
    "duration": 11,
    "start_time": "2022-04-14T10:56:53.523Z"
   },
   {
    "duration": 8,
    "start_time": "2022-04-14T10:56:53.547Z"
   },
   {
    "duration": 261,
    "start_time": "2022-04-14T10:56:53.556Z"
   },
   {
    "duration": 18,
    "start_time": "2022-04-14T10:56:53.818Z"
   },
   {
    "duration": 1899,
    "start_time": "2022-04-14T10:56:53.837Z"
   },
   {
    "duration": 176,
    "start_time": "2022-04-14T10:56:55.738Z"
   },
   {
    "duration": 15,
    "start_time": "2022-04-14T10:56:55.915Z"
   },
   {
    "duration": 1505,
    "start_time": "2022-04-14T10:56:55.932Z"
   },
   {
    "duration": 219,
    "start_time": "2022-04-14T10:56:57.438Z"
   },
   {
    "duration": 229,
    "start_time": "2022-04-14T10:56:57.659Z"
   },
   {
    "duration": 163,
    "start_time": "2022-04-14T10:56:57.890Z"
   },
   {
    "duration": 161,
    "start_time": "2022-04-14T10:56:58.054Z"
   },
   {
    "duration": 243,
    "start_time": "2022-04-14T10:56:58.216Z"
   },
   {
    "duration": 141,
    "start_time": "2022-04-14T10:56:58.461Z"
   },
   {
    "duration": 161,
    "start_time": "2022-04-14T10:56:58.604Z"
   },
   {
    "duration": 153,
    "start_time": "2022-04-14T10:56:58.768Z"
   },
   {
    "duration": 147,
    "start_time": "2022-04-14T10:56:58.922Z"
   },
   {
    "duration": 153,
    "start_time": "2022-04-14T10:56:59.070Z"
   },
   {
    "duration": 199,
    "start_time": "2022-04-14T10:56:59.224Z"
   },
   {
    "duration": 23,
    "start_time": "2022-04-14T10:56:59.425Z"
   },
   {
    "duration": 160,
    "start_time": "2022-04-14T10:56:59.450Z"
   },
   {
    "duration": 13,
    "start_time": "2022-04-14T10:56:59.611Z"
   },
   {
    "duration": 171,
    "start_time": "2022-04-14T10:56:59.625Z"
   },
   {
    "duration": 13,
    "start_time": "2022-04-14T10:56:59.797Z"
   },
   {
    "duration": 13,
    "start_time": "2022-04-14T10:56:59.811Z"
   },
   {
    "duration": 30,
    "start_time": "2022-04-14T10:56:59.825Z"
   },
   {
    "duration": 166,
    "start_time": "2022-04-14T10:56:59.857Z"
   },
   {
    "duration": 28,
    "start_time": "2022-04-14T10:57:00.024Z"
   },
   {
    "duration": 17,
    "start_time": "2022-04-14T10:57:00.054Z"
   },
   {
    "duration": 14,
    "start_time": "2022-04-14T10:57:00.072Z"
   },
   {
    "duration": 174,
    "start_time": "2022-04-14T10:57:00.087Z"
   },
   {
    "duration": 13,
    "start_time": "2022-04-14T10:57:00.263Z"
   },
   {
    "duration": 23,
    "start_time": "2022-04-14T10:57:00.277Z"
   },
   {
    "duration": 23,
    "start_time": "2022-04-14T10:57:00.302Z"
   },
   {
    "duration": 13,
    "start_time": "2022-04-14T10:57:05.461Z"
   },
   {
    "duration": 32,
    "start_time": "2022-04-14T10:57:40.827Z"
   },
   {
    "duration": 35,
    "start_time": "2022-04-14T10:58:16.869Z"
   },
   {
    "duration": 7,
    "start_time": "2022-04-14T10:59:00.706Z"
   },
   {
    "duration": 7,
    "start_time": "2022-04-14T10:59:10.963Z"
   },
   {
    "duration": 5,
    "start_time": "2022-04-14T10:59:16.185Z"
   },
   {
    "duration": 4,
    "start_time": "2022-04-14T10:59:26.494Z"
   },
   {
    "duration": 4,
    "start_time": "2022-04-14T11:01:57.384Z"
   },
   {
    "duration": 1270,
    "start_time": "2022-04-14T11:07:25.352Z"
   },
   {
    "duration": 39,
    "start_time": "2022-04-14T11:07:26.624Z"
   },
   {
    "duration": 21,
    "start_time": "2022-04-14T11:07:26.665Z"
   },
   {
    "duration": 31,
    "start_time": "2022-04-14T11:07:26.688Z"
   },
   {
    "duration": 50,
    "start_time": "2022-04-14T11:07:26.721Z"
   },
   {
    "duration": 17,
    "start_time": "2022-04-14T11:07:26.773Z"
   },
   {
    "duration": 17,
    "start_time": "2022-04-14T11:07:26.792Z"
   },
   {
    "duration": 9,
    "start_time": "2022-04-14T11:07:26.811Z"
   },
   {
    "duration": 33,
    "start_time": "2022-04-14T11:07:26.821Z"
   },
   {
    "duration": 7,
    "start_time": "2022-04-14T11:07:26.857Z"
   },
   {
    "duration": 14,
    "start_time": "2022-04-14T11:07:26.866Z"
   },
   {
    "duration": 7504,
    "start_time": "2022-04-14T11:07:26.882Z"
   },
   {
    "duration": 4,
    "start_time": "2022-04-14T11:07:34.389Z"
   },
   {
    "duration": 16,
    "start_time": "2022-04-14T11:07:34.395Z"
   },
   {
    "duration": 11,
    "start_time": "2022-04-14T11:07:34.413Z"
   },
   {
    "duration": 442,
    "start_time": "2022-04-14T11:07:34.426Z"
   },
   {
    "duration": 24,
    "start_time": "2022-04-14T11:07:34.870Z"
   },
   {
    "duration": 3080,
    "start_time": "2022-04-14T11:07:34.896Z"
   },
   {
    "duration": 256,
    "start_time": "2022-04-14T11:07:37.978Z"
   },
   {
    "duration": 21,
    "start_time": "2022-04-14T11:07:38.236Z"
   },
   {
    "duration": 1448,
    "start_time": "2022-04-14T11:07:38.258Z"
   },
   {
    "duration": 226,
    "start_time": "2022-04-14T11:07:39.708Z"
   },
   {
    "duration": 241,
    "start_time": "2022-04-14T11:07:39.935Z"
   },
   {
    "duration": 259,
    "start_time": "2022-04-14T11:07:40.178Z"
   },
   {
    "duration": 157,
    "start_time": "2022-04-14T11:07:40.438Z"
   },
   {
    "duration": 146,
    "start_time": "2022-04-14T11:07:40.596Z"
   },
   {
    "duration": 145,
    "start_time": "2022-04-14T11:07:40.744Z"
   },
   {
    "duration": 159,
    "start_time": "2022-04-14T11:07:40.893Z"
   },
   {
    "duration": 168,
    "start_time": "2022-04-14T11:07:41.054Z"
   },
   {
    "duration": 227,
    "start_time": "2022-04-14T11:07:41.224Z"
   },
   {
    "duration": 232,
    "start_time": "2022-04-14T11:07:41.454Z"
   },
   {
    "duration": 323,
    "start_time": "2022-04-14T11:07:41.689Z"
   },
   {
    "duration": 15,
    "start_time": "2022-04-14T11:07:42.014Z"
   },
   {
    "duration": 171,
    "start_time": "2022-04-14T11:07:42.031Z"
   },
   {
    "duration": 15,
    "start_time": "2022-04-14T11:07:42.204Z"
   },
   {
    "duration": 184,
    "start_time": "2022-04-14T11:07:42.220Z"
   },
   {
    "duration": 18,
    "start_time": "2022-04-14T11:07:42.406Z"
   },
   {
    "duration": 34,
    "start_time": "2022-04-14T11:07:42.426Z"
   },
   {
    "duration": 19,
    "start_time": "2022-04-14T11:07:42.462Z"
   },
   {
    "duration": 171,
    "start_time": "2022-04-14T11:07:42.483Z"
   },
   {
    "duration": 14,
    "start_time": "2022-04-14T11:07:42.655Z"
   },
   {
    "duration": 16,
    "start_time": "2022-04-14T11:07:42.671Z"
   },
   {
    "duration": 20,
    "start_time": "2022-04-14T11:07:42.690Z"
   },
   {
    "duration": 378,
    "start_time": "2022-04-14T11:07:42.712Z"
   },
   {
    "duration": 19,
    "start_time": "2022-04-14T11:07:43.092Z"
   },
   {
    "duration": 35,
    "start_time": "2022-04-14T11:07:43.113Z"
   },
   {
    "duration": 21,
    "start_time": "2022-04-14T11:07:43.151Z"
   },
   {
    "duration": 17,
    "start_time": "2022-04-14T11:07:43.174Z"
   },
   {
    "duration": 12,
    "start_time": "2022-04-14T11:07:43.193Z"
   },
   {
    "duration": 41,
    "start_time": "2022-04-14T11:07:43.207Z"
   },
   {
    "duration": 10,
    "start_time": "2022-04-14T11:07:43.249Z"
   }
  ],
  "kernelspec": {
   "display_name": "Python 3 (ipykernel)",
   "language": "python",
   "name": "python3"
  },
  "language_info": {
   "codemirror_mode": {
    "name": "ipython",
    "version": 3
   },
   "file_extension": ".py",
   "mimetype": "text/x-python",
   "name": "python",
   "nbconvert_exporter": "python",
   "pygments_lexer": "ipython3",
   "version": "3.9.13"
  },
  "latex_envs": {
   "LaTeX_envs_menu_present": true,
   "autoclose": false,
   "autocomplete": true,
   "bibliofile": "biblio.bib",
   "cite_by": "apalike",
   "current_citInitial": 1,
   "eqLabelWithNumbers": true,
   "eqNumInitial": 1,
   "hotkeys": {
    "equation": "Ctrl-E",
    "itemize": "Ctrl-I"
   },
   "labels_anchors": false,
   "latex_user_defs": false,
   "report_style_numbering": false,
   "user_envs_cfg": false
  },
  "toc": {
   "base_numbering": 1,
   "nav_menu": {},
   "number_sections": true,
   "sideBar": true,
   "skip_h1_title": false,
   "title_cell": "Table of Contents",
   "title_sidebar": "Contents",
   "toc_cell": false,
   "toc_position": {
    "height": "calc(100% - 180px)",
    "left": "10px",
    "top": "150px",
    "width": "408.984px"
   },
   "toc_section_display": true,
   "toc_window_display": true
  }
 },
 "nbformat": 4,
 "nbformat_minor": 5
}
