{
 "cells": [
  {
   "cell_type": "markdown",
   "metadata": {},
   "source": [
    "## **Описание проекта**"
   ]
  },
  {
   "cell_type": "markdown",
   "metadata": {},
   "source": [
    "**Данные для первой части**\n",
    "`Файл /datasets/hypothesis.csv.`\n",
    "- Hypothesis — краткое описание гипотезы;\n",
    "\n",
    "- Reach — охват пользователей по 10-балльной шкале;\n",
    "\n",
    "- Impact — влияние на пользователей по 10-балльной шкале;\n",
    "\n",
    "- Confidence — уверенность в гипотезе по 10-балльной шкале;\n",
    "\n",
    "- Efforts — затраты ресурсов на проверку гипотезы по 10-балльной шкале. Чем больше значение Efforts, тем дороже проверка гипотезы.\n",
    "\n",
    "**Данные для второй части**\n",
    "`Файл /datasets/orders.csv.`\n",
    "- transactionId — идентификатор заказа;\n",
    "\n",
    "- visitorId — идентификатор пользователя, совершившего заказ;\n",
    "\n",
    "- date — дата, когда был совершён заказ;\n",
    "\n",
    "- revenue — выручка заказа;\n",
    "\n",
    "- group — группа A/B-теста, в которую попал заказ.\n",
    "\n",
    "`Файл /datasets/visitors.csv.` \n",
    "- date — дата;\n",
    "\n",
    "- group — группа A/B-теста;\n",
    "\n",
    "- visitors — количество пользователей в указанную дату в указанной группе A/B-теста"
   ]
  },
  {
   "cell_type": "code",
   "execution_count": 1,
   "metadata": {},
   "outputs": [],
   "source": [
    "import pandas as pd\n",
    "import numpy as np\n",
    "from matplotlib import pyplot as plt\n",
    "import seaborn as sns\n",
    "import scipy.stats as stats\n",
    "import datetime as dt\n",
    "from pandas.plotting import register_matplotlib_converters\n",
    "pd.set_option('max_rows', 15)\n",
    "pd.set_option('display.max_colwidth', None)\n",
    "pd.set_option('display.float_format', '{:.2f}'.format)\n",
    "plt.style.use('seaborn-white')"
   ]
  },
  {
   "cell_type": "code",
   "execution_count": 2,
   "metadata": {},
   "outputs": [],
   "source": [
    "try:\n",
    "    hypothesis, orders, visitors = (\n",
    "    pd.read_csv('D:/datasets/hypothesis.csv'),\n",
    "    pd.read_csv('D:/datasets/orders.csv'),  \n",
    "    pd.read_csv('D:/datasets/visitors.csv')  \n",
    ")\n",
    "except FileNotFoundError:\n",
    "    print(\"File not found.\")\n",
    "except pd.errors.EmptyDataError:\n",
    "    print(\"No data\")\n",
    "except pd.errors.ParserError:\n",
    "    print(\"Parse error\")\n",
    "except Exception:\n",
    "    print(\"Some other exception\")"
   ]
  },
  {
   "cell_type": "markdown",
   "metadata": {},
   "source": [
    "### Предобработка данных hypothesis"
   ]
  },
  {
   "cell_type": "code",
   "execution_count": 3,
   "metadata": {},
   "outputs": [
    {
     "name": "stdout",
     "output_type": "stream",
     "text": [
      "<class 'pandas.core.frame.DataFrame'>\n",
      "RangeIndex: 9 entries, 0 to 8\n",
      "Data columns (total 5 columns):\n",
      " #   Column      Non-Null Count  Dtype \n",
      "---  ------      --------------  ----- \n",
      " 0   Hypothesis  9 non-null      object\n",
      " 1   Reach       9 non-null      int64 \n",
      " 2   Impact      9 non-null      int64 \n",
      " 3   Confidence  9 non-null      int64 \n",
      " 4   Efforts     9 non-null      int64 \n",
      "dtypes: int64(4), object(1)\n",
      "memory usage: 488.0+ bytes\n"
     ]
    }
   ],
   "source": [
    "hypothesis.info()"
   ]
  },
  {
   "cell_type": "code",
   "execution_count": 4,
   "metadata": {},
   "outputs": [],
   "source": [
    "hypothesis.columns = [x.lower() for x in hypothesis.columns]"
   ]
  },
  {
   "cell_type": "code",
   "execution_count": 5,
   "metadata": {},
   "outputs": [
    {
     "data": {
      "text/html": [
       "<div>\n",
       "<style scoped>\n",
       "    .dataframe tbody tr th:only-of-type {\n",
       "        vertical-align: middle;\n",
       "    }\n",
       "\n",
       "    .dataframe tbody tr th {\n",
       "        vertical-align: top;\n",
       "    }\n",
       "\n",
       "    .dataframe thead th {\n",
       "        text-align: right;\n",
       "    }\n",
       "</style>\n",
       "<table border=\"1\" class=\"dataframe\">\n",
       "  <thead>\n",
       "    <tr style=\"text-align: right;\">\n",
       "      <th></th>\n",
       "      <th>hypothesis</th>\n",
       "      <th>reach</th>\n",
       "      <th>impact</th>\n",
       "      <th>confidence</th>\n",
       "      <th>efforts</th>\n",
       "    </tr>\n",
       "  </thead>\n",
       "  <tbody>\n",
       "    <tr>\n",
       "      <th>0</th>\n",
       "      <td>Добавить два новых канала привлечения трафика, что позволит привлекать на 30% больше пользователей</td>\n",
       "      <td>3</td>\n",
       "      <td>10</td>\n",
       "      <td>8</td>\n",
       "      <td>6</td>\n",
       "    </tr>\n",
       "    <tr>\n",
       "      <th>1</th>\n",
       "      <td>Запустить собственную службу доставки, что сократит срок доставки заказов</td>\n",
       "      <td>2</td>\n",
       "      <td>5</td>\n",
       "      <td>4</td>\n",
       "      <td>10</td>\n",
       "    </tr>\n",
       "    <tr>\n",
       "      <th>2</th>\n",
       "      <td>Добавить блоки рекомендаций товаров на сайт интернет магазина, чтобы повысить конверсию и средний чек заказа</td>\n",
       "      <td>8</td>\n",
       "      <td>3</td>\n",
       "      <td>7</td>\n",
       "      <td>3</td>\n",
       "    </tr>\n",
       "    <tr>\n",
       "      <th>3</th>\n",
       "      <td>Изменить структура категорий, что увеличит конверсию, т.к. пользователи быстрее найдут нужный товар</td>\n",
       "      <td>8</td>\n",
       "      <td>3</td>\n",
       "      <td>3</td>\n",
       "      <td>8</td>\n",
       "    </tr>\n",
       "    <tr>\n",
       "      <th>4</th>\n",
       "      <td>Изменить цвет фона главной страницы, чтобы увеличить вовлеченность пользователей</td>\n",
       "      <td>3</td>\n",
       "      <td>1</td>\n",
       "      <td>1</td>\n",
       "      <td>1</td>\n",
       "    </tr>\n",
       "    <tr>\n",
       "      <th>5</th>\n",
       "      <td>Добавить страницу отзывов клиентов о магазине, что позволит увеличить количество заказов</td>\n",
       "      <td>3</td>\n",
       "      <td>2</td>\n",
       "      <td>2</td>\n",
       "      <td>3</td>\n",
       "    </tr>\n",
       "    <tr>\n",
       "      <th>6</th>\n",
       "      <td>Показать на главной странице баннеры с актуальными акциями и распродажами, чтобы увеличить конверсию</td>\n",
       "      <td>5</td>\n",
       "      <td>3</td>\n",
       "      <td>8</td>\n",
       "      <td>3</td>\n",
       "    </tr>\n",
       "    <tr>\n",
       "      <th>7</th>\n",
       "      <td>Добавить форму подписки на все основные страницы, чтобы собрать базу клиентов для email-рассылок</td>\n",
       "      <td>10</td>\n",
       "      <td>7</td>\n",
       "      <td>8</td>\n",
       "      <td>5</td>\n",
       "    </tr>\n",
       "    <tr>\n",
       "      <th>8</th>\n",
       "      <td>Запустить акцию, дающую скидку на товар в день рождения</td>\n",
       "      <td>1</td>\n",
       "      <td>9</td>\n",
       "      <td>9</td>\n",
       "      <td>5</td>\n",
       "    </tr>\n",
       "  </tbody>\n",
       "</table>\n",
       "</div>"
      ],
      "text/plain": [
       "                                                                                                     hypothesis  \\\n",
       "0            Добавить два новых канала привлечения трафика, что позволит привлекать на 30% больше пользователей   \n",
       "1                                     Запустить собственную службу доставки, что сократит срок доставки заказов   \n",
       "2  Добавить блоки рекомендаций товаров на сайт интернет магазина, чтобы повысить конверсию и средний чек заказа   \n",
       "3           Изменить структура категорий, что увеличит конверсию, т.к. пользователи быстрее найдут нужный товар   \n",
       "4                              Изменить цвет фона главной страницы, чтобы увеличить вовлеченность пользователей   \n",
       "5                      Добавить страницу отзывов клиентов о магазине, что позволит увеличить количество заказов   \n",
       "6          Показать на главной странице баннеры с актуальными акциями и распродажами, чтобы увеличить конверсию   \n",
       "7              Добавить форму подписки на все основные страницы, чтобы собрать базу клиентов для email-рассылок   \n",
       "8                                                       Запустить акцию, дающую скидку на товар в день рождения   \n",
       "\n",
       "   reach  impact  confidence  efforts  \n",
       "0      3      10           8        6  \n",
       "1      2       5           4       10  \n",
       "2      8       3           7        3  \n",
       "3      8       3           3        8  \n",
       "4      3       1           1        1  \n",
       "5      3       2           2        3  \n",
       "6      5       3           8        3  \n",
       "7     10       7           8        5  \n",
       "8      1       9           9        5  "
      ]
     },
     "execution_count": 5,
     "metadata": {},
     "output_type": "execute_result"
    }
   ],
   "source": [
    "hypothesis.head(9)"
   ]
  },
  {
   "cell_type": "code",
   "execution_count": 6,
   "metadata": {},
   "outputs": [
    {
     "name": "stdout",
     "output_type": "stream",
     "text": [
      "Дубликатов = 0\n"
     ]
    }
   ],
   "source": [
    "print('Дубликатов =', hypothesis.duplicated().sum())"
   ]
  },
  {
   "cell_type": "markdown",
   "metadata": {},
   "source": [
    "### Предобработка данных orders"
   ]
  },
  {
   "cell_type": "code",
   "execution_count": 7,
   "metadata": {},
   "outputs": [
    {
     "name": "stdout",
     "output_type": "stream",
     "text": [
      "<class 'pandas.core.frame.DataFrame'>\n",
      "RangeIndex: 1197 entries, 0 to 1196\n",
      "Data columns (total 5 columns):\n",
      " #   Column         Non-Null Count  Dtype \n",
      "---  ------         --------------  ----- \n",
      " 0   transactionId  1197 non-null   int64 \n",
      " 1   visitorId      1197 non-null   int64 \n",
      " 2   date           1197 non-null   object\n",
      " 3   revenue        1197 non-null   int64 \n",
      " 4   group          1197 non-null   object\n",
      "dtypes: int64(3), object(2)\n",
      "memory usage: 46.9+ KB\n"
     ]
    }
   ],
   "source": [
    "orders.info()"
   ]
  },
  {
   "cell_type": "code",
   "execution_count": 8,
   "metadata": {},
   "outputs": [],
   "source": [
    "orders['date'] = orders['date'].map(lambda x: dt.datetime.strptime(x, '%Y-%m-%d'))"
   ]
  },
  {
   "cell_type": "code",
   "execution_count": 9,
   "metadata": {},
   "outputs": [
    {
     "data": {
      "text/html": [
       "<div>\n",
       "<style scoped>\n",
       "    .dataframe tbody tr th:only-of-type {\n",
       "        vertical-align: middle;\n",
       "    }\n",
       "\n",
       "    .dataframe tbody tr th {\n",
       "        vertical-align: top;\n",
       "    }\n",
       "\n",
       "    .dataframe thead th {\n",
       "        text-align: right;\n",
       "    }\n",
       "</style>\n",
       "<table border=\"1\" class=\"dataframe\">\n",
       "  <thead>\n",
       "    <tr style=\"text-align: right;\">\n",
       "      <th></th>\n",
       "      <th>transactionId</th>\n",
       "      <th>visitorId</th>\n",
       "      <th>date</th>\n",
       "      <th>revenue</th>\n",
       "      <th>group</th>\n",
       "    </tr>\n",
       "  </thead>\n",
       "  <tbody>\n",
       "    <tr>\n",
       "      <th>0</th>\n",
       "      <td>3667963787</td>\n",
       "      <td>3312258926</td>\n",
       "      <td>2019-08-15</td>\n",
       "      <td>1650</td>\n",
       "      <td>B</td>\n",
       "    </tr>\n",
       "    <tr>\n",
       "      <th>1</th>\n",
       "      <td>2804400009</td>\n",
       "      <td>3642806036</td>\n",
       "      <td>2019-08-15</td>\n",
       "      <td>730</td>\n",
       "      <td>B</td>\n",
       "    </tr>\n",
       "    <tr>\n",
       "      <th>2</th>\n",
       "      <td>2961555356</td>\n",
       "      <td>4069496402</td>\n",
       "      <td>2019-08-15</td>\n",
       "      <td>400</td>\n",
       "      <td>A</td>\n",
       "    </tr>\n",
       "    <tr>\n",
       "      <th>3</th>\n",
       "      <td>3797467345</td>\n",
       "      <td>1196621759</td>\n",
       "      <td>2019-08-15</td>\n",
       "      <td>9759</td>\n",
       "      <td>B</td>\n",
       "    </tr>\n",
       "    <tr>\n",
       "      <th>4</th>\n",
       "      <td>2282983706</td>\n",
       "      <td>2322279887</td>\n",
       "      <td>2019-08-15</td>\n",
       "      <td>2308</td>\n",
       "      <td>B</td>\n",
       "    </tr>\n",
       "  </tbody>\n",
       "</table>\n",
       "</div>"
      ],
      "text/plain": [
       "   transactionId   visitorId       date  revenue group\n",
       "0     3667963787  3312258926 2019-08-15     1650     B\n",
       "1     2804400009  3642806036 2019-08-15      730     B\n",
       "2     2961555356  4069496402 2019-08-15      400     A\n",
       "3     3797467345  1196621759 2019-08-15     9759     B\n",
       "4     2282983706  2322279887 2019-08-15     2308     B"
      ]
     },
     "execution_count": 9,
     "metadata": {},
     "output_type": "execute_result"
    }
   ],
   "source": [
    "orders.head()"
   ]
  },
  {
   "cell_type": "code",
   "execution_count": 10,
   "metadata": {},
   "outputs": [
    {
     "name": "stdout",
     "output_type": "stream",
     "text": [
      "Дубликатов = 0\n"
     ]
    }
   ],
   "source": [
    "print(\"Дубликатов =\", orders.duplicated().sum())"
   ]
  },
  {
   "cell_type": "markdown",
   "metadata": {},
   "source": [
    "- С данными можно работать."
   ]
  },
  {
   "cell_type": "markdown",
   "metadata": {},
   "source": [
    "### Предобработка данных visitors"
   ]
  },
  {
   "cell_type": "code",
   "execution_count": 11,
   "metadata": {},
   "outputs": [
    {
     "name": "stdout",
     "output_type": "stream",
     "text": [
      "<class 'pandas.core.frame.DataFrame'>\n",
      "RangeIndex: 62 entries, 0 to 61\n",
      "Data columns (total 3 columns):\n",
      " #   Column    Non-Null Count  Dtype \n",
      "---  ------    --------------  ----- \n",
      " 0   date      62 non-null     object\n",
      " 1   group     62 non-null     object\n",
      " 2   visitors  62 non-null     int64 \n",
      "dtypes: int64(1), object(2)\n",
      "memory usage: 1.6+ KB\n"
     ]
    }
   ],
   "source": [
    "visitors.info()"
   ]
  },
  {
   "cell_type": "code",
   "execution_count": 12,
   "metadata": {},
   "outputs": [],
   "source": [
    "visitors['date'] = visitors['date'].map(lambda x: dt.datetime.strptime(x, '%Y-%m-%d'))"
   ]
  },
  {
   "cell_type": "code",
   "execution_count": 13,
   "metadata": {},
   "outputs": [
    {
     "data": {
      "text/html": [
       "<div>\n",
       "<style scoped>\n",
       "    .dataframe tbody tr th:only-of-type {\n",
       "        vertical-align: middle;\n",
       "    }\n",
       "\n",
       "    .dataframe tbody tr th {\n",
       "        vertical-align: top;\n",
       "    }\n",
       "\n",
       "    .dataframe thead th {\n",
       "        text-align: right;\n",
       "    }\n",
       "</style>\n",
       "<table border=\"1\" class=\"dataframe\">\n",
       "  <thead>\n",
       "    <tr style=\"text-align: right;\">\n",
       "      <th></th>\n",
       "      <th>date</th>\n",
       "      <th>group</th>\n",
       "      <th>visitors</th>\n",
       "    </tr>\n",
       "  </thead>\n",
       "  <tbody>\n",
       "    <tr>\n",
       "      <th>0</th>\n",
       "      <td>2019-08-01</td>\n",
       "      <td>A</td>\n",
       "      <td>719</td>\n",
       "    </tr>\n",
       "    <tr>\n",
       "      <th>1</th>\n",
       "      <td>2019-08-02</td>\n",
       "      <td>A</td>\n",
       "      <td>619</td>\n",
       "    </tr>\n",
       "    <tr>\n",
       "      <th>2</th>\n",
       "      <td>2019-08-03</td>\n",
       "      <td>A</td>\n",
       "      <td>507</td>\n",
       "    </tr>\n",
       "    <tr>\n",
       "      <th>3</th>\n",
       "      <td>2019-08-04</td>\n",
       "      <td>A</td>\n",
       "      <td>717</td>\n",
       "    </tr>\n",
       "    <tr>\n",
       "      <th>4</th>\n",
       "      <td>2019-08-05</td>\n",
       "      <td>A</td>\n",
       "      <td>756</td>\n",
       "    </tr>\n",
       "  </tbody>\n",
       "</table>\n",
       "</div>"
      ],
      "text/plain": [
       "        date group  visitors\n",
       "0 2019-08-01     A       719\n",
       "1 2019-08-02     A       619\n",
       "2 2019-08-03     A       507\n",
       "3 2019-08-04     A       717\n",
       "4 2019-08-05     A       756"
      ]
     },
     "execution_count": 13,
     "metadata": {},
     "output_type": "execute_result"
    }
   ],
   "source": [
    "visitors.head()"
   ]
  },
  {
   "cell_type": "code",
   "execution_count": 14,
   "metadata": {},
   "outputs": [
    {
     "name": "stdout",
     "output_type": "stream",
     "text": [
      "Дубликатов = 0\n"
     ]
    }
   ],
   "source": [
    "print('Дубликатов =', visitors.duplicated().sum())"
   ]
  },
  {
   "cell_type": "markdown",
   "metadata": {},
   "source": [
    "- С данными можно работать."
   ]
  },
  {
   "cell_type": "markdown",
   "metadata": {},
   "source": [
    "## **Приоритизация гипотез.**"
   ]
  },
  {
   "cell_type": "markdown",
   "metadata": {},
   "source": [
    "В файле /datasets/hypothesis.csv 9 гипотез по увеличению выручки интернет-магазина с указанными параметрами Reach, Impact, Confidence, Effort.\n",
    "**Задача**\n",
    "- Примените фреймворк ICE для приоритизации гипотез. Отсортируйте их по убыванию приоритета.\n",
    "\n",
    "- Примените фреймворк RICE для приоритизации гипотез. Отсортируйте их по убыванию приоритета.\n",
    "\n",
    "- Укажите, как изменилась приоритизация гипотез при применении RICE вместо ICE. Объясните, почему так произошло."
   ]
  },
  {
   "cell_type": "code",
   "execution_count": 15,
   "metadata": {},
   "outputs": [
    {
     "data": {
      "text/plain": [
       "hypothesis    0\n",
       "reach         0\n",
       "impact        0\n",
       "confidence    0\n",
       "efforts       0\n",
       "dtype: int64"
      ]
     },
     "execution_count": 15,
     "metadata": {},
     "output_type": "execute_result"
    }
   ],
   "source": [
    "hypothesis.isnull().sum()"
   ]
  },
  {
   "cell_type": "markdown",
   "metadata": {},
   "source": [
    "### Применим фреймворк ICE для приоритизации гипотез. Отсортируем их по убыванию приоритета."
   ]
  },
  {
   "cell_type": "code",
   "execution_count": 16,
   "metadata": {},
   "outputs": [
    {
     "data": {
      "text/html": [
       "<div>\n",
       "<style scoped>\n",
       "    .dataframe tbody tr th:only-of-type {\n",
       "        vertical-align: middle;\n",
       "    }\n",
       "\n",
       "    .dataframe tbody tr th {\n",
       "        vertical-align: top;\n",
       "    }\n",
       "\n",
       "    .dataframe thead th {\n",
       "        text-align: right;\n",
       "    }\n",
       "</style>\n",
       "<table border=\"1\" class=\"dataframe\">\n",
       "  <thead>\n",
       "    <tr style=\"text-align: right;\">\n",
       "      <th></th>\n",
       "      <th>hypothesis</th>\n",
       "      <th>ICE</th>\n",
       "    </tr>\n",
       "  </thead>\n",
       "  <tbody>\n",
       "    <tr>\n",
       "      <th>8</th>\n",
       "      <td>Запустить акцию, дающую скидку на товар в день рождения</td>\n",
       "      <td>16.20</td>\n",
       "    </tr>\n",
       "    <tr>\n",
       "      <th>0</th>\n",
       "      <td>Добавить два новых канала привлечения трафика, что позволит привлекать на 30% больше пользователей</td>\n",
       "      <td>13.33</td>\n",
       "    </tr>\n",
       "    <tr>\n",
       "      <th>7</th>\n",
       "      <td>Добавить форму подписки на все основные страницы, чтобы собрать базу клиентов для email-рассылок</td>\n",
       "      <td>11.20</td>\n",
       "    </tr>\n",
       "    <tr>\n",
       "      <th>6</th>\n",
       "      <td>Показать на главной странице баннеры с актуальными акциями и распродажами, чтобы увеличить конверсию</td>\n",
       "      <td>8.00</td>\n",
       "    </tr>\n",
       "    <tr>\n",
       "      <th>2</th>\n",
       "      <td>Добавить блоки рекомендаций товаров на сайт интернет магазина, чтобы повысить конверсию и средний чек заказа</td>\n",
       "      <td>7.00</td>\n",
       "    </tr>\n",
       "    <tr>\n",
       "      <th>1</th>\n",
       "      <td>Запустить собственную службу доставки, что сократит срок доставки заказов</td>\n",
       "      <td>2.00</td>\n",
       "    </tr>\n",
       "    <tr>\n",
       "      <th>5</th>\n",
       "      <td>Добавить страницу отзывов клиентов о магазине, что позволит увеличить количество заказов</td>\n",
       "      <td>1.33</td>\n",
       "    </tr>\n",
       "    <tr>\n",
       "      <th>3</th>\n",
       "      <td>Изменить структура категорий, что увеличит конверсию, т.к. пользователи быстрее найдут нужный товар</td>\n",
       "      <td>1.12</td>\n",
       "    </tr>\n",
       "    <tr>\n",
       "      <th>4</th>\n",
       "      <td>Изменить цвет фона главной страницы, чтобы увеличить вовлеченность пользователей</td>\n",
       "      <td>1.00</td>\n",
       "    </tr>\n",
       "  </tbody>\n",
       "</table>\n",
       "</div>"
      ],
      "text/plain": [
       "                                                                                                     hypothesis  \\\n",
       "8                                                       Запустить акцию, дающую скидку на товар в день рождения   \n",
       "0            Добавить два новых канала привлечения трафика, что позволит привлекать на 30% больше пользователей   \n",
       "7              Добавить форму подписки на все основные страницы, чтобы собрать базу клиентов для email-рассылок   \n",
       "6          Показать на главной странице баннеры с актуальными акциями и распродажами, чтобы увеличить конверсию   \n",
       "2  Добавить блоки рекомендаций товаров на сайт интернет магазина, чтобы повысить конверсию и средний чек заказа   \n",
       "1                                     Запустить собственную службу доставки, что сократит срок доставки заказов   \n",
       "5                      Добавить страницу отзывов клиентов о магазине, что позволит увеличить количество заказов   \n",
       "3           Изменить структура категорий, что увеличит конверсию, т.к. пользователи быстрее найдут нужный товар   \n",
       "4                              Изменить цвет фона главной страницы, чтобы увеличить вовлеченность пользователей   \n",
       "\n",
       "    ICE  \n",
       "8 16.20  \n",
       "0 13.33  \n",
       "7 11.20  \n",
       "6  8.00  \n",
       "2  7.00  \n",
       "1  2.00  \n",
       "5  1.33  \n",
       "3  1.12  \n",
       "4  1.00  "
      ]
     },
     "execution_count": 16,
     "metadata": {},
     "output_type": "execute_result"
    }
   ],
   "source": [
    "# ICE = (impact * confidence) / efforts\n",
    "hypothesis['ICE'] = hypothesis['impact'] * hypothesis['confidence'] / hypothesis['efforts']\n",
    "hypothesis_ICE = hypothesis[['hypothesis', 'ICE']].sort_values(by = 'ICE', ascending = False)\n",
    "hypothesis_ICE"
   ]
  },
  {
   "cell_type": "markdown",
   "metadata": {},
   "source": [
    "### Применим фреймворк RICE для приоритизации гипотез. Отсортируем их по убыванию приоритета."
   ]
  },
  {
   "cell_type": "code",
   "execution_count": 17,
   "metadata": {},
   "outputs": [
    {
     "data": {
      "text/html": [
       "<div>\n",
       "<style scoped>\n",
       "    .dataframe tbody tr th:only-of-type {\n",
       "        vertical-align: middle;\n",
       "    }\n",
       "\n",
       "    .dataframe tbody tr th {\n",
       "        vertical-align: top;\n",
       "    }\n",
       "\n",
       "    .dataframe thead th {\n",
       "        text-align: right;\n",
       "    }\n",
       "</style>\n",
       "<table border=\"1\" class=\"dataframe\">\n",
       "  <thead>\n",
       "    <tr style=\"text-align: right;\">\n",
       "      <th></th>\n",
       "      <th>hypothesis</th>\n",
       "      <th>RICE</th>\n",
       "    </tr>\n",
       "  </thead>\n",
       "  <tbody>\n",
       "    <tr>\n",
       "      <th>7</th>\n",
       "      <td>Добавить форму подписки на все основные страницы, чтобы собрать базу клиентов для email-рассылок</td>\n",
       "      <td>112.00</td>\n",
       "    </tr>\n",
       "    <tr>\n",
       "      <th>2</th>\n",
       "      <td>Добавить блоки рекомендаций товаров на сайт интернет магазина, чтобы повысить конверсию и средний чек заказа</td>\n",
       "      <td>56.00</td>\n",
       "    </tr>\n",
       "    <tr>\n",
       "      <th>0</th>\n",
       "      <td>Добавить два новых канала привлечения трафика, что позволит привлекать на 30% больше пользователей</td>\n",
       "      <td>40.00</td>\n",
       "    </tr>\n",
       "    <tr>\n",
       "      <th>6</th>\n",
       "      <td>Показать на главной странице баннеры с актуальными акциями и распродажами, чтобы увеличить конверсию</td>\n",
       "      <td>40.00</td>\n",
       "    </tr>\n",
       "    <tr>\n",
       "      <th>8</th>\n",
       "      <td>Запустить акцию, дающую скидку на товар в день рождения</td>\n",
       "      <td>16.20</td>\n",
       "    </tr>\n",
       "    <tr>\n",
       "      <th>3</th>\n",
       "      <td>Изменить структура категорий, что увеличит конверсию, т.к. пользователи быстрее найдут нужный товар</td>\n",
       "      <td>9.00</td>\n",
       "    </tr>\n",
       "    <tr>\n",
       "      <th>1</th>\n",
       "      <td>Запустить собственную службу доставки, что сократит срок доставки заказов</td>\n",
       "      <td>4.00</td>\n",
       "    </tr>\n",
       "    <tr>\n",
       "      <th>5</th>\n",
       "      <td>Добавить страницу отзывов клиентов о магазине, что позволит увеличить количество заказов</td>\n",
       "      <td>4.00</td>\n",
       "    </tr>\n",
       "    <tr>\n",
       "      <th>4</th>\n",
       "      <td>Изменить цвет фона главной страницы, чтобы увеличить вовлеченность пользователей</td>\n",
       "      <td>3.00</td>\n",
       "    </tr>\n",
       "  </tbody>\n",
       "</table>\n",
       "</div>"
      ],
      "text/plain": [
       "                                                                                                     hypothesis  \\\n",
       "7              Добавить форму подписки на все основные страницы, чтобы собрать базу клиентов для email-рассылок   \n",
       "2  Добавить блоки рекомендаций товаров на сайт интернет магазина, чтобы повысить конверсию и средний чек заказа   \n",
       "0            Добавить два новых канала привлечения трафика, что позволит привлекать на 30% больше пользователей   \n",
       "6          Показать на главной странице баннеры с актуальными акциями и распродажами, чтобы увеличить конверсию   \n",
       "8                                                       Запустить акцию, дающую скидку на товар в день рождения   \n",
       "3           Изменить структура категорий, что увеличит конверсию, т.к. пользователи быстрее найдут нужный товар   \n",
       "1                                     Запустить собственную службу доставки, что сократит срок доставки заказов   \n",
       "5                      Добавить страницу отзывов клиентов о магазине, что позволит увеличить количество заказов   \n",
       "4                              Изменить цвет фона главной страницы, чтобы увеличить вовлеченность пользователей   \n",
       "\n",
       "    RICE  \n",
       "7 112.00  \n",
       "2  56.00  \n",
       "0  40.00  \n",
       "6  40.00  \n",
       "8  16.20  \n",
       "3   9.00  \n",
       "1   4.00  \n",
       "5   4.00  \n",
       "4   3.00  "
      ]
     },
     "execution_count": 17,
     "metadata": {},
     "output_type": "execute_result"
    }
   ],
   "source": [
    "# RICE = (reach * impact * confidence) / efforts\n",
    "hypothesis['RICE'] = hypothesis['reach'] * hypothesis['impact'] * hypothesis['confidence'] / hypothesis['efforts']\n",
    "hypothesis_RICE = hypothesis[['hypothesis', 'RICE']].sort_values(by='RICE', ascending=False)\n",
    "hypothesis_RICE"
   ]
  },
  {
   "cell_type": "markdown",
   "metadata": {},
   "source": [
    "### Укажем, как изменилась приоритизация гипотез при применении RICE вместо ICE. Объясним, почему так произошло."
   ]
  },
  {
   "cell_type": "code",
   "execution_count": 18,
   "metadata": {},
   "outputs": [
    {
     "data": {
      "text/html": [
       "<div>\n",
       "<style scoped>\n",
       "    .dataframe tbody tr th:only-of-type {\n",
       "        vertical-align: middle;\n",
       "    }\n",
       "\n",
       "    .dataframe tbody tr th {\n",
       "        vertical-align: top;\n",
       "    }\n",
       "\n",
       "    .dataframe thead th {\n",
       "        text-align: right;\n",
       "    }\n",
       "</style>\n",
       "<table border=\"1\" class=\"dataframe\">\n",
       "  <thead>\n",
       "    <tr style=\"text-align: right;\">\n",
       "      <th></th>\n",
       "      <th>hypothesis</th>\n",
       "      <th>ICE</th>\n",
       "      <th>RICE</th>\n",
       "    </tr>\n",
       "  </thead>\n",
       "  <tbody>\n",
       "    <tr>\n",
       "      <th>0</th>\n",
       "      <td>Запустить акцию, дающую скидку на товар в день рождения</td>\n",
       "      <td>16.20</td>\n",
       "      <td>16.20</td>\n",
       "    </tr>\n",
       "    <tr>\n",
       "      <th>1</th>\n",
       "      <td>Добавить два новых канала привлечения трафика, что позволит привлекать на 30% больше пользователей</td>\n",
       "      <td>13.33</td>\n",
       "      <td>40.00</td>\n",
       "    </tr>\n",
       "    <tr>\n",
       "      <th>2</th>\n",
       "      <td>Добавить форму подписки на все основные страницы, чтобы собрать базу клиентов для email-рассылок</td>\n",
       "      <td>11.20</td>\n",
       "      <td>112.00</td>\n",
       "    </tr>\n",
       "    <tr>\n",
       "      <th>3</th>\n",
       "      <td>Показать на главной странице баннеры с актуальными акциями и распродажами, чтобы увеличить конверсию</td>\n",
       "      <td>8.00</td>\n",
       "      <td>40.00</td>\n",
       "    </tr>\n",
       "    <tr>\n",
       "      <th>4</th>\n",
       "      <td>Добавить блоки рекомендаций товаров на сайт интернет магазина, чтобы повысить конверсию и средний чек заказа</td>\n",
       "      <td>7.00</td>\n",
       "      <td>56.00</td>\n",
       "    </tr>\n",
       "    <tr>\n",
       "      <th>5</th>\n",
       "      <td>Запустить собственную службу доставки, что сократит срок доставки заказов</td>\n",
       "      <td>2.00</td>\n",
       "      <td>4.00</td>\n",
       "    </tr>\n",
       "    <tr>\n",
       "      <th>6</th>\n",
       "      <td>Добавить страницу отзывов клиентов о магазине, что позволит увеличить количество заказов</td>\n",
       "      <td>1.33</td>\n",
       "      <td>4.00</td>\n",
       "    </tr>\n",
       "    <tr>\n",
       "      <th>7</th>\n",
       "      <td>Изменить структура категорий, что увеличит конверсию, т.к. пользователи быстрее найдут нужный товар</td>\n",
       "      <td>1.12</td>\n",
       "      <td>9.00</td>\n",
       "    </tr>\n",
       "    <tr>\n",
       "      <th>8</th>\n",
       "      <td>Изменить цвет фона главной страницы, чтобы увеличить вовлеченность пользователей</td>\n",
       "      <td>1.00</td>\n",
       "      <td>3.00</td>\n",
       "    </tr>\n",
       "  </tbody>\n",
       "</table>\n",
       "</div>"
      ],
      "text/plain": [
       "                                                                                                     hypothesis  \\\n",
       "0                                                       Запустить акцию, дающую скидку на товар в день рождения   \n",
       "1            Добавить два новых канала привлечения трафика, что позволит привлекать на 30% больше пользователей   \n",
       "2              Добавить форму подписки на все основные страницы, чтобы собрать базу клиентов для email-рассылок   \n",
       "3          Показать на главной странице баннеры с актуальными акциями и распродажами, чтобы увеличить конверсию   \n",
       "4  Добавить блоки рекомендаций товаров на сайт интернет магазина, чтобы повысить конверсию и средний чек заказа   \n",
       "5                                     Запустить собственную службу доставки, что сократит срок доставки заказов   \n",
       "6                      Добавить страницу отзывов клиентов о магазине, что позволит увеличить количество заказов   \n",
       "7           Изменить структура категорий, что увеличит конверсию, т.к. пользователи быстрее найдут нужный товар   \n",
       "8                              Изменить цвет фона главной страницы, чтобы увеличить вовлеченность пользователей   \n",
       "\n",
       "    ICE   RICE  \n",
       "0 16.20  16.20  \n",
       "1 13.33  40.00  \n",
       "2 11.20 112.00  \n",
       "3  8.00  40.00  \n",
       "4  7.00  56.00  \n",
       "5  2.00   4.00  \n",
       "6  1.33   4.00  \n",
       "7  1.12   9.00  \n",
       "8  1.00   3.00  "
      ]
     },
     "execution_count": 18,
     "metadata": {},
     "output_type": "execute_result"
    }
   ],
   "source": [
    "hypothesis_result = hypothesis_ICE.merge(hypothesis_RICE, on='hypothesis', how = 'left')\n",
    "hypothesis_result"
   ]
  },
  {
   "cell_type": "markdown",
   "metadata": {},
   "source": [
    "Вывод: Различия между фреймворками имеются.\n",
    "- Лидеры фреймворка `ICE`: 8, 0, 7\n",
    "- Лидеры фреймворка `RICE`: 7, 2, 0\n",
    "- Самые заметные изменения приоритизации: ICE - 7 = 11.2 : RICE - 7 = 112; ICE - 2 = 7 : RICE - 2 = 56\n",
    "- `Приоритизация изменилась`, так как в фреймворке RICE дополнительно учитывается `Reach`(cкольких пользователей затронет изменение, которое вы хотите внести)"
   ]
  },
  {
   "cell_type": "markdown",
   "metadata": {},
   "source": [
    "## **Анализ A/B-теста**"
   ]
  },
  {
   "cell_type": "markdown",
   "metadata": {},
   "source": [
    "- Посмотрим, сколько групп у нас учавствуют:\n",
    "\n",
    "- 2 группы А и В"
   ]
  },
  {
   "cell_type": "code",
   "execution_count": 19,
   "metadata": {},
   "outputs": [
    {
     "data": {
      "text/plain": [
       "array(['B', 'A'], dtype=object)"
      ]
     },
     "execution_count": 19,
     "metadata": {},
     "output_type": "execute_result"
    }
   ],
   "source": [
    "orders['group'].unique()"
   ]
  },
  {
   "cell_type": "markdown",
   "metadata": {},
   "source": [
    "- В работе у нас данные за август месяц 2019 года."
   ]
  },
  {
   "cell_type": "code",
   "execution_count": 20,
   "metadata": {},
   "outputs": [
    {
     "data": {
      "text/plain": [
       "Timestamp('2019-08-01 00:00:00')"
      ]
     },
     "metadata": {},
     "output_type": "display_data"
    },
    {
     "data": {
      "text/plain": [
       "Timestamp('2019-08-31 00:00:00')"
      ]
     },
     "metadata": {},
     "output_type": "display_data"
    }
   ],
   "source": [
    "display(orders['date'].min())\n",
    "display(orders['date'].max())"
   ]
  },
  {
   "cell_type": "markdown",
   "metadata": {},
   "source": [
    "- Посмотрим как разбились у нас группы:"
   ]
  },
  {
   "cell_type": "code",
   "execution_count": 21,
   "metadata": {},
   "outputs": [
    {
     "name": "stdout",
     "output_type": "stream",
     "text": [
      "  group  visitorId\n",
      "0     A        557\n",
      "1     B        640\n"
     ]
    }
   ],
   "source": [
    "group_count = (\n",
    "    orders.groupby('group', as_index=False)\n",
    "    .agg({'visitorId': 'count'})\n",
    ")\n",
    "\n",
    "print(group_count) "
   ]
  },
  {
   "cell_type": "markdown",
   "metadata": {},
   "source": [
    "- Пользователь, за данный промежуток времени мог бы попасть в 2 группы исследования, но мы учитываем сессии заказов, мне кажется оно не сильно повлияет на наше исследование."
   ]
  },
  {
   "cell_type": "markdown",
   "metadata": {},
   "source": [
    "Вы провели A/B-тест и получили результаты, которые описаны в файлах `/datasets/orders.csv` и `/datasets/visitors.csv.`"
   ]
  },
  {
   "cell_type": "markdown",
   "metadata": {},
   "source": [
    "### Постройте график кумулятивной выручки по группам. Сделайте выводы и предположения."
   ]
  },
  {
   "cell_type": "markdown",
   "metadata": {},
   "source": [
    "- Узнаем медиану выручки по группам, чтобы понять, что аномальных выбросов нет:"
   ]
  },
  {
   "cell_type": "code",
   "execution_count": 22,
   "metadata": {},
   "outputs": [
    {
     "data": {
      "text/plain": [
       "group\n",
       "A    112473\n",
       "B    147274\n",
       "Name: revenue, dtype: int64"
      ]
     },
     "execution_count": 22,
     "metadata": {},
     "output_type": "execute_result"
    }
   ],
   "source": [
    "orders.groupby(['date','group'])['revenue'].sum().groupby('group').median()"
   ]
  },
  {
   "cell_type": "code",
   "execution_count": 23,
   "metadata": {},
   "outputs": [],
   "source": [
    "date_group = orders[['date', 'group']].drop_duplicates()\n",
    "\n",
    "orders_agg = date_group.apply(\n",
    "    lambda x: orders[\n",
    "        np.logical_and(\n",
    "            orders['date'] <= x['date'], orders['group'] == x['group']\n",
    "        )\n",
    "    ].agg(\n",
    "        {\n",
    "            'date': 'max',\n",
    "            'group': 'max',\n",
    "            'transactionId': 'nunique',\n",
    "            'visitorId': 'nunique',\n",
    "            'revenue': 'sum',\n",
    "        }\n",
    "    ),\n",
    "    axis=1,\n",
    ").sort_values(by=['date', 'group'])\n",
    "\n",
    "visitors_agg = date_group.apply(\n",
    "    lambda x: visitors[\n",
    "        np.logical_and(\n",
    "            visitors['date'] <= x['date'], visitors['group'] == x['group']\n",
    "        )\n",
    "    ].agg({'date': 'max', 'group': 'max', 'visitors': 'sum'}),\n",
    "    axis=1,\n",
    ").sort_values(by=['date', 'group'])"
   ]
  },
  {
   "cell_type": "code",
   "execution_count": 24,
   "metadata": {},
   "outputs": [
    {
     "data": {
      "image/png": "[encoded data removed]",
      "text/plain": [
       "<Figure size 1080x360 with 1 Axes>"
      ]
     },
     "metadata": {},
     "output_type": "display_data"
    }
   ],
   "source": [
    "cumulativeData = orders_agg.merge(\n",
    "    visitors_agg, left_on=['date', 'group'], right_on=['date', 'group']\n",
    ")\n",
    "cumulativeData.columns = [\n",
    "    'date',\n",
    "    'group',\n",
    "    'orders',\n",
    "    'buyers',\n",
    "    'revenue',\n",
    "    'visitors',\n",
    "]\n",
    "cumulativeRevenueA = cumulativeData[cumulativeData['group']=='A'][['date','revenue', 'orders']]\n",
    "cumulativeRevenueB = cumulativeData[cumulativeData['group']=='B'][['date','revenue', 'orders']]\n",
    "plt.figure(figsize=(15,5))\n",
    "plt.plot(cumulativeRevenueA['date'], cumulativeRevenueA['revenue'], label='Кумулятивная выручка группы A')\n",
    "plt.plot(cumulativeRevenueB['date'], cumulativeRevenueB['revenue'], label='Кумулятивная выручка группы B')\n",
    "plt.title(\"Кумулятивная выручка группы A и B\")\n",
    "plt.xlabel(\"Время, fontsize=12,fontweight=0, color='black'\")\n",
    "plt.ylabel(\"Выручка, fontsize=12,fontweight=0, color='black'\")\n",
    "plt.legend();"
   ]
  },
  {
   "cell_type": "markdown",
   "metadata": {},
   "source": [
    "- 8 августа видна точка соприкосновения групп, кумулятивная выручка была равна.\n",
    "- После 18 августа сегмент Б вырвался вперед сильным скачком вверх. Возможно в этот день было очень много заказов, или количество не растет, но растет чек"
   ]
  },
  {
   "cell_type": "markdown",
   "metadata": {},
   "source": [
    "### Построим график кумулятивного среднего чека по группам."
   ]
  },
  {
   "cell_type": "code",
   "execution_count": 25,
   "metadata": {},
   "outputs": [
    {
     "data": {
      "image/png": "[encoded data removed]",
      "text/plain": [
       "<Figure size 1080x360 with 1 Axes>"
      ]
     },
     "metadata": {},
     "output_type": "display_data"
    }
   ],
   "source": [
    "plt.figure(figsize=(15,5))\n",
    "plt.plot(cumulativeRevenueA['date'], cumulativeRevenueA['revenue']/cumulativeRevenueA['orders'], label='Группа A')\n",
    "plt.plot(cumulativeRevenueB['date'], cumulativeRevenueB['revenue']/cumulativeRevenueB['orders'], label='Группа B')\n",
    "plt.title(\"Кумулятивный средний чек группы A и B\", loc='left', fontsize=12,fontweight=3, color='black')\n",
    "plt.xlabel(\"Время\", fontsize=12,fontweight=0, color='black')\n",
    "plt.ylabel(\"Средний чек\", fontsize=12,fontweight=0, color='black')\n",
    "plt.legend();"
   ]
  },
  {
   "cell_type": "markdown",
   "metadata": {},
   "source": [
    "- Кумулятивное значение среднего чека 10 августа соприкачаются, после чего мы можем заметить резкий подъем среднего чека группы В. Это может быть связано с аномальным количеством покупок в этот день, либо суммами транзакций."
   ]
  },
  {
   "cell_type": "markdown",
   "metadata": {},
   "source": [
    "### Построим график относительного изменения кумулятивного среднего чека группы B к группе A."
   ]
  },
  {
   "cell_type": "code",
   "execution_count": 26,
   "metadata": {},
   "outputs": [
    {
     "data": {
      "image/png": "[encoded data removed]",
      "text/plain": [
       "<Figure size 1080x360 with 1 Axes>"
      ]
     },
     "metadata": {},
     "output_type": "display_data"
    }
   ],
   "source": [
    "mergedCumulativeRevenue = cumulativeRevenueA.merge(cumulativeRevenueB, left_on='date', right_on='date', how='left', suffixes=['A', 'B'])\n",
    "plt.figure(figsize=(15,5))\n",
    "plt.plot(mergedCumulativeRevenue['date'], (mergedCumulativeRevenue['revenueB']/mergedCumulativeRevenue['ordersB'])/(mergedCumulativeRevenue['revenueA']/mergedCumulativeRevenue['ordersA'])-1)\n",
    "plt.axhline(y=0, color='black', linestyle='--') \n",
    "plt.title(\"График относительного изменения кумулятивного среднего чека группы B к группе A\", loc='left', fontsize=12,fontweight=3, color='black')\n",
    "plt.xlabel(\"Время\", fontsize=12,fontweight=0, color='black')\n",
    "plt.ylabel(\"Средний чек\", fontsize=12,fontweight=0, color='black');"
   ]
  },
  {
   "cell_type": "markdown",
   "metadata": {},
   "source": [
    "- Чек группы В 2го августа стал больше группы А, 8 августа упал ниже группы А, после чего заметен крупный скачек, после которого он не падал на уровень группы А."
   ]
  },
  {
   "cell_type": "markdown",
   "metadata": {},
   "source": [
    "### Построим график кумулятивной конверсии по группам."
   ]
  },
  {
   "cell_type": "code",
   "execution_count": 27,
   "metadata": {},
   "outputs": [
    {
     "data": {
      "image/png": "[encoded data removed]",
      "text/plain": [
       "<Figure size 1080x360 with 1 Axes>"
      ]
     },
     "metadata": {},
     "output_type": "display_data"
    }
   ],
   "source": [
    "cumulativeData['conversion'] = cumulativeData['orders']/cumulativeData['visitors']\n",
    "cumulativeDataA = cumulativeData[cumulativeData['group']=='A']\n",
    "cumulativeDataB = cumulativeData[cumulativeData['group']=='B']\n",
    "plt.figure(figsize=(15,5))\n",
    "plt.plot(cumulativeDataA['date'], cumulativeDataA['conversion'], label='Группа A')\n",
    "plt.plot(cumulativeDataB['date'], cumulativeDataB['conversion'], label='Группа B')\n",
    "plt.title(\"График кумулятивной конверсии группы А и В\", loc='left', fontsize=12,fontweight=3, color='black')\n",
    "plt.xlabel(\"Время\", fontsize=12,fontweight=0, color='black')\n",
    "plt.ylabel(\"Конверсия\", fontsize=12,fontweight=0, color='black')\n",
    "plt.legend();"
   ]
  },
  {
   "cell_type": "markdown",
   "metadata": {},
   "source": [
    "- Пик группы А больше группы В, но после 6го конверсия группы В значительно ушла вверх, с подъемами 9го и 15 августа, после конверсии групп нормализовались. График показал, что конверсия группы В значительно выше группы А."
   ]
  },
  {
   "cell_type": "markdown",
   "metadata": {},
   "source": [
    "### Построим график относительного изменения кумулятивной конверсии группы B к группе A."
   ]
  },
  {
   "cell_type": "code",
   "execution_count": 28,
   "metadata": {},
   "outputs": [
    {
     "data": {
      "image/png": "[encoded data removed]",
      "text/plain": [
       "<Figure size 1080x360 with 1 Axes>"
      ]
     },
     "metadata": {},
     "output_type": "display_data"
    }
   ],
   "source": [
    "register_matplotlib_converters()\n",
    "mergedCumulativeConversions = cumulativeDataA[['date','conversion']].merge(cumulativeDataB[['date','conversion']], left_on='date', right_on='date', how='left', suffixes=['A', 'B'])\n",
    "plt.figure(figsize=(15,5))\n",
    "plt.plot(mergedCumulativeConversions['date'], mergedCumulativeConversions['conversionB']/mergedCumulativeConversions['conversionA']-1, label=\"Относительный прирост конверсии группы B относительно группы A\")\n",
    "plt.title(\"График относительного изменения конверсии группы В к А\", loc='left', fontsize=12,fontweight=3, color='black')\n",
    "plt.xlabel(\"Время\", fontsize=12,fontweight=0, color='black')\n",
    "plt.ylabel(\"% разницы конверсии\", fontsize=12,fontweight=0, color='black')\n",
    "plt.legend()\n",
    "plt.axhline(y=0, color='black', linestyle='--')\n",
    "plt.axhline(y=0.1, color='grey', linestyle='--')\n",
    "plt.axhline(y=0.2, color='grey', linestyle='--');"
   ]
  },
  {
   "cell_type": "markdown",
   "metadata": {},
   "source": [
    "- Как и на графике кумулятивной конверсии групп, мы можем заметить, что после 5 августа конверсия группы В пошла вверх и была выше конверсии группы А больше 10%."
   ]
  },
  {
   "cell_type": "markdown",
   "metadata": {},
   "source": [
    "### Построим точечный график количества заказов по пользователям. "
   ]
  },
  {
   "cell_type": "markdown",
   "metadata": {},
   "source": [
    "- transactionId — идентификатор заказа;\n",
    "\n",
    "- visitorId — идентификатор пользователя, совершившего заказ;\n",
    "\n",
    "- date — дата, когда был совершён заказ;\n",
    "\n",
    "- revenue — выручка заказа;\n",
    "\n",
    "- group — группа A/B-теста, в которую попал заказ."
   ]
  },
  {
   "cell_type": "code",
   "execution_count": 46,
   "metadata": {},
   "outputs": [
    {
     "data": {
      "text/html": [
       "<div>\n",
       "<style scoped>\n",
       "    .dataframe tbody tr th:only-of-type {\n",
       "        vertical-align: middle;\n",
       "    }\n",
       "\n",
       "    .dataframe tbody tr th {\n",
       "        vertical-align: top;\n",
       "    }\n",
       "\n",
       "    .dataframe thead th {\n",
       "        text-align: right;\n",
       "    }\n",
       "</style>\n",
       "<table border=\"1\" class=\"dataframe\">\n",
       "  <thead>\n",
       "    <tr style=\"text-align: right;\">\n",
       "      <th></th>\n",
       "      <th>transactionId</th>\n",
       "      <th>visitorId</th>\n",
       "      <th>date</th>\n",
       "      <th>revenue</th>\n",
       "      <th>group</th>\n",
       "    </tr>\n",
       "  </thead>\n",
       "  <tbody>\n",
       "    <tr>\n",
       "      <th>0</th>\n",
       "      <td>3667963787</td>\n",
       "      <td>3312258926</td>\n",
       "      <td>2019-08-15</td>\n",
       "      <td>1650</td>\n",
       "      <td>B</td>\n",
       "    </tr>\n",
       "    <tr>\n",
       "      <th>1</th>\n",
       "      <td>2804400009</td>\n",
       "      <td>3642806036</td>\n",
       "      <td>2019-08-15</td>\n",
       "      <td>730</td>\n",
       "      <td>B</td>\n",
       "    </tr>\n",
       "    <tr>\n",
       "      <th>2</th>\n",
       "      <td>2961555356</td>\n",
       "      <td>4069496402</td>\n",
       "      <td>2019-08-15</td>\n",
       "      <td>400</td>\n",
       "      <td>A</td>\n",
       "    </tr>\n",
       "    <tr>\n",
       "      <th>3</th>\n",
       "      <td>3797467345</td>\n",
       "      <td>1196621759</td>\n",
       "      <td>2019-08-15</td>\n",
       "      <td>9759</td>\n",
       "      <td>B</td>\n",
       "    </tr>\n",
       "    <tr>\n",
       "      <th>4</th>\n",
       "      <td>2282983706</td>\n",
       "      <td>2322279887</td>\n",
       "      <td>2019-08-15</td>\n",
       "      <td>2308</td>\n",
       "      <td>B</td>\n",
       "    </tr>\n",
       "    <tr>\n",
       "      <th>...</th>\n",
       "      <td>...</td>\n",
       "      <td>...</td>\n",
       "      <td>...</td>\n",
       "      <td>...</td>\n",
       "      <td>...</td>\n",
       "    </tr>\n",
       "    <tr>\n",
       "      <th>1192</th>\n",
       "      <td>2662137336</td>\n",
       "      <td>3733762160</td>\n",
       "      <td>2019-08-14</td>\n",
       "      <td>6490</td>\n",
       "      <td>B</td>\n",
       "    </tr>\n",
       "    <tr>\n",
       "      <th>1193</th>\n",
       "      <td>2203539145</td>\n",
       "      <td>370388673</td>\n",
       "      <td>2019-08-14</td>\n",
       "      <td>3190</td>\n",
       "      <td>A</td>\n",
       "    </tr>\n",
       "    <tr>\n",
       "      <th>1194</th>\n",
       "      <td>1807773912</td>\n",
       "      <td>573423106</td>\n",
       "      <td>2019-08-14</td>\n",
       "      <td>10550</td>\n",
       "      <td>A</td>\n",
       "    </tr>\n",
       "    <tr>\n",
       "      <th>1195</th>\n",
       "      <td>1947021204</td>\n",
       "      <td>1614305549</td>\n",
       "      <td>2019-08-14</td>\n",
       "      <td>100</td>\n",
       "      <td>A</td>\n",
       "    </tr>\n",
       "    <tr>\n",
       "      <th>1196</th>\n",
       "      <td>3936777065</td>\n",
       "      <td>2108080724</td>\n",
       "      <td>2019-08-15</td>\n",
       "      <td>202740</td>\n",
       "      <td>B</td>\n",
       "    </tr>\n",
       "  </tbody>\n",
       "</table>\n",
       "<p>1197 rows × 5 columns</p>\n",
       "</div>"
      ],
      "text/plain": [
       "      transactionId   visitorId       date  revenue group\n",
       "0        3667963787  3312258926 2019-08-15     1650     B\n",
       "1        2804400009  3642806036 2019-08-15      730     B\n",
       "2        2961555356  4069496402 2019-08-15      400     A\n",
       "3        3797467345  1196621759 2019-08-15     9759     B\n",
       "4        2282983706  2322279887 2019-08-15     2308     B\n",
       "...             ...         ...        ...      ...   ...\n",
       "1192     2662137336  3733762160 2019-08-14     6490     B\n",
       "1193     2203539145   370388673 2019-08-14     3190     A\n",
       "1194     1807773912   573423106 2019-08-14    10550     A\n",
       "1195     1947021204  1614305549 2019-08-14      100     A\n",
       "1196     3936777065  2108080724 2019-08-15   202740     B\n",
       "\n",
       "[1197 rows x 5 columns]"
      ]
     },
     "execution_count": 46,
     "metadata": {},
     "output_type": "execute_result"
    }
   ],
   "source": [
    "orders"
   ]
  },
  {
   "cell_type": "code",
   "execution_count": 29,
   "metadata": {},
   "outputs": [
    {
     "data": {
      "image/png": "[encoded data removed]",
      "text/plain": [
       "<Figure size 1080x360 with 1 Axes>"
      ]
     },
     "metadata": {},
     "output_type": "display_data"
    }
   ],
   "source": [
    "orders_grap = orders.groupby('visitorId', as_index=False).agg({'transactionId':'nunique'})\n",
    "orders_grap['count'] = range(1, len(orders_grap)+1)\n",
    "orders_grap\n",
    "x_values = pd.Series(range(0,len(orders_grap)))\n",
    "\n",
    "plt.figure(figsize=(15,5))\n",
    "plt.grid()\n",
    "plt.title('График количества заказов по пользователям', loc='left', fontsize=12,fontweight=3, color='black')\n",
    "plt.xlabel(\"Кол-во пользователей\", fontsize=12,fontweight=0, color='black')\n",
    "plt.ylabel(\"Кол-во заказов\", fontsize=12,fontweight=0, color='black')\n",
    "plt.scatter(x_values, orders_grap['transactionId'], alpha=0.5);"
   ]
  },
  {
   "cell_type": "markdown",
   "metadata": {},
   "source": [
    "- В основном пользватели делают 1 заказ, меньшее кол-во поьзователей делает 2 заказа, но их все же много. Есть выбросы где пользователи делают 8, 9, 10 и 11 заказов."
   ]
  },
  {
   "cell_type": "markdown",
   "metadata": {},
   "source": [
    "### Посчитаем 95-й и 99-й перцентили количества заказов на пользователя."
   ]
  },
  {
   "cell_type": "code",
   "execution_count": 42,
   "metadata": {},
   "outputs": [
    {
     "data": {
      "text/html": [
       "<div>\n",
       "<style scoped>\n",
       "    .dataframe tbody tr th:only-of-type {\n",
       "        vertical-align: middle;\n",
       "    }\n",
       "\n",
       "    .dataframe tbody tr th {\n",
       "        vertical-align: top;\n",
       "    }\n",
       "\n",
       "    .dataframe thead th {\n",
       "        text-align: right;\n",
       "    }\n",
       "</style>\n",
       "<table border=\"1\" class=\"dataframe\">\n",
       "  <thead>\n",
       "    <tr style=\"text-align: right;\">\n",
       "      <th></th>\n",
       "      <th>transactionId</th>\n",
       "      <th>visitorId</th>\n",
       "      <th>date</th>\n",
       "      <th>revenue</th>\n",
       "      <th>group</th>\n",
       "    </tr>\n",
       "  </thead>\n",
       "  <tbody>\n",
       "    <tr>\n",
       "      <th>0</th>\n",
       "      <td>3667963787</td>\n",
       "      <td>3312258926</td>\n",
       "      <td>2019-08-15</td>\n",
       "      <td>1650</td>\n",
       "      <td>B</td>\n",
       "    </tr>\n",
       "    <tr>\n",
       "      <th>1</th>\n",
       "      <td>2804400009</td>\n",
       "      <td>3642806036</td>\n",
       "      <td>2019-08-15</td>\n",
       "      <td>730</td>\n",
       "      <td>B</td>\n",
       "    </tr>\n",
       "    <tr>\n",
       "      <th>2</th>\n",
       "      <td>2961555356</td>\n",
       "      <td>4069496402</td>\n",
       "      <td>2019-08-15</td>\n",
       "      <td>400</td>\n",
       "      <td>A</td>\n",
       "    </tr>\n",
       "    <tr>\n",
       "      <th>3</th>\n",
       "      <td>3797467345</td>\n",
       "      <td>1196621759</td>\n",
       "      <td>2019-08-15</td>\n",
       "      <td>9759</td>\n",
       "      <td>B</td>\n",
       "    </tr>\n",
       "    <tr>\n",
       "      <th>4</th>\n",
       "      <td>2282983706</td>\n",
       "      <td>2322279887</td>\n",
       "      <td>2019-08-15</td>\n",
       "      <td>2308</td>\n",
       "      <td>B</td>\n",
       "    </tr>\n",
       "    <tr>\n",
       "      <th>...</th>\n",
       "      <td>...</td>\n",
       "      <td>...</td>\n",
       "      <td>...</td>\n",
       "      <td>...</td>\n",
       "      <td>...</td>\n",
       "    </tr>\n",
       "    <tr>\n",
       "      <th>1192</th>\n",
       "      <td>2662137336</td>\n",
       "      <td>3733762160</td>\n",
       "      <td>2019-08-14</td>\n",
       "      <td>6490</td>\n",
       "      <td>B</td>\n",
       "    </tr>\n",
       "    <tr>\n",
       "      <th>1193</th>\n",
       "      <td>2203539145</td>\n",
       "      <td>370388673</td>\n",
       "      <td>2019-08-14</td>\n",
       "      <td>3190</td>\n",
       "      <td>A</td>\n",
       "    </tr>\n",
       "    <tr>\n",
       "      <th>1194</th>\n",
       "      <td>1807773912</td>\n",
       "      <td>573423106</td>\n",
       "      <td>2019-08-14</td>\n",
       "      <td>10550</td>\n",
       "      <td>A</td>\n",
       "    </tr>\n",
       "    <tr>\n",
       "      <th>1195</th>\n",
       "      <td>1947021204</td>\n",
       "      <td>1614305549</td>\n",
       "      <td>2019-08-14</td>\n",
       "      <td>100</td>\n",
       "      <td>A</td>\n",
       "    </tr>\n",
       "    <tr>\n",
       "      <th>1196</th>\n",
       "      <td>3936777065</td>\n",
       "      <td>2108080724</td>\n",
       "      <td>2019-08-15</td>\n",
       "      <td>202740</td>\n",
       "      <td>B</td>\n",
       "    </tr>\n",
       "  </tbody>\n",
       "</table>\n",
       "<p>1197 rows × 5 columns</p>\n",
       "</div>"
      ],
      "text/plain": [
       "      transactionId   visitorId       date  revenue group\n",
       "0        3667963787  3312258926 2019-08-15     1650     B\n",
       "1        2804400009  3642806036 2019-08-15      730     B\n",
       "2        2961555356  4069496402 2019-08-15      400     A\n",
       "3        3797467345  1196621759 2019-08-15     9759     B\n",
       "4        2282983706  2322279887 2019-08-15     2308     B\n",
       "...             ...         ...        ...      ...   ...\n",
       "1192     2662137336  3733762160 2019-08-14     6490     B\n",
       "1193     2203539145   370388673 2019-08-14     3190     A\n",
       "1194     1807773912   573423106 2019-08-14    10550     A\n",
       "1195     1947021204  1614305549 2019-08-14      100     A\n",
       "1196     3936777065  2108080724 2019-08-15   202740     B\n",
       "\n",
       "[1197 rows x 5 columns]"
      ]
     },
     "execution_count": 42,
     "metadata": {},
     "output_type": "execute_result"
    }
   ],
   "source": [
    "orders"
   ]
  },
  {
   "cell_type": "code",
   "execution_count": 43,
   "metadata": {},
   "outputs": [
    {
     "data": {
      "text/html": [
       "<div>\n",
       "<style scoped>\n",
       "    .dataframe tbody tr th:only-of-type {\n",
       "        vertical-align: middle;\n",
       "    }\n",
       "\n",
       "    .dataframe tbody tr th {\n",
       "        vertical-align: top;\n",
       "    }\n",
       "\n",
       "    .dataframe thead th {\n",
       "        text-align: right;\n",
       "    }\n",
       "</style>\n",
       "<table border=\"1\" class=\"dataframe\">\n",
       "  <thead>\n",
       "    <tr style=\"text-align: right;\">\n",
       "      <th></th>\n",
       "      <th>user_id</th>\n",
       "      <th>orders</th>\n",
       "    </tr>\n",
       "  </thead>\n",
       "  <tbody>\n",
       "    <tr>\n",
       "      <th>0</th>\n",
       "      <td>5114589</td>\n",
       "      <td>1</td>\n",
       "    </tr>\n",
       "    <tr>\n",
       "      <th>1</th>\n",
       "      <td>6958315</td>\n",
       "      <td>1</td>\n",
       "    </tr>\n",
       "    <tr>\n",
       "      <th>2</th>\n",
       "      <td>8300375</td>\n",
       "      <td>2</td>\n",
       "    </tr>\n",
       "    <tr>\n",
       "      <th>3</th>\n",
       "      <td>11685486</td>\n",
       "      <td>1</td>\n",
       "    </tr>\n",
       "    <tr>\n",
       "      <th>4</th>\n",
       "      <td>39475350</td>\n",
       "      <td>1</td>\n",
       "    </tr>\n",
       "    <tr>\n",
       "      <th>...</th>\n",
       "      <td>...</td>\n",
       "      <td>...</td>\n",
       "    </tr>\n",
       "    <tr>\n",
       "      <th>1026</th>\n",
       "      <td>4266935830</td>\n",
       "      <td>2</td>\n",
       "    </tr>\n",
       "    <tr>\n",
       "      <th>1027</th>\n",
       "      <td>4278982564</td>\n",
       "      <td>1</td>\n",
       "    </tr>\n",
       "    <tr>\n",
       "      <th>1028</th>\n",
       "      <td>4279090005</td>\n",
       "      <td>1</td>\n",
       "    </tr>\n",
       "    <tr>\n",
       "      <th>1029</th>\n",
       "      <td>4281247801</td>\n",
       "      <td>1</td>\n",
       "    </tr>\n",
       "    <tr>\n",
       "      <th>1030</th>\n",
       "      <td>4283872382</td>\n",
       "      <td>1</td>\n",
       "    </tr>\n",
       "  </tbody>\n",
       "</table>\n",
       "<p>1031 rows × 2 columns</p>\n",
       "</div>"
      ],
      "text/plain": [
       "         user_id  orders\n",
       "0        5114589       1\n",
       "1        6958315       1\n",
       "2        8300375       2\n",
       "3       11685486       1\n",
       "4       39475350       1\n",
       "...          ...     ...\n",
       "1026  4266935830       2\n",
       "1027  4278982564       1\n",
       "1028  4279090005       1\n",
       "1029  4281247801       1\n",
       "1030  4283872382       1\n",
       "\n",
       "[1031 rows x 2 columns]"
      ]
     },
     "execution_count": 43,
     "metadata": {},
     "output_type": "execute_result"
    }
   ],
   "source": [
    "orders_users"
   ]
  },
  {
   "cell_type": "code",
   "execution_count": 30,
   "metadata": {},
   "outputs": [
    {
     "name": "stdout",
     "output_type": "stream",
     "text": [
      "Значения перцентиля: 95 и 99:  [2. 4.]\n"
     ]
    }
   ],
   "source": [
    "orders_users = orders.drop(['group', 'revenue', 'date'], axis=1).groupby('visitorId', as_index=False).agg({'transactionId' : pd.Series.nunique})\n",
    "\n",
    "orders_users.columns = ['user_id','orders']\n",
    "\n",
    "print('Значения перцентиля: 95 и 99: ',np.percentile(orders_users['orders'], [95, 99]))"
   ]
  },
  {
   "cell_type": "markdown",
   "metadata": {},
   "source": [
    "- Выведем все процентили, для более точной информации:"
   ]
  },
  {
   "cell_type": "code",
   "execution_count": 31,
   "metadata": {},
   "outputs": [
    {
     "name": "stdout",
     "output_type": "stream",
     "text": [
      "Значения перцентиля c 95 по 99:  [2. 2. 2. 3. 4.]\n"
     ]
    }
   ],
   "source": [
    "print('Значения перцентиля c 95 по 99: ', np.percentile(orders_users['orders'], [95,96,97,98, 99])) "
   ]
  },
  {
   "cell_type": "markdown",
   "metadata": {},
   "source": [
    "- Можно сделать вывод, что практически все пользователи совершают небольше 2 покупок, значения выше - аномалия."
   ]
  },
  {
   "cell_type": "code",
   "execution_count": 44,
   "metadata": {},
   "outputs": [
    {
     "data": {
      "text/html": [
       "<div>\n",
       "<style scoped>\n",
       "    .dataframe tbody tr th:only-of-type {\n",
       "        vertical-align: middle;\n",
       "    }\n",
       "\n",
       "    .dataframe tbody tr th {\n",
       "        vertical-align: top;\n",
       "    }\n",
       "\n",
       "    .dataframe thead th {\n",
       "        text-align: right;\n",
       "    }\n",
       "</style>\n",
       "<table border=\"1\" class=\"dataframe\">\n",
       "  <thead>\n",
       "    <tr style=\"text-align: right;\">\n",
       "      <th></th>\n",
       "      <th>transactionId</th>\n",
       "      <th>visitorId</th>\n",
       "      <th>date</th>\n",
       "      <th>revenue</th>\n",
       "      <th>group</th>\n",
       "    </tr>\n",
       "  </thead>\n",
       "  <tbody>\n",
       "    <tr>\n",
       "      <th>0</th>\n",
       "      <td>3667963787</td>\n",
       "      <td>3312258926</td>\n",
       "      <td>2019-08-15</td>\n",
       "      <td>1650</td>\n",
       "      <td>B</td>\n",
       "    </tr>\n",
       "    <tr>\n",
       "      <th>1</th>\n",
       "      <td>2804400009</td>\n",
       "      <td>3642806036</td>\n",
       "      <td>2019-08-15</td>\n",
       "      <td>730</td>\n",
       "      <td>B</td>\n",
       "    </tr>\n",
       "    <tr>\n",
       "      <th>2</th>\n",
       "      <td>2961555356</td>\n",
       "      <td>4069496402</td>\n",
       "      <td>2019-08-15</td>\n",
       "      <td>400</td>\n",
       "      <td>A</td>\n",
       "    </tr>\n",
       "    <tr>\n",
       "      <th>3</th>\n",
       "      <td>3797467345</td>\n",
       "      <td>1196621759</td>\n",
       "      <td>2019-08-15</td>\n",
       "      <td>9759</td>\n",
       "      <td>B</td>\n",
       "    </tr>\n",
       "    <tr>\n",
       "      <th>4</th>\n",
       "      <td>2282983706</td>\n",
       "      <td>2322279887</td>\n",
       "      <td>2019-08-15</td>\n",
       "      <td>2308</td>\n",
       "      <td>B</td>\n",
       "    </tr>\n",
       "    <tr>\n",
       "      <th>...</th>\n",
       "      <td>...</td>\n",
       "      <td>...</td>\n",
       "      <td>...</td>\n",
       "      <td>...</td>\n",
       "      <td>...</td>\n",
       "    </tr>\n",
       "    <tr>\n",
       "      <th>1192</th>\n",
       "      <td>2662137336</td>\n",
       "      <td>3733762160</td>\n",
       "      <td>2019-08-14</td>\n",
       "      <td>6490</td>\n",
       "      <td>B</td>\n",
       "    </tr>\n",
       "    <tr>\n",
       "      <th>1193</th>\n",
       "      <td>2203539145</td>\n",
       "      <td>370388673</td>\n",
       "      <td>2019-08-14</td>\n",
       "      <td>3190</td>\n",
       "      <td>A</td>\n",
       "    </tr>\n",
       "    <tr>\n",
       "      <th>1194</th>\n",
       "      <td>1807773912</td>\n",
       "      <td>573423106</td>\n",
       "      <td>2019-08-14</td>\n",
       "      <td>10550</td>\n",
       "      <td>A</td>\n",
       "    </tr>\n",
       "    <tr>\n",
       "      <th>1195</th>\n",
       "      <td>1947021204</td>\n",
       "      <td>1614305549</td>\n",
       "      <td>2019-08-14</td>\n",
       "      <td>100</td>\n",
       "      <td>A</td>\n",
       "    </tr>\n",
       "    <tr>\n",
       "      <th>1196</th>\n",
       "      <td>3936777065</td>\n",
       "      <td>2108080724</td>\n",
       "      <td>2019-08-15</td>\n",
       "      <td>202740</td>\n",
       "      <td>B</td>\n",
       "    </tr>\n",
       "  </tbody>\n",
       "</table>\n",
       "<p>1197 rows × 5 columns</p>\n",
       "</div>"
      ],
      "text/plain": [
       "      transactionId   visitorId       date  revenue group\n",
       "0        3667963787  3312258926 2019-08-15     1650     B\n",
       "1        2804400009  3642806036 2019-08-15      730     B\n",
       "2        2961555356  4069496402 2019-08-15      400     A\n",
       "3        3797467345  1196621759 2019-08-15     9759     B\n",
       "4        2282983706  2322279887 2019-08-15     2308     B\n",
       "...             ...         ...        ...      ...   ...\n",
       "1192     2662137336  3733762160 2019-08-14     6490     B\n",
       "1193     2203539145   370388673 2019-08-14     3190     A\n",
       "1194     1807773912   573423106 2019-08-14    10550     A\n",
       "1195     1947021204  1614305549 2019-08-14      100     A\n",
       "1196     3936777065  2108080724 2019-08-15   202740     B\n",
       "\n",
       "[1197 rows x 5 columns]"
      ]
     },
     "execution_count": 44,
     "metadata": {},
     "output_type": "execute_result"
    }
   ],
   "source": [
    "orders"
   ]
  },
  {
   "cell_type": "markdown",
   "metadata": {},
   "source": [
    "### Построим точечный график стоимостей заказов."
   ]
  },
  {
   "cell_type": "code",
   "execution_count": 32,
   "metadata": {},
   "outputs": [
    {
     "data": {
      "image/png": "[encoded data removed]",
      "text/plain": [
       "<Figure size 1080x720 with 1 Axes>"
      ]
     },
     "metadata": {},
     "output_type": "display_data"
    }
   ],
   "source": [
    "x_values = pd.Series(range(0,len(orders['revenue'])))\n",
    "plt.figure(figsize=(15,10))\n",
    "plt.grid()\n",
    "plt.title('Стоимость заказов', fontsize=14,fontweight=3, color='black')\n",
    "plt.xlabel(\"Кол-во пользователей\", fontsize=14,fontweight=0, color='black')\n",
    "plt.ylabel(\"Кол-во заказов\", fontsize=14,fontweight=0, color='black')\n",
    "plt.scatter(x_values, orders['revenue'], alpha=0.5)\n",
    "plt.ylim(0, 150000)\n",
    "plt.xlim(0, None);"
   ]
  },
  {
   "cell_type": "markdown",
   "metadata": {},
   "source": [
    "- Для более комфортного вида графика, уберем из выборки заказ стоимость 1.2млн\n",
    "\n",
    "- На данном графике заметны аномальные выбросы выше 50 000, в основном стоимость не превышает 10 000."
   ]
  },
  {
   "cell_type": "markdown",
   "metadata": {},
   "source": [
    "### Посчитаем 95-й и 99-й перцентили стоимости заказов. "
   ]
  },
  {
   "cell_type": "code",
   "execution_count": 33,
   "metadata": {},
   "outputs": [
    {
     "name": "stdout",
     "output_type": "stream",
     "text": [
      "[28000.  58233.2]\n"
     ]
    }
   ],
   "source": [
    "print(np.percentile(orders['revenue'], [95, 99])) "
   ]
  },
  {
   "cell_type": "markdown",
   "metadata": {},
   "source": [
    "- Только у 1% стоимость заказов равна`99` перцентиль - `58 233`, не более чем `5%` пользователей заказы дороже `28 000`.\n",
    "\n",
    "\n",
    "- Границей заказов будет 99 процентиль, то есть стоимость заказов выше 58 233 и не более 2х заказов"
   ]
  },
  {
   "cell_type": "markdown",
   "metadata": {},
   "source": [
    "### Посчитаем статистическую значимость различий в конверсии между группами по «сырым» данным."
   ]
  },
  {
   "cell_type": "code",
   "execution_count": 34,
   "metadata": {},
   "outputs": [
    {
     "data": {
      "text/html": [
       "<div>\n",
       "<style scoped>\n",
       "    .dataframe tbody tr th:only-of-type {\n",
       "        vertical-align: middle;\n",
       "    }\n",
       "\n",
       "    .dataframe tbody tr th {\n",
       "        vertical-align: top;\n",
       "    }\n",
       "\n",
       "    .dataframe thead th {\n",
       "        text-align: right;\n",
       "    }\n",
       "</style>\n",
       "<table border=\"1\" class=\"dataframe\">\n",
       "  <thead>\n",
       "    <tr style=\"text-align: right;\">\n",
       "      <th></th>\n",
       "      <th>date</th>\n",
       "      <th>ordersPerDateA</th>\n",
       "      <th>revenuePerDateA</th>\n",
       "      <th>ordersPerDateB</th>\n",
       "      <th>revenuePerDateB</th>\n",
       "      <th>ordersCummulativeA</th>\n",
       "      <th>revenueCummulativeA</th>\n",
       "      <th>ordersCummulativeB</th>\n",
       "      <th>revenueCummulativeB</th>\n",
       "      <th>visitorsPerDateA</th>\n",
       "      <th>visitorsPerDateB</th>\n",
       "      <th>visitorsCummulativeA</th>\n",
       "      <th>visitorsCummulativeB</th>\n",
       "    </tr>\n",
       "  </thead>\n",
       "  <tbody>\n",
       "    <tr>\n",
       "      <th>0</th>\n",
       "      <td>2019-08-01</td>\n",
       "      <td>24</td>\n",
       "      <td>148579</td>\n",
       "      <td>21</td>\n",
       "      <td>101217</td>\n",
       "      <td>24</td>\n",
       "      <td>148579</td>\n",
       "      <td>21</td>\n",
       "      <td>101217</td>\n",
       "      <td>719</td>\n",
       "      <td>713</td>\n",
       "      <td>719</td>\n",
       "      <td>713</td>\n",
       "    </tr>\n",
       "    <tr>\n",
       "      <th>1</th>\n",
       "      <td>2019-08-02</td>\n",
       "      <td>20</td>\n",
       "      <td>93822</td>\n",
       "      <td>24</td>\n",
       "      <td>165531</td>\n",
       "      <td>44</td>\n",
       "      <td>242401</td>\n",
       "      <td>45</td>\n",
       "      <td>266748</td>\n",
       "      <td>619</td>\n",
       "      <td>581</td>\n",
       "      <td>1338</td>\n",
       "      <td>1294</td>\n",
       "    </tr>\n",
       "    <tr>\n",
       "      <th>2</th>\n",
       "      <td>2019-08-03</td>\n",
       "      <td>24</td>\n",
       "      <td>112473</td>\n",
       "      <td>16</td>\n",
       "      <td>114248</td>\n",
       "      <td>68</td>\n",
       "      <td>354874</td>\n",
       "      <td>61</td>\n",
       "      <td>380996</td>\n",
       "      <td>507</td>\n",
       "      <td>509</td>\n",
       "      <td>1845</td>\n",
       "      <td>1803</td>\n",
       "    </tr>\n",
       "    <tr>\n",
       "      <th>3</th>\n",
       "      <td>2019-08-04</td>\n",
       "      <td>16</td>\n",
       "      <td>70825</td>\n",
       "      <td>17</td>\n",
       "      <td>108571</td>\n",
       "      <td>84</td>\n",
       "      <td>425699</td>\n",
       "      <td>78</td>\n",
       "      <td>489567</td>\n",
       "      <td>717</td>\n",
       "      <td>770</td>\n",
       "      <td>2562</td>\n",
       "      <td>2573</td>\n",
       "    </tr>\n",
       "    <tr>\n",
       "      <th>4</th>\n",
       "      <td>2019-08-05</td>\n",
       "      <td>25</td>\n",
       "      <td>124218</td>\n",
       "      <td>23</td>\n",
       "      <td>92428</td>\n",
       "      <td>109</td>\n",
       "      <td>549917</td>\n",
       "      <td>101</td>\n",
       "      <td>581995</td>\n",
       "      <td>756</td>\n",
       "      <td>707</td>\n",
       "      <td>3318</td>\n",
       "      <td>3280</td>\n",
       "    </tr>\n",
       "  </tbody>\n",
       "</table>\n",
       "</div>"
      ],
      "text/plain": [
       "        date  ordersPerDateA  revenuePerDateA  ordersPerDateB  \\\n",
       "0 2019-08-01              24           148579              21   \n",
       "1 2019-08-02              20            93822              24   \n",
       "2 2019-08-03              24           112473              16   \n",
       "3 2019-08-04              16            70825              17   \n",
       "4 2019-08-05              25           124218              23   \n",
       "\n",
       "   revenuePerDateB  ordersCummulativeA  revenueCummulativeA  \\\n",
       "0           101217                  24               148579   \n",
       "1           165531                  44               242401   \n",
       "2           114248                  68               354874   \n",
       "3           108571                  84               425699   \n",
       "4            92428                 109               549917   \n",
       "\n",
       "   ordersCummulativeB  revenueCummulativeB  visitorsPerDateA  \\\n",
       "0                  21               101217               719   \n",
       "1                  45               266748               619   \n",
       "2                  61               380996               507   \n",
       "3                  78               489567               717   \n",
       "4                 101               581995               756   \n",
       "\n",
       "   visitorsPerDateB  visitorsCummulativeA  visitorsCummulativeB  \n",
       "0               713                   719                   713  \n",
       "1               581                  1338                  1294  \n",
       "2               509                  1845                  1803  \n",
       "3               770                  2562                  2573  \n",
       "4               707                  3318                  3280  "
      ]
     },
     "execution_count": 34,
     "metadata": {},
     "output_type": "execute_result"
    }
   ],
   "source": [
    "visitorsADaily = visitors[visitors['group'] == 'A'][['date', 'visitors']]\n",
    "visitorsADaily.columns = ['date', 'visitorsPerDateA']\n",
    "\n",
    "visitorsACummulative = visitorsADaily.apply(\n",
    "    lambda x: visitorsADaily[visitorsADaily['date'] <= x['date']].agg(\n",
    "        {'date': 'max', 'visitorsPerDateA': 'sum'}\n",
    "    ),\n",
    "    axis=1,\n",
    ")\n",
    "visitorsACummulative.columns = ['date', 'visitorsCummulativeA']\n",
    "\n",
    "visitorsBDaily = visitors[visitors['group'] == 'B'][['date', 'visitors']]\n",
    "visitorsBDaily.columns = ['date', 'visitorsPerDateB']\n",
    "\n",
    "visitorsBCummulative = visitorsBDaily.apply(\n",
    "    lambda x: visitorsBDaily[visitorsBDaily['date'] <= x['date']].agg(\n",
    "        {'date': 'max', 'visitorsPerDateB': 'sum'}\n",
    "    ),\n",
    "    axis=1,\n",
    ")\n",
    "\n",
    "visitorsBCummulative.columns = ['date', 'visitorsCummulativeB']\n",
    "\n",
    "ordersADaily = orders[orders['group']=='A'][['date', 'transactionId', 'visitorId', 'revenue']]\\\n",
    "    .groupby('date', as_index=False)\\\n",
    "    .agg({'transactionId' : pd.Series.nunique, 'revenue' : 'sum'})\n",
    "ordersADaily.columns = ['date', 'ordersPerDateA', 'revenuePerDateA']\n",
    "\n",
    "ordersACummulative = ordersADaily.apply(\n",
    "    lambda x: \\\n",
    "        ordersADaily[ordersADaily['date'] <= x['date']]\\\n",
    "            .agg({\n",
    "                'date' : 'max',\n",
    "                'ordersPerDateA' : 'sum',\n",
    "                'revenuePerDateA' : 'sum'}), axis=1).sort_values(by=['date'])\n",
    "ordersACummulative.columns = ['date', 'ordersCummulativeA', 'revenueCummulativeA']\n",
    "\n",
    "ordersBDaily = orders[orders['group']=='B'][['date', 'transactionId', 'visitorId', 'revenue']]\\\n",
    "    .groupby('date', as_index=False)\\\n",
    "    .agg({'transactionId' : pd.Series.nunique, 'revenue' : 'sum'})\n",
    "ordersBDaily.columns = ['date', 'ordersPerDateB', 'revenuePerDateB']\n",
    "\n",
    "ordersBCummulative = ordersBDaily.apply(\n",
    "    lambda x: \\\n",
    "        ordersBDaily[ordersBDaily['date'] <= x['date']]\\\n",
    "            .agg({\n",
    "                'date' : 'max',\n",
    "                'ordersPerDateB' : 'sum',\n",
    "                'revenuePerDateB' : 'sum'}), axis=1).sort_values(by=['date'])\n",
    "ordersBCummulative.columns = ['date', 'ordersCummulativeB', 'revenueCummulativeB']\n",
    "\n",
    "# объединим все в одну таблицу\n",
    "data = ordersADaily.merge(ordersBDaily, left_on='date', right_on='date', how='left')\\\n",
    "    .merge(ordersACummulative, left_on='date', right_on='date', how='left')\\\n",
    "    .merge(ordersBCummulative, left_on='date', right_on='date', how='left')\\\n",
    "    .merge(visitorsADaily, left_on='date', right_on='date', how='left')\\\n",
    "    .merge(visitorsBDaily, left_on='date', right_on='date', how='left')\\\n",
    "    .merge(visitorsACummulative, left_on='date', right_on='date', how='left')\\\n",
    "    .merge(visitorsBCummulative, left_on='date', right_on='date', how='left')\n",
    "data.head()"
   ]
  },
  {
   "cell_type": "markdown",
   "metadata": {},
   "source": [
    "**Гипотезы:**\n",
    "alpha = 0.05\n",
    "- `h0:` различий в конверсии между группами нет. \n",
    "- `h1:` различия в конверсии между группами есть.\n",
    "- Используем непараметрический тест Уилкоксона-Манна-Уитни:\n",
    "\n",
    "Ключевая идея — проранжировать две выборки по порядку от меньшего кбольшему и сравнить ранги одних и тех же значений, попавших в обе выборки."
   ]
  },
  {
   "cell_type": "markdown",
   "metadata": {},
   "source": [
    "SampleA сохранили выборку, где каждый элемент — число заказов определённого пользователя, в том числе ноль. Значит, число элементов sampleA — это количество пользователей, сумма всех элементов — количество заказов. Чтобы получить конверсию в группе, поделим сумму заказов на число пользователей — найдём среднее в выборке sampleA методом mean(). Аналогично найдём конверсию группы B: SampleB.mean().\n",
    "\n",
    "- Выведем относительный прирост конверсии группы B: конверсия группы B / конверсия группы A - 1. Округлим до трёх знаков после запятой."
   ]
  },
  {
   "cell_type": "code",
   "execution_count": 35,
   "metadata": {},
   "outputs": [
    {
     "name": "stdout",
     "output_type": "stream",
     "text": [
      "p-value = 0.017\n",
      "Относительная разница между группой B и А = 0.138\n"
     ]
    }
   ],
   "source": [
    "ordersByUsersA = (\n",
    "    orders[orders['group'] == 'A']\n",
    "    .groupby('visitorId', as_index=False)\n",
    "    .agg({'transactionId': pd.Series.nunique})\n",
    ")\n",
    "ordersByUsersA.columns = ['userId', 'orders']\n",
    "\n",
    "ordersByUsersB = (\n",
    "    orders[orders['group'] == 'B']\n",
    "    .groupby('visitorId', as_index=False)\n",
    "    .agg({'transactionId': pd.Series.nunique})\n",
    ")\n",
    "ordersByUsersB.columns = ['userId', 'orders']\n",
    "\n",
    "sampleA = pd.concat(\n",
    "    [\n",
    "        ordersByUsersA['orders'],\n",
    "        pd.Series(\n",
    "            0,\n",
    "            index=np.arange(\n",
    "                data['visitorsPerDateA'].sum() - len(ordersByUsersA['orders'])\n",
    "            ),\n",
    "            name='orders',\n",
    "        ),\n",
    "    ],\n",
    "    axis=0,\n",
    ")\n",
    "\n",
    "sampleB = pd.concat(\n",
    "    [\n",
    "        ordersByUsersB['orders'],\n",
    "        pd.Series(\n",
    "            0,\n",
    "            index=np.arange(\n",
    "                data['visitorsPerDateB'].sum() - len(ordersByUsersB['orders'])\n",
    "            ),\n",
    "            name='orders',\n",
    "        ),\n",
    "    ],\n",
    "    axis=0,\n",
    ")\n",
    "\n",
    "print('p-value = {0:.3f}'.format(stats.mannwhitneyu(sampleA, sampleB)[1]))\n",
    "\n",
    "print('Относительная разница между группой B и А = {0:.3f}'.format(sampleB.mean() / sampleA.mean() - 1))"
   ]
  },
  {
   "cell_type": "markdown",
   "metadata": {},
   "source": [
    "- Первое число — p-value = 0.017 меньше 0.05. Значит, нулевую гипотезу о том, что статистически значимых различий в конверсии между группами нет, отвергаем. Относительный выйгрыш группы B равен 13.8% — второе число в выводе."
   ]
  },
  {
   "cell_type": "markdown",
   "metadata": {},
   "source": [
    "### Посчитаем статистическую значимость различий в среднем чеке заказа между группами по «сырым» данным. "
   ]
  },
  {
   "cell_type": "markdown",
   "metadata": {},
   "source": [
    "**Гипотезы:**\n",
    "alpha = 0.05\n",
    "- `h0:` статистических различий в среднем чеке между группами нет. \n",
    "- `h1:` различия в среднем чеке между группами есть.\n",
    "- Используем непараметрический тест Уилкоксона-Манна-Уитни:\n",
    "\n",
    "Ключевая идея — проранжировать две выборки по порядку от меньшего кбольшему и сравнить ранги одних и тех же значений, попавших в обе выборки."
   ]
  },
  {
   "cell_type": "code",
   "execution_count": 36,
   "metadata": {},
   "outputs": [
    {
     "name": "stdout",
     "output_type": "stream",
     "text": [
      "p-value = 0.729\n",
      "Статистическая разница между группой B и А = 0.259\n"
     ]
    }
   ],
   "source": [
    "print('p-value = {0:.3f}'.format(stats.mannwhitneyu(orders[orders['group']=='A']['revenue'], orders[orders['group']=='B']['revenue'])[1]))\n",
    "print('Статистическая разница между группой B и А = {0:.3f}'.format(orders[orders['group']=='B']['revenue'].mean()/orders[orders['group']=='A']['revenue'].mean()-1)) "
   ]
  },
  {
   "cell_type": "markdown",
   "metadata": {},
   "source": [
    "- `P-value` значительно больше 0.05 = `0.729`. Значит, причин отвергать нулевую гипотезу и считать, что в среднем чеке есть различия, нет. Впрочем, средний чек группы B выше среднего чека группы A."
   ]
  },
  {
   "cell_type": "markdown",
   "metadata": {},
   "source": [
    "### Посчитаем статистическую значимость различий в конверсии между группами по «очищенным» данным. "
   ]
  },
  {
   "cell_type": "markdown",
   "metadata": {},
   "source": [
    "Примем за аномальных пользователей тех, кто совершил `больше 2 заказов` или совершил заказ `дороже 58 233` рублей. Так мы уберём 5% пользователей с наибольшим числом заказов и от 1% до 5% пользователей с дорогими заказами. Сделаем срезы пользователей с числом заказов больше 2 — usersWithManyOrders и пользователей, совершивших заказы дороже 58 233 — usersWithExpensiveOrders. Объединим их в таблице abnormalUsers."
   ]
  },
  {
   "cell_type": "code",
   "execution_count": 37,
   "metadata": {},
   "outputs": [
    {
     "name": "stdout",
     "output_type": "stream",
     "text": [
      "1099    148427295\n",
      "18      199603092\n",
      "23      237748145\n",
      "37      249864742\n",
      "68      457167155\n",
      "dtype: int64\n",
      "Кол-во больших заказов: 31\n"
     ]
    }
   ],
   "source": [
    "# Потолок заказов\n",
    "order_ceiling = 2\n",
    "# Потолок суммы\n",
    "amount_ceiling = 58233\n",
    "\n",
    "\n",
    "usersWithManyOrders = pd.concat(\n",
    "    [\n",
    "        ordersByUsersA[ordersByUsersA['orders'] > order_ceiling]['userId'],\n",
    "        ordersByUsersB[ordersByUsersB['orders'] > order_ceiling]['userId'],\n",
    "    ],\n",
    "    axis=0,\n",
    ")\n",
    "usersWithExpensiveOrders = orders[orders['revenue'] > amount_ceiling]['visitorId']\n",
    "\n",
    "abnormalUsers = (\n",
    "    pd.concat([usersWithManyOrders, usersWithExpensiveOrders], axis=0)\n",
    "    .drop_duplicates()\n",
    "    .sort_values()\n",
    ")\n",
    "print(abnormalUsers.head(5))\n",
    "print('Кол-во больших заказов:', abnormalUsers.shape[0]) "
   ]
  },
  {
   "cell_type": "markdown",
   "metadata": {},
   "source": [
    "Всего `31` аномальных пользователей.\n",
    "\n",
    "- Узнаем, как их действия повлияли на результаты теста. Посчитаем статистическую значимость различий в конверсии между группами теста по очищенным данным. Сначала подготовим выборки количества заказов по пользователям по группам теста:"
   ]
  },
  {
   "cell_type": "markdown",
   "metadata": {},
   "source": [
    "- Проверим насколько сильно различаются показатели данных чистых данных с исходными "
   ]
  },
  {
   "cell_type": "code",
   "execution_count": 38,
   "metadata": {},
   "outputs": [],
   "source": [
    "sampleAFiltered = pd.concat(\n",
    "    [\n",
    "        ordersByUsersA[\n",
    "            np.logical_not(ordersByUsersA['userId'].isin(abnormalUsers))\n",
    "        ]['orders'],\n",
    "        pd.Series(\n",
    "            0,\n",
    "            index=np.arange(\n",
    "                data['visitorsPerDateA'].sum() - len(ordersByUsersA['orders'])\n",
    "            ),\n",
    "            name='orders',\n",
    "        ),\n",
    "    ],\n",
    "    axis=0,\n",
    ")\n",
    "\n",
    "sampleBFiltered = pd.concat(\n",
    "    [\n",
    "        ordersByUsersB[\n",
    "            np.logical_not(ordersByUsersB['userId'].isin(abnormalUsers))\n",
    "        ]['orders'],\n",
    "        pd.Series(\n",
    "            0,\n",
    "            index=np.arange(\n",
    "                data['visitorsPerDateB'].sum() - len(ordersByUsersB['orders'])\n",
    "            ),\n",
    "            name='orders',\n",
    "        ),\n",
    "    ],\n",
    "    axis=0,\n",
    ") "
   ]
  },
  {
   "cell_type": "markdown",
   "metadata": {},
   "source": [
    "**Применим статистический критерий Манна-Уитни к полученным выборкам:**"
   ]
  },
  {
   "cell_type": "code",
   "execution_count": 39,
   "metadata": {},
   "outputs": [
    {
     "name": "stdout",
     "output_type": "stream",
     "text": [
      "p-value = 0.010\n",
      "Относительная разница между группой B и А = 0.174\n"
     ]
    }
   ],
   "source": [
    "print('p-value = {0:.3f}'.format(stats.mannwhitneyu(sampleAFiltered, sampleBFiltered)[1]))\n",
    "print('Относительная разница между группой B и А = {0:.3f}'.format(sampleBFiltered.mean()/sampleAFiltered.mean()-1)) "
   ]
  },
  {
   "cell_type": "markdown",
   "metadata": {},
   "source": [
    "- `P-value = 0.01` меньше 0.05. Нулевую гипотезу о том, что статистически значимых различий в конверсии между группами нет, - отвергаем. Это значит: и по «очищенным» данным различия в конверсии групп A и B есть. `Разница группы В к А = 17.4%`\n",
    "- Относительная разница между группами в результате удаления выбросов выросла на `3.6%`"
   ]
  },
  {
   "cell_type": "markdown",
   "metadata": {},
   "source": [
    "### Посчитаем статистическую значимость различий в среднем чеке заказа между группами по «очищенным» данным. "
   ]
  },
  {
   "cell_type": "code",
   "execution_count": 40,
   "metadata": {},
   "outputs": [
    {
     "data": {
      "text/html": [
       "<div>\n",
       "<style scoped>\n",
       "    .dataframe tbody tr th:only-of-type {\n",
       "        vertical-align: middle;\n",
       "    }\n",
       "\n",
       "    .dataframe tbody tr th {\n",
       "        vertical-align: top;\n",
       "    }\n",
       "\n",
       "    .dataframe thead th {\n",
       "        text-align: right;\n",
       "    }\n",
       "</style>\n",
       "<table border=\"1\" class=\"dataframe\">\n",
       "  <thead>\n",
       "    <tr style=\"text-align: right;\">\n",
       "      <th></th>\n",
       "      <th>transactionId</th>\n",
       "      <th>visitorId</th>\n",
       "      <th>date</th>\n",
       "      <th>revenue</th>\n",
       "      <th>group</th>\n",
       "    </tr>\n",
       "  </thead>\n",
       "  <tbody>\n",
       "    <tr>\n",
       "      <th>0</th>\n",
       "      <td>3667963787</td>\n",
       "      <td>3312258926</td>\n",
       "      <td>2019-08-15</td>\n",
       "      <td>1650</td>\n",
       "      <td>B</td>\n",
       "    </tr>\n",
       "    <tr>\n",
       "      <th>1</th>\n",
       "      <td>2804400009</td>\n",
       "      <td>3642806036</td>\n",
       "      <td>2019-08-15</td>\n",
       "      <td>730</td>\n",
       "      <td>B</td>\n",
       "    </tr>\n",
       "    <tr>\n",
       "      <th>2</th>\n",
       "      <td>2961555356</td>\n",
       "      <td>4069496402</td>\n",
       "      <td>2019-08-15</td>\n",
       "      <td>400</td>\n",
       "      <td>A</td>\n",
       "    </tr>\n",
       "    <tr>\n",
       "      <th>3</th>\n",
       "      <td>3797467345</td>\n",
       "      <td>1196621759</td>\n",
       "      <td>2019-08-15</td>\n",
       "      <td>9759</td>\n",
       "      <td>B</td>\n",
       "    </tr>\n",
       "    <tr>\n",
       "      <th>4</th>\n",
       "      <td>2282983706</td>\n",
       "      <td>2322279887</td>\n",
       "      <td>2019-08-15</td>\n",
       "      <td>2308</td>\n",
       "      <td>B</td>\n",
       "    </tr>\n",
       "  </tbody>\n",
       "</table>\n",
       "</div>"
      ],
      "text/plain": [
       "   transactionId   visitorId       date  revenue group\n",
       "0     3667963787  3312258926 2019-08-15     1650     B\n",
       "1     2804400009  3642806036 2019-08-15      730     B\n",
       "2     2961555356  4069496402 2019-08-15      400     A\n",
       "3     3797467345  1196621759 2019-08-15     9759     B\n",
       "4     2282983706  2322279887 2019-08-15     2308     B"
      ]
     },
     "execution_count": 40,
     "metadata": {},
     "output_type": "execute_result"
    }
   ],
   "source": [
    "orders.head()"
   ]
  },
  {
   "cell_type": "code",
   "execution_count": 41,
   "metadata": {},
   "outputs": [
    {
     "name": "stdout",
     "output_type": "stream",
     "text": [
      "p-value =0.798\n",
      "Статистическая разница между группой B и А =-0.020\n"
     ]
    }
   ],
   "source": [
    "print('p-value ='\n",
    "    '{0:.3f}'.format(\n",
    "        stats.mannwhitneyu(\n",
    "            orders[\n",
    "                np.logical_and(\n",
    "                    orders['group'] == 'A',\n",
    "                    np.logical_not(orders['visitorId'].isin(abnormalUsers)),\n",
    "                )\n",
    "            ]['revenue'],\n",
    "            orders[\n",
    "                np.logical_and(\n",
    "                    orders['group'] == 'B',\n",
    "                    np.logical_not(orders['visitorId'].isin(abnormalUsers)),\n",
    "                )\n",
    "            ]['revenue'],\n",
    "        )[1]\n",
    "    )\n",
    ")\n",
    "\n",
    "print('Статистическая разница между группой B и А ='\n",
    "    \"{0:.3f}\".format(\n",
    "        orders[\n",
    "            np.logical_and(\n",
    "                orders['group'] == 'B',\n",
    "                np.logical_not(orders['visitorId'].isin(abnormalUsers)),\n",
    "            )\n",
    "        ]['revenue'].mean()\n",
    "        / orders[\n",
    "            np.logical_and(\n",
    "                orders['group'] == 'A',\n",
    "                np.logical_not(orders['visitorId'].isin(abnormalUsers)),\n",
    "            )\n",
    "        ]['revenue'].mean()\n",
    "        - 1\n",
    "    )\n",
    ") "
   ]
  },
  {
   "cell_type": "markdown",
   "metadata": {},
   "source": [
    "- Значение p-value = 0.798, что больше 0.05, причин отвергать нулевую гипотезу, что в среднем чеке есть различия, нет. Также средний чек группы В оказался ниже на 2%, когда в сырых данных он был больше на 25%."
   ]
  },
  {
   "cell_type": "markdown",
   "metadata": {},
   "source": [
    "### Вывод"
   ]
  },
  {
   "cell_type": "markdown",
   "metadata": {},
   "source": [
    "- Данные показали, что средний чек группы В в результате удаления аномалий оказался ниже группы А на 2%, всему виной заказ стоимостью 1.2млн.\n",
    "\n",
    "\n",
    "- Конверсия групп показала, что различия есть и в сырых данных, и в чистых. При удалении аномалий, разница вырасла на 3.6% в пользу группы В.\n",
    "\n",
    "\n",
    "- Сделаем вывод, что не смотря на примерно одинаковый средний чек групп, конверсия группы В оказалась успешнее, из чего мы можем остановить тест и констатировать успех группы В."
   ]
  }
 ],
 "metadata": {
  "ExecuteTimeLog": [
   {
    "duration": 1728,
    "start_time": "2022-05-23T08:58:20.425Z"
   },
   {
    "duration": 251,
    "start_time": "2022-05-23T08:59:41.520Z"
   },
   {
    "duration": 12,
    "start_time": "2022-05-23T09:01:46.330Z"
   },
   {
    "duration": 12,
    "start_time": "2022-05-23T09:02:01.367Z"
   },
   {
    "duration": 4,
    "start_time": "2022-05-23T09:03:01.857Z"
   },
   {
    "duration": 118,
    "start_time": "2022-05-23T09:03:46.929Z"
   },
   {
    "duration": 5,
    "start_time": "2022-05-23T09:03:54.771Z"
   },
   {
    "duration": 77,
    "start_time": "2022-05-23T09:03:56.200Z"
   },
   {
    "duration": 10,
    "start_time": "2022-05-23T09:03:57.603Z"
   },
   {
    "duration": 7,
    "start_time": "2022-05-23T09:03:58.999Z"
   },
   {
    "duration": 7,
    "start_time": "2022-05-23T09:04:18.109Z"
   },
   {
    "duration": 9,
    "start_time": "2022-05-23T09:04:27.752Z"
   },
   {
    "duration": 3,
    "start_time": "2022-05-23T09:07:55.463Z"
   },
   {
    "duration": 13,
    "start_time": "2022-05-23T09:08:06.606Z"
   },
   {
    "duration": 7,
    "start_time": "2022-05-23T09:08:17.256Z"
   },
   {
    "duration": 9,
    "start_time": "2022-05-23T09:19:39.456Z"
   },
   {
    "duration": 4,
    "start_time": "2022-05-23T09:19:46.347Z"
   },
   {
    "duration": 8,
    "start_time": "2022-05-23T09:19:47.588Z"
   },
   {
    "duration": 235,
    "start_time": "2022-05-23T09:22:30.890Z"
   },
   {
    "duration": 9,
    "start_time": "2022-05-23T09:22:35.195Z"
   },
   {
    "duration": 1051,
    "start_time": "2022-05-23T09:23:07.003Z"
   },
   {
    "duration": 77,
    "start_time": "2022-05-23T09:23:12.490Z"
   },
   {
    "duration": 15,
    "start_time": "2022-05-23T09:23:15.070Z"
   },
   {
    "duration": 4,
    "start_time": "2022-05-23T09:23:15.998Z"
   },
   {
    "duration": 12,
    "start_time": "2022-05-23T09:23:17.810Z"
   },
   {
    "duration": 10,
    "start_time": "2022-05-23T09:23:20.409Z"
   },
   {
    "duration": 10,
    "start_time": "2022-05-23T09:25:38.794Z"
   },
   {
    "duration": 13,
    "start_time": "2022-05-23T09:27:11.643Z"
   },
   {
    "duration": 13,
    "start_time": "2022-05-23T09:27:29.202Z"
   },
   {
    "duration": 57,
    "start_time": "2022-05-23T14:37:35.671Z"
   },
   {
    "duration": 0,
    "start_time": "2022-05-23T14:37:35.730Z"
   },
   {
    "duration": 1291,
    "start_time": "2022-05-23T14:38:12.959Z"
   },
   {
    "duration": 225,
    "start_time": "2022-05-23T14:38:14.252Z"
   },
   {
    "duration": 12,
    "start_time": "2022-05-23T14:38:14.478Z"
   },
   {
    "duration": 8,
    "start_time": "2022-05-23T14:38:14.492Z"
   },
   {
    "duration": 16,
    "start_time": "2022-05-23T14:38:14.501Z"
   },
   {
    "duration": 27,
    "start_time": "2022-05-23T14:38:14.518Z"
   },
   {
    "duration": 10,
    "start_time": "2022-05-23T14:38:14.546Z"
   },
   {
    "duration": 13,
    "start_time": "2022-05-23T14:38:14.557Z"
   },
   {
    "duration": 14,
    "start_time": "2022-05-23T14:38:14.571Z"
   },
   {
    "duration": 7,
    "start_time": "2022-05-23T14:38:14.586Z"
   },
   {
    "duration": 7,
    "start_time": "2022-05-23T14:42:25.354Z"
   },
   {
    "duration": 6,
    "start_time": "2022-05-23T14:42:36.751Z"
   },
   {
    "duration": 11,
    "start_time": "2022-05-23T14:43:08.832Z"
   },
   {
    "duration": 8,
    "start_time": "2022-05-23T14:43:13.712Z"
   },
   {
    "duration": 8,
    "start_time": "2022-05-23T14:43:20.597Z"
   },
   {
    "duration": 5,
    "start_time": "2022-05-23T14:43:30.579Z"
   },
   {
    "duration": 1183,
    "start_time": "2022-05-23T14:48:52.803Z"
   },
   {
    "duration": 70,
    "start_time": "2022-05-23T14:48:53.988Z"
   },
   {
    "duration": 11,
    "start_time": "2022-05-23T14:48:54.060Z"
   },
   {
    "duration": 6,
    "start_time": "2022-05-23T14:48:54.073Z"
   },
   {
    "duration": 14,
    "start_time": "2022-05-23T14:48:54.081Z"
   },
   {
    "duration": 16,
    "start_time": "2022-05-23T14:48:54.097Z"
   },
   {
    "duration": 16,
    "start_time": "2022-05-23T14:48:54.116Z"
   },
   {
    "duration": 7,
    "start_time": "2022-05-23T14:48:54.134Z"
   },
   {
    "duration": 15,
    "start_time": "2022-05-23T14:48:54.143Z"
   },
   {
    "duration": 9,
    "start_time": "2022-05-23T14:48:54.160Z"
   },
   {
    "duration": 8,
    "start_time": "2022-05-23T14:48:54.171Z"
   },
   {
    "duration": 9,
    "start_time": "2022-05-23T14:48:54.181Z"
   },
   {
    "duration": 32,
    "start_time": "2022-05-23T14:48:54.192Z"
   },
   {
    "duration": 10,
    "start_time": "2022-05-23T14:48:54.225Z"
   },
   {
    "duration": 15,
    "start_time": "2022-05-23T14:48:54.237Z"
   },
   {
    "duration": 22,
    "start_time": "2022-05-23T14:50:34.832Z"
   },
   {
    "duration": 11,
    "start_time": "2022-05-23T14:55:14.544Z"
   },
   {
    "duration": 7,
    "start_time": "2022-05-23T14:55:15.273Z"
   },
   {
    "duration": 5,
    "start_time": "2022-05-23T14:55:49.913Z"
   },
   {
    "duration": 4,
    "start_time": "2022-05-23T14:56:04.248Z"
   },
   {
    "duration": 4,
    "start_time": "2022-05-23T14:56:15.920Z"
   },
   {
    "duration": 4,
    "start_time": "2022-05-23T14:57:27.883Z"
   },
   {
    "duration": 8,
    "start_time": "2022-05-23T14:57:29.811Z"
   },
   {
    "duration": 10,
    "start_time": "2022-05-23T15:00:14.225Z"
   },
   {
    "duration": 120,
    "start_time": "2022-05-23T15:04:20.330Z"
   },
   {
    "duration": 11,
    "start_time": "2022-05-23T15:04:49.100Z"
   },
   {
    "duration": 267,
    "start_time": "2022-05-23T15:11:30.183Z"
   },
   {
    "duration": 18,
    "start_time": "2022-05-23T15:13:44.487Z"
   },
   {
    "duration": 529,
    "start_time": "2022-05-23T15:14:21.597Z"
   },
   {
    "duration": 190,
    "start_time": "2022-05-23T15:14:46.569Z"
   },
   {
    "duration": 8,
    "start_time": "2022-05-23T15:16:15.666Z"
   },
   {
    "duration": 8,
    "start_time": "2022-05-23T15:16:32.971Z"
   },
   {
    "duration": 19,
    "start_time": "2022-05-23T15:17:18.871Z"
   },
   {
    "duration": 195,
    "start_time": "2022-05-23T15:17:44.361Z"
   },
   {
    "duration": 208,
    "start_time": "2022-05-23T15:19:07.628Z"
   },
   {
    "duration": 284,
    "start_time": "2022-05-23T15:25:07.585Z"
   },
   {
    "duration": 258,
    "start_time": "2022-05-23T15:35:54.661Z"
   },
   {
    "duration": 158,
    "start_time": "2022-05-23T15:35:58.645Z"
   },
   {
    "duration": 152,
    "start_time": "2022-05-23T15:36:02.986Z"
   },
   {
    "duration": 176,
    "start_time": "2022-05-23T15:36:32.130Z"
   },
   {
    "duration": 184,
    "start_time": "2022-05-23T15:36:38.586Z"
   },
   {
    "duration": 328,
    "start_time": "2022-05-23T15:42:09.397Z"
   },
   {
    "duration": 317,
    "start_time": "2022-05-23T15:42:31.366Z"
   },
   {
    "duration": 376,
    "start_time": "2022-05-23T15:43:11.073Z"
   },
   {
    "duration": 396,
    "start_time": "2022-05-23T15:43:25.728Z"
   },
   {
    "duration": 309,
    "start_time": "2022-05-23T15:44:04.269Z"
   },
   {
    "duration": 292,
    "start_time": "2022-05-23T15:44:13.820Z"
   },
   {
    "duration": 9,
    "start_time": "2022-05-23T15:46:35.035Z"
   },
   {
    "duration": 338,
    "start_time": "2022-05-23T15:47:43.464Z"
   },
   {
    "duration": 277,
    "start_time": "2022-05-23T15:47:54.719Z"
   },
   {
    "duration": 349,
    "start_time": "2022-05-23T15:48:13.080Z"
   },
   {
    "duration": 312,
    "start_time": "2022-05-23T16:03:44.928Z"
   },
   {
    "duration": 10,
    "start_time": "2022-05-23T16:07:59.707Z"
   },
   {
    "duration": 313,
    "start_time": "2022-05-23T16:08:15.934Z"
   },
   {
    "duration": 308,
    "start_time": "2022-05-23T16:08:34.653Z"
   },
   {
    "duration": 395,
    "start_time": "2022-05-23T16:08:51.069Z"
   },
   {
    "duration": 328,
    "start_time": "2022-05-23T16:08:58.691Z"
   },
   {
    "duration": 3,
    "start_time": "2022-05-23T16:19:21.957Z"
   },
   {
    "duration": 302,
    "start_time": "2022-05-23T16:19:30.923Z"
   },
   {
    "duration": 223,
    "start_time": "2022-05-23T16:40:11.258Z"
   },
   {
    "duration": 177,
    "start_time": "2022-05-23T16:40:19.383Z"
   },
   {
    "duration": 370,
    "start_time": "2022-05-23T16:40:22.050Z"
   },
   {
    "duration": 189,
    "start_time": "2022-05-23T16:40:25.752Z"
   },
   {
    "duration": 313,
    "start_time": "2022-05-23T16:40:30.189Z"
   },
   {
    "duration": 10,
    "start_time": "2022-05-23T16:50:17.465Z"
   },
   {
    "duration": 11,
    "start_time": "2022-05-23T16:50:59.705Z"
   },
   {
    "duration": 135,
    "start_time": "2022-05-23T16:54:12.855Z"
   },
   {
    "duration": 137,
    "start_time": "2022-05-23T16:54:28.496Z"
   },
   {
    "duration": 12,
    "start_time": "2022-05-23T16:56:37.578Z"
   },
   {
    "duration": 7,
    "start_time": "2022-05-23T16:56:44.296Z"
   },
   {
    "duration": 12,
    "start_time": "2022-05-23T16:57:15.634Z"
   },
   {
    "duration": 14,
    "start_time": "2022-05-23T16:57:30.466Z"
   },
   {
    "duration": 14,
    "start_time": "2022-05-23T16:57:35.179Z"
   },
   {
    "duration": 546,
    "start_time": "2022-05-23T16:58:06.107Z"
   },
   {
    "duration": 586,
    "start_time": "2022-05-23T16:58:08.806Z"
   },
   {
    "duration": 555,
    "start_time": "2022-05-23T16:58:15.611Z"
   },
   {
    "duration": 7,
    "start_time": "2022-05-23T16:58:24.317Z"
   },
   {
    "duration": 12,
    "start_time": "2022-05-23T16:58:28.698Z"
   },
   {
    "duration": 135,
    "start_time": "2022-05-23T16:59:07.125Z"
   },
   {
    "duration": 67,
    "start_time": "2022-05-24T09:50:20.244Z"
   },
   {
    "duration": 8,
    "start_time": "2022-05-24T09:50:53.562Z"
   },
   {
    "duration": 8,
    "start_time": "2022-05-24T09:52:10.809Z"
   },
   {
    "duration": 1358,
    "start_time": "2022-05-24T09:52:18.153Z"
   },
   {
    "duration": 232,
    "start_time": "2022-05-24T09:52:19.513Z"
   },
   {
    "duration": 14,
    "start_time": "2022-05-24T09:52:19.747Z"
   },
   {
    "duration": 9,
    "start_time": "2022-05-24T09:52:19.763Z"
   },
   {
    "duration": 16,
    "start_time": "2022-05-24T09:52:19.773Z"
   },
   {
    "duration": 5,
    "start_time": "2022-05-24T09:52:19.791Z"
   },
   {
    "duration": 12,
    "start_time": "2022-05-24T09:52:19.798Z"
   },
   {
    "duration": 40,
    "start_time": "2022-05-24T09:52:19.812Z"
   },
   {
    "duration": 8,
    "start_time": "2022-05-24T09:52:19.855Z"
   },
   {
    "duration": 14,
    "start_time": "2022-05-24T09:52:19.867Z"
   },
   {
    "duration": 26,
    "start_time": "2022-05-24T09:52:19.883Z"
   },
   {
    "duration": 21,
    "start_time": "2022-05-24T09:52:19.911Z"
   },
   {
    "duration": 17,
    "start_time": "2022-05-24T09:52:19.934Z"
   },
   {
    "duration": 12,
    "start_time": "2022-05-24T09:52:19.953Z"
   },
   {
    "duration": 9,
    "start_time": "2022-05-24T09:52:19.966Z"
   },
   {
    "duration": 18,
    "start_time": "2022-05-24T09:52:19.976Z"
   },
   {
    "duration": 12,
    "start_time": "2022-05-24T09:52:19.996Z"
   },
   {
    "duration": 19,
    "start_time": "2022-05-24T09:52:20.010Z"
   },
   {
    "duration": 25,
    "start_time": "2022-05-24T09:52:20.031Z"
   },
   {
    "duration": 307,
    "start_time": "2022-05-24T09:52:20.058Z"
   },
   {
    "duration": 393,
    "start_time": "2022-05-24T09:52:20.366Z"
   },
   {
    "duration": 212,
    "start_time": "2022-05-24T09:52:20.761Z"
   },
   {
    "duration": 347,
    "start_time": "2022-05-24T09:52:20.975Z"
   },
   {
    "duration": 207,
    "start_time": "2022-05-24T09:52:21.323Z"
   },
   {
    "duration": 9,
    "start_time": "2022-05-24T09:52:21.532Z"
   },
   {
    "duration": 317,
    "start_time": "2022-05-24T09:52:21.542Z"
   },
   {
    "duration": 162,
    "start_time": "2022-05-24T09:52:21.861Z"
   },
   {
    "duration": 135,
    "start_time": "2022-05-24T09:52:22.026Z"
   },
   {
    "duration": 13,
    "start_time": "2022-05-24T09:52:32.269Z"
   },
   {
    "duration": 9,
    "start_time": "2022-05-24T09:52:49.372Z"
   },
   {
    "duration": 143,
    "start_time": "2022-05-24T09:54:24.160Z"
   },
   {
    "duration": 148,
    "start_time": "2022-05-24T09:54:54.719Z"
   },
   {
    "duration": 203,
    "start_time": "2022-05-24T09:55:15.294Z"
   },
   {
    "duration": 229,
    "start_time": "2022-05-24T09:56:14.162Z"
   },
   {
    "duration": 7,
    "start_time": "2022-05-24T09:56:15.415Z"
   },
   {
    "duration": 6,
    "start_time": "2022-05-24T09:56:33.996Z"
   },
   {
    "duration": 129,
    "start_time": "2022-05-24T09:58:23.814Z"
   },
   {
    "duration": 165,
    "start_time": "2022-05-24T09:59:16.425Z"
   },
   {
    "duration": 214,
    "start_time": "2022-05-24T09:59:22.541Z"
   },
   {
    "duration": 10,
    "start_time": "2022-05-24T10:00:13.800Z"
   },
   {
    "duration": 250,
    "start_time": "2022-05-24T10:01:25.234Z"
   },
   {
    "duration": 210,
    "start_time": "2022-05-24T10:02:32.400Z"
   },
   {
    "duration": 187,
    "start_time": "2022-05-24T10:02:41.796Z"
   },
   {
    "duration": 193,
    "start_time": "2022-05-24T10:02:47.035Z"
   },
   {
    "duration": 213,
    "start_time": "2022-05-24T10:02:51.770Z"
   },
   {
    "duration": 294,
    "start_time": "2022-05-24T10:02:56.540Z"
   },
   {
    "duration": 4,
    "start_time": "2022-05-24T10:07:05.451Z"
   },
   {
    "duration": 5,
    "start_time": "2022-05-24T10:07:14.483Z"
   },
   {
    "duration": 89,
    "start_time": "2022-05-24T10:22:01.219Z"
   },
   {
    "duration": 104,
    "start_time": "2022-05-24T10:25:41.206Z"
   },
   {
    "duration": 203,
    "start_time": "2022-05-24T10:26:10.512Z"
   },
   {
    "duration": 250,
    "start_time": "2022-05-24T10:26:46.001Z"
   },
   {
    "duration": 10,
    "start_time": "2022-05-24T10:28:47.869Z"
   },
   {
    "duration": 164,
    "start_time": "2022-05-24T10:29:42.797Z"
   },
   {
    "duration": 6,
    "start_time": "2022-05-24T10:31:44.727Z"
   },
   {
    "duration": 166,
    "start_time": "2022-05-24T10:31:50.843Z"
   },
   {
    "duration": 17,
    "start_time": "2022-05-24T10:32:40.902Z"
   },
   {
    "duration": 18,
    "start_time": "2022-05-24T10:33:13.400Z"
   },
   {
    "duration": 177,
    "start_time": "2022-05-24T10:34:02.895Z"
   },
   {
    "duration": 203,
    "start_time": "2022-05-24T10:34:55.339Z"
   },
   {
    "duration": 163,
    "start_time": "2022-05-24T10:35:26.741Z"
   },
   {
    "duration": 153,
    "start_time": "2022-05-24T10:35:38.677Z"
   },
   {
    "duration": 11,
    "start_time": "2022-05-24T10:41:09.737Z"
   },
   {
    "duration": 10,
    "start_time": "2022-05-24T10:44:29.061Z"
   },
   {
    "duration": 11,
    "start_time": "2022-05-24T10:44:35.598Z"
   },
   {
    "duration": 530,
    "start_time": "2022-05-24T10:51:00.273Z"
   },
   {
    "duration": 475,
    "start_time": "2022-05-24T10:52:59.048Z"
   },
   {
    "duration": 8,
    "start_time": "2022-05-24T10:53:15.468Z"
   },
   {
    "duration": 572,
    "start_time": "2022-05-24T10:53:25.077Z"
   },
   {
    "duration": 442,
    "start_time": "2022-05-24T10:54:14.136Z"
   },
   {
    "duration": 9,
    "start_time": "2022-05-24T10:54:33.114Z"
   },
   {
    "duration": 10,
    "start_time": "2022-05-24T10:54:47.550Z"
   },
   {
    "duration": 11,
    "start_time": "2022-05-24T10:56:34.979Z"
   },
   {
    "duration": 9,
    "start_time": "2022-05-24T10:59:41.984Z"
   },
   {
    "duration": 9,
    "start_time": "2022-05-24T10:59:45.070Z"
   },
   {
    "duration": 18,
    "start_time": "2022-05-24T10:59:48.844Z"
   },
   {
    "duration": 10,
    "start_time": "2022-05-24T10:59:53.245Z"
   },
   {
    "duration": 8,
    "start_time": "2022-05-24T11:00:44.523Z"
   },
   {
    "duration": 28,
    "start_time": "2022-05-24T11:01:11.320Z"
   },
   {
    "duration": 13,
    "start_time": "2022-05-24T11:02:32.023Z"
   },
   {
    "duration": 26,
    "start_time": "2022-05-24T11:02:50.222Z"
   },
   {
    "duration": 370,
    "start_time": "2022-05-24T11:05:39.433Z"
   },
   {
    "duration": 8,
    "start_time": "2022-05-24T11:06:56.420Z"
   },
   {
    "duration": 22,
    "start_time": "2022-05-24T11:07:05.251Z"
   },
   {
    "duration": 13,
    "start_time": "2022-05-24T11:07:21.933Z"
   },
   {
    "duration": 241,
    "start_time": "2022-05-24T11:31:02.057Z"
   },
   {
    "duration": 226,
    "start_time": "2022-05-24T11:31:22.752Z"
   },
   {
    "duration": 233,
    "start_time": "2022-05-24T11:31:29.190Z"
   },
   {
    "duration": 345,
    "start_time": "2022-05-24T11:35:10.945Z"
   },
   {
    "duration": 320,
    "start_time": "2022-05-24T11:35:21.407Z"
   },
   {
    "duration": 1150,
    "start_time": "2022-05-24T11:37:46.289Z"
   },
   {
    "duration": 75,
    "start_time": "2022-05-24T11:37:47.441Z"
   },
   {
    "duration": 16,
    "start_time": "2022-05-24T11:37:47.518Z"
   },
   {
    "duration": 3,
    "start_time": "2022-05-24T11:37:47.537Z"
   },
   {
    "duration": 17,
    "start_time": "2022-05-24T11:37:47.543Z"
   },
   {
    "duration": 6,
    "start_time": "2022-05-24T11:37:47.563Z"
   },
   {
    "duration": 10,
    "start_time": "2022-05-24T11:37:47.572Z"
   },
   {
    "duration": 15,
    "start_time": "2022-05-24T11:37:47.583Z"
   },
   {
    "duration": 12,
    "start_time": "2022-05-24T11:37:47.600Z"
   },
   {
    "duration": 7,
    "start_time": "2022-05-24T11:37:47.615Z"
   },
   {
    "duration": 38,
    "start_time": "2022-05-24T11:37:47.623Z"
   },
   {
    "duration": 11,
    "start_time": "2022-05-24T11:37:47.663Z"
   },
   {
    "duration": 16,
    "start_time": "2022-05-24T11:37:47.675Z"
   },
   {
    "duration": 11,
    "start_time": "2022-05-24T11:37:47.692Z"
   },
   {
    "duration": 9,
    "start_time": "2022-05-24T11:37:47.705Z"
   },
   {
    "duration": 20,
    "start_time": "2022-05-24T11:37:47.716Z"
   },
   {
    "duration": 19,
    "start_time": "2022-05-24T11:37:47.738Z"
   },
   {
    "duration": 22,
    "start_time": "2022-05-24T11:37:47.759Z"
   },
   {
    "duration": 13,
    "start_time": "2022-05-24T11:37:47.782Z"
   },
   {
    "duration": 316,
    "start_time": "2022-05-24T11:37:47.797Z"
   },
   {
    "duration": 433,
    "start_time": "2022-05-24T11:37:48.115Z"
   },
   {
    "duration": 214,
    "start_time": "2022-05-24T11:37:48.550Z"
   },
   {
    "duration": 315,
    "start_time": "2022-05-24T11:37:48.766Z"
   },
   {
    "duration": 251,
    "start_time": "2022-05-24T11:37:49.083Z"
   },
   {
    "duration": 359,
    "start_time": "2022-05-24T11:37:49.336Z"
   },
   {
    "duration": 167,
    "start_time": "2022-05-24T11:37:49.697Z"
   },
   {
    "duration": 145,
    "start_time": "2022-05-24T11:37:49.866Z"
   },
   {
    "duration": 5,
    "start_time": "2022-05-24T11:37:50.014Z"
   },
   {
    "duration": 307,
    "start_time": "2022-05-24T11:37:50.021Z"
   },
   {
    "duration": 5,
    "start_time": "2022-05-24T11:37:50.330Z"
   },
   {
    "duration": 269,
    "start_time": "2022-05-24T11:37:50.337Z"
   },
   {
    "duration": 226,
    "start_time": "2022-05-24T11:37:50.608Z"
   },
   {
    "duration": 24,
    "start_time": "2022-05-24T11:37:50.836Z"
   },
   {
    "duration": 18,
    "start_time": "2022-05-24T11:37:50.863Z"
   },
   {
    "duration": 10,
    "start_time": "2022-05-24T11:37:50.883Z"
   },
   {
    "duration": 35,
    "start_time": "2022-05-24T11:37:50.894Z"
   },
   {
    "duration": 9,
    "start_time": "2022-05-24T11:37:50.930Z"
   },
   {
    "duration": 22,
    "start_time": "2022-05-24T11:37:50.954Z"
   },
   {
    "duration": 1274,
    "start_time": "2022-05-25T08:47:35.302Z"
   },
   {
    "duration": 83,
    "start_time": "2022-05-25T08:47:36.578Z"
   },
   {
    "duration": 12,
    "start_time": "2022-05-25T08:47:36.663Z"
   },
   {
    "duration": 6,
    "start_time": "2022-05-25T08:47:36.677Z"
   },
   {
    "duration": 13,
    "start_time": "2022-05-25T08:47:36.685Z"
   },
   {
    "duration": 4,
    "start_time": "2022-05-25T08:47:36.700Z"
   },
   {
    "duration": 20,
    "start_time": "2022-05-25T08:47:36.707Z"
   },
   {
    "duration": 16,
    "start_time": "2022-05-25T08:47:36.729Z"
   },
   {
    "duration": 10,
    "start_time": "2022-05-25T08:47:36.747Z"
   },
   {
    "duration": 6,
    "start_time": "2022-05-25T08:47:36.760Z"
   },
   {
    "duration": 13,
    "start_time": "2022-05-25T08:47:36.767Z"
   },
   {
    "duration": 9,
    "start_time": "2022-05-25T08:47:36.782Z"
   },
   {
    "duration": 14,
    "start_time": "2022-05-25T08:47:36.813Z"
   },
   {
    "duration": 12,
    "start_time": "2022-05-25T08:47:36.830Z"
   },
   {
    "duration": 11,
    "start_time": "2022-05-25T08:47:36.844Z"
   },
   {
    "duration": 17,
    "start_time": "2022-05-25T08:47:36.857Z"
   },
   {
    "duration": 13,
    "start_time": "2022-05-25T08:47:36.876Z"
   },
   {
    "duration": 15,
    "start_time": "2022-05-25T08:47:36.924Z"
   },
   {
    "duration": 15,
    "start_time": "2022-05-25T08:47:36.940Z"
   },
   {
    "duration": 338,
    "start_time": "2022-05-25T08:47:36.956Z"
   },
   {
    "duration": 460,
    "start_time": "2022-05-25T08:47:37.296Z"
   },
   {
    "duration": 239,
    "start_time": "2022-05-25T08:47:37.758Z"
   },
   {
    "duration": 367,
    "start_time": "2022-05-25T08:47:37.999Z"
   },
   {
    "duration": 275,
    "start_time": "2022-05-25T08:47:38.368Z"
   },
   {
    "duration": 421,
    "start_time": "2022-05-25T08:47:38.645Z"
   },
   {
    "duration": 191,
    "start_time": "2022-05-25T08:47:39.068Z"
   },
   {
    "duration": 140,
    "start_time": "2022-05-25T08:47:39.261Z"
   },
   {
    "duration": 7,
    "start_time": "2022-05-25T08:47:39.411Z"
   },
   {
    "duration": 274,
    "start_time": "2022-05-25T08:47:39.420Z"
   },
   {
    "duration": 6,
    "start_time": "2022-05-25T08:47:39.697Z"
   },
   {
    "duration": 233,
    "start_time": "2022-05-25T08:47:39.705Z"
   },
   {
    "duration": 196,
    "start_time": "2022-05-25T08:47:39.939Z"
   },
   {
    "duration": 16,
    "start_time": "2022-05-25T08:47:40.137Z"
   },
   {
    "duration": 19,
    "start_time": "2022-05-25T08:47:40.156Z"
   },
   {
    "duration": 8,
    "start_time": "2022-05-25T08:47:40.177Z"
   },
   {
    "duration": 50,
    "start_time": "2022-05-25T08:47:40.187Z"
   },
   {
    "duration": 8,
    "start_time": "2022-05-25T08:47:40.239Z"
   },
   {
    "duration": 16,
    "start_time": "2022-05-25T08:47:40.248Z"
   },
   {
    "duration": 53,
    "start_time": "2022-05-27T08:46:10.373Z"
   },
   {
    "duration": 1340,
    "start_time": "2022-05-27T08:46:17.371Z"
   },
   {
    "duration": 197,
    "start_time": "2022-05-27T08:46:18.713Z"
   },
   {
    "duration": 11,
    "start_time": "2022-05-27T08:46:18.912Z"
   },
   {
    "duration": 6,
    "start_time": "2022-05-27T08:46:18.925Z"
   },
   {
    "duration": 17,
    "start_time": "2022-05-27T08:46:18.932Z"
   },
   {
    "duration": 5,
    "start_time": "2022-05-27T08:46:18.950Z"
   },
   {
    "duration": 27,
    "start_time": "2022-05-27T08:46:18.956Z"
   },
   {
    "duration": 17,
    "start_time": "2022-05-27T08:46:18.985Z"
   },
   {
    "duration": 10,
    "start_time": "2022-05-27T08:46:19.006Z"
   },
   {
    "duration": 6,
    "start_time": "2022-05-27T08:46:19.018Z"
   },
   {
    "duration": 10,
    "start_time": "2022-05-27T08:46:19.026Z"
   },
   {
    "duration": 6,
    "start_time": "2022-05-27T08:46:19.037Z"
   },
   {
    "duration": 11,
    "start_time": "2022-05-27T08:46:19.045Z"
   },
   {
    "duration": 30,
    "start_time": "2022-05-27T08:46:19.058Z"
   },
   {
    "duration": 13,
    "start_time": "2022-05-27T08:46:19.089Z"
   },
   {
    "duration": 13,
    "start_time": "2022-05-27T08:46:19.103Z"
   },
   {
    "duration": 13,
    "start_time": "2022-05-27T08:46:19.117Z"
   },
   {
    "duration": 13,
    "start_time": "2022-05-27T08:46:19.132Z"
   },
   {
    "duration": 9,
    "start_time": "2022-05-27T08:46:19.146Z"
   },
   {
    "duration": 25,
    "start_time": "2022-05-27T08:46:19.157Z"
   },
   {
    "duration": 343,
    "start_time": "2022-05-27T08:46:19.184Z"
   },
   {
    "duration": 322,
    "start_time": "2022-05-27T08:46:19.528Z"
   },
   {
    "duration": 210,
    "start_time": "2022-05-27T08:46:19.852Z"
   },
   {
    "duration": 333,
    "start_time": "2022-05-27T08:46:20.064Z"
   },
   {
    "duration": 225,
    "start_time": "2022-05-27T08:46:20.399Z"
   },
   {
    "duration": 360,
    "start_time": "2022-05-27T08:46:20.625Z"
   },
   {
    "duration": 215,
    "start_time": "2022-05-27T08:46:20.986Z"
   },
   {
    "duration": 297,
    "start_time": "2022-05-27T08:46:21.205Z"
   },
   {
    "duration": 58,
    "start_time": "2022-05-27T08:46:21.504Z"
   },
   {
    "duration": 472,
    "start_time": "2022-05-27T08:46:21.564Z"
   },
   {
    "duration": 27,
    "start_time": "2022-05-27T08:46:22.037Z"
   },
   {
    "duration": 495,
    "start_time": "2022-05-27T08:46:22.066Z"
   },
   {
    "duration": 334,
    "start_time": "2022-05-27T08:46:22.562Z"
   },
   {
    "duration": 62,
    "start_time": "2022-05-27T08:46:22.898Z"
   },
   {
    "duration": 13,
    "start_time": "2022-05-27T08:46:22.962Z"
   },
   {
    "duration": 11,
    "start_time": "2022-05-27T08:46:22.979Z"
   },
   {
    "duration": 94,
    "start_time": "2022-05-27T08:46:22.991Z"
   },
   {
    "duration": 10,
    "start_time": "2022-05-27T08:46:23.088Z"
   },
   {
    "duration": 15,
    "start_time": "2022-05-27T08:46:23.099Z"
   },
   {
    "duration": 5,
    "start_time": "2022-05-27T08:46:40.726Z"
   },
   {
    "duration": 5,
    "start_time": "2022-05-27T08:49:26.313Z"
   },
   {
    "duration": 198,
    "start_time": "2022-05-27T08:50:33.916Z"
   },
   {
    "duration": 108,
    "start_time": "2022-05-27T08:53:24.602Z"
   },
   {
    "duration": 9,
    "start_time": "2022-05-27T08:53:30.653Z"
   },
   {
    "duration": 9,
    "start_time": "2022-05-27T08:53:45.354Z"
   },
   {
    "duration": 9,
    "start_time": "2022-05-27T08:55:17.286Z"
   },
   {
    "duration": 8,
    "start_time": "2022-05-27T08:56:37.584Z"
   },
   {
    "duration": 9,
    "start_time": "2022-05-27T08:56:44.125Z"
   },
   {
    "duration": 10,
    "start_time": "2022-05-27T08:57:08.744Z"
   },
   {
    "duration": 8,
    "start_time": "2022-05-27T08:58:28.816Z"
   },
   {
    "duration": 11,
    "start_time": "2022-05-27T08:58:37.392Z"
   },
   {
    "duration": 242,
    "start_time": "2022-05-27T09:08:07.457Z"
   },
   {
    "duration": 272,
    "start_time": "2022-05-27T09:09:15.305Z"
   },
   {
    "duration": 342,
    "start_time": "2022-05-27T09:09:51.879Z"
   },
   {
    "duration": 216,
    "start_time": "2022-05-27T09:11:23.818Z"
   },
   {
    "duration": 360,
    "start_time": "2022-05-27T09:30:21.047Z"
   },
   {
    "duration": 299,
    "start_time": "2022-05-27T09:30:26.397Z"
   },
   {
    "duration": 349,
    "start_time": "2022-05-27T09:35:44.825Z"
   },
   {
    "duration": 276,
    "start_time": "2022-05-27T09:35:52.801Z"
   },
   {
    "duration": 284,
    "start_time": "2022-05-27T09:36:01.527Z"
   },
   {
    "duration": 249,
    "start_time": "2022-05-27T09:37:00.289Z"
   },
   {
    "duration": 231,
    "start_time": "2022-05-27T09:41:51.673Z"
   },
   {
    "duration": 310,
    "start_time": "2022-05-27T09:42:04.587Z"
   },
   {
    "duration": 305,
    "start_time": "2022-05-27T09:42:11.405Z"
   },
   {
    "duration": 300,
    "start_time": "2022-05-27T09:42:26.310Z"
   },
   {
    "duration": 31,
    "start_time": "2022-05-27T09:42:59.821Z"
   },
   {
    "duration": 307,
    "start_time": "2022-05-27T09:43:13.224Z"
   },
   {
    "duration": 226,
    "start_time": "2022-05-27T09:48:03.386Z"
   },
   {
    "duration": 475,
    "start_time": "2022-05-27T09:48:12.433Z"
   },
   {
    "duration": 313,
    "start_time": "2022-05-27T09:48:25.298Z"
   },
   {
    "duration": 198,
    "start_time": "2022-05-27T09:48:35.498Z"
   },
   {
    "duration": 195,
    "start_time": "2022-05-27T09:48:48.015Z"
   },
   {
    "duration": 354,
    "start_time": "2022-05-27T09:49:01.744Z"
   },
   {
    "duration": 219,
    "start_time": "2022-05-27T09:49:08.324Z"
   },
   {
    "duration": 335,
    "start_time": "2022-05-27T09:49:18.045Z"
   },
   {
    "duration": 332,
    "start_time": "2022-05-27T09:51:12.479Z"
   },
   {
    "duration": 331,
    "start_time": "2022-05-27T09:51:31.711Z"
   },
   {
    "duration": 389,
    "start_time": "2022-05-27T09:52:28.031Z"
   },
   {
    "duration": 165,
    "start_time": "2022-05-27T09:53:17.233Z"
   },
   {
    "duration": 341,
    "start_time": "2022-05-27T09:53:38.227Z"
   },
   {
    "duration": 223,
    "start_time": "2022-05-27T09:53:44.271Z"
   },
   {
    "duration": 4,
    "start_time": "2022-05-27T09:54:03.679Z"
   },
   {
    "duration": 1386,
    "start_time": "2022-05-27T09:54:11.420Z"
   },
   {
    "duration": 80,
    "start_time": "2022-05-27T09:54:12.809Z"
   },
   {
    "duration": 11,
    "start_time": "2022-05-27T09:54:12.891Z"
   },
   {
    "duration": 32,
    "start_time": "2022-05-27T09:54:12.904Z"
   },
   {
    "duration": 26,
    "start_time": "2022-05-27T09:54:12.938Z"
   },
   {
    "duration": 19,
    "start_time": "2022-05-27T09:54:12.967Z"
   },
   {
    "duration": 28,
    "start_time": "2022-05-27T09:54:12.988Z"
   },
   {
    "duration": 35,
    "start_time": "2022-05-27T09:54:13.018Z"
   },
   {
    "duration": 43,
    "start_time": "2022-05-27T09:54:13.055Z"
   },
   {
    "duration": 17,
    "start_time": "2022-05-27T09:54:13.100Z"
   },
   {
    "duration": 20,
    "start_time": "2022-05-27T09:54:13.118Z"
   },
   {
    "duration": 16,
    "start_time": "2022-05-27T09:54:13.139Z"
   },
   {
    "duration": 25,
    "start_time": "2022-05-27T09:54:13.156Z"
   },
   {
    "duration": 14,
    "start_time": "2022-05-27T09:54:13.184Z"
   },
   {
    "duration": 16,
    "start_time": "2022-05-27T09:54:13.199Z"
   },
   {
    "duration": 21,
    "start_time": "2022-05-27T09:54:13.216Z"
   },
   {
    "duration": 14,
    "start_time": "2022-05-27T09:54:13.238Z"
   },
   {
    "duration": 32,
    "start_time": "2022-05-27T09:54:13.254Z"
   },
   {
    "duration": 15,
    "start_time": "2022-05-27T09:54:13.288Z"
   },
   {
    "duration": 18,
    "start_time": "2022-05-27T09:54:13.305Z"
   },
   {
    "duration": 17,
    "start_time": "2022-05-27T09:54:13.325Z"
   },
   {
    "duration": 12,
    "start_time": "2022-05-27T09:54:13.344Z"
   },
   {
    "duration": 282,
    "start_time": "2022-05-27T09:54:13.359Z"
   },
   {
    "duration": 412,
    "start_time": "2022-05-27T09:54:13.643Z"
   },
   {
    "duration": 181,
    "start_time": "2022-05-27T09:54:14.058Z"
   },
   {
    "duration": 347,
    "start_time": "2022-05-27T09:54:14.241Z"
   },
   {
    "duration": 230,
    "start_time": "2022-05-27T09:54:14.590Z"
   },
   {
    "duration": 369,
    "start_time": "2022-05-27T09:54:14.822Z"
   },
   {
    "duration": 134,
    "start_time": "2022-05-27T09:54:15.193Z"
   },
   {
    "duration": 146,
    "start_time": "2022-05-27T09:54:15.329Z"
   },
   {
    "duration": 4,
    "start_time": "2022-05-27T09:54:15.477Z"
   },
   {
    "duration": 246,
    "start_time": "2022-05-27T09:54:15.482Z"
   },
   {
    "duration": 4,
    "start_time": "2022-05-27T09:54:15.730Z"
   },
   {
    "duration": 252,
    "start_time": "2022-05-27T09:54:15.736Z"
   },
   {
    "duration": 158,
    "start_time": "2022-05-27T09:54:15.990Z"
   },
   {
    "duration": 19,
    "start_time": "2022-05-27T09:54:16.150Z"
   },
   {
    "duration": 23,
    "start_time": "2022-05-27T09:54:16.171Z"
   },
   {
    "duration": 10,
    "start_time": "2022-05-27T09:54:16.196Z"
   },
   {
    "duration": 38,
    "start_time": "2022-05-27T09:54:16.208Z"
   },
   {
    "duration": 7,
    "start_time": "2022-05-27T09:54:16.248Z"
   },
   {
    "duration": 28,
    "start_time": "2022-05-27T09:54:16.259Z"
   },
   {
    "duration": 167,
    "start_time": "2022-05-27T09:55:13.657Z"
   },
   {
    "duration": 3,
    "start_time": "2022-05-27T09:55:16.952Z"
   },
   {
    "duration": 223,
    "start_time": "2022-05-27T09:55:25.207Z"
   },
   {
    "duration": 187,
    "start_time": "2022-05-27T09:55:27.551Z"
   },
   {
    "duration": 175,
    "start_time": "2022-05-27T09:55:29.099Z"
   },
   {
    "duration": 200,
    "start_time": "2022-05-27T09:55:42.331Z"
   },
   {
    "duration": 203,
    "start_time": "2022-05-27T09:55:48.311Z"
   },
   {
    "duration": 431,
    "start_time": "2022-05-27T09:55:50.144Z"
   },
   {
    "duration": 1095,
    "start_time": "2022-05-27T09:56:01.602Z"
   },
   {
    "duration": 71,
    "start_time": "2022-05-27T09:56:02.699Z"
   },
   {
    "duration": 16,
    "start_time": "2022-05-27T09:56:02.772Z"
   },
   {
    "duration": 9,
    "start_time": "2022-05-27T09:56:02.791Z"
   },
   {
    "duration": 17,
    "start_time": "2022-05-27T09:56:02.802Z"
   },
   {
    "duration": 10,
    "start_time": "2022-05-27T09:56:02.821Z"
   },
   {
    "duration": 13,
    "start_time": "2022-05-27T09:56:02.833Z"
   },
   {
    "duration": 22,
    "start_time": "2022-05-27T09:56:02.847Z"
   },
   {
    "duration": 11,
    "start_time": "2022-05-27T09:56:02.871Z"
   },
   {
    "duration": 10,
    "start_time": "2022-05-27T09:56:02.884Z"
   },
   {
    "duration": 10,
    "start_time": "2022-05-27T09:56:02.896Z"
   },
   {
    "duration": 8,
    "start_time": "2022-05-27T09:56:02.908Z"
   },
   {
    "duration": 18,
    "start_time": "2022-05-27T09:56:02.917Z"
   },
   {
    "duration": 12,
    "start_time": "2022-05-27T09:56:02.939Z"
   },
   {
    "duration": 8,
    "start_time": "2022-05-27T09:56:02.959Z"
   },
   {
    "duration": 17,
    "start_time": "2022-05-27T09:56:02.969Z"
   },
   {
    "duration": 11,
    "start_time": "2022-05-27T09:56:02.988Z"
   },
   {
    "duration": 19,
    "start_time": "2022-05-27T09:56:03.000Z"
   },
   {
    "duration": 9,
    "start_time": "2022-05-27T09:56:03.021Z"
   },
   {
    "duration": 32,
    "start_time": "2022-05-27T09:56:03.031Z"
   },
   {
    "duration": 11,
    "start_time": "2022-05-27T09:56:03.064Z"
   },
   {
    "duration": 20,
    "start_time": "2022-05-27T09:56:03.077Z"
   },
   {
    "duration": 273,
    "start_time": "2022-05-27T09:56:03.099Z"
   },
   {
    "duration": 393,
    "start_time": "2022-05-27T09:56:03.374Z"
   },
   {
    "duration": 197,
    "start_time": "2022-05-27T09:56:03.768Z"
   },
   {
    "duration": 294,
    "start_time": "2022-05-27T09:56:03.966Z"
   },
   {
    "duration": 206,
    "start_time": "2022-05-27T09:56:04.263Z"
   },
   {
    "duration": 332,
    "start_time": "2022-05-27T09:56:04.470Z"
   },
   {
    "duration": 132,
    "start_time": "2022-05-27T09:56:04.804Z"
   },
   {
    "duration": 131,
    "start_time": "2022-05-27T09:56:04.937Z"
   },
   {
    "duration": 4,
    "start_time": "2022-05-27T09:56:05.069Z"
   },
   {
    "duration": 221,
    "start_time": "2022-05-27T09:56:05.075Z"
   },
   {
    "duration": 5,
    "start_time": "2022-05-27T09:56:05.298Z"
   },
   {
    "duration": 264,
    "start_time": "2022-05-27T09:56:05.304Z"
   },
   {
    "duration": 216,
    "start_time": "2022-05-27T09:56:05.570Z"
   },
   {
    "duration": 12,
    "start_time": "2022-05-27T09:56:05.789Z"
   },
   {
    "duration": 25,
    "start_time": "2022-05-27T09:56:05.803Z"
   },
   {
    "duration": 39,
    "start_time": "2022-05-27T09:56:05.830Z"
   },
   {
    "duration": 75,
    "start_time": "2022-05-27T09:56:05.871Z"
   },
   {
    "duration": 8,
    "start_time": "2022-05-27T09:56:05.948Z"
   },
   {
    "duration": 33,
    "start_time": "2022-05-27T09:56:05.959Z"
   },
   {
    "duration": 155,
    "start_time": "2022-05-27T09:59:21.747Z"
   },
   {
    "duration": 152,
    "start_time": "2022-05-27T09:59:27.744Z"
   },
   {
    "duration": 195,
    "start_time": "2022-05-27T10:00:18.747Z"
   },
   {
    "duration": 203,
    "start_time": "2022-05-27T10:00:27.873Z"
   },
   {
    "duration": 224,
    "start_time": "2022-05-27T10:00:31.893Z"
   },
   {
    "duration": 181,
    "start_time": "2022-05-27T10:00:49.860Z"
   },
   {
    "duration": 291,
    "start_time": "2022-05-27T10:00:54.804Z"
   },
   {
    "duration": 183,
    "start_time": "2022-05-27T10:01:56.900Z"
   },
   {
    "duration": 216,
    "start_time": "2022-05-27T10:02:03.027Z"
   },
   {
    "duration": 9,
    "start_time": "2022-05-27T10:25:02.627Z"
   },
   {
    "duration": 10,
    "start_time": "2022-05-27T10:25:56.639Z"
   },
   {
    "duration": 139,
    "start_time": "2022-05-27T10:28:17.625Z"
   },
   {
    "duration": 1265,
    "start_time": "2022-07-20T07:44:03.867Z"
   },
   {
    "duration": 199,
    "start_time": "2022-07-20T07:44:05.134Z"
   },
   {
    "duration": 12,
    "start_time": "2022-07-20T07:44:05.334Z"
   },
   {
    "duration": 7,
    "start_time": "2022-07-20T07:44:05.347Z"
   },
   {
    "duration": 14,
    "start_time": "2022-07-20T07:44:05.356Z"
   },
   {
    "duration": 6,
    "start_time": "2022-07-20T07:44:05.371Z"
   },
   {
    "duration": 17,
    "start_time": "2022-07-20T07:44:05.379Z"
   },
   {
    "duration": 23,
    "start_time": "2022-07-20T07:44:05.398Z"
   },
   {
    "duration": 24,
    "start_time": "2022-07-20T07:44:05.423Z"
   },
   {
    "duration": 11,
    "start_time": "2022-07-20T07:44:05.449Z"
   },
   {
    "duration": 15,
    "start_time": "2022-07-20T07:44:05.461Z"
   },
   {
    "duration": 13,
    "start_time": "2022-07-20T07:44:05.477Z"
   },
   {
    "duration": 17,
    "start_time": "2022-07-20T07:44:05.491Z"
   },
   {
    "duration": 21,
    "start_time": "2022-07-20T07:44:05.511Z"
   },
   {
    "duration": 16,
    "start_time": "2022-07-20T07:44:05.534Z"
   },
   {
    "duration": 14,
    "start_time": "2022-07-20T07:44:05.551Z"
   },
   {
    "duration": 10,
    "start_time": "2022-07-20T07:44:05.566Z"
   },
   {
    "duration": 12,
    "start_time": "2022-07-20T07:44:05.577Z"
   },
   {
    "duration": 10,
    "start_time": "2022-07-20T07:44:05.590Z"
   },
   {
    "duration": 11,
    "start_time": "2022-07-20T07:44:05.601Z"
   },
   {
    "duration": 18,
    "start_time": "2022-07-20T07:44:05.614Z"
   },
   {
    "duration": 9,
    "start_time": "2022-07-20T07:44:05.646Z"
   },
   {
    "duration": 268,
    "start_time": "2022-07-20T07:44:05.657Z"
   },
   {
    "duration": 267,
    "start_time": "2022-07-20T07:44:05.927Z"
   },
   {
    "duration": 188,
    "start_time": "2022-07-20T07:44:06.195Z"
   },
   {
    "duration": 334,
    "start_time": "2022-07-20T07:44:06.384Z"
   },
   {
    "duration": 205,
    "start_time": "2022-07-20T07:44:06.719Z"
   },
   {
    "duration": 327,
    "start_time": "2022-07-20T07:44:06.927Z"
   },
   {
    "duration": 152,
    "start_time": "2022-07-20T07:44:07.257Z"
   },
   {
    "duration": 145,
    "start_time": "2022-07-20T07:44:07.410Z"
   },
   {
    "duration": 4,
    "start_time": "2022-07-20T07:44:07.556Z"
   },
   {
    "duration": 214,
    "start_time": "2022-07-20T07:44:07.562Z"
   },
   {
    "duration": 5,
    "start_time": "2022-07-20T07:44:07.778Z"
   },
   {
    "duration": 295,
    "start_time": "2022-07-20T07:44:07.784Z"
   },
   {
    "duration": 150,
    "start_time": "2022-07-20T07:44:08.081Z"
   },
   {
    "duration": 16,
    "start_time": "2022-07-20T07:44:08.232Z"
   },
   {
    "duration": 9,
    "start_time": "2022-07-20T07:44:08.250Z"
   },
   {
    "duration": 12,
    "start_time": "2022-07-20T07:44:08.260Z"
   },
   {
    "duration": 23,
    "start_time": "2022-07-20T07:44:08.274Z"
   },
   {
    "duration": 8,
    "start_time": "2022-07-20T07:44:08.299Z"
   },
   {
    "duration": 36,
    "start_time": "2022-07-20T07:44:08.309Z"
   },
   {
    "duration": 13,
    "start_time": "2022-07-20T07:44:58.559Z"
   },
   {
    "duration": 10,
    "start_time": "2022-07-20T07:45:13.383Z"
   },
   {
    "duration": 12,
    "start_time": "2022-07-20T08:10:35.678Z"
   },
   {
    "duration": 9,
    "start_time": "2022-07-20T08:16:21.475Z"
   },
   {
    "duration": 12,
    "start_time": "2022-07-20T08:16:41.002Z"
   }
  ],
  "kernelspec": {
   "display_name": "Python 3 (ipykernel)",
   "language": "python",
   "name": "python3"
  },
  "language_info": {
   "codemirror_mode": {
    "name": "ipython",
    "version": 3
   },
   "file_extension": ".py",
   "mimetype": "text/x-python",
   "name": "python",
   "nbconvert_exporter": "python",
   "pygments_lexer": "ipython3",
   "version": "3.9.13"
  },
  "latex_envs": {
   "LaTeX_envs_menu_present": true,
   "autoclose": false,
   "autocomplete": true,
   "bibliofile": "biblio.bib",
   "cite_by": "apalike",
   "current_citInitial": 1,
   "eqLabelWithNumbers": true,
   "eqNumInitial": 1,
   "hotkeys": {
    "equation": "Ctrl-E",
    "itemize": "Ctrl-I"
   },
   "labels_anchors": false,
   "latex_user_defs": false,
   "report_style_numbering": false,
   "user_envs_cfg": false
  },
  "toc": {
   "base_numbering": 1,
   "nav_menu": {},
   "number_sections": false,
   "sideBar": true,
   "skip_h1_title": false,
   "title_cell": "Table of Contents",
   "title_sidebar": "Contents",
   "toc_cell": false,
   "toc_position": {
    "height": "calc(100% - 180px)",
    "left": "10px",
    "top": "150px",
    "width": "320px"
   },
   "toc_section_display": true,
   "toc_window_display": true
  }
 },
 "nbformat": 4,
 "nbformat_minor": 2
}
