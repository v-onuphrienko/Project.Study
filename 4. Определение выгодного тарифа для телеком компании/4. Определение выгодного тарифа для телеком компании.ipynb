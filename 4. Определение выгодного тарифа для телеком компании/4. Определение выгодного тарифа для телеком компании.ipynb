{
 "cells": [
  {
   "cell_type": "markdown",
   "id": "ba7342eb",
   "metadata": {},
   "source": [
    "**Определение перспективного тарифа для телеком-компании**"
   ]
  },
  {
   "cell_type": "code",
   "execution_count": 2,
   "id": "c6d29d95",
   "metadata": {},
   "outputs": [],
   "source": [
    "import seaborn as sns\n",
    "import pandas as pd\n",
    "import math\n",
    "import numpy as np\n",
    "import matplotlib.pyplot as plt\n",
    "from scipy import stats as st\n",
    "from datetime import datetime"
   ]
  },
  {
   "cell_type": "markdown",
   "id": "445fdbd7",
   "metadata": {},
   "source": [
    "## **Описание проекта**"
   ]
  },
  {
   "cell_type": "markdown",
   "id": "c0c25089",
   "metadata": {},
   "source": [
    "**Описание тарифов:**\n",
    "\n",
    "**Тариф «Смарт»**\n",
    "- Ежемесячная плата: 550 рублей\n",
    "- Включено 500 минут разговора, 50 сообщений и 15 Гб интернет-трафика\n",
    "- Стоимость услуг сверх тарифного пакета:\n",
    "- минута разговора: 3 рубля\n",
    "- сообщение: 3 рубля\n",
    "- 1 Гб интернет-трафика: 200 рублей\n",
    "\n",
    "**Тариф «Ультра»**\n",
    "- Ежемесячная плата: 1950 рублей\n",
    "- Включено 3000 минут разговора, 1000 сообщений и 30 Гб интернет-трафика\n",
    "- Стоимость услуг сверх тарифного пакета:\n",
    "- минута разговора: 1 рубль\n",
    "- сообщение: 1 рубль\n",
    "- 1 Гб интернет-трафика: 150 рублей"
   ]
  },
  {
   "cell_type": "markdown",
   "id": "f32e9ba0",
   "metadata": {},
   "source": [
    "### Описание данных"
   ]
  },
  {
   "cell_type": "markdown",
   "id": "40fa1a80",
   "metadata": {},
   "source": [
    "**Таблица `users` (информация о пользователях):**\n",
    "\n",
    "`user_id` — уникальный идентификатор пользователя\n",
    "\n",
    "`first_name` — имя пользователя\n",
    "\n",
    "`last_name` — фамилия пользователя\n",
    "\n",
    "`age` — возраст пользователя (годы)\n",
    "\n",
    "`reg_date` — дата подключения тарифа (день, месяц, год)\n",
    "\n",
    "`churn_date` — дата прекращения пользования тарифом (если значение пропущено, то тариф ещё действовал на момент выгрузки данных)\n",
    "\n",
    "`city` — город проживания пользователя\n",
    "\n",
    "`tarif` — название тарифного плана\n",
    "\n",
    "\n",
    "**Таблица `calls` (информация о звонках):**\n",
    "`id` — уникальный номер звонка\n",
    "\n",
    "`call_date` — дата звонка\n",
    "\n",
    "`duration` — длительность звонка в минутах\n",
    "\n",
    "`user_id` — идентификатор пользователя, сделавшего звонок\n",
    "\n",
    "\n",
    "**Таблица `messages` (информация о сообщениях):**\n",
    "`id` — уникальный номер сообщения\n",
    "\n",
    "`message_date` — дата сообщения\n",
    "\n",
    "`user_id` — идентификатор пользователя, отправившего сообщение\n",
    "\n",
    "\n",
    "**Таблица `internet` (информация об интернет-сессиях):**\n",
    "`id` — уникальный номер сессии\n",
    "\n",
    "`mb_used` — объём потраченного за сессию интернет-трафика (в мегабайтах)\n",
    "\n",
    "`session_date` — дата интернет-сессии\n",
    "\n",
    "`user_id` — идентификатор пользователя\n",
    "\n",
    "\n",
    "**Таблица `tariffs` (информация о тарифах):**\n",
    "`tariff_name` — название тарифа\n",
    "\n",
    "`rub_monthly_fee` — ежемесячная абонентская плата в рублях\n",
    "\n",
    "`minutes_included` — количество минут разговора в месяц, включённых в абонентскую плату\n",
    "\n",
    "`messages_included` — количество сообщений в месяц, включённых в абонентскую плату\n",
    "\n",
    "`mb_per_month_included` — объём интернет-трафика, включённого в абонентскую плату (в мегабайтах)\n",
    "\n",
    "`rub_per_minute` — стоимость минуты разговора сверх тарифного пакета (например, если в тарифе 100 минут разговора в месяц, то со 101 минуты будет взиматься плата)\n",
    "\n",
    "`rub_per_message` — стоимость отправки сообщения сверх тарифного пакета\n",
    "\n",
    "`rub_per_gb` — стоимость дополнительного гигабайта интернет-трафика сверх тарифного пакета (1 гигабайт = 1024 мегабайта)"
   ]
  },
  {
   "cell_type": "markdown",
   "id": "4e3d4153",
   "metadata": {},
   "source": [
    "## **Предобработка данных**"
   ]
  },
  {
   "cell_type": "markdown",
   "id": "c189ae2c",
   "metadata": {},
   "source": [
    "- Приведите данные к нужным типам;\n",
    "\n",
    "- Найдите и исправьте ошибки в данных, если они есть.\n",
    "\n",
    "- Поясните, какие ошибки вы нашли и как их исправили. В данных вы найдёте звонки с нулевой продолжительностью. Это не ошибка: нулями обозначены пропущенные звонки, поэтому их не нужно удалять.\n",
    "\n"
   ]
  },
  {
   "cell_type": "markdown",
   "id": "4009ecad",
   "metadata": {},
   "source": [
    "- При прочтении методом read_csv добавим индекс index_col=0 в датасет internet, также приведем столбцы к нужным типам."
   ]
  },
  {
   "cell_type": "code",
   "execution_count": 3,
   "id": "d7e5649f",
   "metadata": {},
   "outputs": [],
   "source": [
    "custom_date_parser = lambda x: datetime.strptime(x, '%Y-%m-%d')\n",
    "tariffs = pd.read_csv('D:/datasets/tariffs.csv')\n",
    "\n",
    "users = pd.read_csv('D:/datasets/users.csv',\n",
    "                   parse_dates=['reg_date'],\n",
    "                   date_parser=custom_date_parser)\n",
    "\n",
    "calls = pd.read_csv('D:/datasets/calls.csv',\n",
    "                   parse_dates=['call_date'],\n",
    "                   date_parser=custom_date_parser)\n",
    "\n",
    "messages = pd.read_csv('D:/datasets/messages.csv',\n",
    "                      parse_dates=['message_date'],\n",
    "                      date_parser=custom_date_parser)\n",
    "\n",
    "internet = pd.read_csv('D:/datasets/internet.csv',\n",
    "                       index_col=0,\n",
    "                      parse_dates=['session_date'],\n",
    "                      date_parser=custom_date_parser)"
   ]
  },
  {
   "cell_type": "code",
   "execution_count": 4,
   "id": "19e294c0",
   "metadata": {},
   "outputs": [
    {
     "name": "stdout",
     "output_type": "stream",
     "text": [
      "<class 'pandas.core.frame.DataFrame'>\n",
      "RangeIndex: 2 entries, 0 to 1\n",
      "Data columns (total 8 columns):\n",
      " #   Column                 Non-Null Count  Dtype \n",
      "---  ------                 --------------  ----- \n",
      " 0   messages_included      2 non-null      int64 \n",
      " 1   mb_per_month_included  2 non-null      int64 \n",
      " 2   minutes_included       2 non-null      int64 \n",
      " 3   rub_monthly_fee        2 non-null      int64 \n",
      " 4   rub_per_gb             2 non-null      int64 \n",
      " 5   rub_per_message        2 non-null      int64 \n",
      " 6   rub_per_minute         2 non-null      int64 \n",
      " 7   tariff_name            2 non-null      object\n",
      "dtypes: int64(7), object(1)\n",
      "memory usage: 256.0+ bytes\n"
     ]
    }
   ],
   "source": [
    "tariffs.info()"
   ]
  },
  {
   "cell_type": "code",
   "execution_count": 4,
   "id": "37996efb",
   "metadata": {},
   "outputs": [
    {
     "name": "stdout",
     "output_type": "stream",
     "text": [
      "<class 'pandas.core.frame.DataFrame'>\n",
      "RangeIndex: 500 entries, 0 to 499\n",
      "Data columns (total 8 columns):\n",
      " #   Column      Non-Null Count  Dtype         \n",
      "---  ------      --------------  -----         \n",
      " 0   user_id     500 non-null    int64         \n",
      " 1   age         500 non-null    int64         \n",
      " 2   churn_date  38 non-null     object        \n",
      " 3   city        500 non-null    object        \n",
      " 4   first_name  500 non-null    object        \n",
      " 5   last_name   500 non-null    object        \n",
      " 6   reg_date    500 non-null    datetime64[ns]\n",
      " 7   tariff      500 non-null    object        \n",
      "dtypes: datetime64[ns](1), int64(2), object(5)\n",
      "memory usage: 31.4+ KB\n"
     ]
    }
   ],
   "source": [
    "users.info()"
   ]
  },
  {
   "cell_type": "code",
   "execution_count": 5,
   "id": "a5fda0f4",
   "metadata": {},
   "outputs": [
    {
     "name": "stdout",
     "output_type": "stream",
     "text": [
      "<class 'pandas.core.frame.DataFrame'>\n",
      "RangeIndex: 202607 entries, 0 to 202606\n",
      "Data columns (total 4 columns):\n",
      " #   Column     Non-Null Count   Dtype         \n",
      "---  ------     --------------   -----         \n",
      " 0   id         202607 non-null  object        \n",
      " 1   call_date  202607 non-null  datetime64[ns]\n",
      " 2   duration   202607 non-null  float64       \n",
      " 3   user_id    202607 non-null  int64         \n",
      "dtypes: datetime64[ns](1), float64(1), int64(1), object(1)\n",
      "memory usage: 6.2+ MB\n"
     ]
    }
   ],
   "source": [
    "calls.info()"
   ]
  },
  {
   "cell_type": "code",
   "execution_count": 6,
   "id": "1d1f0912",
   "metadata": {},
   "outputs": [
    {
     "name": "stdout",
     "output_type": "stream",
     "text": [
      "<class 'pandas.core.frame.DataFrame'>\n",
      "RangeIndex: 123036 entries, 0 to 123035\n",
      "Data columns (total 3 columns):\n",
      " #   Column        Non-Null Count   Dtype         \n",
      "---  ------        --------------   -----         \n",
      " 0   id            123036 non-null  object        \n",
      " 1   message_date  123036 non-null  datetime64[ns]\n",
      " 2   user_id       123036 non-null  int64         \n",
      "dtypes: datetime64[ns](1), int64(1), object(1)\n",
      "memory usage: 2.8+ MB\n"
     ]
    }
   ],
   "source": [
    "messages.info()"
   ]
  },
  {
   "cell_type": "code",
   "execution_count": 7,
   "id": "5e27d305",
   "metadata": {},
   "outputs": [
    {
     "name": "stdout",
     "output_type": "stream",
     "text": [
      "<class 'pandas.core.frame.DataFrame'>\n",
      "Int64Index: 149396 entries, 0 to 149395\n",
      "Data columns (total 4 columns):\n",
      " #   Column        Non-Null Count   Dtype         \n",
      "---  ------        --------------   -----         \n",
      " 0   id            149396 non-null  object        \n",
      " 1   mb_used       149396 non-null  float64       \n",
      " 2   session_date  149396 non-null  datetime64[ns]\n",
      " 3   user_id       149396 non-null  int64         \n",
      "dtypes: datetime64[ns](1), float64(1), int64(1), object(1)\n",
      "memory usage: 5.7+ MB\n"
     ]
    }
   ],
   "source": [
    "internet.info()"
   ]
  },
  {
   "cell_type": "markdown",
   "id": "2151219d",
   "metadata": {},
   "source": [
    "- **Откроем первый проблемный датасет, видим пропуски в столбце churn_date, трогать не будем, т.к. в дальнейшем данный столбец нам не пригодится.**"
   ]
  },
  {
   "cell_type": "code",
   "execution_count": 8,
   "id": "52ae57d5",
   "metadata": {},
   "outputs": [
    {
     "data": {
      "text/html": [
       "<div>\n",
       "<style scoped>\n",
       "    .dataframe tbody tr th:only-of-type {\n",
       "        vertical-align: middle;\n",
       "    }\n",
       "\n",
       "    .dataframe tbody tr th {\n",
       "        vertical-align: top;\n",
       "    }\n",
       "\n",
       "    .dataframe thead th {\n",
       "        text-align: right;\n",
       "    }\n",
       "</style>\n",
       "<table border=\"1\" class=\"dataframe\">\n",
       "  <thead>\n",
       "    <tr style=\"text-align: right;\">\n",
       "      <th></th>\n",
       "      <th>user_id</th>\n",
       "      <th>age</th>\n",
       "      <th>churn_date</th>\n",
       "      <th>city</th>\n",
       "      <th>first_name</th>\n",
       "      <th>last_name</th>\n",
       "      <th>reg_date</th>\n",
       "      <th>tariff</th>\n",
       "    </tr>\n",
       "  </thead>\n",
       "  <tbody>\n",
       "    <tr>\n",
       "      <th>0</th>\n",
       "      <td>1000</td>\n",
       "      <td>52</td>\n",
       "      <td>NaN</td>\n",
       "      <td>Краснодар</td>\n",
       "      <td>Рафаил</td>\n",
       "      <td>Верещагин</td>\n",
       "      <td>2018-05-25</td>\n",
       "      <td>ultra</td>\n",
       "    </tr>\n",
       "    <tr>\n",
       "      <th>1</th>\n",
       "      <td>1001</td>\n",
       "      <td>41</td>\n",
       "      <td>NaN</td>\n",
       "      <td>Москва</td>\n",
       "      <td>Иван</td>\n",
       "      <td>Ежов</td>\n",
       "      <td>2018-11-01</td>\n",
       "      <td>smart</td>\n",
       "    </tr>\n",
       "    <tr>\n",
       "      <th>2</th>\n",
       "      <td>1002</td>\n",
       "      <td>59</td>\n",
       "      <td>NaN</td>\n",
       "      <td>Стерлитамак</td>\n",
       "      <td>Евгений</td>\n",
       "      <td>Абрамович</td>\n",
       "      <td>2018-06-17</td>\n",
       "      <td>smart</td>\n",
       "    </tr>\n",
       "    <tr>\n",
       "      <th>3</th>\n",
       "      <td>1003</td>\n",
       "      <td>23</td>\n",
       "      <td>NaN</td>\n",
       "      <td>Москва</td>\n",
       "      <td>Белла</td>\n",
       "      <td>Белякова</td>\n",
       "      <td>2018-08-17</td>\n",
       "      <td>ultra</td>\n",
       "    </tr>\n",
       "    <tr>\n",
       "      <th>4</th>\n",
       "      <td>1004</td>\n",
       "      <td>68</td>\n",
       "      <td>NaN</td>\n",
       "      <td>Новокузнецк</td>\n",
       "      <td>Татьяна</td>\n",
       "      <td>Авдеенко</td>\n",
       "      <td>2018-05-14</td>\n",
       "      <td>ultra</td>\n",
       "    </tr>\n",
       "    <tr>\n",
       "      <th>5</th>\n",
       "      <td>1005</td>\n",
       "      <td>67</td>\n",
       "      <td>NaN</td>\n",
       "      <td>Набережные Челны</td>\n",
       "      <td>Афанасий</td>\n",
       "      <td>Горлов</td>\n",
       "      <td>2018-01-25</td>\n",
       "      <td>smart</td>\n",
       "    </tr>\n",
       "    <tr>\n",
       "      <th>6</th>\n",
       "      <td>1006</td>\n",
       "      <td>21</td>\n",
       "      <td>NaN</td>\n",
       "      <td>Ульяновск</td>\n",
       "      <td>Леонид</td>\n",
       "      <td>Ермолаев</td>\n",
       "      <td>2018-02-26</td>\n",
       "      <td>smart</td>\n",
       "    </tr>\n",
       "    <tr>\n",
       "      <th>7</th>\n",
       "      <td>1007</td>\n",
       "      <td>65</td>\n",
       "      <td>NaN</td>\n",
       "      <td>Москва</td>\n",
       "      <td>Юна</td>\n",
       "      <td>Березина</td>\n",
       "      <td>2018-04-19</td>\n",
       "      <td>smart</td>\n",
       "    </tr>\n",
       "    <tr>\n",
       "      <th>8</th>\n",
       "      <td>1008</td>\n",
       "      <td>63</td>\n",
       "      <td>NaN</td>\n",
       "      <td>Челябинск</td>\n",
       "      <td>Рустэм</td>\n",
       "      <td>Пономарёв</td>\n",
       "      <td>2018-12-19</td>\n",
       "      <td>smart</td>\n",
       "    </tr>\n",
       "    <tr>\n",
       "      <th>9</th>\n",
       "      <td>1009</td>\n",
       "      <td>24</td>\n",
       "      <td>NaN</td>\n",
       "      <td>Пермь</td>\n",
       "      <td>Василиса</td>\n",
       "      <td>Блинова</td>\n",
       "      <td>2018-03-22</td>\n",
       "      <td>smart</td>\n",
       "    </tr>\n",
       "  </tbody>\n",
       "</table>\n",
       "</div>"
      ],
      "text/plain": [
       "   user_id  age churn_date              city first_name  last_name   reg_date  \\\n",
       "0     1000   52        NaN         Краснодар     Рафаил  Верещагин 2018-05-25   \n",
       "1     1001   41        NaN            Москва       Иван       Ежов 2018-11-01   \n",
       "2     1002   59        NaN       Стерлитамак    Евгений  Абрамович 2018-06-17   \n",
       "3     1003   23        NaN            Москва      Белла   Белякова 2018-08-17   \n",
       "4     1004   68        NaN       Новокузнецк    Татьяна   Авдеенко 2018-05-14   \n",
       "5     1005   67        NaN  Набережные Челны   Афанасий     Горлов 2018-01-25   \n",
       "6     1006   21        NaN         Ульяновск     Леонид   Ермолаев 2018-02-26   \n",
       "7     1007   65        NaN            Москва        Юна   Березина 2018-04-19   \n",
       "8     1008   63        NaN         Челябинск     Рустэм  Пономарёв 2018-12-19   \n",
       "9     1009   24        NaN             Пермь   Василиса    Блинова 2018-03-22   \n",
       "\n",
       "  tariff  \n",
       "0  ultra  \n",
       "1  smart  \n",
       "2  smart  \n",
       "3  ultra  \n",
       "4  ultra  \n",
       "5  smart  \n",
       "6  smart  \n",
       "7  smart  \n",
       "8  smart  \n",
       "9  smart  "
      ]
     },
     "execution_count": 8,
     "metadata": {},
     "output_type": "execute_result"
    }
   ],
   "source": [
    "users.head(10)"
   ]
  },
  {
   "cell_type": "markdown",
   "id": "1f0e405e",
   "metadata": {},
   "source": [
    "- «Мегалайн» всегда округляет секунды до минут, а мегабайты — до гигабайт. Каждый звонок округляется отдельно: даже если он длился всего 1 секунду, будет засчитан как 1 минута.\n",
    "\n",
    "- Для веб-трафика отдельные сессии не считаются. Вместо этого общая сумма за месяц округляется в бо́льшую сторону. Если абонент использует 1025 мегабайт в этом месяце, с него возьмут плату за 2 гигабайта."
   ]
  },
  {
   "cell_type": "code",
   "execution_count": 9,
   "id": "928fa0ac",
   "metadata": {},
   "outputs": [
    {
     "name": "stdout",
     "output_type": "stream",
     "text": [
      "<class 'pandas.core.frame.DataFrame'>\n",
      "RangeIndex: 202607 entries, 0 to 202606\n",
      "Data columns (total 4 columns):\n",
      " #   Column     Non-Null Count   Dtype         \n",
      "---  ------     --------------   -----         \n",
      " 0   id         202607 non-null  object        \n",
      " 1   call_date  202607 non-null  datetime64[ns]\n",
      " 2   duration   202607 non-null  float64       \n",
      " 3   user_id    202607 non-null  int64         \n",
      "dtypes: datetime64[ns](1), float64(1), int64(1), object(1)\n",
      "memory usage: 6.2+ MB\n"
     ]
    }
   ],
   "source": [
    "calls.info()"
   ]
  },
  {
   "cell_type": "code",
   "execution_count": 10,
   "id": "2e381d5b",
   "metadata": {},
   "outputs": [],
   "source": [
    "def duration(call):\n",
    "    if 0 < call < 1:\n",
    "        return 1\n",
    "    else:\n",
    "        return call\n",
    "calls['duration'] = calls['duration'].apply(duration)\n",
    "calls['duration'] = calls['duration'].astype('int') \n",
    "calls = calls.query('duration >= 1')"
   ]
  },
  {
   "cell_type": "markdown",
   "id": "b0e495cb",
   "metadata": {},
   "source": [
    "- **Все звонки, которые длились 0 секунд считаются сброшенными/неотвеченным, их мы уберем, а звонки, которые длились хотя бы 1 секунду будут округлены до 1 минуты, согласно условию тарификации \"Мегалайн\".**"
   ]
  },
  {
   "cell_type": "markdown",
   "id": "1f940b8a",
   "metadata": {},
   "source": [
    "Есть 3 типа пропусков в данных:\n",
    "\n",
    "\n",
    "- **Полностью случайные:** если вероятность встретить пропуск не\n",
    "зависит ни от каких других значений. Ответ на этот вопрос не зависит\n",
    "от характера самого вопроса и от других вопросов анкеты, а сам\n",
    "пропуск легко восстановить по имени.\n",
    "\n",
    "- **Случайные:** если вероятность пропуска зависит от других значений в\n",
    "наборе данных, но не от значений собственного столбца.\n",
    "Пропущенное значение связано с тем, что, например, такой категории\n",
    "не существует.\n",
    "\n",
    "- **Неслучайные:** если вероятность пропуска зависит от других\n",
    "значений, в том числе и от значений собственного столбца.\n",
    "Отсутствующее значение зависит как от характера вопроса, так и от\n",
    "значения переменной в другом столбце.\n"
   ]
  },
  {
   "cell_type": "markdown",
   "id": "25b22961",
   "metadata": {},
   "source": [
    "### **Посчитаем для каждого пользователя:**\n",
    "- количество сделанных звонков и израсходованных минут разговора по месяцам;\n",
    "\n",
    "- количество отправленных сообщений по месяцам;\n",
    "\n",
    "- объем израсходованного интернет-трафика по месяцам;\n",
    "\n",
    "- помесячную выручку с каждого пользователя."
   ]
  },
  {
   "cell_type": "markdown",
   "id": "23dad3d5",
   "metadata": {},
   "source": [
    "**Создадим в 3 датах сетах новый столбец с месяцем пользования**"
   ]
  },
  {
   "cell_type": "code",
   "execution_count": 11,
   "id": "037e7601",
   "metadata": {},
   "outputs": [],
   "source": [
    "calls['month'] = pd.to_datetime(calls['call_date']).dt.month\n",
    "messages['month'] = pd.to_datetime(messages['message_date']).dt.month\n",
    "internet['month'] = pd.to_datetime(internet['session_date']).dt.month"
   ]
  },
  {
   "cell_type": "markdown",
   "id": "04143afe",
   "metadata": {},
   "source": [
    "**Воспользуемся прелестью сводных таблиц и вычислим нужные параметры:**\n",
    "\n",
    "- Группируем даныые **сalls** по  `user_id` и `month`."
   ]
  },
  {
   "cell_type": "code",
   "execution_count": 12,
   "id": "c106e22f",
   "metadata": {},
   "outputs": [
    {
     "data": {
      "text/html": [
       "<div>\n",
       "<style scoped>\n",
       "    .dataframe tbody tr th:only-of-type {\n",
       "        vertical-align: middle;\n",
       "    }\n",
       "\n",
       "    .dataframe tbody tr th {\n",
       "        vertical-align: top;\n",
       "    }\n",
       "\n",
       "    .dataframe thead th {\n",
       "        text-align: right;\n",
       "    }\n",
       "</style>\n",
       "<table border=\"1\" class=\"dataframe\">\n",
       "  <thead>\n",
       "    <tr style=\"text-align: right;\">\n",
       "      <th></th>\n",
       "      <th></th>\n",
       "      <th>calls_count</th>\n",
       "      <th>calls_duration</th>\n",
       "    </tr>\n",
       "    <tr>\n",
       "      <th>user_id</th>\n",
       "      <th>month</th>\n",
       "      <th></th>\n",
       "      <th></th>\n",
       "    </tr>\n",
       "  </thead>\n",
       "  <tbody>\n",
       "    <tr>\n",
       "      <th rowspan=\"5\" valign=\"top\">1000</th>\n",
       "      <th>5</th>\n",
       "      <td>17</td>\n",
       "      <td>143</td>\n",
       "    </tr>\n",
       "    <tr>\n",
       "      <th>6</th>\n",
       "      <td>28</td>\n",
       "      <td>145</td>\n",
       "    </tr>\n",
       "    <tr>\n",
       "      <th>7</th>\n",
       "      <td>41</td>\n",
       "      <td>301</td>\n",
       "    </tr>\n",
       "    <tr>\n",
       "      <th>8</th>\n",
       "      <td>42</td>\n",
       "      <td>368</td>\n",
       "    </tr>\n",
       "    <tr>\n",
       "      <th>9</th>\n",
       "      <td>46</td>\n",
       "      <td>424</td>\n",
       "    </tr>\n",
       "  </tbody>\n",
       "</table>\n",
       "</div>"
      ],
      "text/plain": [
       "               calls_count  calls_duration\n",
       "user_id month                             \n",
       "1000    5               17             143\n",
       "        6               28             145\n",
       "        7               41             301\n",
       "        8               42             368\n",
       "        9               46             424"
      ]
     },
     "execution_count": 12,
     "metadata": {},
     "output_type": "execute_result"
    }
   ],
   "source": [
    "calls_p = calls.pivot_table(index=['user_id', 'month'], aggfunc={'call_date':'count', 'duration':sum}) \n",
    "calls_p.columns = ['calls_count', 'calls_duration']\n",
    "calls_p.head()"
   ]
  },
  {
   "cell_type": "markdown",
   "id": "0c0b3512",
   "metadata": {},
   "source": [
    "- Группируем даныые **messages** по  `user_id` и `month`."
   ]
  },
  {
   "cell_type": "code",
   "execution_count": 13,
   "id": "98de50b5",
   "metadata": {},
   "outputs": [
    {
     "data": {
      "text/html": [
       "<div>\n",
       "<style scoped>\n",
       "    .dataframe tbody tr th:only-of-type {\n",
       "        vertical-align: middle;\n",
       "    }\n",
       "\n",
       "    .dataframe tbody tr th {\n",
       "        vertical-align: top;\n",
       "    }\n",
       "\n",
       "    .dataframe thead th {\n",
       "        text-align: right;\n",
       "    }\n",
       "</style>\n",
       "<table border=\"1\" class=\"dataframe\">\n",
       "  <thead>\n",
       "    <tr style=\"text-align: right;\">\n",
       "      <th></th>\n",
       "      <th></th>\n",
       "      <th>messages_count</th>\n",
       "    </tr>\n",
       "    <tr>\n",
       "      <th>user_id</th>\n",
       "      <th>month</th>\n",
       "      <th></th>\n",
       "    </tr>\n",
       "  </thead>\n",
       "  <tbody>\n",
       "    <tr>\n",
       "      <th rowspan=\"5\" valign=\"top\">1000</th>\n",
       "      <th>5</th>\n",
       "      <td>22</td>\n",
       "    </tr>\n",
       "    <tr>\n",
       "      <th>6</th>\n",
       "      <td>60</td>\n",
       "    </tr>\n",
       "    <tr>\n",
       "      <th>7</th>\n",
       "      <td>75</td>\n",
       "    </tr>\n",
       "    <tr>\n",
       "      <th>8</th>\n",
       "      <td>81</td>\n",
       "    </tr>\n",
       "    <tr>\n",
       "      <th>9</th>\n",
       "      <td>57</td>\n",
       "    </tr>\n",
       "  </tbody>\n",
       "</table>\n",
       "</div>"
      ],
      "text/plain": [
       "               messages_count\n",
       "user_id month                \n",
       "1000    5                  22\n",
       "        6                  60\n",
       "        7                  75\n",
       "        8                  81\n",
       "        9                  57"
      ]
     },
     "execution_count": 13,
     "metadata": {},
     "output_type": "execute_result"
    }
   ],
   "source": [
    "messages_p = messages.pivot_table(index=['user_id', 'month'], aggfunc={'id':'count'})\n",
    "messages_p.columns = ['messages_count']\n",
    "messages_p.head()"
   ]
  },
  {
   "cell_type": "markdown",
   "id": "abe9f447",
   "metadata": {},
   "source": [
    "- Группируем даныые **internet** по  `user_id` и `month`."
   ]
  },
  {
   "cell_type": "code",
   "execution_count": 14,
   "id": "00562870",
   "metadata": {},
   "outputs": [
    {
     "data": {
      "text/html": [
       "<div>\n",
       "<style scoped>\n",
       "    .dataframe tbody tr th:only-of-type {\n",
       "        vertical-align: middle;\n",
       "    }\n",
       "\n",
       "    .dataframe tbody tr th {\n",
       "        vertical-align: top;\n",
       "    }\n",
       "\n",
       "    .dataframe thead th {\n",
       "        text-align: right;\n",
       "    }\n",
       "</style>\n",
       "<table border=\"1\" class=\"dataframe\">\n",
       "  <thead>\n",
       "    <tr style=\"text-align: right;\">\n",
       "      <th></th>\n",
       "      <th></th>\n",
       "      <th>mb_used</th>\n",
       "    </tr>\n",
       "    <tr>\n",
       "      <th>user_id</th>\n",
       "      <th>month</th>\n",
       "      <th></th>\n",
       "    </tr>\n",
       "  </thead>\n",
       "  <tbody>\n",
       "    <tr>\n",
       "      <th rowspan=\"5\" valign=\"top\">1000</th>\n",
       "      <th>5</th>\n",
       "      <td>2253.49</td>\n",
       "    </tr>\n",
       "    <tr>\n",
       "      <th>6</th>\n",
       "      <td>23233.77</td>\n",
       "    </tr>\n",
       "    <tr>\n",
       "      <th>7</th>\n",
       "      <td>14003.64</td>\n",
       "    </tr>\n",
       "    <tr>\n",
       "      <th>8</th>\n",
       "      <td>14055.93</td>\n",
       "    </tr>\n",
       "    <tr>\n",
       "      <th>9</th>\n",
       "      <td>14568.91</td>\n",
       "    </tr>\n",
       "  </tbody>\n",
       "</table>\n",
       "</div>"
      ],
      "text/plain": [
       "                mb_used\n",
       "user_id month          \n",
       "1000    5       2253.49\n",
       "        6      23233.77\n",
       "        7      14003.64\n",
       "        8      14055.93\n",
       "        9      14568.91"
      ]
     },
     "execution_count": 14,
     "metadata": {},
     "output_type": "execute_result"
    }
   ],
   "source": [
    "internet_p = internet.pivot_table(index=['user_id', 'month'], aggfunc={'mb_used':sum})\n",
    "internet_p.columns = ['mb_used']\n",
    "internet_p.head()"
   ]
  },
  {
   "cell_type": "markdown",
   "id": "de4aa883",
   "metadata": {},
   "source": [
    "**- Соединим 3 датасет в единный методом `join` с сортировкой по`month`**"
   ]
  },
  {
   "cell_type": "code",
   "execution_count": 15,
   "id": "7f4c910c",
   "metadata": {},
   "outputs": [],
   "source": [
    "df = internet_p.join([calls_p, messages_p]).reset_index(level='month')"
   ]
  },
  {
   "cell_type": "code",
   "execution_count": 16,
   "id": "c8f2c41b",
   "metadata": {},
   "outputs": [],
   "source": [
    "df = users.join(df, on='user_id')"
   ]
  },
  {
   "cell_type": "code",
   "execution_count": 17,
   "id": "c0af9780",
   "metadata": {},
   "outputs": [
    {
     "data": {
      "text/html": [
       "<div>\n",
       "<style scoped>\n",
       "    .dataframe tbody tr th:only-of-type {\n",
       "        vertical-align: middle;\n",
       "    }\n",
       "\n",
       "    .dataframe tbody tr th {\n",
       "        vertical-align: top;\n",
       "    }\n",
       "\n",
       "    .dataframe thead th {\n",
       "        text-align: right;\n",
       "    }\n",
       "</style>\n",
       "<table border=\"1\" class=\"dataframe\">\n",
       "  <thead>\n",
       "    <tr style=\"text-align: right;\">\n",
       "      <th></th>\n",
       "      <th>user_id</th>\n",
       "      <th>age</th>\n",
       "      <th>churn_date</th>\n",
       "      <th>city</th>\n",
       "      <th>first_name</th>\n",
       "      <th>last_name</th>\n",
       "      <th>reg_date</th>\n",
       "      <th>tariff</th>\n",
       "      <th>month</th>\n",
       "      <th>mb_used</th>\n",
       "      <th>calls_count</th>\n",
       "      <th>calls_duration</th>\n",
       "      <th>messages_count</th>\n",
       "    </tr>\n",
       "  </thead>\n",
       "  <tbody>\n",
       "    <tr>\n",
       "      <th>0</th>\n",
       "      <td>1000</td>\n",
       "      <td>52</td>\n",
       "      <td>NaN</td>\n",
       "      <td>Краснодар</td>\n",
       "      <td>Рафаил</td>\n",
       "      <td>Верещагин</td>\n",
       "      <td>2018-05-25</td>\n",
       "      <td>ultra</td>\n",
       "      <td>5.0</td>\n",
       "      <td>2253.49</td>\n",
       "      <td>17.0</td>\n",
       "      <td>143.0</td>\n",
       "      <td>22.0</td>\n",
       "    </tr>\n",
       "    <tr>\n",
       "      <th>0</th>\n",
       "      <td>1000</td>\n",
       "      <td>52</td>\n",
       "      <td>NaN</td>\n",
       "      <td>Краснодар</td>\n",
       "      <td>Рафаил</td>\n",
       "      <td>Верещагин</td>\n",
       "      <td>2018-05-25</td>\n",
       "      <td>ultra</td>\n",
       "      <td>6.0</td>\n",
       "      <td>23233.77</td>\n",
       "      <td>28.0</td>\n",
       "      <td>145.0</td>\n",
       "      <td>60.0</td>\n",
       "    </tr>\n",
       "    <tr>\n",
       "      <th>0</th>\n",
       "      <td>1000</td>\n",
       "      <td>52</td>\n",
       "      <td>NaN</td>\n",
       "      <td>Краснодар</td>\n",
       "      <td>Рафаил</td>\n",
       "      <td>Верещагин</td>\n",
       "      <td>2018-05-25</td>\n",
       "      <td>ultra</td>\n",
       "      <td>7.0</td>\n",
       "      <td>14003.64</td>\n",
       "      <td>41.0</td>\n",
       "      <td>301.0</td>\n",
       "      <td>75.0</td>\n",
       "    </tr>\n",
       "    <tr>\n",
       "      <th>0</th>\n",
       "      <td>1000</td>\n",
       "      <td>52</td>\n",
       "      <td>NaN</td>\n",
       "      <td>Краснодар</td>\n",
       "      <td>Рафаил</td>\n",
       "      <td>Верещагин</td>\n",
       "      <td>2018-05-25</td>\n",
       "      <td>ultra</td>\n",
       "      <td>8.0</td>\n",
       "      <td>14055.93</td>\n",
       "      <td>42.0</td>\n",
       "      <td>368.0</td>\n",
       "      <td>81.0</td>\n",
       "    </tr>\n",
       "    <tr>\n",
       "      <th>0</th>\n",
       "      <td>1000</td>\n",
       "      <td>52</td>\n",
       "      <td>NaN</td>\n",
       "      <td>Краснодар</td>\n",
       "      <td>Рафаил</td>\n",
       "      <td>Верещагин</td>\n",
       "      <td>2018-05-25</td>\n",
       "      <td>ultra</td>\n",
       "      <td>9.0</td>\n",
       "      <td>14568.91</td>\n",
       "      <td>46.0</td>\n",
       "      <td>424.0</td>\n",
       "      <td>57.0</td>\n",
       "    </tr>\n",
       "    <tr>\n",
       "      <th>0</th>\n",
       "      <td>1000</td>\n",
       "      <td>52</td>\n",
       "      <td>NaN</td>\n",
       "      <td>Краснодар</td>\n",
       "      <td>Рафаил</td>\n",
       "      <td>Верещагин</td>\n",
       "      <td>2018-05-25</td>\n",
       "      <td>ultra</td>\n",
       "      <td>10.0</td>\n",
       "      <td>14702.49</td>\n",
       "      <td>44.0</td>\n",
       "      <td>310.0</td>\n",
       "      <td>73.0</td>\n",
       "    </tr>\n",
       "    <tr>\n",
       "      <th>0</th>\n",
       "      <td>1000</td>\n",
       "      <td>52</td>\n",
       "      <td>NaN</td>\n",
       "      <td>Краснодар</td>\n",
       "      <td>Рафаил</td>\n",
       "      <td>Верещагин</td>\n",
       "      <td>2018-05-25</td>\n",
       "      <td>ultra</td>\n",
       "      <td>11.0</td>\n",
       "      <td>14756.47</td>\n",
       "      <td>37.0</td>\n",
       "      <td>301.0</td>\n",
       "      <td>58.0</td>\n",
       "    </tr>\n",
       "    <tr>\n",
       "      <th>0</th>\n",
       "      <td>1000</td>\n",
       "      <td>52</td>\n",
       "      <td>NaN</td>\n",
       "      <td>Краснодар</td>\n",
       "      <td>Рафаил</td>\n",
       "      <td>Верещагин</td>\n",
       "      <td>2018-05-25</td>\n",
       "      <td>ultra</td>\n",
       "      <td>12.0</td>\n",
       "      <td>9817.61</td>\n",
       "      <td>38.0</td>\n",
       "      <td>296.0</td>\n",
       "      <td>70.0</td>\n",
       "    </tr>\n",
       "    <tr>\n",
       "      <th>1</th>\n",
       "      <td>1001</td>\n",
       "      <td>41</td>\n",
       "      <td>NaN</td>\n",
       "      <td>Москва</td>\n",
       "      <td>Иван</td>\n",
       "      <td>Ежов</td>\n",
       "      <td>2018-11-01</td>\n",
       "      <td>smart</td>\n",
       "      <td>11.0</td>\n",
       "      <td>18429.34</td>\n",
       "      <td>45.0</td>\n",
       "      <td>386.0</td>\n",
       "      <td>NaN</td>\n",
       "    </tr>\n",
       "    <tr>\n",
       "      <th>1</th>\n",
       "      <td>1001</td>\n",
       "      <td>41</td>\n",
       "      <td>NaN</td>\n",
       "      <td>Москва</td>\n",
       "      <td>Иван</td>\n",
       "      <td>Ежов</td>\n",
       "      <td>2018-11-01</td>\n",
       "      <td>smart</td>\n",
       "      <td>12.0</td>\n",
       "      <td>14036.66</td>\n",
       "      <td>47.0</td>\n",
       "      <td>371.0</td>\n",
       "      <td>NaN</td>\n",
       "    </tr>\n",
       "  </tbody>\n",
       "</table>\n",
       "</div>"
      ],
      "text/plain": [
       "   user_id  age churn_date       city first_name  last_name   reg_date tariff  \\\n",
       "0     1000   52        NaN  Краснодар     Рафаил  Верещагин 2018-05-25  ultra   \n",
       "0     1000   52        NaN  Краснодар     Рафаил  Верещагин 2018-05-25  ultra   \n",
       "0     1000   52        NaN  Краснодар     Рафаил  Верещагин 2018-05-25  ultra   \n",
       "0     1000   52        NaN  Краснодар     Рафаил  Верещагин 2018-05-25  ultra   \n",
       "0     1000   52        NaN  Краснодар     Рафаил  Верещагин 2018-05-25  ultra   \n",
       "0     1000   52        NaN  Краснодар     Рафаил  Верещагин 2018-05-25  ultra   \n",
       "0     1000   52        NaN  Краснодар     Рафаил  Верещагин 2018-05-25  ultra   \n",
       "0     1000   52        NaN  Краснодар     Рафаил  Верещагин 2018-05-25  ultra   \n",
       "1     1001   41        NaN     Москва       Иван       Ежов 2018-11-01  smart   \n",
       "1     1001   41        NaN     Москва       Иван       Ежов 2018-11-01  smart   \n",
       "\n",
       "   month   mb_used  calls_count  calls_duration  messages_count  \n",
       "0    5.0   2253.49         17.0           143.0            22.0  \n",
       "0    6.0  23233.77         28.0           145.0            60.0  \n",
       "0    7.0  14003.64         41.0           301.0            75.0  \n",
       "0    8.0  14055.93         42.0           368.0            81.0  \n",
       "0    9.0  14568.91         46.0           424.0            57.0  \n",
       "0   10.0  14702.49         44.0           310.0            73.0  \n",
       "0   11.0  14756.47         37.0           301.0            58.0  \n",
       "0   12.0   9817.61         38.0           296.0            70.0  \n",
       "1   11.0  18429.34         45.0           386.0             NaN  \n",
       "1   12.0  14036.66         47.0           371.0             NaN  "
      ]
     },
     "execution_count": 17,
     "metadata": {},
     "output_type": "execute_result"
    }
   ],
   "source": [
    "df.head(10)"
   ]
  },
  {
   "cell_type": "code",
   "execution_count": 18,
   "id": "42ed870e",
   "metadata": {},
   "outputs": [
    {
     "name": "stdout",
     "output_type": "stream",
     "text": [
      "<class 'pandas.core.frame.DataFrame'>\n",
      "Int64Index: 3206 entries, 0 to 499\n",
      "Data columns (total 13 columns):\n",
      " #   Column          Non-Null Count  Dtype         \n",
      "---  ------          --------------  -----         \n",
      " 0   user_id         3206 non-null   int64         \n",
      " 1   age             3206 non-null   int64         \n",
      " 2   churn_date      188 non-null    object        \n",
      " 3   city            3206 non-null   object        \n",
      " 4   first_name      3206 non-null   object        \n",
      " 5   last_name       3206 non-null   object        \n",
      " 6   reg_date        3206 non-null   datetime64[ns]\n",
      " 7   tariff          3206 non-null   object        \n",
      " 8   month           3203 non-null   float64       \n",
      " 9   mb_used         3203 non-null   float64       \n",
      " 10  calls_count     3157 non-null   float64       \n",
      " 11  calls_duration  3157 non-null   float64       \n",
      " 12  messages_count  2706 non-null   float64       \n",
      "dtypes: datetime64[ns](1), float64(5), int64(2), object(5)\n",
      "memory usage: 350.7+ KB\n"
     ]
    }
   ],
   "source": [
    "df.info()"
   ]
  },
  {
   "cell_type": "code",
   "execution_count": 19,
   "id": "689ae25d",
   "metadata": {},
   "outputs": [],
   "source": [
    "df = df.drop(['churn_date', 'first_name', 'last_name', 'reg_date'], axis='columns')"
   ]
  },
  {
   "cell_type": "code",
   "execution_count": 20,
   "id": "529fbd49",
   "metadata": {},
   "outputs": [],
   "source": [
    "df = df.fillna(0)"
   ]
  },
  {
   "cell_type": "code",
   "execution_count": 21,
   "id": "50e8ca96",
   "metadata": {},
   "outputs": [
    {
     "data": {
      "text/plain": [
       "user_id           0\n",
       "age               0\n",
       "city              0\n",
       "tariff            0\n",
       "month             0\n",
       "mb_used           0\n",
       "calls_count       0\n",
       "calls_duration    0\n",
       "messages_count    0\n",
       "dtype: int64"
      ]
     },
     "execution_count": 21,
     "metadata": {},
     "output_type": "execute_result"
    }
   ],
   "source": [
    "df.dropna(subset = ['month', 'mb_used',], inplace = True)\n",
    "df.isnull().sum()"
   ]
  },
  {
   "cell_type": "markdown",
   "id": "52914f20",
   "metadata": {},
   "source": [
    "\n",
    "**К новому датасету добавим информацию о тарифах из** `tariffs`\n",
    "\n",
    "- Для этого, сменим  название столбца `tariff_name` на `tariff`"
   ]
  },
  {
   "cell_type": "code",
   "execution_count": 22,
   "id": "45471ed1",
   "metadata": {},
   "outputs": [
    {
     "data": {
      "text/plain": [
       "Index(['messages_included', 'mb_per_month_included', 'minutes_included',\n",
       "       'rub_monthly_fee', 'rub_per_gb', 'rub_per_message', 'rub_per_minute',\n",
       "       'tariff'],\n",
       "      dtype='object')"
      ]
     },
     "execution_count": 22,
     "metadata": {},
     "output_type": "execute_result"
    }
   ],
   "source": [
    "tariffs.rename(columns={'tariff_name': 'tariff'}, inplace=True)\n",
    "tariffs.columns"
   ]
  },
  {
   "cell_type": "code",
   "execution_count": 23,
   "id": "95849ebf",
   "metadata": {},
   "outputs": [],
   "source": [
    "df = df.merge(tariffs, on='tariff', how='inner')"
   ]
  },
  {
   "cell_type": "code",
   "execution_count": 24,
   "id": "a11c4bea",
   "metadata": {},
   "outputs": [
    {
     "data": {
      "text/html": [
       "<div>\n",
       "<style scoped>\n",
       "    .dataframe tbody tr th:only-of-type {\n",
       "        vertical-align: middle;\n",
       "    }\n",
       "\n",
       "    .dataframe tbody tr th {\n",
       "        vertical-align: top;\n",
       "    }\n",
       "\n",
       "    .dataframe thead th {\n",
       "        text-align: right;\n",
       "    }\n",
       "</style>\n",
       "<table border=\"1\" class=\"dataframe\">\n",
       "  <thead>\n",
       "    <tr style=\"text-align: right;\">\n",
       "      <th></th>\n",
       "      <th>user_id</th>\n",
       "      <th>age</th>\n",
       "      <th>city</th>\n",
       "      <th>tariff</th>\n",
       "      <th>month</th>\n",
       "      <th>mb_used</th>\n",
       "      <th>calls_count</th>\n",
       "      <th>calls_duration</th>\n",
       "      <th>messages_count</th>\n",
       "      <th>messages_included</th>\n",
       "      <th>mb_per_month_included</th>\n",
       "      <th>minutes_included</th>\n",
       "      <th>rub_monthly_fee</th>\n",
       "      <th>rub_per_gb</th>\n",
       "      <th>rub_per_message</th>\n",
       "      <th>rub_per_minute</th>\n",
       "    </tr>\n",
       "  </thead>\n",
       "  <tbody>\n",
       "    <tr>\n",
       "      <th>0</th>\n",
       "      <td>1000</td>\n",
       "      <td>52</td>\n",
       "      <td>Краснодар</td>\n",
       "      <td>ultra</td>\n",
       "      <td>5.0</td>\n",
       "      <td>2253.49</td>\n",
       "      <td>17.0</td>\n",
       "      <td>143.0</td>\n",
       "      <td>22.0</td>\n",
       "      <td>1000</td>\n",
       "      <td>30720</td>\n",
       "      <td>3000</td>\n",
       "      <td>1950</td>\n",
       "      <td>150</td>\n",
       "      <td>1</td>\n",
       "      <td>1</td>\n",
       "    </tr>\n",
       "    <tr>\n",
       "      <th>1</th>\n",
       "      <td>1000</td>\n",
       "      <td>52</td>\n",
       "      <td>Краснодар</td>\n",
       "      <td>ultra</td>\n",
       "      <td>6.0</td>\n",
       "      <td>23233.77</td>\n",
       "      <td>28.0</td>\n",
       "      <td>145.0</td>\n",
       "      <td>60.0</td>\n",
       "      <td>1000</td>\n",
       "      <td>30720</td>\n",
       "      <td>3000</td>\n",
       "      <td>1950</td>\n",
       "      <td>150</td>\n",
       "      <td>1</td>\n",
       "      <td>1</td>\n",
       "    </tr>\n",
       "    <tr>\n",
       "      <th>2</th>\n",
       "      <td>1000</td>\n",
       "      <td>52</td>\n",
       "      <td>Краснодар</td>\n",
       "      <td>ultra</td>\n",
       "      <td>7.0</td>\n",
       "      <td>14003.64</td>\n",
       "      <td>41.0</td>\n",
       "      <td>301.0</td>\n",
       "      <td>75.0</td>\n",
       "      <td>1000</td>\n",
       "      <td>30720</td>\n",
       "      <td>3000</td>\n",
       "      <td>1950</td>\n",
       "      <td>150</td>\n",
       "      <td>1</td>\n",
       "      <td>1</td>\n",
       "    </tr>\n",
       "    <tr>\n",
       "      <th>3</th>\n",
       "      <td>1000</td>\n",
       "      <td>52</td>\n",
       "      <td>Краснодар</td>\n",
       "      <td>ultra</td>\n",
       "      <td>8.0</td>\n",
       "      <td>14055.93</td>\n",
       "      <td>42.0</td>\n",
       "      <td>368.0</td>\n",
       "      <td>81.0</td>\n",
       "      <td>1000</td>\n",
       "      <td>30720</td>\n",
       "      <td>3000</td>\n",
       "      <td>1950</td>\n",
       "      <td>150</td>\n",
       "      <td>1</td>\n",
       "      <td>1</td>\n",
       "    </tr>\n",
       "    <tr>\n",
       "      <th>4</th>\n",
       "      <td>1000</td>\n",
       "      <td>52</td>\n",
       "      <td>Краснодар</td>\n",
       "      <td>ultra</td>\n",
       "      <td>9.0</td>\n",
       "      <td>14568.91</td>\n",
       "      <td>46.0</td>\n",
       "      <td>424.0</td>\n",
       "      <td>57.0</td>\n",
       "      <td>1000</td>\n",
       "      <td>30720</td>\n",
       "      <td>3000</td>\n",
       "      <td>1950</td>\n",
       "      <td>150</td>\n",
       "      <td>1</td>\n",
       "      <td>1</td>\n",
       "    </tr>\n",
       "  </tbody>\n",
       "</table>\n",
       "</div>"
      ],
      "text/plain": [
       "   user_id  age       city tariff  month   mb_used  calls_count  \\\n",
       "0     1000   52  Краснодар  ultra    5.0   2253.49         17.0   \n",
       "1     1000   52  Краснодар  ultra    6.0  23233.77         28.0   \n",
       "2     1000   52  Краснодар  ultra    7.0  14003.64         41.0   \n",
       "3     1000   52  Краснодар  ultra    8.0  14055.93         42.0   \n",
       "4     1000   52  Краснодар  ultra    9.0  14568.91         46.0   \n",
       "\n",
       "   calls_duration  messages_count  messages_included  mb_per_month_included  \\\n",
       "0           143.0            22.0               1000                  30720   \n",
       "1           145.0            60.0               1000                  30720   \n",
       "2           301.0            75.0               1000                  30720   \n",
       "3           368.0            81.0               1000                  30720   \n",
       "4           424.0            57.0               1000                  30720   \n",
       "\n",
       "   minutes_included  rub_monthly_fee  rub_per_gb  rub_per_message  \\\n",
       "0              3000             1950         150                1   \n",
       "1              3000             1950         150                1   \n",
       "2              3000             1950         150                1   \n",
       "3              3000             1950         150                1   \n",
       "4              3000             1950         150                1   \n",
       "\n",
       "   rub_per_minute  \n",
       "0               1  \n",
       "1               1  \n",
       "2               1  \n",
       "3               1  \n",
       "4               1  "
      ]
     },
     "execution_count": 24,
     "metadata": {},
     "output_type": "execute_result"
    }
   ],
   "source": [
    "df.head()"
   ]
  },
  {
   "cell_type": "code",
   "execution_count": 25,
   "id": "039ba4b1",
   "metadata": {},
   "outputs": [
    {
     "data": {
      "text/plain": [
       "0       30720\n",
       "1       30720\n",
       "2       30720\n",
       "3       30720\n",
       "4       30720\n",
       "        ...  \n",
       "3201    15360\n",
       "3202    15360\n",
       "3203    15360\n",
       "3204    15360\n",
       "3205    15360\n",
       "Name: mb_per_month_included, Length: 3206, dtype: int64"
      ]
     },
     "execution_count": 25,
     "metadata": {},
     "output_type": "execute_result"
    }
   ],
   "source": [
    "df['gb_per_month_included'] = df['mb_per_month_included'] / 1024\n",
    "df['gb_used'] = df['mb_used'] / 1024\n",
    "df['gb_per_month_included'] = df['gb_per_month_included'].astype('int')\n",
    "df.pop('mb_per_month_included')"
   ]
  },
  {
   "cell_type": "markdown",
   "id": "9b7778fe",
   "metadata": {},
   "source": [
    "**Считаем помесячную выручку с каждого пользователя:**\n",
    "\n",
    "- вычтем бесплатный лимит из суммарного количества звонков, сообщений и интернет-трафика; остаток умножим на значение из тарифного плана; прибавим абонентскую плату, соответствующую тарифному плану. "
   ]
  },
  {
   "cell_type": "code",
   "execution_count": 26,
   "id": "4efea393",
   "metadata": {},
   "outputs": [],
   "source": [
    "def revenue(row):\n",
    "    sms = (row['messages_count'] - row['messages_included']) * row['rub_per_message']\n",
    "    mins = (row['calls_duration'] - row['minutes_included']) * row['rub_per_minute']\n",
    "    gb = (row['gb_used'] - row['gb_per_month_included']) * row['rub_per_gb'] \n",
    "    total = 0\n",
    "    for i in [sms, mins, gb]:\n",
    "        if i > 0:\n",
    "            total += i\n",
    "    return total\n",
    "df['tarif_ost'] = df.apply(revenue, axis = 1).astype('int')\n",
    "df['full_paid'] = df['tarif_ost'] + df['rub_monthly_fee'].astype('int')"
   ]
  },
  {
   "cell_type": "code",
   "execution_count": 27,
   "id": "1c994279",
   "metadata": {
    "scrolled": false
   },
   "outputs": [
    {
     "data": {
      "text/html": [
       "<div>\n",
       "<style scoped>\n",
       "    .dataframe tbody tr th:only-of-type {\n",
       "        vertical-align: middle;\n",
       "    }\n",
       "\n",
       "    .dataframe tbody tr th {\n",
       "        vertical-align: top;\n",
       "    }\n",
       "\n",
       "    .dataframe thead th {\n",
       "        text-align: right;\n",
       "    }\n",
       "</style>\n",
       "<table border=\"1\" class=\"dataframe\">\n",
       "  <thead>\n",
       "    <tr style=\"text-align: right;\">\n",
       "      <th></th>\n",
       "      <th>user_id</th>\n",
       "      <th>age</th>\n",
       "      <th>city</th>\n",
       "      <th>tariff</th>\n",
       "      <th>month</th>\n",
       "      <th>mb_used</th>\n",
       "      <th>calls_count</th>\n",
       "      <th>calls_duration</th>\n",
       "      <th>messages_count</th>\n",
       "      <th>messages_included</th>\n",
       "      <th>minutes_included</th>\n",
       "      <th>rub_monthly_fee</th>\n",
       "      <th>rub_per_gb</th>\n",
       "      <th>rub_per_message</th>\n",
       "      <th>rub_per_minute</th>\n",
       "      <th>gb_per_month_included</th>\n",
       "      <th>gb_used</th>\n",
       "      <th>tarif_ost</th>\n",
       "      <th>full_paid</th>\n",
       "    </tr>\n",
       "  </thead>\n",
       "  <tbody>\n",
       "  </tbody>\n",
       "</table>\n",
       "</div>"
      ],
      "text/plain": [
       "Empty DataFrame\n",
       "Columns: [user_id, age, city, tariff, month, mb_used, calls_count, calls_duration, messages_count, messages_included, minutes_included, rub_monthly_fee, rub_per_gb, rub_per_message, rub_per_minute, gb_per_month_included, gb_used, tarif_ost, full_paid]\n",
       "Index: []"
      ]
     },
     "metadata": {},
     "output_type": "display_data"
    },
    {
     "data": {
      "text/html": [
       "<div>\n",
       "<style scoped>\n",
       "    .dataframe tbody tr th:only-of-type {\n",
       "        vertical-align: middle;\n",
       "    }\n",
       "\n",
       "    .dataframe tbody tr th {\n",
       "        vertical-align: top;\n",
       "    }\n",
       "\n",
       "    .dataframe thead th {\n",
       "        text-align: right;\n",
       "    }\n",
       "</style>\n",
       "<table border=\"1\" class=\"dataframe\">\n",
       "  <thead>\n",
       "    <tr style=\"text-align: right;\">\n",
       "      <th></th>\n",
       "      <th>user_id</th>\n",
       "      <th>age</th>\n",
       "      <th>city</th>\n",
       "      <th>tariff</th>\n",
       "      <th>month</th>\n",
       "      <th>mb_used</th>\n",
       "      <th>calls_count</th>\n",
       "      <th>calls_duration</th>\n",
       "      <th>messages_count</th>\n",
       "      <th>messages_included</th>\n",
       "      <th>minutes_included</th>\n",
       "      <th>rub_monthly_fee</th>\n",
       "      <th>rub_per_gb</th>\n",
       "      <th>rub_per_message</th>\n",
       "      <th>rub_per_minute</th>\n",
       "      <th>gb_per_month_included</th>\n",
       "      <th>gb_used</th>\n",
       "      <th>tarif_ost</th>\n",
       "      <th>full_paid</th>\n",
       "    </tr>\n",
       "  </thead>\n",
       "  <tbody>\n",
       "    <tr>\n",
       "      <th>0</th>\n",
       "      <td>1000</td>\n",
       "      <td>52</td>\n",
       "      <td>Краснодар</td>\n",
       "      <td>ultra</td>\n",
       "      <td>5.0</td>\n",
       "      <td>2253.49</td>\n",
       "      <td>17.0</td>\n",
       "      <td>143.0</td>\n",
       "      <td>22.0</td>\n",
       "      <td>1000</td>\n",
       "      <td>3000</td>\n",
       "      <td>1950</td>\n",
       "      <td>150</td>\n",
       "      <td>1</td>\n",
       "      <td>1</td>\n",
       "      <td>30</td>\n",
       "      <td>2.200674</td>\n",
       "      <td>0</td>\n",
       "      <td>1950</td>\n",
       "    </tr>\n",
       "    <tr>\n",
       "      <th>1</th>\n",
       "      <td>1000</td>\n",
       "      <td>52</td>\n",
       "      <td>Краснодар</td>\n",
       "      <td>ultra</td>\n",
       "      <td>6.0</td>\n",
       "      <td>23233.77</td>\n",
       "      <td>28.0</td>\n",
       "      <td>145.0</td>\n",
       "      <td>60.0</td>\n",
       "      <td>1000</td>\n",
       "      <td>3000</td>\n",
       "      <td>1950</td>\n",
       "      <td>150</td>\n",
       "      <td>1</td>\n",
       "      <td>1</td>\n",
       "      <td>30</td>\n",
       "      <td>22.689229</td>\n",
       "      <td>0</td>\n",
       "      <td>1950</td>\n",
       "    </tr>\n",
       "    <tr>\n",
       "      <th>2</th>\n",
       "      <td>1000</td>\n",
       "      <td>52</td>\n",
       "      <td>Краснодар</td>\n",
       "      <td>ultra</td>\n",
       "      <td>7.0</td>\n",
       "      <td>14003.64</td>\n",
       "      <td>41.0</td>\n",
       "      <td>301.0</td>\n",
       "      <td>75.0</td>\n",
       "      <td>1000</td>\n",
       "      <td>3000</td>\n",
       "      <td>1950</td>\n",
       "      <td>150</td>\n",
       "      <td>1</td>\n",
       "      <td>1</td>\n",
       "      <td>30</td>\n",
       "      <td>13.675430</td>\n",
       "      <td>0</td>\n",
       "      <td>1950</td>\n",
       "    </tr>\n",
       "    <tr>\n",
       "      <th>3</th>\n",
       "      <td>1000</td>\n",
       "      <td>52</td>\n",
       "      <td>Краснодар</td>\n",
       "      <td>ultra</td>\n",
       "      <td>8.0</td>\n",
       "      <td>14055.93</td>\n",
       "      <td>42.0</td>\n",
       "      <td>368.0</td>\n",
       "      <td>81.0</td>\n",
       "      <td>1000</td>\n",
       "      <td>3000</td>\n",
       "      <td>1950</td>\n",
       "      <td>150</td>\n",
       "      <td>1</td>\n",
       "      <td>1</td>\n",
       "      <td>30</td>\n",
       "      <td>13.726494</td>\n",
       "      <td>0</td>\n",
       "      <td>1950</td>\n",
       "    </tr>\n",
       "    <tr>\n",
       "      <th>4</th>\n",
       "      <td>1000</td>\n",
       "      <td>52</td>\n",
       "      <td>Краснодар</td>\n",
       "      <td>ultra</td>\n",
       "      <td>9.0</td>\n",
       "      <td>14568.91</td>\n",
       "      <td>46.0</td>\n",
       "      <td>424.0</td>\n",
       "      <td>57.0</td>\n",
       "      <td>1000</td>\n",
       "      <td>3000</td>\n",
       "      <td>1950</td>\n",
       "      <td>150</td>\n",
       "      <td>1</td>\n",
       "      <td>1</td>\n",
       "      <td>30</td>\n",
       "      <td>14.227451</td>\n",
       "      <td>0</td>\n",
       "      <td>1950</td>\n",
       "    </tr>\n",
       "    <tr>\n",
       "      <th>5</th>\n",
       "      <td>1000</td>\n",
       "      <td>52</td>\n",
       "      <td>Краснодар</td>\n",
       "      <td>ultra</td>\n",
       "      <td>10.0</td>\n",
       "      <td>14702.49</td>\n",
       "      <td>44.0</td>\n",
       "      <td>310.0</td>\n",
       "      <td>73.0</td>\n",
       "      <td>1000</td>\n",
       "      <td>3000</td>\n",
       "      <td>1950</td>\n",
       "      <td>150</td>\n",
       "      <td>1</td>\n",
       "      <td>1</td>\n",
       "      <td>30</td>\n",
       "      <td>14.357900</td>\n",
       "      <td>0</td>\n",
       "      <td>1950</td>\n",
       "    </tr>\n",
       "    <tr>\n",
       "      <th>6</th>\n",
       "      <td>1000</td>\n",
       "      <td>52</td>\n",
       "      <td>Краснодар</td>\n",
       "      <td>ultra</td>\n",
       "      <td>11.0</td>\n",
       "      <td>14756.47</td>\n",
       "      <td>37.0</td>\n",
       "      <td>301.0</td>\n",
       "      <td>58.0</td>\n",
       "      <td>1000</td>\n",
       "      <td>3000</td>\n",
       "      <td>1950</td>\n",
       "      <td>150</td>\n",
       "      <td>1</td>\n",
       "      <td>1</td>\n",
       "      <td>30</td>\n",
       "      <td>14.410615</td>\n",
       "      <td>0</td>\n",
       "      <td>1950</td>\n",
       "    </tr>\n",
       "    <tr>\n",
       "      <th>7</th>\n",
       "      <td>1000</td>\n",
       "      <td>52</td>\n",
       "      <td>Краснодар</td>\n",
       "      <td>ultra</td>\n",
       "      <td>12.0</td>\n",
       "      <td>9817.61</td>\n",
       "      <td>38.0</td>\n",
       "      <td>296.0</td>\n",
       "      <td>70.0</td>\n",
       "      <td>1000</td>\n",
       "      <td>3000</td>\n",
       "      <td>1950</td>\n",
       "      <td>150</td>\n",
       "      <td>1</td>\n",
       "      <td>1</td>\n",
       "      <td>30</td>\n",
       "      <td>9.587510</td>\n",
       "      <td>0</td>\n",
       "      <td>1950</td>\n",
       "    </tr>\n",
       "    <tr>\n",
       "      <th>8</th>\n",
       "      <td>1003</td>\n",
       "      <td>23</td>\n",
       "      <td>Москва</td>\n",
       "      <td>ultra</td>\n",
       "      <td>8.0</td>\n",
       "      <td>8565.21</td>\n",
       "      <td>43.0</td>\n",
       "      <td>342.0</td>\n",
       "      <td>37.0</td>\n",
       "      <td>1000</td>\n",
       "      <td>3000</td>\n",
       "      <td>1950</td>\n",
       "      <td>150</td>\n",
       "      <td>1</td>\n",
       "      <td>1</td>\n",
       "      <td>30</td>\n",
       "      <td>8.364463</td>\n",
       "      <td>0</td>\n",
       "      <td>1950</td>\n",
       "    </tr>\n",
       "    <tr>\n",
       "      <th>9</th>\n",
       "      <td>1003</td>\n",
       "      <td>23</td>\n",
       "      <td>Москва</td>\n",
       "      <td>ultra</td>\n",
       "      <td>9.0</td>\n",
       "      <td>12468.87</td>\n",
       "      <td>105.0</td>\n",
       "      <td>862.0</td>\n",
       "      <td>91.0</td>\n",
       "      <td>1000</td>\n",
       "      <td>3000</td>\n",
       "      <td>1950</td>\n",
       "      <td>150</td>\n",
       "      <td>1</td>\n",
       "      <td>1</td>\n",
       "      <td>30</td>\n",
       "      <td>12.176631</td>\n",
       "      <td>0</td>\n",
       "      <td>1950</td>\n",
       "    </tr>\n",
       "  </tbody>\n",
       "</table>\n",
       "</div>"
      ],
      "text/plain": [
       "   user_id  age       city tariff  month   mb_used  calls_count  \\\n",
       "0     1000   52  Краснодар  ultra    5.0   2253.49         17.0   \n",
       "1     1000   52  Краснодар  ultra    6.0  23233.77         28.0   \n",
       "2     1000   52  Краснодар  ultra    7.0  14003.64         41.0   \n",
       "3     1000   52  Краснодар  ultra    8.0  14055.93         42.0   \n",
       "4     1000   52  Краснодар  ultra    9.0  14568.91         46.0   \n",
       "5     1000   52  Краснодар  ultra   10.0  14702.49         44.0   \n",
       "6     1000   52  Краснодар  ultra   11.0  14756.47         37.0   \n",
       "7     1000   52  Краснодар  ultra   12.0   9817.61         38.0   \n",
       "8     1003   23     Москва  ultra    8.0   8565.21         43.0   \n",
       "9     1003   23     Москва  ultra    9.0  12468.87        105.0   \n",
       "\n",
       "   calls_duration  messages_count  messages_included  minutes_included  \\\n",
       "0           143.0            22.0               1000              3000   \n",
       "1           145.0            60.0               1000              3000   \n",
       "2           301.0            75.0               1000              3000   \n",
       "3           368.0            81.0               1000              3000   \n",
       "4           424.0            57.0               1000              3000   \n",
       "5           310.0            73.0               1000              3000   \n",
       "6           301.0            58.0               1000              3000   \n",
       "7           296.0            70.0               1000              3000   \n",
       "8           342.0            37.0               1000              3000   \n",
       "9           862.0            91.0               1000              3000   \n",
       "\n",
       "   rub_monthly_fee  rub_per_gb  rub_per_message  rub_per_minute  \\\n",
       "0             1950         150                1               1   \n",
       "1             1950         150                1               1   \n",
       "2             1950         150                1               1   \n",
       "3             1950         150                1               1   \n",
       "4             1950         150                1               1   \n",
       "5             1950         150                1               1   \n",
       "6             1950         150                1               1   \n",
       "7             1950         150                1               1   \n",
       "8             1950         150                1               1   \n",
       "9             1950         150                1               1   \n",
       "\n",
       "   gb_per_month_included    gb_used  tarif_ost  full_paid  \n",
       "0                     30   2.200674          0       1950  \n",
       "1                     30  22.689229          0       1950  \n",
       "2                     30  13.675430          0       1950  \n",
       "3                     30  13.726494          0       1950  \n",
       "4                     30  14.227451          0       1950  \n",
       "5                     30  14.357900          0       1950  \n",
       "6                     30  14.410615          0       1950  \n",
       "7                     30   9.587510          0       1950  \n",
       "8                     30   8.364463          0       1950  \n",
       "9                     30  12.176631          0       1950  "
      ]
     },
     "execution_count": 27,
     "metadata": {},
     "output_type": "execute_result"
    }
   ],
   "source": [
    "df = df[df['month'] != 0]\n",
    "display(df.loc[df['month'] == 0])\n",
    "df.head(10)"
   ]
  },
  {
   "cell_type": "markdown",
   "id": "c3214ba5",
   "metadata": {},
   "source": [
    "## **Проанализируем данные**"
   ]
  },
  {
   "cell_type": "markdown",
   "id": "609f3f86",
   "metadata": {},
   "source": [
    "- Опишем поведение клиентов оператора, исходя из выборки. \n",
    "\n",
    "- Сколько минут разговора, сколько сообщений и какой объём интернет-трафика требуется пользователям каждого тарифа в месяц? \n",
    "\n",
    "- Посчитаем среднее количество, дисперсию и стандартное отклонение. Построим гистограмму."
   ]
  },
  {
   "cell_type": "markdown",
   "id": "9f72bd0c",
   "metadata": {},
   "source": [
    "Сразу отметим, что большая часть пользователей пользуется тарифом `Smart`, в 2 раза меньше `Ultra`"
   ]
  },
  {
   "cell_type": "code",
   "execution_count": 28,
   "id": "cab40da4",
   "metadata": {},
   "outputs": [
    {
     "data": {
      "text/plain": [
       "smart    2228\n",
       "ultra     975\n",
       "Name: tariff, dtype: int64"
      ]
     },
     "execution_count": 28,
     "metadata": {},
     "output_type": "execute_result"
    }
   ],
   "source": [
    "df['tariff'].value_counts()"
   ]
  },
  {
   "cell_type": "markdown",
   "id": "9da684aa",
   "metadata": {},
   "source": [
    "- **Вызовем панду  `describe()`  для просмотра некоторых основных статистических данных.**"
   ]
  },
  {
   "cell_type": "markdown",
   "id": "8bda35f7",
   "metadata": {},
   "source": [
    "### Посчитаем среднее количество, дисперсию и стандартное отклонение."
   ]
  },
  {
   "cell_type": "code",
   "execution_count": 29,
   "id": "64f38cca",
   "metadata": {},
   "outputs": [
    {
     "data": {
      "text/html": [
       "<div>\n",
       "<style scoped>\n",
       "    .dataframe tbody tr th:only-of-type {\n",
       "        vertical-align: middle;\n",
       "    }\n",
       "\n",
       "    .dataframe tbody tr th {\n",
       "        vertical-align: top;\n",
       "    }\n",
       "\n",
       "    .dataframe thead tr th {\n",
       "        text-align: left;\n",
       "    }\n",
       "\n",
       "    .dataframe thead tr:last-of-type th {\n",
       "        text-align: right;\n",
       "    }\n",
       "</style>\n",
       "<table border=\"1\" class=\"dataframe\">\n",
       "  <thead>\n",
       "    <tr>\n",
       "      <th></th>\n",
       "      <th colspan=\"3\" halign=\"left\">calls_duration</th>\n",
       "      <th colspan=\"3\" halign=\"left\">mb_used</th>\n",
       "      <th colspan=\"3\" halign=\"left\">messages_count</th>\n",
       "    </tr>\n",
       "    <tr>\n",
       "      <th></th>\n",
       "      <th>mean</th>\n",
       "      <th>std</th>\n",
       "      <th>var</th>\n",
       "      <th>mean</th>\n",
       "      <th>std</th>\n",
       "      <th>var</th>\n",
       "      <th>mean</th>\n",
       "      <th>std</th>\n",
       "      <th>var</th>\n",
       "    </tr>\n",
       "    <tr>\n",
       "      <th>month</th>\n",
       "      <th></th>\n",
       "      <th></th>\n",
       "      <th></th>\n",
       "      <th></th>\n",
       "      <th></th>\n",
       "      <th></th>\n",
       "      <th></th>\n",
       "      <th></th>\n",
       "      <th></th>\n",
       "    </tr>\n",
       "  </thead>\n",
       "  <tbody>\n",
       "    <tr>\n",
       "      <th>1.0</th>\n",
       "      <td>383.888889</td>\n",
       "      <td>240.430055</td>\n",
       "      <td>57806.611111</td>\n",
       "      <td>13140.681111</td>\n",
       "      <td>6865.346875</td>\n",
       "      <td>4.713299e+07</td>\n",
       "      <td>33.777778</td>\n",
       "      <td>30.670742</td>\n",
       "      <td>940.694444</td>\n",
       "    </tr>\n",
       "    <tr>\n",
       "      <th>2.0</th>\n",
       "      <td>281.500000</td>\n",
       "      <td>270.849413</td>\n",
       "      <td>73359.404762</td>\n",
       "      <td>12846.477273</td>\n",
       "      <td>10473.403015</td>\n",
       "      <td>1.096922e+08</td>\n",
       "      <td>23.727273</td>\n",
       "      <td>27.308087</td>\n",
       "      <td>745.731602</td>\n",
       "    </tr>\n",
       "    <tr>\n",
       "      <th>3.0</th>\n",
       "      <td>438.432432</td>\n",
       "      <td>299.608591</td>\n",
       "      <td>89765.307808</td>\n",
       "      <td>17535.550270</td>\n",
       "      <td>10951.785885</td>\n",
       "      <td>1.199416e+08</td>\n",
       "      <td>32.297297</td>\n",
       "      <td>41.621886</td>\n",
       "      <td>1732.381381</td>\n",
       "    </tr>\n",
       "    <tr>\n",
       "      <th>4.0</th>\n",
       "      <td>409.418182</td>\n",
       "      <td>240.441545</td>\n",
       "      <td>57812.136700</td>\n",
       "      <td>16828.134364</td>\n",
       "      <td>9718.649845</td>\n",
       "      <td>9.445215e+07</td>\n",
       "      <td>31.563636</td>\n",
       "      <td>37.513831</td>\n",
       "      <td>1407.287542</td>\n",
       "    </tr>\n",
       "    <tr>\n",
       "      <th>5.0</th>\n",
       "      <td>459.939394</td>\n",
       "      <td>259.153764</td>\n",
       "      <td>67160.673193</td>\n",
       "      <td>19656.534091</td>\n",
       "      <td>9829.620332</td>\n",
       "      <td>9.662144e+07</td>\n",
       "      <td>38.106061</td>\n",
       "      <td>40.561114</td>\n",
       "      <td>1645.203963</td>\n",
       "    </tr>\n",
       "    <tr>\n",
       "      <th>6.0</th>\n",
       "      <td>431.542169</td>\n",
       "      <td>272.213658</td>\n",
       "      <td>74100.275639</td>\n",
       "      <td>19152.950602</td>\n",
       "      <td>9109.904861</td>\n",
       "      <td>8.299037e+07</td>\n",
       "      <td>41.771084</td>\n",
       "      <td>44.836920</td>\n",
       "      <td>2010.349398</td>\n",
       "    </tr>\n",
       "    <tr>\n",
       "      <th>7.0</th>\n",
       "      <td>490.922222</td>\n",
       "      <td>274.933832</td>\n",
       "      <td>75588.611860</td>\n",
       "      <td>20723.394778</td>\n",
       "      <td>9883.022284</td>\n",
       "      <td>9.767413e+07</td>\n",
       "      <td>49.988889</td>\n",
       "      <td>48.957329</td>\n",
       "      <td>2396.820100</td>\n",
       "    </tr>\n",
       "    <tr>\n",
       "      <th>8.0</th>\n",
       "      <td>458.858491</td>\n",
       "      <td>280.527240</td>\n",
       "      <td>78695.532165</td>\n",
       "      <td>19760.734434</td>\n",
       "      <td>10349.849601</td>\n",
       "      <td>1.071194e+08</td>\n",
       "      <td>48.509434</td>\n",
       "      <td>46.817629</td>\n",
       "      <td>2191.890386</td>\n",
       "    </tr>\n",
       "    <tr>\n",
       "      <th>9.0</th>\n",
       "      <td>484.815789</td>\n",
       "      <td>291.153840</td>\n",
       "      <td>84770.558687</td>\n",
       "      <td>19372.735702</td>\n",
       "      <td>9353.599420</td>\n",
       "      <td>8.748982e+07</td>\n",
       "      <td>52.464912</td>\n",
       "      <td>46.564292</td>\n",
       "      <td>2168.233271</td>\n",
       "    </tr>\n",
       "    <tr>\n",
       "      <th>10.0</th>\n",
       "      <td>501.040984</td>\n",
       "      <td>292.387278</td>\n",
       "      <td>85490.320621</td>\n",
       "      <td>20209.643361</td>\n",
       "      <td>9671.980860</td>\n",
       "      <td>9.354721e+07</td>\n",
       "      <td>58.622951</td>\n",
       "      <td>52.104683</td>\n",
       "      <td>2714.897981</td>\n",
       "    </tr>\n",
       "    <tr>\n",
       "      <th>11.0</th>\n",
       "      <td>486.120301</td>\n",
       "      <td>278.571628</td>\n",
       "      <td>77602.152085</td>\n",
       "      <td>19935.585489</td>\n",
       "      <td>9793.580544</td>\n",
       "      <td>9.591422e+07</td>\n",
       "      <td>55.992481</td>\n",
       "      <td>49.902252</td>\n",
       "      <td>2490.234792</td>\n",
       "    </tr>\n",
       "    <tr>\n",
       "      <th>12.0</th>\n",
       "      <td>532.355072</td>\n",
       "      <td>306.489180</td>\n",
       "      <td>93935.617529</td>\n",
       "      <td>21951.094130</td>\n",
       "      <td>10247.207641</td>\n",
       "      <td>1.050053e+08</td>\n",
       "      <td>60.768116</td>\n",
       "      <td>51.943441</td>\n",
       "      <td>2698.121020</td>\n",
       "    </tr>\n",
       "  </tbody>\n",
       "</table>\n",
       "</div>"
      ],
      "text/plain": [
       "      calls_duration                                 mb_used                \\\n",
       "                mean         std           var          mean           std   \n",
       "month                                                                        \n",
       "1.0       383.888889  240.430055  57806.611111  13140.681111   6865.346875   \n",
       "2.0       281.500000  270.849413  73359.404762  12846.477273  10473.403015   \n",
       "3.0       438.432432  299.608591  89765.307808  17535.550270  10951.785885   \n",
       "4.0       409.418182  240.441545  57812.136700  16828.134364   9718.649845   \n",
       "5.0       459.939394  259.153764  67160.673193  19656.534091   9829.620332   \n",
       "6.0       431.542169  272.213658  74100.275639  19152.950602   9109.904861   \n",
       "7.0       490.922222  274.933832  75588.611860  20723.394778   9883.022284   \n",
       "8.0       458.858491  280.527240  78695.532165  19760.734434  10349.849601   \n",
       "9.0       484.815789  291.153840  84770.558687  19372.735702   9353.599420   \n",
       "10.0      501.040984  292.387278  85490.320621  20209.643361   9671.980860   \n",
       "11.0      486.120301  278.571628  77602.152085  19935.585489   9793.580544   \n",
       "12.0      532.355072  306.489180  93935.617529  21951.094130  10247.207641   \n",
       "\n",
       "                    messages_count                          \n",
       "                var           mean        std          var  \n",
       "month                                                       \n",
       "1.0    4.713299e+07      33.777778  30.670742   940.694444  \n",
       "2.0    1.096922e+08      23.727273  27.308087   745.731602  \n",
       "3.0    1.199416e+08      32.297297  41.621886  1732.381381  \n",
       "4.0    9.445215e+07      31.563636  37.513831  1407.287542  \n",
       "5.0    9.662144e+07      38.106061  40.561114  1645.203963  \n",
       "6.0    8.299037e+07      41.771084  44.836920  2010.349398  \n",
       "7.0    9.767413e+07      49.988889  48.957329  2396.820100  \n",
       "8.0    1.071194e+08      48.509434  46.817629  2191.890386  \n",
       "9.0    8.748982e+07      52.464912  46.564292  2168.233271  \n",
       "10.0   9.354721e+07      58.622951  52.104683  2714.897981  \n",
       "11.0   9.591422e+07      55.992481  49.902252  2490.234792  \n",
       "12.0   1.050053e+08      60.768116  51.943441  2698.121020  "
      ]
     },
     "execution_count": 29,
     "metadata": {},
     "output_type": "execute_result"
    }
   ],
   "source": [
    "ultra = (df\n",
    "      .query('tariff == \"ultra\"')\n",
    "      .pivot_table(index='month', values=('calls_duration','messages_count','mb_used'), aggfunc=('mean', 'std', 'var'))    \n",
    ")\n",
    "ultra"
   ]
  },
  {
   "cell_type": "code",
   "execution_count": 30,
   "id": "87277d60",
   "metadata": {},
   "outputs": [
    {
     "data": {
      "text/html": [
       "<div>\n",
       "<style scoped>\n",
       "    .dataframe tbody tr th:only-of-type {\n",
       "        vertical-align: middle;\n",
       "    }\n",
       "\n",
       "    .dataframe tbody tr th {\n",
       "        vertical-align: top;\n",
       "    }\n",
       "\n",
       "    .dataframe thead tr th {\n",
       "        text-align: left;\n",
       "    }\n",
       "\n",
       "    .dataframe thead tr:last-of-type th {\n",
       "        text-align: right;\n",
       "    }\n",
       "</style>\n",
       "<table border=\"1\" class=\"dataframe\">\n",
       "  <thead>\n",
       "    <tr>\n",
       "      <th></th>\n",
       "      <th colspan=\"3\" halign=\"left\">calls_duration</th>\n",
       "      <th colspan=\"3\" halign=\"left\">mb_used</th>\n",
       "      <th colspan=\"3\" halign=\"left\">messages_count</th>\n",
       "    </tr>\n",
       "    <tr>\n",
       "      <th></th>\n",
       "      <th>mean</th>\n",
       "      <th>std</th>\n",
       "      <th>var</th>\n",
       "      <th>mean</th>\n",
       "      <th>std</th>\n",
       "      <th>var</th>\n",
       "      <th>mean</th>\n",
       "      <th>std</th>\n",
       "      <th>var</th>\n",
       "    </tr>\n",
       "    <tr>\n",
       "      <th>month</th>\n",
       "      <th></th>\n",
       "      <th></th>\n",
       "      <th></th>\n",
       "      <th></th>\n",
       "      <th></th>\n",
       "      <th></th>\n",
       "      <th></th>\n",
       "      <th></th>\n",
       "      <th></th>\n",
       "    </tr>\n",
       "  </thead>\n",
       "  <tbody>\n",
       "    <tr>\n",
       "      <th>1.0</th>\n",
       "      <td>183.294118</td>\n",
       "      <td>139.470759</td>\n",
       "      <td>19452.092692</td>\n",
       "      <td>8513.717647</td>\n",
       "      <td>6444.681014</td>\n",
       "      <td>4.153391e+07</td>\n",
       "      <td>18.235294</td>\n",
       "      <td>16.197753</td>\n",
       "      <td>262.367201</td>\n",
       "    </tr>\n",
       "    <tr>\n",
       "      <th>2.0</th>\n",
       "      <td>267.896552</td>\n",
       "      <td>170.884971</td>\n",
       "      <td>29201.673321</td>\n",
       "      <td>11597.054310</td>\n",
       "      <td>6247.353833</td>\n",
       "      <td>3.902943e+07</td>\n",
       "      <td>24.086207</td>\n",
       "      <td>21.750809</td>\n",
       "      <td>473.097701</td>\n",
       "    </tr>\n",
       "    <tr>\n",
       "      <th>3.0</th>\n",
       "      <td>348.922078</td>\n",
       "      <td>172.655404</td>\n",
       "      <td>29809.888585</td>\n",
       "      <td>15104.159091</td>\n",
       "      <td>5828.237537</td>\n",
       "      <td>3.396835e+07</td>\n",
       "      <td>31.857143</td>\n",
       "      <td>26.804710</td>\n",
       "      <td>718.492481</td>\n",
       "    </tr>\n",
       "    <tr>\n",
       "      <th>4.0</th>\n",
       "      <td>328.160714</td>\n",
       "      <td>167.109855</td>\n",
       "      <td>27925.703668</td>\n",
       "      <td>13462.180625</td>\n",
       "      <td>5698.249092</td>\n",
       "      <td>3.247004e+07</td>\n",
       "      <td>30.741071</td>\n",
       "      <td>24.538532</td>\n",
       "      <td>602.139559</td>\n",
       "    </tr>\n",
       "    <tr>\n",
       "      <th>5.0</th>\n",
       "      <td>346.099291</td>\n",
       "      <td>167.677339</td>\n",
       "      <td>28115.690071</td>\n",
       "      <td>15805.184326</td>\n",
       "      <td>5978.231725</td>\n",
       "      <td>3.573925e+07</td>\n",
       "      <td>33.773050</td>\n",
       "      <td>27.036845</td>\n",
       "      <td>730.990983</td>\n",
       "    </tr>\n",
       "    <tr>\n",
       "      <th>6.0</th>\n",
       "      <td>353.914634</td>\n",
       "      <td>157.296110</td>\n",
       "      <td>24742.066288</td>\n",
       "      <td>15794.647988</td>\n",
       "      <td>5791.155586</td>\n",
       "      <td>3.353748e+07</td>\n",
       "      <td>33.402439</td>\n",
       "      <td>28.404337</td>\n",
       "      <td>806.806374</td>\n",
       "    </tr>\n",
       "    <tr>\n",
       "      <th>7.0</th>\n",
       "      <td>365.368159</td>\n",
       "      <td>161.244453</td>\n",
       "      <td>25999.773781</td>\n",
       "      <td>15743.150348</td>\n",
       "      <td>5897.154446</td>\n",
       "      <td>3.477643e+07</td>\n",
       "      <td>33.751244</td>\n",
       "      <td>28.282288</td>\n",
       "      <td>799.887811</td>\n",
       "    </tr>\n",
       "    <tr>\n",
       "      <th>8.0</th>\n",
       "      <td>378.555556</td>\n",
       "      <td>166.460112</td>\n",
       "      <td>27708.969003</td>\n",
       "      <td>16681.706068</td>\n",
       "      <td>5498.387304</td>\n",
       "      <td>3.023226e+07</td>\n",
       "      <td>33.777778</td>\n",
       "      <td>28.935510</td>\n",
       "      <td>837.263710</td>\n",
       "    </tr>\n",
       "    <tr>\n",
       "      <th>9.0</th>\n",
       "      <td>383.326923</td>\n",
       "      <td>164.507915</td>\n",
       "      <td>27062.854099</td>\n",
       "      <td>16303.578808</td>\n",
       "      <td>5196.115749</td>\n",
       "      <td>2.699962e+07</td>\n",
       "      <td>33.638462</td>\n",
       "      <td>28.117927</td>\n",
       "      <td>790.617820</td>\n",
       "    </tr>\n",
       "    <tr>\n",
       "      <th>10.0</th>\n",
       "      <td>381.340136</td>\n",
       "      <td>169.152535</td>\n",
       "      <td>28612.580158</td>\n",
       "      <td>16757.122891</td>\n",
       "      <td>5859.384492</td>\n",
       "      <td>3.433239e+07</td>\n",
       "      <td>33.765306</td>\n",
       "      <td>28.567673</td>\n",
       "      <td>816.111966</td>\n",
       "    </tr>\n",
       "    <tr>\n",
       "      <th>11.0</th>\n",
       "      <td>389.155063</td>\n",
       "      <td>159.711500</td>\n",
       "      <td>25507.763181</td>\n",
       "      <td>16895.696646</td>\n",
       "      <td>5340.273416</td>\n",
       "      <td>2.851852e+07</td>\n",
       "      <td>34.075949</td>\n",
       "      <td>28.389031</td>\n",
       "      <td>805.937071</td>\n",
       "    </tr>\n",
       "    <tr>\n",
       "      <th>12.0</th>\n",
       "      <td>428.038576</td>\n",
       "      <td>178.846190</td>\n",
       "      <td>31985.959817</td>\n",
       "      <td>18113.662047</td>\n",
       "      <td>5573.682673</td>\n",
       "      <td>3.106594e+07</td>\n",
       "      <td>35.994065</td>\n",
       "      <td>30.576990</td>\n",
       "      <td>934.952346</td>\n",
       "    </tr>\n",
       "  </tbody>\n",
       "</table>\n",
       "</div>"
      ],
      "text/plain": [
       "      calls_duration                                 mb_used               \\\n",
       "                mean         std           var          mean          std   \n",
       "month                                                                       \n",
       "1.0       183.294118  139.470759  19452.092692   8513.717647  6444.681014   \n",
       "2.0       267.896552  170.884971  29201.673321  11597.054310  6247.353833   \n",
       "3.0       348.922078  172.655404  29809.888585  15104.159091  5828.237537   \n",
       "4.0       328.160714  167.109855  27925.703668  13462.180625  5698.249092   \n",
       "5.0       346.099291  167.677339  28115.690071  15805.184326  5978.231725   \n",
       "6.0       353.914634  157.296110  24742.066288  15794.647988  5791.155586   \n",
       "7.0       365.368159  161.244453  25999.773781  15743.150348  5897.154446   \n",
       "8.0       378.555556  166.460112  27708.969003  16681.706068  5498.387304   \n",
       "9.0       383.326923  164.507915  27062.854099  16303.578808  5196.115749   \n",
       "10.0      381.340136  169.152535  28612.580158  16757.122891  5859.384492   \n",
       "11.0      389.155063  159.711500  25507.763181  16895.696646  5340.273416   \n",
       "12.0      428.038576  178.846190  31985.959817  18113.662047  5573.682673   \n",
       "\n",
       "                    messages_count                         \n",
       "                var           mean        std         var  \n",
       "month                                                      \n",
       "1.0    4.153391e+07      18.235294  16.197753  262.367201  \n",
       "2.0    3.902943e+07      24.086207  21.750809  473.097701  \n",
       "3.0    3.396835e+07      31.857143  26.804710  718.492481  \n",
       "4.0    3.247004e+07      30.741071  24.538532  602.139559  \n",
       "5.0    3.573925e+07      33.773050  27.036845  730.990983  \n",
       "6.0    3.353748e+07      33.402439  28.404337  806.806374  \n",
       "7.0    3.477643e+07      33.751244  28.282288  799.887811  \n",
       "8.0    3.023226e+07      33.777778  28.935510  837.263710  \n",
       "9.0    2.699962e+07      33.638462  28.117927  790.617820  \n",
       "10.0   3.433239e+07      33.765306  28.567673  816.111966  \n",
       "11.0   2.851852e+07      34.075949  28.389031  805.937071  \n",
       "12.0   3.106594e+07      35.994065  30.576990  934.952346  "
      ]
     },
     "execution_count": 30,
     "metadata": {},
     "output_type": "execute_result"
    }
   ],
   "source": [
    "smart = (df\n",
    "      .query('tariff == \"smart\"')\n",
    "      .pivot_table(index='month', values=('calls_duration','messages_count','mb_used'), aggfunc=('mean', 'std', 'var'))    \n",
    ")\n",
    "smart"
   ]
  },
  {
   "cell_type": "markdown",
   "id": "c46e7ea4",
   "metadata": {},
   "source": [
    "### Построим гистограммы"
   ]
  },
  {
   "cell_type": "code",
   "execution_count": 31,
   "id": "e430f8e0",
   "metadata": {},
   "outputs": [
    {
     "data": {
      "text/plain": [
       "(-1.0, 10000.0)"
      ]
     },
     "execution_count": 31,
     "metadata": {},
     "output_type": "execute_result"
    },
    {
     "data": {
      "image/png": "[encoded data removed]",
      "text/plain": [
       "<Figure size 1080x720 with 1 Axes>"
      ]
     },
     "metadata": {
      "needs_background": "light"
     },
     "output_type": "display_data"
    }
   ],
   "source": [
    "df.boxplot(\n",
    "    'full_paid',\n",
    "    by='tariff',\n",
    "    figsize=(15,10),\n",
    "    patch_artist = True,\n",
    ").set_ylim(-1,10000)"
   ]
  },
  {
   "cell_type": "markdown",
   "id": "9aca8a42",
   "metadata": {},
   "source": [
    "**- Заметим, что абоненты с тарифом `Ultra` в основной массе платят строго тарифный план, а абоненты `Smart` более склоны к переплате своего тарифа.**"
   ]
  },
  {
   "cell_type": "code",
   "execution_count": 32,
   "id": "17ce7411",
   "metadata": {
    "scrolled": false
   },
   "outputs": [
    {
     "data": {
      "text/plain": [
       "<AxesSubplot:xlabel='full_paid', ylabel='Count'>"
      ]
     },
     "execution_count": 32,
     "metadata": {},
     "output_type": "execute_result"
    },
    {
     "data": {
      "image/png": "[encoded data removed]",
      "text/plain": [
       "<Figure size 842.4x595.44 with 1 Axes>"
      ]
     },
     "metadata": {},
     "output_type": "display_data"
    }
   ],
   "source": [
    "sns.set(rc={'figure.figsize':(11.7,8.27)})\n",
    "sns.histplot(data=df, x=\"full_paid\", hue=\"tariff\", multiple=\"stack\")"
   ]
  },
  {
   "cell_type": "markdown",
   "id": "35a0348c",
   "metadata": {},
   "source": [
    "**- В эпоху мессенджеров пользователи обоих тарифов практически не используют сообщения.**"
   ]
  },
  {
   "cell_type": "code",
   "execution_count": 33,
   "id": "89104343",
   "metadata": {},
   "outputs": [
    {
     "data": {
      "text/plain": [
       "<AxesSubplot:xlabel='messages_count', ylabel='Count'>"
      ]
     },
     "execution_count": 33,
     "metadata": {},
     "output_type": "execute_result"
    },
    {
     "data": {
      "image/png": "[encoded data removed]",
      "text/plain": [
       "<Figure size 842.4x595.44 with 1 Axes>"
      ]
     },
     "metadata": {},
     "output_type": "display_data"
    }
   ],
   "source": [
    "sns.histplot(data=df, x=\"messages_count\", hue=\"tariff\", multiple=\"stack\")"
   ]
  },
  {
   "cell_type": "markdown",
   "id": "5a8483b0",
   "metadata": {},
   "source": [
    "**- С учетом лимита в 15гб и 30гб заметно, что в большей степени люди склоны доплачивать за дополнительные гигабайты.**"
   ]
  },
  {
   "cell_type": "code",
   "execution_count": 34,
   "id": "60352713",
   "metadata": {},
   "outputs": [
    {
     "data": {
      "text/plain": [
       "<AxesSubplot:xlabel='mb_used', ylabel='Count'>"
      ]
     },
     "execution_count": 34,
     "metadata": {},
     "output_type": "execute_result"
    },
    {
     "data": {
      "image/png": "[encoded data removed]",
      "text/plain": [
       "<Figure size 842.4x595.44 with 1 Axes>"
      ]
     },
     "metadata": {},
     "output_type": "display_data"
    }
   ],
   "source": [
    "sns.histplot(data=df, x=\"mb_used\", hue=\"tariff\", multiple=\"stack\")"
   ]
  },
  {
   "cell_type": "markdown",
   "id": "dcc9b009",
   "metadata": {},
   "source": [
    "**- В общей массе пользователи `Smart` используют все свои 500 минут и иногда перерасходуют данный показатель, в то время как пользователи тарифа `Ultra`  с 3000 минутами не доходят до половины максимально возможного показателя.**"
   ]
  },
  {
   "cell_type": "code",
   "execution_count": 35,
   "id": "7a4be13d",
   "metadata": {},
   "outputs": [
    {
     "data": {
      "text/plain": [
       "<AxesSubplot:xlabel='calls_duration', ylabel='Count'>"
      ]
     },
     "execution_count": 35,
     "metadata": {},
     "output_type": "execute_result"
    },
    {
     "data": {
      "image/png": "[encoded data removed]",
      "text/plain": [
       "<Figure size 842.4x595.44 with 1 Axes>"
      ]
     },
     "metadata": {},
     "output_type": "display_data"
    }
   ],
   "source": [
    "sns.histplot(data=df, x=\"calls_duration\", hue=\"tariff\", multiple=\"stack\")"
   ]
  },
  {
   "cell_type": "markdown",
   "id": "a3f347ca",
   "metadata": {},
   "source": [
    "## **Проверка гипотезы**"
   ]
  },
  {
   "cell_type": "markdown",
   "id": "56cd7411",
   "metadata": {},
   "source": [
    "- H0 средняя выручка пользователей тарифов «Ультра» и «Смарт» различаются;\n",
    "\n",
    "- H1 средняя выручка пользователей из Москвы отличается от выручки пользователей из других регионов.\n",
    "\n",
    "- alpha = .05"
   ]
  },
  {
   "cell_type": "markdown",
   "id": "5c2acf72",
   "metadata": {},
   "source": [
    "**- Cредняя выручка пользователей тарифa «Смарт» не равна средней выручке пользвателей тарифа «Ультра»**"
   ]
  },
  {
   "cell_type": "code",
   "execution_count": 36,
   "id": "5fe1e947",
   "metadata": {},
   "outputs": [
    {
     "name": "stdout",
     "output_type": "stream",
     "text": [
      "p-значение: 1.1428411753052693e-228\n",
      "Отвергаем нулевую гипотезу\n"
     ]
    }
   ],
   "source": [
    "# примем пороговое значение alpha:\n",
    "alpha = .05\n",
    "\n",
    "smart = df.query('tariff == \"smart\"')\n",
    "smart = smart['full_paid']\n",
    "ultra = df.query('tariff == \"ultra\"')\n",
    "ultra = ultra['full_paid']  \n",
    "\n",
    "results = st.ttest_ind(\n",
    "    smart, \n",
    "    ultra)\n",
    "\n",
    "print('p-значение:', results.pvalue)\n",
    "\n",
    "if (results.pvalue < alpha):\n",
    "    print(\"Отвергаем нулевую гипотезу\")\n",
    "else:\n",
    "    print(\"Не получилось отвергнуть нулевую гипотезу\")"
   ]
  },
  {
   "cell_type": "code",
   "execution_count": 39,
   "id": "d26e9647",
   "metadata": {},
   "outputs": [
    {
     "data": {
      "text/plain": [
       "977    1149\n",
       "978     550\n",
       "979     550\n",
       "980     983\n",
       "981    1518\n",
       "Name: full_paid, dtype: int64"
      ]
     },
     "execution_count": 39,
     "metadata": {},
     "output_type": "execute_result"
    }
   ],
   "source": [
    "smart.head()"
   ]
  },
  {
   "cell_type": "markdown",
   "id": "706aab13",
   "metadata": {},
   "source": [
    "- P-уровень значимости слишком велик.\n",
    "\n",
    "- Средняя выручка тарифа `Ultra` и `Smart` слишком сильно отличаются друг от друга."
   ]
  },
  {
   "cell_type": "markdown",
   "id": "39b593ae",
   "metadata": {},
   "source": [
    "- **Cредняя выручка пользователей из Москвы равна выручки пользователей из других регионов**"
   ]
  },
  {
   "cell_type": "code",
   "execution_count": 38,
   "id": "c7a02394",
   "metadata": {},
   "outputs": [
    {
     "name": "stdout",
     "output_type": "stream",
     "text": [
      "p-значение: 0.35748892234162066\n",
      "Не получилось отвергнуть нулевую гипотезу\n"
     ]
    }
   ],
   "source": [
    "\n",
    "alpha = .05\n",
    "\n",
    "msk = df.query('city == \"Москва\"')\n",
    "msk = msk['full_paid']\n",
    "\n",
    "nomsk = df.query('city != \"Москва\"')\n",
    "nomsk = nomsk['full_paid']  \n",
    "\n",
    "results = st.ttest_ind(\n",
    "    msk, \n",
    "    nomsk)\n",
    "\n",
    "print('p-значение:', results.pvalue)\n",
    "\n",
    "if (results.pvalue < alpha):\n",
    "    print(\"Отвергаем нулевую гипотезу\")\n",
    "else:\n",
    "    print(\"Не получилось отвергнуть нулевую гипотезу\")"
   ]
  },
  {
   "cell_type": "markdown",
   "id": "360029ef",
   "metadata": {},
   "source": [
    "- P-уровень значимости равен 35%\n",
    "\n",
    "- средняя выручка по Москве статистически отличается от других регионов."
   ]
  },
  {
   "cell_type": "markdown",
   "id": "d17227cf",
   "metadata": {},
   "source": [
    "## Общий вывод"
   ]
  },
  {
   "cell_type": "markdown",
   "id": "968e44a1",
   "metadata": {},
   "source": [
    "По данным которые у меня были, узнали что больше всего дохода приносит тариф \"Смарт\", у него больше всего абонентов во-первых, во-вторых доход в среднем превышает в 2 раза больше абонентскую оплату, из за нехватки интернет-трафика, смс, и минут для разговора абоненты оплачивают сверх абонентской оплаты."
   ]
  },
  {
   "cell_type": "markdown",
   "id": "ed9221e6",
   "metadata": {},
   "source": [
    "- Поведение пользователей тарифов Smart & Ultra очень разные.\n",
    "\n",
    "\n",
    "- SMS никто из 2х тарифов практически не пользуется.\n",
    "\n",
    "\n",
    "- Пользователи Smart свойственно переплачивать за Звонки & Интернет.\n",
    "\n",
    "\n",
    "- Пользователи Ultra в большей степени не израсходывают свои лимиты.\n",
    "\n",
    "\n",
    "- Выручка регионов статистически не отличается от выручки в Москве, все пользователи в среднем тратят одинаково, но с вероятностью в 35 процентов выручка в Москве и регионах может отличаться.\n",
    "\n",
    "\n",
    "\n",
    "- Хочется заметить, что тариф Smart приносит намного больше прибыли из-за переплаты по условиям тарифа, также таких пользователей в 2 раза больше пользователей Ultra.\n",
    "\n",
    "- Пользователей тарифа Ultra меньше, т.к. не все способны оплачивать 1950 рублей в месяц, и думая, что 3000 минут разговора, 1000 сообщений и 30 Гб интернет-трафика слишком много дня них. \n",
    "- Компании \"Мегайлайн\" следует внедрить новый тариф/переработать Smart с более высокой абонентской платы, нежели в тарифе Smart и с более улучшенными условиями по интернет-трафику и звонкам."
   ]
  }
 ],
 "metadata": {
  "ExecuteTimeLog": [
   {
    "duration": 1050,
    "start_time": "2022-03-27T06:10:37.565Z"
   },
   {
    "duration": 128,
    "start_time": "2022-03-27T06:10:38.617Z"
   },
   {
    "duration": 0,
    "start_time": "2022-03-27T06:10:38.748Z"
   },
   {
    "duration": 0,
    "start_time": "2022-03-27T06:10:38.749Z"
   },
   {
    "duration": 0,
    "start_time": "2022-03-27T06:10:38.750Z"
   },
   {
    "duration": 0,
    "start_time": "2022-03-27T06:10:38.751Z"
   },
   {
    "duration": 0,
    "start_time": "2022-03-27T06:10:38.752Z"
   },
   {
    "duration": 0,
    "start_time": "2022-03-27T06:10:38.753Z"
   },
   {
    "duration": 0,
    "start_time": "2022-03-27T06:10:38.755Z"
   },
   {
    "duration": 0,
    "start_time": "2022-03-27T06:10:38.755Z"
   },
   {
    "duration": 0,
    "start_time": "2022-03-27T06:10:38.756Z"
   },
   {
    "duration": 0,
    "start_time": "2022-03-27T06:10:38.757Z"
   },
   {
    "duration": 0,
    "start_time": "2022-03-27T06:10:38.758Z"
   },
   {
    "duration": 0,
    "start_time": "2022-03-27T06:10:38.759Z"
   },
   {
    "duration": 0,
    "start_time": "2022-03-27T06:10:38.760Z"
   },
   {
    "duration": 0,
    "start_time": "2022-03-27T06:10:38.761Z"
   },
   {
    "duration": 0,
    "start_time": "2022-03-27T06:10:38.762Z"
   },
   {
    "duration": 0,
    "start_time": "2022-03-27T06:10:38.763Z"
   },
   {
    "duration": 0,
    "start_time": "2022-03-27T06:10:38.764Z"
   },
   {
    "duration": 0,
    "start_time": "2022-03-27T06:10:38.765Z"
   },
   {
    "duration": 0,
    "start_time": "2022-03-27T06:10:38.766Z"
   },
   {
    "duration": 0,
    "start_time": "2022-03-27T06:10:38.767Z"
   },
   {
    "duration": 0,
    "start_time": "2022-03-27T06:10:38.767Z"
   },
   {
    "duration": 0,
    "start_time": "2022-03-27T06:10:38.768Z"
   },
   {
    "duration": 0,
    "start_time": "2022-03-27T06:10:38.769Z"
   },
   {
    "duration": 0,
    "start_time": "2022-03-27T06:10:38.770Z"
   },
   {
    "duration": 0,
    "start_time": "2022-03-27T06:10:38.771Z"
   },
   {
    "duration": 0,
    "start_time": "2022-03-27T06:10:38.772Z"
   },
   {
    "duration": 0,
    "start_time": "2022-03-27T06:10:38.809Z"
   },
   {
    "duration": 0,
    "start_time": "2022-03-27T06:10:38.810Z"
   },
   {
    "duration": 0,
    "start_time": "2022-03-27T06:10:38.811Z"
   },
   {
    "duration": 0,
    "start_time": "2022-03-27T06:10:38.812Z"
   },
   {
    "duration": 0,
    "start_time": "2022-03-27T06:10:38.813Z"
   },
   {
    "duration": 0,
    "start_time": "2022-03-27T06:10:38.814Z"
   },
   {
    "duration": 0,
    "start_time": "2022-03-27T06:10:38.816Z"
   },
   {
    "duration": 0,
    "start_time": "2022-03-27T06:10:38.816Z"
   },
   {
    "duration": 0,
    "start_time": "2022-03-27T06:10:38.818Z"
   },
   {
    "duration": 383,
    "start_time": "2022-03-27T06:11:00.965Z"
   },
   {
    "duration": 1139,
    "start_time": "2022-03-27T06:11:06.419Z"
   },
   {
    "duration": 387,
    "start_time": "2022-03-27T06:11:07.560Z"
   },
   {
    "duration": 13,
    "start_time": "2022-03-27T06:11:07.949Z"
   },
   {
    "duration": 13,
    "start_time": "2022-03-27T06:11:07.964Z"
   },
   {
    "duration": 38,
    "start_time": "2022-03-27T06:11:07.978Z"
   },
   {
    "duration": 19,
    "start_time": "2022-03-27T06:11:08.018Z"
   },
   {
    "duration": 20,
    "start_time": "2022-03-27T06:11:08.039Z"
   },
   {
    "duration": 97,
    "start_time": "2022-03-27T06:11:08.061Z"
   },
   {
    "duration": 14,
    "start_time": "2022-03-27T06:11:08.159Z"
   },
   {
    "duration": 9,
    "start_time": "2022-03-27T06:11:08.176Z"
   },
   {
    "duration": 32,
    "start_time": "2022-03-27T06:11:08.186Z"
   },
   {
    "duration": 92,
    "start_time": "2022-03-27T06:11:08.219Z"
   },
   {
    "duration": 32,
    "start_time": "2022-03-27T06:11:08.312Z"
   },
   {
    "duration": 23,
    "start_time": "2022-03-27T06:11:08.346Z"
   },
   {
    "duration": 47,
    "start_time": "2022-03-27T06:11:08.370Z"
   },
   {
    "duration": 23,
    "start_time": "2022-03-27T06:11:08.419Z"
   },
   {
    "duration": 5,
    "start_time": "2022-03-27T06:11:08.444Z"
   },
   {
    "duration": 26,
    "start_time": "2022-03-27T06:11:08.451Z"
   },
   {
    "duration": 6,
    "start_time": "2022-03-27T06:11:08.479Z"
   },
   {
    "duration": 22,
    "start_time": "2022-03-27T06:11:08.487Z"
   },
   {
    "duration": 9,
    "start_time": "2022-03-27T06:11:08.511Z"
   },
   {
    "duration": 7,
    "start_time": "2022-03-27T06:11:08.521Z"
   },
   {
    "duration": 8,
    "start_time": "2022-03-27T06:11:08.530Z"
   },
   {
    "duration": 15,
    "start_time": "2022-03-27T06:11:08.540Z"
   },
   {
    "duration": 7,
    "start_time": "2022-03-27T06:11:08.556Z"
   },
   {
    "duration": 124,
    "start_time": "2022-03-27T06:11:08.565Z"
   },
   {
    "duration": 22,
    "start_time": "2022-03-27T06:11:08.690Z"
   },
   {
    "duration": 10,
    "start_time": "2022-03-27T06:11:08.716Z"
   },
   {
    "duration": 6,
    "start_time": "2022-03-27T06:11:08.727Z"
   },
   {
    "duration": 17,
    "start_time": "2022-03-27T06:11:08.734Z"
   },
   {
    "duration": 210,
    "start_time": "2022-03-27T06:11:08.753Z"
   },
   {
    "duration": 391,
    "start_time": "2022-03-27T06:11:08.965Z"
   },
   {
    "duration": 352,
    "start_time": "2022-03-27T06:11:09.357Z"
   },
   {
    "duration": 352,
    "start_time": "2022-03-27T06:11:09.711Z"
   },
   {
    "duration": 367,
    "start_time": "2022-03-27T06:11:10.065Z"
   },
   {
    "duration": 11,
    "start_time": "2022-03-27T06:11:10.433Z"
   },
   {
    "duration": 10,
    "start_time": "2022-03-27T06:11:10.446Z"
   },
   {
    "duration": 1675,
    "start_time": "2022-03-28T23:13:08.828Z"
   },
   {
    "duration": 612,
    "start_time": "2022-03-28T23:13:13.697Z"
   },
   {
    "duration": 1398,
    "start_time": "2022-03-28T23:14:28.582Z"
   },
   {
    "duration": 654,
    "start_time": "2022-03-28T23:14:33.205Z"
   },
   {
    "duration": 483,
    "start_time": "2022-03-28T23:16:40.735Z"
   },
   {
    "duration": 482,
    "start_time": "2022-03-28T23:16:53.022Z"
   },
   {
    "duration": 471,
    "start_time": "2022-03-28T23:17:16.486Z"
   },
   {
    "duration": 502,
    "start_time": "2022-03-28T23:35:16.798Z"
   },
   {
    "duration": 25,
    "start_time": "2022-03-28T23:36:07.926Z"
   },
   {
    "duration": 6101,
    "start_time": "2022-03-28T23:36:16.589Z"
   },
   {
    "duration": 16,
    "start_time": "2022-03-28T23:36:49.335Z"
   },
   {
    "duration": 16,
    "start_time": "2022-03-28T23:36:51.090Z"
   },
   {
    "duration": 26,
    "start_time": "2022-03-28T23:36:51.387Z"
   },
   {
    "duration": 21,
    "start_time": "2022-03-28T23:36:52.378Z"
   },
   {
    "duration": 23,
    "start_time": "2022-03-28T23:36:58.895Z"
   },
   {
    "duration": 6097,
    "start_time": "2022-03-28T23:37:19.496Z"
   },
   {
    "duration": 23,
    "start_time": "2022-03-28T23:37:28.883Z"
   },
   {
    "duration": 1450,
    "start_time": "2022-03-28T23:38:06.449Z"
   },
   {
    "duration": 6190,
    "start_time": "2022-03-28T23:38:07.902Z"
   },
   {
    "duration": 17,
    "start_time": "2022-03-28T23:38:14.094Z"
   },
   {
    "duration": 18,
    "start_time": "2022-03-28T23:38:14.113Z"
   },
   {
    "duration": 65,
    "start_time": "2022-03-28T23:38:14.133Z"
   },
   {
    "duration": 20,
    "start_time": "2022-03-28T23:38:14.201Z"
   },
   {
    "duration": 22,
    "start_time": "2022-03-28T23:38:14.223Z"
   },
   {
    "duration": 25,
    "start_time": "2022-03-28T23:38:14.283Z"
   },
   {
    "duration": 9,
    "start_time": "2022-03-28T23:38:14.310Z"
   },
   {
    "duration": 66,
    "start_time": "2022-03-28T23:38:14.323Z"
   },
   {
    "duration": 119,
    "start_time": "2022-03-28T23:38:14.391Z"
   },
   {
    "duration": 44,
    "start_time": "2022-03-28T23:38:14.512Z"
   },
   {
    "duration": 52,
    "start_time": "2022-03-28T23:38:14.558Z"
   },
   {
    "duration": 30,
    "start_time": "2022-03-28T23:38:14.612Z"
   },
   {
    "duration": 63,
    "start_time": "2022-03-28T23:38:14.644Z"
   },
   {
    "duration": 8,
    "start_time": "2022-03-28T23:38:14.709Z"
   },
   {
    "duration": 27,
    "start_time": "2022-03-28T23:38:14.719Z"
   },
   {
    "duration": 36,
    "start_time": "2022-03-28T23:38:14.748Z"
   },
   {
    "duration": 5,
    "start_time": "2022-03-28T23:38:14.786Z"
   },
   {
    "duration": 14,
    "start_time": "2022-03-28T23:38:14.794Z"
   },
   {
    "duration": 8,
    "start_time": "2022-03-28T23:38:14.810Z"
   },
   {
    "duration": 66,
    "start_time": "2022-03-28T23:38:14.820Z"
   },
   {
    "duration": 22,
    "start_time": "2022-03-28T23:38:14.888Z"
   },
   {
    "duration": 13,
    "start_time": "2022-03-28T23:38:14.912Z"
   },
   {
    "duration": 184,
    "start_time": "2022-03-28T23:38:14.927Z"
   },
   {
    "duration": 31,
    "start_time": "2022-03-28T23:38:15.113Z"
   },
   {
    "duration": 43,
    "start_time": "2022-03-28T23:38:15.146Z"
   },
   {
    "duration": 7,
    "start_time": "2022-03-28T23:38:15.197Z"
   },
   {
    "duration": 30,
    "start_time": "2022-03-28T23:38:15.208Z"
   },
   {
    "duration": 338,
    "start_time": "2022-03-28T23:38:15.241Z"
   },
   {
    "duration": 512,
    "start_time": "2022-03-28T23:38:15.583Z"
   },
   {
    "duration": 575,
    "start_time": "2022-03-28T23:38:16.098Z"
   },
   {
    "duration": 516,
    "start_time": "2022-03-28T23:38:16.683Z"
   },
   {
    "duration": 559,
    "start_time": "2022-03-28T23:38:17.202Z"
   },
   {
    "duration": 27,
    "start_time": "2022-03-28T23:38:17.764Z"
   },
   {
    "duration": 37,
    "start_time": "2022-03-28T23:38:17.793Z"
   },
   {
    "duration": 108,
    "start_time": "2022-03-28T23:39:39.846Z"
   },
   {
    "duration": 14,
    "start_time": "2022-03-28T23:49:37.562Z"
   },
   {
    "duration": 13,
    "start_time": "2022-03-28T23:49:51.753Z"
   },
   {
    "duration": 1395,
    "start_time": "2022-03-28T23:50:09.196Z"
   },
   {
    "duration": 6229,
    "start_time": "2022-03-28T23:50:11.875Z"
   },
   {
    "duration": 16,
    "start_time": "2022-03-28T23:50:19.535Z"
   },
   {
    "duration": 15,
    "start_time": "2022-03-28T23:50:19.850Z"
   },
   {
    "duration": 26,
    "start_time": "2022-03-28T23:50:20.474Z"
   },
   {
    "duration": 22,
    "start_time": "2022-03-28T23:50:21.035Z"
   },
   {
    "duration": 22,
    "start_time": "2022-03-28T23:50:23.247Z"
   },
   {
    "duration": 23,
    "start_time": "2022-03-28T23:50:25.552Z"
   },
   {
    "duration": 16,
    "start_time": "2022-03-28T23:50:28.480Z"
   },
   {
    "duration": 132,
    "start_time": "2022-03-28T23:50:46.463Z"
   },
   {
    "duration": 25,
    "start_time": "2022-03-28T23:50:55.120Z"
   },
   {
    "duration": 22,
    "start_time": "2022-03-28T23:53:16.142Z"
   },
   {
    "duration": 38,
    "start_time": "2022-03-28T23:53:21.036Z"
   },
   {
    "duration": 17,
    "start_time": "2022-03-28T23:53:25.666Z"
   },
   {
    "duration": 61,
    "start_time": "2022-03-28T23:54:30.706Z"
   },
   {
    "duration": 23,
    "start_time": "2022-03-28T23:54:32.138Z"
   },
   {
    "duration": 64,
    "start_time": "2022-03-28T23:54:39.811Z"
   },
   {
    "duration": 1385,
    "start_time": "2022-03-28T23:54:44.312Z"
   },
   {
    "duration": 6176,
    "start_time": "2022-03-28T23:54:47.167Z"
   },
   {
    "duration": 16,
    "start_time": "2022-03-28T23:54:53.346Z"
   },
   {
    "duration": 33,
    "start_time": "2022-03-28T23:54:53.364Z"
   },
   {
    "duration": 25,
    "start_time": "2022-03-28T23:54:53.400Z"
   },
   {
    "duration": 56,
    "start_time": "2022-03-28T23:54:53.427Z"
   },
   {
    "duration": 23,
    "start_time": "2022-03-28T23:54:56.446Z"
   },
   {
    "duration": 24,
    "start_time": "2022-03-28T23:54:59.014Z"
   },
   {
    "duration": 28,
    "start_time": "2022-03-28T23:55:01.049Z"
   },
   {
    "duration": 79,
    "start_time": "2022-03-28T23:55:02.754Z"
   },
   {
    "duration": 26,
    "start_time": "2022-03-28T23:55:04.178Z"
   },
   {
    "duration": 100,
    "start_time": "2022-03-28T23:55:41.243Z"
   },
   {
    "duration": 26,
    "start_time": "2022-03-28T23:55:42.854Z"
   },
   {
    "duration": 11,
    "start_time": "2022-03-28T23:55:52.390Z"
   },
   {
    "duration": 25,
    "start_time": "2022-03-28T23:56:15.541Z"
   },
   {
    "duration": 94,
    "start_time": "2022-03-28T23:56:24.968Z"
   },
   {
    "duration": 27,
    "start_time": "2022-03-28T23:56:26.991Z"
   },
   {
    "duration": 113,
    "start_time": "2022-03-28T23:56:57.967Z"
   },
   {
    "duration": 26,
    "start_time": "2022-03-28T23:56:59.649Z"
   },
   {
    "duration": 1429,
    "start_time": "2022-03-29T00:00:20.331Z"
   },
   {
    "duration": 6336,
    "start_time": "2022-03-29T00:00:24.077Z"
   },
   {
    "duration": 17,
    "start_time": "2022-03-29T00:00:31.978Z"
   },
   {
    "duration": 16,
    "start_time": "2022-03-29T00:00:32.282Z"
   },
   {
    "duration": 26,
    "start_time": "2022-03-29T00:00:32.910Z"
   },
   {
    "duration": 21,
    "start_time": "2022-03-29T00:00:33.322Z"
   },
   {
    "duration": 24,
    "start_time": "2022-03-29T00:00:35.797Z"
   },
   {
    "duration": 22,
    "start_time": "2022-03-29T00:00:36.836Z"
   },
   {
    "duration": 25,
    "start_time": "2022-03-29T00:00:38.288Z"
   },
   {
    "duration": 116,
    "start_time": "2022-03-29T00:00:39.531Z"
   },
   {
    "duration": 24,
    "start_time": "2022-03-29T00:00:43.982Z"
   },
   {
    "duration": 11,
    "start_time": "2022-03-29T00:00:50.704Z"
   },
   {
    "duration": 16,
    "start_time": "2022-03-29T00:04:31.110Z"
   },
   {
    "duration": 97,
    "start_time": "2022-03-29T00:06:06.373Z"
   },
   {
    "duration": 36,
    "start_time": "2022-03-29T00:06:09.809Z"
   },
   {
    "duration": 30,
    "start_time": "2022-03-29T00:06:17.731Z"
   },
   {
    "duration": 139,
    "start_time": "2022-03-29T00:06:19.266Z"
   },
   {
    "duration": 21,
    "start_time": "2022-03-29T00:06:24.193Z"
   },
   {
    "duration": 28,
    "start_time": "2022-03-29T00:06:30.572Z"
   },
   {
    "duration": 34,
    "start_time": "2022-03-29T00:06:37.145Z"
   },
   {
    "duration": 9,
    "start_time": "2022-03-29T00:06:38.060Z"
   },
   {
    "duration": 26,
    "start_time": "2022-03-29T00:06:38.752Z"
   },
   {
    "duration": 6,
    "start_time": "2022-03-29T00:06:54.156Z"
   },
   {
    "duration": 6,
    "start_time": "2022-03-29T00:07:05.061Z"
   },
   {
    "duration": 18,
    "start_time": "2022-03-29T00:09:38.942Z"
   },
   {
    "duration": 15,
    "start_time": "2022-03-29T00:10:29.263Z"
   },
   {
    "duration": 7,
    "start_time": "2022-03-29T00:10:32.725Z"
   },
   {
    "duration": 10,
    "start_time": "2022-03-29T00:10:34.242Z"
   },
   {
    "duration": 23,
    "start_time": "2022-03-29T00:10:35.203Z"
   },
   {
    "duration": 11,
    "start_time": "2022-03-29T00:10:36.153Z"
   },
   {
    "duration": 1978,
    "start_time": "2022-03-29T00:10:39.429Z"
   },
   {
    "duration": 143,
    "start_time": "2022-03-29T00:10:55.163Z"
   },
   {
    "duration": 33,
    "start_time": "2022-03-29T00:11:15.762Z"
   },
   {
    "duration": 14,
    "start_time": "2022-03-29T00:11:33.266Z"
   },
   {
    "duration": 545,
    "start_time": "2022-03-29T00:13:34.529Z"
   },
   {
    "duration": 17,
    "start_time": "2022-03-29T00:13:50.238Z"
   },
   {
    "duration": 1828,
    "start_time": "2022-03-29T00:14:36.345Z"
   },
   {
    "duration": 1379,
    "start_time": "2022-03-29T00:14:52.008Z"
   },
   {
    "duration": 6283,
    "start_time": "2022-03-29T00:14:54.592Z"
   },
   {
    "duration": 18,
    "start_time": "2022-03-29T00:15:00.877Z"
   },
   {
    "duration": 24,
    "start_time": "2022-03-29T00:15:00.897Z"
   },
   {
    "duration": 33,
    "start_time": "2022-03-29T00:15:00.924Z"
   },
   {
    "duration": 41,
    "start_time": "2022-03-29T00:15:00.959Z"
   },
   {
    "duration": 37,
    "start_time": "2022-03-29T00:15:01.002Z"
   },
   {
    "duration": 49,
    "start_time": "2022-03-29T00:15:01.042Z"
   },
   {
    "duration": 73,
    "start_time": "2022-03-29T00:15:01.094Z"
   },
   {
    "duration": 139,
    "start_time": "2022-03-29T00:15:01.169Z"
   },
   {
    "duration": 16,
    "start_time": "2022-03-29T00:15:01.311Z"
   },
   {
    "duration": 226,
    "start_time": "2022-03-29T00:15:01.329Z"
   },
   {
    "duration": 47,
    "start_time": "2022-03-29T00:15:01.558Z"
   },
   {
    "duration": 31,
    "start_time": "2022-03-29T00:15:01.606Z"
   },
   {
    "duration": 54,
    "start_time": "2022-03-29T00:15:01.639Z"
   },
   {
    "duration": 35,
    "start_time": "2022-03-29T00:15:04.796Z"
   },
   {
    "duration": 8,
    "start_time": "2022-03-29T00:15:05.033Z"
   },
   {
    "duration": 26,
    "start_time": "2022-03-29T00:15:05.197Z"
   },
   {
    "duration": 18,
    "start_time": "2022-03-29T00:15:07.320Z"
   },
   {
    "duration": 6,
    "start_time": "2022-03-29T00:15:09.260Z"
   },
   {
    "duration": 7,
    "start_time": "2022-03-29T00:15:09.471Z"
   },
   {
    "duration": 13,
    "start_time": "2022-03-29T00:15:12.182Z"
   },
   {
    "duration": 6,
    "start_time": "2022-03-29T00:15:14.925Z"
   },
   {
    "duration": 9,
    "start_time": "2022-03-29T00:15:15.548Z"
   },
   {
    "duration": 23,
    "start_time": "2022-03-29T00:15:16.244Z"
   },
   {
    "duration": 10,
    "start_time": "2022-03-29T00:15:17.068Z"
   },
   {
    "duration": 21,
    "start_time": "2022-03-29T00:15:51.612Z"
   },
   {
    "duration": 147,
    "start_time": "2022-03-29T00:16:26.016Z"
   },
   {
    "duration": 29,
    "start_time": "2022-03-29T00:16:27.085Z"
   },
   {
    "duration": 1451,
    "start_time": "2022-03-29T00:17:57.448Z"
   },
   {
    "duration": 6527,
    "start_time": "2022-03-29T00:17:58.901Z"
   },
   {
    "duration": 17,
    "start_time": "2022-03-29T00:18:05.430Z"
   },
   {
    "duration": 37,
    "start_time": "2022-03-29T00:18:05.450Z"
   },
   {
    "duration": 27,
    "start_time": "2022-03-29T00:18:05.490Z"
   },
   {
    "duration": 20,
    "start_time": "2022-03-29T00:18:05.519Z"
   },
   {
    "duration": 55,
    "start_time": "2022-03-29T00:18:05.542Z"
   },
   {
    "duration": 21,
    "start_time": "2022-03-29T00:18:05.599Z"
   },
   {
    "duration": 60,
    "start_time": "2022-03-29T00:18:05.622Z"
   },
   {
    "duration": 122,
    "start_time": "2022-03-29T00:18:05.686Z"
   },
   {
    "duration": 16,
    "start_time": "2022-03-29T00:18:05.810Z"
   },
   {
    "duration": 114,
    "start_time": "2022-03-29T00:18:05.828Z"
   },
   {
    "duration": 47,
    "start_time": "2022-03-29T00:18:05.944Z"
   },
   {
    "duration": 31,
    "start_time": "2022-03-29T00:18:05.993Z"
   },
   {
    "duration": 26,
    "start_time": "2022-03-29T00:18:06.026Z"
   },
   {
    "duration": 35,
    "start_time": "2022-03-29T00:18:06.083Z"
   },
   {
    "duration": 8,
    "start_time": "2022-03-29T00:18:06.120Z"
   },
   {
    "duration": 57,
    "start_time": "2022-03-29T00:18:06.130Z"
   },
   {
    "duration": 21,
    "start_time": "2022-03-29T00:18:06.189Z"
   },
   {
    "duration": 7,
    "start_time": "2022-03-29T00:18:06.212Z"
   },
   {
    "duration": 6,
    "start_time": "2022-03-29T00:18:06.221Z"
   },
   {
    "duration": 15,
    "start_time": "2022-03-29T00:18:08.392Z"
   },
   {
    "duration": 6,
    "start_time": "2022-03-29T00:18:10.304Z"
   },
   {
    "duration": 10,
    "start_time": "2022-03-29T00:18:10.587Z"
   },
   {
    "duration": 21,
    "start_time": "2022-03-29T00:18:12.554Z"
   },
   {
    "duration": 12,
    "start_time": "2022-03-29T00:18:15.086Z"
   },
   {
    "duration": 147,
    "start_time": "2022-03-29T00:18:17.088Z"
   },
   {
    "duration": 46,
    "start_time": "2022-03-29T00:18:18.841Z"
   },
   {
    "duration": 140,
    "start_time": "2022-03-29T00:19:37.868Z"
   },
   {
    "duration": 1392,
    "start_time": "2022-03-29T00:19:46.083Z"
   },
   {
    "duration": 6230,
    "start_time": "2022-03-29T00:19:47.478Z"
   },
   {
    "duration": 16,
    "start_time": "2022-03-29T00:19:53.710Z"
   },
   {
    "duration": 18,
    "start_time": "2022-03-29T00:19:53.731Z"
   },
   {
    "duration": 27,
    "start_time": "2022-03-29T00:19:53.783Z"
   },
   {
    "duration": 19,
    "start_time": "2022-03-29T00:19:53.813Z"
   },
   {
    "duration": 54,
    "start_time": "2022-03-29T00:19:53.834Z"
   },
   {
    "duration": 21,
    "start_time": "2022-03-29T00:19:53.890Z"
   },
   {
    "duration": 25,
    "start_time": "2022-03-29T00:19:53.913Z"
   },
   {
    "duration": 154,
    "start_time": "2022-03-29T00:19:53.941Z"
   },
   {
    "duration": 15,
    "start_time": "2022-03-29T00:19:54.097Z"
   },
   {
    "duration": 118,
    "start_time": "2022-03-29T00:19:54.115Z"
   },
   {
    "duration": 47,
    "start_time": "2022-03-29T00:19:54.235Z"
   },
   {
    "duration": 30,
    "start_time": "2022-03-29T00:19:54.285Z"
   },
   {
    "duration": 27,
    "start_time": "2022-03-29T00:19:54.317Z"
   },
   {
    "duration": 68,
    "start_time": "2022-03-29T00:19:54.346Z"
   },
   {
    "duration": 7,
    "start_time": "2022-03-29T00:19:54.417Z"
   },
   {
    "duration": 31,
    "start_time": "2022-03-29T00:19:54.426Z"
   },
   {
    "duration": 39,
    "start_time": "2022-03-29T00:19:54.459Z"
   },
   {
    "duration": 6,
    "start_time": "2022-03-29T00:19:54.501Z"
   },
   {
    "duration": 5,
    "start_time": "2022-03-29T00:19:54.509Z"
   },
   {
    "duration": 14,
    "start_time": "2022-03-29T00:19:54.516Z"
   },
   {
    "duration": 52,
    "start_time": "2022-03-29T00:19:54.532Z"
   },
   {
    "duration": 10,
    "start_time": "2022-03-29T00:19:54.586Z"
   },
   {
    "duration": 21,
    "start_time": "2022-03-29T00:19:54.598Z"
   },
   {
    "duration": 12,
    "start_time": "2022-03-29T00:19:54.621Z"
   },
   {
    "duration": 202,
    "start_time": "2022-03-29T00:19:54.635Z"
   },
   {
    "duration": 42,
    "start_time": "2022-03-29T00:19:54.842Z"
   },
   {
    "duration": 10,
    "start_time": "2022-03-29T00:19:54.886Z"
   },
   {
    "duration": 21,
    "start_time": "2022-03-29T00:19:54.898Z"
   },
   {
    "duration": 309,
    "start_time": "2022-03-29T00:19:54.921Z"
   },
   {
    "duration": 515,
    "start_time": "2022-03-29T00:19:55.232Z"
   },
   {
    "duration": 568,
    "start_time": "2022-03-29T00:19:55.749Z"
   },
   {
    "duration": 562,
    "start_time": "2022-03-29T00:19:56.320Z"
   },
   {
    "duration": 564,
    "start_time": "2022-03-29T00:19:56.884Z"
   },
   {
    "duration": 33,
    "start_time": "2022-03-29T00:19:57.451Z"
   },
   {
    "duration": 20,
    "start_time": "2022-03-29T00:19:57.487Z"
   },
   {
    "duration": 29,
    "start_time": "2022-03-29T00:22:23.956Z"
   },
   {
    "duration": 143,
    "start_time": "2022-03-29T00:23:09.719Z"
   },
   {
    "duration": 28,
    "start_time": "2022-03-29T00:23:12.582Z"
   },
   {
    "duration": 174,
    "start_time": "2022-03-29T00:23:18.906Z"
   },
   {
    "duration": 27,
    "start_time": "2022-03-29T00:23:20.317Z"
   },
   {
    "duration": 27,
    "start_time": "2022-03-29T00:23:26.391Z"
   },
   {
    "duration": 27,
    "start_time": "2022-03-29T00:23:32.744Z"
   },
   {
    "duration": 1344,
    "start_time": "2022-03-29T00:23:38.034Z"
   },
   {
    "duration": 6174,
    "start_time": "2022-03-29T00:23:39.381Z"
   },
   {
    "duration": 18,
    "start_time": "2022-03-29T00:23:45.557Z"
   },
   {
    "duration": 28,
    "start_time": "2022-03-29T00:23:45.583Z"
   },
   {
    "duration": 46,
    "start_time": "2022-03-29T00:23:45.613Z"
   },
   {
    "duration": 27,
    "start_time": "2022-03-29T00:23:45.661Z"
   },
   {
    "duration": 20,
    "start_time": "2022-03-29T00:23:45.690Z"
   },
   {
    "duration": 37,
    "start_time": "2022-03-29T00:23:45.712Z"
   },
   {
    "duration": 41,
    "start_time": "2022-03-29T00:23:45.751Z"
   },
   {
    "duration": 117,
    "start_time": "2022-03-29T00:23:45.796Z"
   },
   {
    "duration": 16,
    "start_time": "2022-03-29T00:23:45.915Z"
   },
   {
    "duration": 113,
    "start_time": "2022-03-29T00:23:45.933Z"
   },
   {
    "duration": 48,
    "start_time": "2022-03-29T00:23:46.048Z"
   },
   {
    "duration": 31,
    "start_time": "2022-03-29T00:23:46.098Z"
   },
   {
    "duration": 56,
    "start_time": "2022-03-29T00:23:46.131Z"
   },
   {
    "duration": 34,
    "start_time": "2022-03-29T00:23:46.190Z"
   },
   {
    "duration": 8,
    "start_time": "2022-03-29T00:23:46.226Z"
   },
   {
    "duration": 50,
    "start_time": "2022-03-29T00:23:46.236Z"
   },
   {
    "duration": 27,
    "start_time": "2022-03-29T00:23:46.288Z"
   },
   {
    "duration": 10,
    "start_time": "2022-03-29T00:23:46.318Z"
   },
   {
    "duration": 21,
    "start_time": "2022-03-29T00:23:46.330Z"
   },
   {
    "duration": 32,
    "start_time": "2022-03-29T00:23:46.353Z"
   },
   {
    "duration": 15,
    "start_time": "2022-03-29T00:23:46.387Z"
   },
   {
    "duration": 23,
    "start_time": "2022-03-29T00:23:46.404Z"
   },
   {
    "duration": 43,
    "start_time": "2022-03-29T00:23:46.430Z"
   },
   {
    "duration": 17,
    "start_time": "2022-03-29T00:23:46.476Z"
   },
   {
    "duration": 171,
    "start_time": "2022-03-29T00:23:46.495Z"
   },
   {
    "duration": 26,
    "start_time": "2022-03-29T00:23:46.671Z"
   },
   {
    "duration": 25,
    "start_time": "2022-03-29T00:23:46.699Z"
   },
   {
    "duration": 37,
    "start_time": "2022-03-29T00:23:46.726Z"
   },
   {
    "duration": 284,
    "start_time": "2022-03-29T00:23:46.765Z"
   },
   {
    "duration": 495,
    "start_time": "2022-03-29T00:23:47.051Z"
   },
   {
    "duration": 584,
    "start_time": "2022-03-29T00:23:47.549Z"
   },
   {
    "duration": 648,
    "start_time": "2022-03-29T00:23:48.136Z"
   },
   {
    "duration": 561,
    "start_time": "2022-03-29T00:23:48.787Z"
   },
   {
    "duration": 15,
    "start_time": "2022-03-29T00:23:49.351Z"
   },
   {
    "duration": 14,
    "start_time": "2022-03-29T00:23:49.382Z"
   },
   {
    "duration": 145,
    "start_time": "2022-03-29T00:27:08.781Z"
   },
   {
    "duration": 4,
    "start_time": "2022-03-29T00:27:43.386Z"
   },
   {
    "duration": 8,
    "start_time": "2022-03-29T00:27:50.765Z"
   },
   {
    "duration": 17,
    "start_time": "2022-03-29T00:27:55.616Z"
   },
   {
    "duration": 5,
    "start_time": "2022-03-29T00:28:39.742Z"
   },
   {
    "duration": 26,
    "start_time": "2022-03-29T00:28:43.973Z"
   },
   {
    "duration": 25,
    "start_time": "2022-03-29T00:29:12.620Z"
   },
   {
    "duration": 8,
    "start_time": "2022-03-29T00:29:25.771Z"
   },
   {
    "duration": 25,
    "start_time": "2022-03-29T00:29:32.522Z"
   },
   {
    "duration": 8,
    "start_time": "2022-03-29T00:34:58.715Z"
   },
   {
    "duration": 25,
    "start_time": "2022-03-29T00:34:59.240Z"
   },
   {
    "duration": 26,
    "start_time": "2022-03-29T00:34:59.818Z"
   },
   {
    "duration": 10,
    "start_time": "2022-03-29T00:37:48.286Z"
   },
   {
    "duration": 9,
    "start_time": "2022-03-29T00:38:35.998Z"
   },
   {
    "duration": 10,
    "start_time": "2022-03-29T00:39:06.738Z"
   },
   {
    "duration": 10,
    "start_time": "2022-03-29T00:44:18.226Z"
   },
   {
    "duration": 14,
    "start_time": "2022-03-29T00:44:45.256Z"
   },
   {
    "duration": 10,
    "start_time": "2022-03-29T00:44:58.912Z"
   },
   {
    "duration": 9,
    "start_time": "2022-03-29T00:45:16.077Z"
   },
   {
    "duration": 105,
    "start_time": "2022-03-29T00:46:01.526Z"
   },
   {
    "duration": 11,
    "start_time": "2022-03-29T00:50:55.675Z"
   },
   {
    "duration": 242,
    "start_time": "2022-03-29T00:51:01.118Z"
   },
   {
    "duration": 229,
    "start_time": "2022-03-29T00:51:08.962Z"
   },
   {
    "duration": 224,
    "start_time": "2022-03-29T00:51:18.393Z"
   },
   {
    "duration": 232,
    "start_time": "2022-03-29T00:51:23.908Z"
   },
   {
    "duration": 227,
    "start_time": "2022-03-29T00:51:32.042Z"
   },
   {
    "duration": 303,
    "start_time": "2022-03-29T00:51:57.763Z"
   },
   {
    "duration": 458,
    "start_time": "2022-03-29T00:53:25.517Z"
   },
   {
    "duration": 114,
    "start_time": "2022-03-29T00:53:44.945Z"
   },
   {
    "duration": 1295,
    "start_time": "2022-03-29T08:54:49.827Z"
   },
   {
    "duration": 4135,
    "start_time": "2022-03-29T08:54:51.124Z"
   },
   {
    "duration": 11,
    "start_time": "2022-03-29T08:54:55.261Z"
   },
   {
    "duration": 18,
    "start_time": "2022-03-29T08:54:55.274Z"
   },
   {
    "duration": 26,
    "start_time": "2022-03-29T08:54:55.294Z"
   },
   {
    "duration": 14,
    "start_time": "2022-03-29T08:54:55.321Z"
   },
   {
    "duration": 15,
    "start_time": "2022-03-29T08:54:55.337Z"
   },
   {
    "duration": 14,
    "start_time": "2022-03-29T08:54:55.353Z"
   },
   {
    "duration": 48,
    "start_time": "2022-03-29T08:54:55.368Z"
   },
   {
    "duration": 70,
    "start_time": "2022-03-29T08:54:55.419Z"
   },
   {
    "duration": 23,
    "start_time": "2022-03-29T08:54:55.491Z"
   },
   {
    "duration": 69,
    "start_time": "2022-03-29T08:54:55.516Z"
   },
   {
    "duration": 33,
    "start_time": "2022-03-29T08:54:55.587Z"
   },
   {
    "duration": 21,
    "start_time": "2022-03-29T08:54:55.622Z"
   },
   {
    "duration": 18,
    "start_time": "2022-03-29T08:54:55.644Z"
   },
   {
    "duration": 51,
    "start_time": "2022-03-29T08:54:55.663Z"
   },
   {
    "duration": 6,
    "start_time": "2022-03-29T08:54:55.715Z"
   },
   {
    "duration": 17,
    "start_time": "2022-03-29T08:54:55.723Z"
   },
   {
    "duration": 13,
    "start_time": "2022-03-29T08:54:55.741Z"
   },
   {
    "duration": 4,
    "start_time": "2022-03-29T08:54:55.755Z"
   },
   {
    "duration": 5,
    "start_time": "2022-03-29T08:54:55.761Z"
   },
   {
    "duration": 9,
    "start_time": "2022-03-29T08:54:55.767Z"
   },
   {
    "duration": 6,
    "start_time": "2022-03-29T08:54:55.808Z"
   },
   {
    "duration": 9,
    "start_time": "2022-03-29T08:54:55.815Z"
   },
   {
    "duration": 14,
    "start_time": "2022-03-29T08:54:55.825Z"
   },
   {
    "duration": 10,
    "start_time": "2022-03-29T08:54:55.840Z"
   },
   {
    "duration": 115,
    "start_time": "2022-03-29T08:54:55.851Z"
   },
   {
    "duration": 17,
    "start_time": "2022-03-29T08:54:55.969Z"
   },
   {
    "duration": 7,
    "start_time": "2022-03-29T08:54:55.988Z"
   },
   {
    "duration": 5,
    "start_time": "2022-03-29T08:54:56.009Z"
   },
   {
    "duration": 20,
    "start_time": "2022-03-29T08:54:56.016Z"
   },
   {
    "duration": 17,
    "start_time": "2022-03-29T08:54:56.037Z"
   },
   {
    "duration": 7,
    "start_time": "2022-03-29T08:54:56.056Z"
   },
   {
    "duration": 9,
    "start_time": "2022-03-29T08:54:56.064Z"
   },
   {
    "duration": 37,
    "start_time": "2022-03-29T08:54:56.074Z"
   },
   {
    "duration": 10,
    "start_time": "2022-03-29T08:54:56.114Z"
   },
   {
    "duration": 198,
    "start_time": "2022-03-29T08:54:56.126Z"
   },
   {
    "duration": 313,
    "start_time": "2022-03-29T08:54:56.325Z"
   },
   {
    "duration": 397,
    "start_time": "2022-03-29T08:54:56.640Z"
   },
   {
    "duration": 352,
    "start_time": "2022-03-29T08:54:57.040Z"
   },
   {
    "duration": 363,
    "start_time": "2022-03-29T08:54:57.394Z"
   },
   {
    "duration": 11,
    "start_time": "2022-03-29T08:54:57.758Z"
   },
   {
    "duration": 11,
    "start_time": "2022-03-29T08:54:57.771Z"
   },
   {
    "duration": 100,
    "start_time": "2022-03-29T09:09:35.463Z"
   },
   {
    "duration": 1136,
    "start_time": "2022-03-29T09:10:03.947Z"
   },
   {
    "duration": 4349,
    "start_time": "2022-03-29T09:10:05.085Z"
   },
   {
    "duration": 12,
    "start_time": "2022-03-29T09:10:09.436Z"
   },
   {
    "duration": 15,
    "start_time": "2022-03-29T09:10:09.451Z"
   },
   {
    "duration": 27,
    "start_time": "2022-03-29T09:10:09.468Z"
   },
   {
    "duration": 17,
    "start_time": "2022-03-29T09:10:09.508Z"
   },
   {
    "duration": 16,
    "start_time": "2022-03-29T09:10:09.527Z"
   },
   {
    "duration": 15,
    "start_time": "2022-03-29T09:10:09.545Z"
   },
   {
    "duration": 47,
    "start_time": "2022-03-29T09:10:09.562Z"
   },
   {
    "duration": 97,
    "start_time": "2022-03-29T09:10:09.612Z"
   },
   {
    "duration": 80,
    "start_time": "2022-03-29T09:10:09.711Z"
   },
   {
    "duration": 37,
    "start_time": "2022-03-29T09:10:09.793Z"
   },
   {
    "duration": 25,
    "start_time": "2022-03-29T09:10:09.832Z"
   },
   {
    "duration": 23,
    "start_time": "2022-03-29T09:10:09.858Z"
   },
   {
    "duration": 53,
    "start_time": "2022-03-29T09:10:09.882Z"
   },
   {
    "duration": 6,
    "start_time": "2022-03-29T09:10:09.937Z"
   },
   {
    "duration": 18,
    "start_time": "2022-03-29T09:10:09.945Z"
   },
   {
    "duration": 44,
    "start_time": "2022-03-29T09:10:09.965Z"
   },
   {
    "duration": 7,
    "start_time": "2022-03-29T09:10:10.011Z"
   },
   {
    "duration": 6,
    "start_time": "2022-03-29T09:10:10.020Z"
   },
   {
    "duration": 21,
    "start_time": "2022-03-29T09:10:10.028Z"
   },
   {
    "duration": 11,
    "start_time": "2022-03-29T09:10:10.051Z"
   },
   {
    "duration": 11,
    "start_time": "2022-03-29T09:10:10.064Z"
   },
   {
    "duration": 51,
    "start_time": "2022-03-29T09:10:10.077Z"
   },
   {
    "duration": 16,
    "start_time": "2022-03-29T09:10:10.130Z"
   },
   {
    "duration": 139,
    "start_time": "2022-03-29T09:10:10.148Z"
   },
   {
    "duration": 24,
    "start_time": "2022-03-29T09:10:10.289Z"
   },
   {
    "duration": 11,
    "start_time": "2022-03-29T09:10:10.316Z"
   },
   {
    "duration": 8,
    "start_time": "2022-03-29T09:10:10.329Z"
   },
   {
    "duration": 23,
    "start_time": "2022-03-29T09:10:10.339Z"
   },
   {
    "duration": 57,
    "start_time": "2022-03-29T09:10:10.364Z"
   },
   {
    "duration": 8,
    "start_time": "2022-03-29T09:10:10.423Z"
   },
   {
    "duration": 12,
    "start_time": "2022-03-29T09:10:10.433Z"
   },
   {
    "duration": 9,
    "start_time": "2022-03-29T09:10:10.447Z"
   },
   {
    "duration": 8,
    "start_time": "2022-03-29T09:10:10.458Z"
   },
   {
    "duration": 233,
    "start_time": "2022-03-29T09:10:10.469Z"
   },
   {
    "duration": 355,
    "start_time": "2022-03-29T09:10:10.704Z"
   },
   {
    "duration": 433,
    "start_time": "2022-03-29T09:10:11.061Z"
   },
   {
    "duration": 393,
    "start_time": "2022-03-29T09:10:11.496Z"
   },
   {
    "duration": 401,
    "start_time": "2022-03-29T09:10:11.891Z"
   },
   {
    "duration": 17,
    "start_time": "2022-03-29T09:10:12.294Z"
   },
   {
    "duration": 11,
    "start_time": "2022-03-29T09:10:12.313Z"
   },
   {
    "duration": 110,
    "start_time": "2022-03-29T09:17:14.873Z"
   },
   {
    "duration": 15,
    "start_time": "2022-03-29T09:17:23.048Z"
   },
   {
    "duration": 15,
    "start_time": "2022-03-29T09:17:29.741Z"
   },
   {
    "duration": 1153,
    "start_time": "2022-03-29T09:17:35.078Z"
   },
   {
    "duration": 4192,
    "start_time": "2022-03-29T09:17:36.233Z"
   },
   {
    "duration": 12,
    "start_time": "2022-03-29T09:17:40.426Z"
   },
   {
    "duration": 11,
    "start_time": "2022-03-29T09:17:40.441Z"
   },
   {
    "duration": 31,
    "start_time": "2022-03-29T09:17:40.454Z"
   },
   {
    "duration": 33,
    "start_time": "2022-03-29T09:17:40.487Z"
   },
   {
    "duration": 27,
    "start_time": "2022-03-29T09:17:40.522Z"
   },
   {
    "duration": 17,
    "start_time": "2022-03-29T09:17:40.551Z"
   },
   {
    "duration": 43,
    "start_time": "2022-03-29T09:17:40.570Z"
   },
   {
    "duration": 71,
    "start_time": "2022-03-29T09:17:40.615Z"
   },
   {
    "duration": 84,
    "start_time": "2022-03-29T09:17:40.688Z"
   },
   {
    "duration": 26,
    "start_time": "2022-03-29T09:17:40.773Z"
   },
   {
    "duration": 22,
    "start_time": "2022-03-29T09:17:40.809Z"
   },
   {
    "duration": 20,
    "start_time": "2022-03-29T09:17:40.833Z"
   },
   {
    "duration": 26,
    "start_time": "2022-03-29T09:17:40.855Z"
   },
   {
    "duration": 29,
    "start_time": "2022-03-29T09:17:40.883Z"
   },
   {
    "duration": 19,
    "start_time": "2022-03-29T09:17:40.914Z"
   },
   {
    "duration": 17,
    "start_time": "2022-03-29T09:17:40.934Z"
   },
   {
    "duration": 4,
    "start_time": "2022-03-29T09:17:40.952Z"
   },
   {
    "duration": 9,
    "start_time": "2022-03-29T09:17:40.958Z"
   },
   {
    "duration": 12,
    "start_time": "2022-03-29T09:17:40.968Z"
   },
   {
    "duration": 4,
    "start_time": "2022-03-29T09:17:40.982Z"
   },
   {
    "duration": 28,
    "start_time": "2022-03-29T09:17:40.987Z"
   },
   {
    "duration": 24,
    "start_time": "2022-03-29T09:17:41.017Z"
   },
   {
    "duration": 13,
    "start_time": "2022-03-29T09:17:41.043Z"
   },
   {
    "duration": 110,
    "start_time": "2022-03-29T09:17:41.058Z"
   },
   {
    "duration": 17,
    "start_time": "2022-03-29T09:17:41.170Z"
   },
   {
    "duration": 5,
    "start_time": "2022-03-29T09:17:41.191Z"
   },
   {
    "duration": 5,
    "start_time": "2022-03-29T09:17:41.209Z"
   },
   {
    "duration": 17,
    "start_time": "2022-03-29T09:17:41.215Z"
   },
   {
    "duration": 17,
    "start_time": "2022-03-29T09:17:41.234Z"
   },
   {
    "duration": 6,
    "start_time": "2022-03-29T09:17:41.252Z"
   },
   {
    "duration": 11,
    "start_time": "2022-03-29T09:17:41.259Z"
   },
   {
    "duration": 39,
    "start_time": "2022-03-29T09:17:41.271Z"
   },
   {
    "duration": 9,
    "start_time": "2022-03-29T09:17:41.311Z"
   },
   {
    "duration": 189,
    "start_time": "2022-03-29T09:17:41.322Z"
   },
   {
    "duration": 315,
    "start_time": "2022-03-29T09:17:41.512Z"
   },
   {
    "duration": 402,
    "start_time": "2022-03-29T09:17:41.828Z"
   },
   {
    "duration": 360,
    "start_time": "2022-03-29T09:17:42.231Z"
   },
   {
    "duration": 355,
    "start_time": "2022-03-29T09:17:42.592Z"
   },
   {
    "duration": 11,
    "start_time": "2022-03-29T09:17:42.949Z"
   },
   {
    "duration": 11,
    "start_time": "2022-03-29T09:17:42.962Z"
   },
   {
    "duration": 122,
    "start_time": "2022-03-29T09:18:31.104Z"
   },
   {
    "duration": 15,
    "start_time": "2022-03-29T09:18:34.454Z"
   },
   {
    "duration": 14,
    "start_time": "2022-03-29T09:18:38.254Z"
   },
   {
    "duration": 15,
    "start_time": "2022-03-29T09:18:44.390Z"
   },
   {
    "duration": 3,
    "start_time": "2022-03-29T09:18:50.238Z"
   },
   {
    "duration": 1138,
    "start_time": "2022-03-29T09:18:55.878Z"
   },
   {
    "duration": 4241,
    "start_time": "2022-03-29T09:18:57.018Z"
   },
   {
    "duration": 11,
    "start_time": "2022-03-29T09:19:01.261Z"
   },
   {
    "duration": 25,
    "start_time": "2022-03-29T09:19:01.273Z"
   },
   {
    "duration": 24,
    "start_time": "2022-03-29T09:19:01.300Z"
   },
   {
    "duration": 23,
    "start_time": "2022-03-29T09:19:01.326Z"
   },
   {
    "duration": 25,
    "start_time": "2022-03-29T09:19:01.352Z"
   },
   {
    "duration": 40,
    "start_time": "2022-03-29T09:19:01.378Z"
   },
   {
    "duration": 19,
    "start_time": "2022-03-29T09:19:01.419Z"
   },
   {
    "duration": 99,
    "start_time": "2022-03-29T09:19:01.440Z"
   },
   {
    "duration": 82,
    "start_time": "2022-03-29T09:19:01.540Z"
   },
   {
    "duration": 28,
    "start_time": "2022-03-29T09:19:01.624Z"
   },
   {
    "duration": 25,
    "start_time": "2022-03-29T09:19:01.653Z"
   },
   {
    "duration": 42,
    "start_time": "2022-03-29T09:19:01.680Z"
   },
   {
    "duration": 25,
    "start_time": "2022-03-29T09:19:01.724Z"
   },
   {
    "duration": 6,
    "start_time": "2022-03-29T09:19:01.751Z"
   },
   {
    "duration": 17,
    "start_time": "2022-03-29T09:19:01.759Z"
   },
   {
    "duration": 41,
    "start_time": "2022-03-29T09:19:01.778Z"
   },
   {
    "duration": 13,
    "start_time": "2022-03-29T09:19:01.821Z"
   },
   {
    "duration": 12,
    "start_time": "2022-03-29T09:19:01.836Z"
   },
   {
    "duration": 19,
    "start_time": "2022-03-29T09:19:01.849Z"
   },
   {
    "duration": 4,
    "start_time": "2022-03-29T09:19:01.870Z"
   },
   {
    "duration": 8,
    "start_time": "2022-03-29T09:19:01.875Z"
   },
   {
    "duration": 28,
    "start_time": "2022-03-29T09:19:01.885Z"
   },
   {
    "duration": 20,
    "start_time": "2022-03-29T09:19:01.915Z"
   },
   {
    "duration": 96,
    "start_time": "2022-03-29T09:19:01.937Z"
   },
   {
    "duration": 17,
    "start_time": "2022-03-29T09:19:02.035Z"
   },
   {
    "duration": 11,
    "start_time": "2022-03-29T09:19:02.055Z"
   },
   {
    "duration": 18,
    "start_time": "2022-03-29T09:19:02.067Z"
   },
   {
    "duration": 29,
    "start_time": "2022-03-29T09:19:02.086Z"
   },
   {
    "duration": 19,
    "start_time": "2022-03-29T09:19:02.116Z"
   },
   {
    "duration": 7,
    "start_time": "2022-03-29T09:19:02.136Z"
   },
   {
    "duration": 7,
    "start_time": "2022-03-29T09:19:02.145Z"
   },
   {
    "duration": 7,
    "start_time": "2022-03-29T09:19:02.153Z"
   },
   {
    "duration": 15,
    "start_time": "2022-03-29T09:19:02.162Z"
   },
   {
    "duration": 207,
    "start_time": "2022-03-29T09:19:02.178Z"
   },
   {
    "duration": 318,
    "start_time": "2022-03-29T09:19:02.386Z"
   },
   {
    "duration": 409,
    "start_time": "2022-03-29T09:19:02.708Z"
   },
   {
    "duration": 372,
    "start_time": "2022-03-29T09:19:03.119Z"
   },
   {
    "duration": 371,
    "start_time": "2022-03-29T09:19:03.493Z"
   },
   {
    "duration": 12,
    "start_time": "2022-03-29T09:19:03.866Z"
   },
   {
    "duration": 29,
    "start_time": "2022-03-29T09:19:03.880Z"
   },
   {
    "duration": 6,
    "start_time": "2022-03-29T09:19:36.157Z"
   },
   {
    "duration": 16,
    "start_time": "2022-03-29T09:20:44.610Z"
   },
   {
    "duration": 12,
    "start_time": "2022-03-29T09:21:34.976Z"
   },
   {
    "duration": 19,
    "start_time": "2022-03-29T09:21:40.195Z"
   },
   {
    "duration": 12,
    "start_time": "2022-03-29T09:22:07.941Z"
   },
   {
    "duration": 18,
    "start_time": "2022-03-29T09:22:12.047Z"
   },
   {
    "duration": 1122,
    "start_time": "2022-03-29T09:23:49.341Z"
   },
   {
    "duration": 4194,
    "start_time": "2022-03-29T09:23:50.465Z"
   },
   {
    "duration": 12,
    "start_time": "2022-03-29T09:23:54.661Z"
   },
   {
    "duration": 10,
    "start_time": "2022-03-29T09:23:54.675Z"
   },
   {
    "duration": 32,
    "start_time": "2022-03-29T09:23:54.687Z"
   },
   {
    "duration": 14,
    "start_time": "2022-03-29T09:23:54.721Z"
   },
   {
    "duration": 15,
    "start_time": "2022-03-29T09:23:54.737Z"
   },
   {
    "duration": 14,
    "start_time": "2022-03-29T09:23:54.754Z"
   },
   {
    "duration": 44,
    "start_time": "2022-03-29T09:23:54.769Z"
   },
   {
    "duration": 93,
    "start_time": "2022-03-29T09:23:54.816Z"
   },
   {
    "duration": 76,
    "start_time": "2022-03-29T09:23:54.910Z"
   },
   {
    "duration": 37,
    "start_time": "2022-03-29T09:23:54.987Z"
   },
   {
    "duration": 24,
    "start_time": "2022-03-29T09:23:55.025Z"
   },
   {
    "duration": 30,
    "start_time": "2022-03-29T09:23:55.050Z"
   },
   {
    "duration": 61,
    "start_time": "2022-03-29T09:23:55.081Z"
   },
   {
    "duration": 5,
    "start_time": "2022-03-29T09:23:55.143Z"
   },
   {
    "duration": 16,
    "start_time": "2022-03-29T09:23:55.150Z"
   },
   {
    "duration": 13,
    "start_time": "2022-03-29T09:23:55.167Z"
   },
   {
    "duration": 28,
    "start_time": "2022-03-29T09:23:55.181Z"
   },
   {
    "duration": 5,
    "start_time": "2022-03-29T09:23:55.210Z"
   },
   {
    "duration": 15,
    "start_time": "2022-03-29T09:23:55.217Z"
   },
   {
    "duration": 4,
    "start_time": "2022-03-29T09:23:55.234Z"
   },
   {
    "duration": 7,
    "start_time": "2022-03-29T09:23:55.240Z"
   },
   {
    "duration": 17,
    "start_time": "2022-03-29T09:23:55.248Z"
   },
   {
    "duration": 15,
    "start_time": "2022-03-29T09:23:55.267Z"
   },
   {
    "duration": 125,
    "start_time": "2022-03-29T09:23:55.284Z"
   },
   {
    "duration": 20,
    "start_time": "2022-03-29T09:23:55.410Z"
   },
   {
    "duration": 7,
    "start_time": "2022-03-29T09:23:55.434Z"
   },
   {
    "duration": 18,
    "start_time": "2022-03-29T09:23:55.442Z"
   },
   {
    "duration": 19,
    "start_time": "2022-03-29T09:23:55.461Z"
   },
   {
    "duration": 41,
    "start_time": "2022-03-29T09:23:55.481Z"
   },
   {
    "duration": 107,
    "start_time": "2022-03-29T09:23:55.524Z"
   },
   {
    "duration": 0,
    "start_time": "2022-03-29T09:23:55.633Z"
   },
   {
    "duration": 0,
    "start_time": "2022-03-29T09:23:55.634Z"
   },
   {
    "duration": 0,
    "start_time": "2022-03-29T09:23:55.635Z"
   },
   {
    "duration": 0,
    "start_time": "2022-03-29T09:23:55.636Z"
   },
   {
    "duration": 0,
    "start_time": "2022-03-29T09:23:55.637Z"
   },
   {
    "duration": 0,
    "start_time": "2022-03-29T09:23:55.638Z"
   },
   {
    "duration": 0,
    "start_time": "2022-03-29T09:23:55.639Z"
   },
   {
    "duration": 0,
    "start_time": "2022-03-29T09:23:55.640Z"
   },
   {
    "duration": 0,
    "start_time": "2022-03-29T09:23:55.640Z"
   },
   {
    "duration": 0,
    "start_time": "2022-03-29T09:23:55.641Z"
   },
   {
    "duration": 0,
    "start_time": "2022-03-29T09:23:55.642Z"
   },
   {
    "duration": 0,
    "start_time": "2022-03-29T09:23:55.643Z"
   },
   {
    "duration": 19,
    "start_time": "2022-03-29T09:24:20.003Z"
   },
   {
    "duration": 90,
    "start_time": "2022-03-29T09:24:23.319Z"
   },
   {
    "duration": 20,
    "start_time": "2022-03-29T09:24:24.773Z"
   },
   {
    "duration": 18,
    "start_time": "2022-03-29T09:24:41.553Z"
   },
   {
    "duration": 13,
    "start_time": "2022-03-29T09:25:57.391Z"
   },
   {
    "duration": 12,
    "start_time": "2022-03-29T09:26:03.672Z"
   },
   {
    "duration": 20,
    "start_time": "2022-03-29T09:26:11.354Z"
   },
   {
    "duration": 27,
    "start_time": "2022-03-29T09:26:15.818Z"
   },
   {
    "duration": 20,
    "start_time": "2022-03-29T09:26:41.240Z"
   },
   {
    "duration": 1509,
    "start_time": "2022-03-29T09:28:24.245Z"
   },
   {
    "duration": 22,
    "start_time": "2022-03-29T09:28:32.265Z"
   },
   {
    "duration": 18,
    "start_time": "2022-03-29T09:28:34.506Z"
   },
   {
    "duration": 15,
    "start_time": "2022-03-29T09:29:26.789Z"
   },
   {
    "duration": 15,
    "start_time": "2022-03-29T09:31:36.605Z"
   },
   {
    "duration": 13,
    "start_time": "2022-03-29T09:31:52.830Z"
   },
   {
    "duration": 6,
    "start_time": "2022-03-29T09:32:55.956Z"
   },
   {
    "duration": 6,
    "start_time": "2022-03-29T09:33:10.188Z"
   },
   {
    "duration": 3,
    "start_time": "2022-03-29T09:33:25.183Z"
   },
   {
    "duration": 6,
    "start_time": "2022-03-29T09:33:29.372Z"
   },
   {
    "duration": 6,
    "start_time": "2022-03-29T09:33:41.084Z"
   },
   {
    "duration": 37,
    "start_time": "2022-03-29T09:35:51.983Z"
   },
   {
    "duration": 17,
    "start_time": "2022-03-29T09:35:57.811Z"
   },
   {
    "duration": 18,
    "start_time": "2022-03-29T09:36:56.650Z"
   },
   {
    "duration": 69,
    "start_time": "2022-03-29T09:36:59.306Z"
   },
   {
    "duration": 13,
    "start_time": "2022-03-29T09:38:35.114Z"
   },
   {
    "duration": 34,
    "start_time": "2022-03-29T09:40:34.895Z"
   },
   {
    "duration": 32,
    "start_time": "2022-03-29T09:41:03.825Z"
   },
   {
    "duration": 31,
    "start_time": "2022-03-29T09:41:11.943Z"
   },
   {
    "duration": 30,
    "start_time": "2022-03-29T09:41:25.452Z"
   },
   {
    "duration": 1065,
    "start_time": "2022-03-29T09:41:30.050Z"
   },
   {
    "duration": 4176,
    "start_time": "2022-03-29T09:41:31.117Z"
   },
   {
    "duration": 16,
    "start_time": "2022-03-29T09:41:35.294Z"
   },
   {
    "duration": 11,
    "start_time": "2022-03-29T09:41:35.312Z"
   },
   {
    "duration": 19,
    "start_time": "2022-03-29T09:41:35.325Z"
   },
   {
    "duration": 13,
    "start_time": "2022-03-29T09:41:35.346Z"
   },
   {
    "duration": 15,
    "start_time": "2022-03-29T09:41:35.361Z"
   },
   {
    "duration": 38,
    "start_time": "2022-03-29T09:41:35.377Z"
   },
   {
    "duration": 16,
    "start_time": "2022-03-29T09:41:35.417Z"
   },
   {
    "duration": 93,
    "start_time": "2022-03-29T09:41:35.436Z"
   },
   {
    "duration": 82,
    "start_time": "2022-03-29T09:41:35.531Z"
   },
   {
    "duration": 24,
    "start_time": "2022-03-29T09:41:35.615Z"
   },
   {
    "duration": 22,
    "start_time": "2022-03-29T09:41:35.640Z"
   },
   {
    "duration": 19,
    "start_time": "2022-03-29T09:41:35.664Z"
   },
   {
    "duration": 46,
    "start_time": "2022-03-29T09:41:35.684Z"
   },
   {
    "duration": 6,
    "start_time": "2022-03-29T09:41:35.731Z"
   },
   {
    "duration": 16,
    "start_time": "2022-03-29T09:41:35.738Z"
   },
   {
    "duration": 12,
    "start_time": "2022-03-29T09:41:35.755Z"
   },
   {
    "duration": 4,
    "start_time": "2022-03-29T09:41:35.768Z"
   },
   {
    "duration": 4,
    "start_time": "2022-03-29T09:41:35.774Z"
   },
   {
    "duration": 31,
    "start_time": "2022-03-29T09:41:35.780Z"
   },
   {
    "duration": 7,
    "start_time": "2022-03-29T09:41:35.813Z"
   },
   {
    "duration": 7,
    "start_time": "2022-03-29T09:41:35.822Z"
   },
   {
    "duration": 16,
    "start_time": "2022-03-29T09:41:35.830Z"
   },
   {
    "duration": 10,
    "start_time": "2022-03-29T09:41:35.848Z"
   },
   {
    "duration": 117,
    "start_time": "2022-03-29T09:41:35.859Z"
   },
   {
    "duration": 16,
    "start_time": "2022-03-29T09:41:35.978Z"
   },
   {
    "duration": 6,
    "start_time": "2022-03-29T09:41:36.008Z"
   },
   {
    "duration": 32,
    "start_time": "2022-03-29T09:41:36.015Z"
   },
   {
    "duration": 198,
    "start_time": "2022-03-29T09:41:36.049Z"
   },
   {
    "duration": 325,
    "start_time": "2022-03-29T09:41:36.249Z"
   },
   {
    "duration": 395,
    "start_time": "2022-03-29T09:41:36.576Z"
   },
   {
    "duration": 355,
    "start_time": "2022-03-29T09:41:36.973Z"
   },
   {
    "duration": 361,
    "start_time": "2022-03-29T09:41:37.329Z"
   },
   {
    "duration": 16,
    "start_time": "2022-03-29T09:41:37.692Z"
   },
   {
    "duration": 9,
    "start_time": "2022-03-29T09:41:37.710Z"
   },
   {
    "duration": 5,
    "start_time": "2022-03-29T09:41:44.389Z"
   },
   {
    "duration": 5,
    "start_time": "2022-03-29T09:41:51.572Z"
   },
   {
    "duration": 5,
    "start_time": "2022-03-29T09:41:56.693Z"
   },
   {
    "duration": 19,
    "start_time": "2022-03-29T09:42:10.383Z"
   },
   {
    "duration": 33,
    "start_time": "2022-03-29T09:42:15.818Z"
   },
   {
    "duration": 32,
    "start_time": "2022-03-29T09:42:21.230Z"
   },
   {
    "duration": 12,
    "start_time": "2022-03-29T09:43:46.773Z"
   },
   {
    "duration": 4,
    "start_time": "2022-03-29T09:44:05.221Z"
   },
   {
    "duration": 33,
    "start_time": "2022-03-29T09:44:07.051Z"
   },
   {
    "duration": 35,
    "start_time": "2022-03-29T09:44:09.004Z"
   },
   {
    "duration": 6,
    "start_time": "2022-03-29T09:49:12.187Z"
   },
   {
    "duration": 5,
    "start_time": "2022-03-29T09:49:52.854Z"
   },
   {
    "duration": 33,
    "start_time": "2022-03-29T09:49:54.281Z"
   },
   {
    "duration": 38,
    "start_time": "2022-03-29T09:49:56.103Z"
   },
   {
    "duration": 23,
    "start_time": "2022-03-29T09:50:01.742Z"
   },
   {
    "duration": 1629,
    "start_time": "2022-03-29T09:50:53.786Z"
   },
   {
    "duration": 14,
    "start_time": "2022-03-29T09:51:06.464Z"
   },
   {
    "duration": 1148,
    "start_time": "2022-03-29T09:51:47.394Z"
   },
   {
    "duration": 4345,
    "start_time": "2022-03-29T09:51:48.544Z"
   },
   {
    "duration": 11,
    "start_time": "2022-03-29T09:51:52.891Z"
   },
   {
    "duration": 16,
    "start_time": "2022-03-29T09:51:52.908Z"
   },
   {
    "duration": 17,
    "start_time": "2022-03-29T09:51:52.926Z"
   },
   {
    "duration": 14,
    "start_time": "2022-03-29T09:51:52.945Z"
   },
   {
    "duration": 16,
    "start_time": "2022-03-29T09:51:52.960Z"
   },
   {
    "duration": 45,
    "start_time": "2022-03-29T09:51:52.977Z"
   },
   {
    "duration": 18,
    "start_time": "2022-03-29T09:51:53.024Z"
   },
   {
    "duration": 101,
    "start_time": "2022-03-29T09:51:53.045Z"
   },
   {
    "duration": 87,
    "start_time": "2022-03-29T09:51:53.147Z"
   },
   {
    "duration": 23,
    "start_time": "2022-03-29T09:51:53.236Z"
   },
   {
    "duration": 22,
    "start_time": "2022-03-29T09:51:53.261Z"
   },
   {
    "duration": 41,
    "start_time": "2022-03-29T09:51:53.284Z"
   },
   {
    "duration": 25,
    "start_time": "2022-03-29T09:51:53.326Z"
   },
   {
    "duration": 4,
    "start_time": "2022-03-29T09:51:53.353Z"
   },
   {
    "duration": 16,
    "start_time": "2022-03-29T09:51:53.359Z"
   },
   {
    "duration": 43,
    "start_time": "2022-03-29T09:51:53.377Z"
   },
   {
    "duration": 5,
    "start_time": "2022-03-29T09:51:53.421Z"
   },
   {
    "duration": 8,
    "start_time": "2022-03-29T09:51:53.427Z"
   },
   {
    "duration": 11,
    "start_time": "2022-03-29T09:51:53.437Z"
   },
   {
    "duration": 4,
    "start_time": "2022-03-29T09:51:53.450Z"
   },
   {
    "duration": 7,
    "start_time": "2022-03-29T09:51:53.456Z"
   },
   {
    "duration": 14,
    "start_time": "2022-03-29T09:51:53.465Z"
   },
   {
    "duration": 37,
    "start_time": "2022-03-29T09:51:53.480Z"
   },
   {
    "duration": 101,
    "start_time": "2022-03-29T09:51:53.519Z"
   },
   {
    "duration": 17,
    "start_time": "2022-03-29T09:51:53.622Z"
   },
   {
    "duration": 4,
    "start_time": "2022-03-29T09:51:53.642Z"
   },
   {
    "duration": 5,
    "start_time": "2022-03-29T09:51:53.648Z"
   },
   {
    "duration": 8,
    "start_time": "2022-03-29T09:51:53.654Z"
   },
   {
    "duration": 59,
    "start_time": "2022-03-29T09:51:53.664Z"
   },
   {
    "duration": 33,
    "start_time": "2022-03-29T09:51:53.724Z"
   },
   {
    "duration": 201,
    "start_time": "2022-03-29T09:51:53.758Z"
   },
   {
    "duration": 328,
    "start_time": "2022-03-29T09:51:53.961Z"
   },
   {
    "duration": 406,
    "start_time": "2022-03-29T09:51:54.291Z"
   },
   {
    "duration": 348,
    "start_time": "2022-03-29T09:51:54.698Z"
   },
   {
    "duration": 356,
    "start_time": "2022-03-29T09:51:55.048Z"
   },
   {
    "duration": 17,
    "start_time": "2022-03-29T09:51:55.405Z"
   },
   {
    "duration": 10,
    "start_time": "2022-03-29T09:51:55.424Z"
   },
   {
    "duration": 103,
    "start_time": "2022-03-29T09:53:11.574Z"
   },
   {
    "duration": 1039,
    "start_time": "2022-03-29T09:53:22.463Z"
   },
   {
    "duration": 4163,
    "start_time": "2022-03-29T09:53:23.504Z"
   },
   {
    "duration": 12,
    "start_time": "2022-03-29T09:53:27.669Z"
   },
   {
    "duration": 11,
    "start_time": "2022-03-29T09:53:27.683Z"
   },
   {
    "duration": 26,
    "start_time": "2022-03-29T09:53:27.695Z"
   },
   {
    "duration": 13,
    "start_time": "2022-03-29T09:53:27.722Z"
   },
   {
    "duration": 14,
    "start_time": "2022-03-29T09:53:27.737Z"
   },
   {
    "duration": 13,
    "start_time": "2022-03-29T09:53:27.752Z"
   },
   {
    "duration": 46,
    "start_time": "2022-03-29T09:53:27.767Z"
   },
   {
    "duration": 75,
    "start_time": "2022-03-29T09:53:27.816Z"
   },
   {
    "duration": 78,
    "start_time": "2022-03-29T09:53:27.892Z"
   },
   {
    "duration": 38,
    "start_time": "2022-03-29T09:53:27.971Z"
   },
   {
    "duration": 23,
    "start_time": "2022-03-29T09:53:28.011Z"
   },
   {
    "duration": 19,
    "start_time": "2022-03-29T09:53:28.036Z"
   },
   {
    "duration": 25,
    "start_time": "2022-03-29T09:53:28.057Z"
   },
   {
    "duration": 6,
    "start_time": "2022-03-29T09:53:28.108Z"
   },
   {
    "duration": 15,
    "start_time": "2022-03-29T09:53:28.116Z"
   },
   {
    "duration": 12,
    "start_time": "2022-03-29T09:53:28.133Z"
   },
   {
    "duration": 4,
    "start_time": "2022-03-29T09:53:28.147Z"
   },
   {
    "duration": 10,
    "start_time": "2022-03-29T09:53:28.152Z"
   },
   {
    "duration": 10,
    "start_time": "2022-03-29T09:53:28.163Z"
   },
   {
    "duration": 6,
    "start_time": "2022-03-29T09:53:28.175Z"
   },
   {
    "duration": 6,
    "start_time": "2022-03-29T09:53:28.209Z"
   },
   {
    "duration": 15,
    "start_time": "2022-03-29T09:53:28.217Z"
   },
   {
    "duration": 10,
    "start_time": "2022-03-29T09:53:28.233Z"
   },
   {
    "duration": 109,
    "start_time": "2022-03-29T09:53:28.244Z"
   },
   {
    "duration": 25,
    "start_time": "2022-03-29T09:53:28.355Z"
   },
   {
    "duration": 6,
    "start_time": "2022-03-29T09:53:28.383Z"
   },
   {
    "duration": 47,
    "start_time": "2022-03-29T09:53:28.391Z"
   },
   {
    "duration": 30,
    "start_time": "2022-03-29T09:53:28.440Z"
   },
   {
    "duration": 197,
    "start_time": "2022-03-29T09:53:28.471Z"
   },
   {
    "duration": 337,
    "start_time": "2022-03-29T09:53:28.669Z"
   },
   {
    "duration": 398,
    "start_time": "2022-03-29T09:53:29.009Z"
   },
   {
    "duration": 343,
    "start_time": "2022-03-29T09:53:29.408Z"
   },
   {
    "duration": 370,
    "start_time": "2022-03-29T09:53:29.753Z"
   },
   {
    "duration": 12,
    "start_time": "2022-03-29T09:53:30.125Z"
   },
   {
    "duration": 20,
    "start_time": "2022-03-29T09:53:30.139Z"
   },
   {
    "duration": 126,
    "start_time": "2022-03-29T10:07:16.917Z"
   },
   {
    "duration": 46,
    "start_time": "2022-06-13T10:03:06.496Z"
   },
   {
    "duration": 1310,
    "start_time": "2022-06-13T10:03:11.049Z"
   },
   {
    "duration": 4955,
    "start_time": "2022-06-13T10:03:12.361Z"
   },
   {
    "duration": 15,
    "start_time": "2022-06-13T10:03:17.317Z"
   },
   {
    "duration": 22,
    "start_time": "2022-06-13T10:03:17.334Z"
   },
   {
    "duration": 40,
    "start_time": "2022-06-13T10:03:17.359Z"
   },
   {
    "duration": 18,
    "start_time": "2022-06-13T10:03:17.401Z"
   },
   {
    "duration": 30,
    "start_time": "2022-06-13T10:03:17.421Z"
   },
   {
    "duration": 33,
    "start_time": "2022-06-13T10:03:17.453Z"
   },
   {
    "duration": 34,
    "start_time": "2022-06-13T10:03:17.488Z"
   },
   {
    "duration": 121,
    "start_time": "2022-06-13T10:03:17.525Z"
   },
   {
    "duration": 97,
    "start_time": "2022-06-13T10:03:17.649Z"
   },
   {
    "duration": 29,
    "start_time": "2022-06-13T10:03:17.748Z"
   },
   {
    "duration": 24,
    "start_time": "2022-06-13T10:03:17.779Z"
   },
   {
    "duration": 19,
    "start_time": "2022-06-13T10:03:17.806Z"
   },
   {
    "duration": 52,
    "start_time": "2022-06-13T10:03:17.827Z"
   },
   {
    "duration": 5,
    "start_time": "2022-06-13T10:03:17.881Z"
   },
   {
    "duration": 16,
    "start_time": "2022-06-13T10:03:17.888Z"
   },
   {
    "duration": 21,
    "start_time": "2022-06-13T10:03:17.906Z"
   },
   {
    "duration": 7,
    "start_time": "2022-06-13T10:03:17.929Z"
   },
   {
    "duration": 21,
    "start_time": "2022-06-13T10:03:17.938Z"
   },
   {
    "duration": 16,
    "start_time": "2022-06-13T10:03:17.960Z"
   },
   {
    "duration": 5,
    "start_time": "2022-06-13T10:03:17.977Z"
   },
   {
    "duration": 9,
    "start_time": "2022-06-13T10:03:17.983Z"
   },
   {
    "duration": 13,
    "start_time": "2022-06-13T10:03:17.994Z"
   },
   {
    "duration": 12,
    "start_time": "2022-06-13T10:03:18.009Z"
   },
   {
    "duration": 107,
    "start_time": "2022-06-13T10:03:18.023Z"
   },
   {
    "duration": 29,
    "start_time": "2022-06-13T10:03:18.131Z"
   },
   {
    "duration": 6,
    "start_time": "2022-06-13T10:03:18.162Z"
   },
   {
    "duration": 33,
    "start_time": "2022-06-13T10:03:18.170Z"
   },
   {
    "duration": 62,
    "start_time": "2022-06-13T10:03:18.205Z"
   },
   {
    "duration": 175,
    "start_time": "2022-06-13T10:03:18.269Z"
   },
   {
    "duration": 321,
    "start_time": "2022-06-13T10:03:18.446Z"
   },
   {
    "duration": 440,
    "start_time": "2022-06-13T10:03:18.769Z"
   },
   {
    "duration": 360,
    "start_time": "2022-06-13T10:03:19.211Z"
   },
   {
    "duration": 340,
    "start_time": "2022-06-13T10:03:19.573Z"
   },
   {
    "duration": 24,
    "start_time": "2022-06-13T10:03:19.915Z"
   },
   {
    "duration": 6,
    "start_time": "2022-06-13T10:03:19.941Z"
   },
   {
    "duration": 15,
    "start_time": "2022-06-13T10:03:19.948Z"
   },
   {
    "duration": 1115,
    "start_time": "2022-07-24T20:28:15.441Z"
   },
   {
    "duration": 4800,
    "start_time": "2022-07-24T20:28:16.558Z"
   },
   {
    "duration": 12,
    "start_time": "2022-07-24T20:28:21.359Z"
   },
   {
    "duration": 15,
    "start_time": "2022-07-24T20:28:21.372Z"
   },
   {
    "duration": 33,
    "start_time": "2022-07-24T20:28:21.389Z"
   },
   {
    "duration": 15,
    "start_time": "2022-07-24T20:28:21.423Z"
   },
   {
    "duration": 30,
    "start_time": "2022-07-24T20:28:21.440Z"
   },
   {
    "duration": 41,
    "start_time": "2022-07-24T20:28:21.472Z"
   },
   {
    "duration": 24,
    "start_time": "2022-07-24T20:28:21.516Z"
   },
   {
    "duration": 102,
    "start_time": "2022-07-24T20:28:21.542Z"
   },
   {
    "duration": 87,
    "start_time": "2022-07-24T20:28:21.648Z"
   },
   {
    "duration": 24,
    "start_time": "2022-07-24T20:28:21.737Z"
   },
   {
    "duration": 20,
    "start_time": "2022-07-24T20:28:21.763Z"
   },
   {
    "duration": 39,
    "start_time": "2022-07-24T20:28:21.786Z"
   },
   {
    "duration": 24,
    "start_time": "2022-07-24T20:28:21.827Z"
   },
   {
    "duration": 6,
    "start_time": "2022-07-24T20:28:21.853Z"
   },
   {
    "duration": 18,
    "start_time": "2022-07-24T20:28:21.860Z"
   },
   {
    "duration": 36,
    "start_time": "2022-07-24T20:28:21.880Z"
   },
   {
    "duration": 4,
    "start_time": "2022-07-24T20:28:21.918Z"
   },
   {
    "duration": 6,
    "start_time": "2022-07-24T20:28:21.924Z"
   },
   {
    "duration": 10,
    "start_time": "2022-07-24T20:28:21.932Z"
   },
   {
    "duration": 5,
    "start_time": "2022-07-24T20:28:21.944Z"
   },
   {
    "duration": 8,
    "start_time": "2022-07-24T20:28:21.950Z"
   },
   {
    "duration": 15,
    "start_time": "2022-07-24T20:28:21.960Z"
   },
   {
    "duration": 37,
    "start_time": "2022-07-24T20:28:21.977Z"
   },
   {
    "duration": 101,
    "start_time": "2022-07-24T20:28:22.016Z"
   },
   {
    "duration": 25,
    "start_time": "2022-07-24T20:28:22.118Z"
   },
   {
    "duration": 6,
    "start_time": "2022-07-24T20:28:22.146Z"
   },
   {
    "duration": 58,
    "start_time": "2022-07-24T20:28:22.153Z"
   },
   {
    "duration": 31,
    "start_time": "2022-07-24T20:28:22.212Z"
   },
   {
    "duration": 181,
    "start_time": "2022-07-24T20:28:22.244Z"
   },
   {
    "duration": 313,
    "start_time": "2022-07-24T20:28:22.426Z"
   },
   {
    "duration": 404,
    "start_time": "2022-07-24T20:28:22.741Z"
   },
   {
    "duration": 360,
    "start_time": "2022-07-24T20:28:23.146Z"
   },
   {
    "duration": 361,
    "start_time": "2022-07-24T20:28:23.509Z"
   },
   {
    "duration": 14,
    "start_time": "2022-07-24T20:28:23.872Z"
   },
   {
    "duration": 6,
    "start_time": "2022-07-24T20:28:23.888Z"
   },
   {
    "duration": 24,
    "start_time": "2022-07-24T20:28:23.895Z"
   },
   {
    "duration": 4,
    "start_time": "2022-07-24T20:34:26.980Z"
   },
   {
    "duration": 21,
    "start_time": "2022-07-24T20:34:29.971Z"
   }
  ],
  "kernelspec": {
   "display_name": "Python 3 (ipykernel)",
   "language": "python",
   "name": "python3"
  },
  "language_info": {
   "codemirror_mode": {
    "name": "ipython",
    "version": 3
   },
   "file_extension": ".py",
   "mimetype": "text/x-python",
   "name": "python",
   "nbconvert_exporter": "python",
   "pygments_lexer": "ipython3",
   "version": "3.9.13"
  },
  "latex_envs": {
   "LaTeX_envs_menu_present": true,
   "autoclose": false,
   "autocomplete": true,
   "bibliofile": "biblio.bib",
   "cite_by": "apalike",
   "current_citInitial": 1,
   "eqLabelWithNumbers": true,
   "eqNumInitial": 1,
   "hotkeys": {
    "equation": "Ctrl-E",
    "itemize": "Ctrl-I"
   },
   "labels_anchors": false,
   "latex_user_defs": false,
   "report_style_numbering": false,
   "user_envs_cfg": false
  },
  "toc": {
   "base_numbering": 1,
   "nav_menu": {},
   "number_sections": true,
   "sideBar": true,
   "skip_h1_title": false,
   "title_cell": "Table of Contents",
   "title_sidebar": "Contents",
   "toc_cell": false,
   "toc_position": {
    "height": "calc(100% - 180px)",
    "left": "10px",
    "top": "150px",
    "width": "366.391px"
   },
   "toc_section_display": true,
   "toc_window_display": true
  }
 },
 "nbformat": 4,
 "nbformat_minor": 5
}
